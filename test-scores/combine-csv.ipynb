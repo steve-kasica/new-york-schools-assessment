{
 "cells": [
  {
   "cell_type": "markdown",
   "metadata": {},
   "source": [
    "# Compiling 2013> New York School data into similar format to latest years.\n",
    "\n",
    "After downloading the [2012 data from the New York State Education Department](https://data.nysed.gov/downloads.php) and exporting the .mdb file into csv(s), this program gets these years into the same format as the latest years allowing for historical comparisons."
   ]
  },
  {
   "cell_type": "code",
   "execution_count": 7,
   "metadata": {},
   "outputs": [],
   "source": [
    "import agate\n",
    "import csv\n",
    "import agateexcel"
   ]
  },
  {
   "cell_type": "markdown",
   "metadata": {},
   "source": [
    "Due to missing school values and changes in data columns, I needed two different typetesters to force the columns into their correct formatting."
   ]
  },
  {
   "cell_type": "code",
   "execution_count": 8,
   "metadata": {},
   "outputs": [],
   "source": [
    "tester_15 = agate.TypeTester(limit=100,force={\n",
    "    'NRC_DESC': agate.Text(),\n",
    "    'NRC_CODE': agate.Number(),\n",
    "        'BEDSCODE': agate.Text(),\n",
    "        'L1_COUNT': agate.Text(),\n",
    "        'L1_PCT': agate.Text(),\n",
    "        'L2_COUNT': agate.Text(),\n",
    "        'L2_PCT': agate.Text(),\n",
    "        'L3_COUNT': agate.Text(),\n",
    "        'L3_PCT': agate.Text(),\n",
    "        'L4_COUNT': agate.Text(),\n",
    "        'L4_PCT': agate.Text(),\n",
    "        'L2-L4_PCT': agate.Text(),\n",
    "        'L3-L4_PCT': agate.Text(),\n",
    "        'MEAN_SCALE_SCORE': agate.Text(),\n",
    "        'COUNTY_DESC': agate.Text(),\n",
    "        'TOTAL_TESTED': agate.Text(),\n",
    "        'COUNTY_CODE': agate.Text(),\n",
    "        'Sum_Of_SCALE_SCORE': agate.Text()\n",
    "})\n",
    "tester_16 = agate.TypeTester(limit=100,force={\n",
    "    'NRC_DESC': agate.Text(),\n",
    "    'NRC_CODE': agate.Number(),\n",
    "        'BEDSCODE': agate.Text(),\n",
    "        'L1_COUNT': agate.Text(),\n",
    "        'L1_PCT': agate.Text(),\n",
    "        'L2_COUNT': agate.Text(),\n",
    "        'L2_PCT': agate.Text(),\n",
    "        'L3_COUNT': agate.Text(),\n",
    "        'L3_PCT': agate.Text(),\n",
    "        'L4_COUNT': agate.Text(),\n",
    "        'L4_PCT': agate.Text(),\n",
    "        'L2-L4_PCT': agate.Text(),\n",
    "        'L3-L4_PCT': agate.Text(),\n",
    "        'MEAN_SCALE_SCORE': agate.Text(),\n",
    "        'COUNTY_DESC': agate.Text(),\n",
    "        'TOTAL_TESTED': agate.Text(),\n",
    "        'COUNTY_CODE': agate.Text()\n",
    "})"
   ]
  },
  {
   "cell_type": "markdown",
   "metadata": {},
   "source": [
    "This program takes in the csv of a specific year's assesment data and its tester and returns a dictionary of BEDS (state id codes) and test data."
   ]
  },
  {
   "cell_type": "code",
   "execution_count": 9,
   "metadata": {},
   "outputs": [],
   "source": [
    "comparison_dict = {}\n",
    "\n",
    "with open('raw/3-8_ELA_AND_MATH_2017.csv', 'r') as csvfile:\n",
    "    reader = csv.DictReader(csvfile)\n",
    "    for row in reader:\n",
    "        if row['BEDSCODE'] not in comparison_dict and row['SUBGROUP_NAME'] == 'All Students':\n",
    "            comparison_dict[row['BEDSCODE']] = row"
   ]
  },
  {
   "cell_type": "code",
   "execution_count": 10,
   "metadata": {},
   "outputs": [
    {
     "name": "stdout",
     "output_type": "stream",
     "text": [
      "OrderedDict([('SY_END_DATE', '06/30/2017'), ('NRC_CODE', ''), ('NRC_DESC', ''), ('COUNTY_CODE', '40'), ('COUNTY_DESC', 'NIAGARA'), ('BEDSCODE', '400000000000'), ('NAME', 'NIAGARA COUNTY'), ('ITEM_SUBJECT_AREA', 'ELA'), ('ITEM_DESC', 'Grade 3 ELA'), ('SUBGROUP_CODE', '01'), ('SUBGROUP_NAME', 'All Students'), ('TOTAL_TESTED', '1722'), ('L1_COUNT', '495'), ('L1_PCT', '29%'), ('L2_COUNT', '558'), ('L2_PCT', '32%'), ('L3_COUNT', '551'), ('L3_PCT', '32%'), ('L4_COUNT', '118'), ('L4_PCT', '7%'), ('L2-L4_PCT', '71%'), ('L3-L4_PCT', '39%'), ('MEAN_SCALE_SCORE', '306')])\n"
     ]
    }
   ],
   "source": [
    "print(comparison_dict['400000000000'])"
   ]
  },
  {
   "cell_type": "code",
   "execution_count": 6,
   "metadata": {},
   "outputs": [
    {
     "name": "stdout",
     "output_type": "stream",
     "text": [
      "Accessing school_scores1011\n",
      "Grabbing ELA3 Subgroup Results\n"
     ]
    },
    {
     "ename": "FileNotFoundError",
     "evalue": "[Errno 2] No such file or directory: 'raw/school_scores1011/ELA3 Subgroup Results.xlsx'",
     "output_type": "error",
     "traceback": [
      "\u001b[0;31m---------------------------------------------------------------------------\u001b[0m",
      "\u001b[0;31mFileNotFoundError\u001b[0m                         Traceback (most recent call last)",
      "\u001b[0;32m<ipython-input-6-6fecbd327b0c>\u001b[0m in \u001b[0;36m<module>\u001b[0;34m\u001b[0m\n\u001b[1;32m     98\u001b[0m     \u001b[0;32mfor\u001b[0m \u001b[0mresult\u001b[0m \u001b[0;32min\u001b[0m \u001b[0mresults\u001b[0m\u001b[0;34m:\u001b[0m\u001b[0;34m\u001b[0m\u001b[0;34m\u001b[0m\u001b[0m\n\u001b[1;32m     99\u001b[0m         \u001b[0mprint\u001b[0m\u001b[0;34m(\u001b[0m\u001b[0;34m'Grabbing {0}'\u001b[0m\u001b[0;34m.\u001b[0m\u001b[0mformat\u001b[0m\u001b[0;34m(\u001b[0m\u001b[0mresult\u001b[0m\u001b[0;34m)\u001b[0m\u001b[0;34m)\u001b[0m\u001b[0;34m\u001b[0m\u001b[0;34m\u001b[0m\u001b[0m\n\u001b[0;32m--> 100\u001b[0;31m         \u001b[0mgrab_subgroup\u001b[0m\u001b[0;34m(\u001b[0m\u001b[0mresult\u001b[0m\u001b[0;34m,\u001b[0m \u001b[0mfolder\u001b[0m\u001b[0;34m,\u001b[0m \u001b[0mclean_info0\u001b[0m\u001b[0;34m,\u001b[0m \u001b[0mclean_info1\u001b[0m\u001b[0;34m)\u001b[0m\u001b[0;34m\u001b[0m\u001b[0;34m\u001b[0m\u001b[0m\n\u001b[0m\u001b[1;32m    101\u001b[0m     \u001b[0;32mif\u001b[0m \u001b[0mfolder\u001b[0m \u001b[0;34m==\u001b[0m \u001b[0;34m'school_scores2012'\u001b[0m\u001b[0;34m:\u001b[0m\u001b[0;34m\u001b[0m\u001b[0;34m\u001b[0m\u001b[0m\n\u001b[1;32m    102\u001b[0m         \u001b[0mcsv_path\u001b[0m \u001b[0;34m=\u001b[0m \u001b[0;34m'raw/3-8_ELA_AND_MATH_2012.csv'\u001b[0m\u001b[0;34m\u001b[0m\u001b[0;34m\u001b[0m\u001b[0m\n",
      "\u001b[0;32m<ipython-input-6-6fecbd327b0c>\u001b[0m in \u001b[0;36mgrab_subgroup\u001b[0;34m(csvpath, year_folder, clean_info0, clean_info1)\u001b[0m\n\u001b[1;32m     87\u001b[0m     \u001b[0;34m'YEAR'\u001b[0m\u001b[0;34m:\u001b[0m \u001b[0magate\u001b[0m\u001b[0;34m.\u001b[0m\u001b[0mText\u001b[0m\u001b[0;34m(\u001b[0m\u001b[0;34m)\u001b[0m\u001b[0;34m\u001b[0m\u001b[0;34m\u001b[0m\u001b[0m\n\u001b[1;32m     88\u001b[0m     })\n\u001b[0;32m---> 89\u001b[0;31m     \u001b[0mschools\u001b[0m \u001b[0;34m=\u001b[0m \u001b[0magate\u001b[0m\u001b[0;34m.\u001b[0m\u001b[0mTable\u001b[0m\u001b[0;34m.\u001b[0m\u001b[0mfrom_xlsx\u001b[0m\u001b[0;34m(\u001b[0m\u001b[0mfull_path\u001b[0m\u001b[0;34m,\u001b[0m \u001b[0mcolumn_types\u001b[0m\u001b[0;34m=\u001b[0m\u001b[0mtester\u001b[0m\u001b[0;34m)\u001b[0m\u001b[0;34m\u001b[0m\u001b[0;34m\u001b[0m\u001b[0m\n\u001b[0m\u001b[1;32m     90\u001b[0m     \u001b[0mprint\u001b[0m\u001b[0;34m(\u001b[0m\u001b[0mlen\u001b[0m\u001b[0;34m(\u001b[0m\u001b[0mschools\u001b[0m\u001b[0;34m)\u001b[0m\u001b[0;34m)\u001b[0m\u001b[0;34m\u001b[0m\u001b[0;34m\u001b[0m\u001b[0m\n\u001b[1;32m     91\u001b[0m     \u001b[0mprint\u001b[0m\u001b[0;34m(\u001b[0m\u001b[0;34m'clean_info0={0};clean_info1={1}'\u001b[0m\u001b[0;34m.\u001b[0m\u001b[0mformat\u001b[0m\u001b[0;34m(\u001b[0m\u001b[0mlen\u001b[0m\u001b[0;34m(\u001b[0m\u001b[0mclean_info0\u001b[0m\u001b[0;34m)\u001b[0m\u001b[0;34m,\u001b[0m \u001b[0mlen\u001b[0m\u001b[0;34m(\u001b[0m\u001b[0mclean_info1\u001b[0m\u001b[0;34m)\u001b[0m\u001b[0;34m)\u001b[0m\u001b[0;34m)\u001b[0m\u001b[0;34m\u001b[0m\u001b[0;34m\u001b[0m\u001b[0m\n",
      "\u001b[0;32m/opt/conda/lib/python3.7/site-packages/agateexcel/table_xlsx.py\u001b[0m in \u001b[0;36mfrom_xlsx\u001b[0;34m(cls, path, sheet, skip_lines, header, read_only, reset_dimensions, **kwargs)\u001b[0m\n\u001b[1;32m     39\u001b[0m         \u001b[0mf\u001b[0m \u001b[0;34m=\u001b[0m \u001b[0mpath\u001b[0m\u001b[0;34m\u001b[0m\u001b[0;34m\u001b[0m\u001b[0m\n\u001b[1;32m     40\u001b[0m     \u001b[0;32melse\u001b[0m\u001b[0;34m:\u001b[0m\u001b[0;34m\u001b[0m\u001b[0;34m\u001b[0m\u001b[0m\n\u001b[0;32m---> 41\u001b[0;31m         \u001b[0mf\u001b[0m \u001b[0;34m=\u001b[0m \u001b[0mopen\u001b[0m\u001b[0;34m(\u001b[0m\u001b[0mpath\u001b[0m\u001b[0;34m,\u001b[0m \u001b[0;34m'rb'\u001b[0m\u001b[0;34m)\u001b[0m\u001b[0;34m\u001b[0m\u001b[0;34m\u001b[0m\u001b[0m\n\u001b[0m\u001b[1;32m     42\u001b[0m \u001b[0;34m\u001b[0m\u001b[0m\n\u001b[1;32m     43\u001b[0m     \u001b[0mbook\u001b[0m \u001b[0;34m=\u001b[0m \u001b[0mopenpyxl\u001b[0m\u001b[0;34m.\u001b[0m\u001b[0mload_workbook\u001b[0m\u001b[0;34m(\u001b[0m\u001b[0mf\u001b[0m\u001b[0;34m,\u001b[0m \u001b[0mread_only\u001b[0m\u001b[0;34m=\u001b[0m\u001b[0mread_only\u001b[0m\u001b[0;34m,\u001b[0m \u001b[0mdata_only\u001b[0m\u001b[0;34m=\u001b[0m\u001b[0;32mTrue\u001b[0m\u001b[0;34m)\u001b[0m\u001b[0;34m\u001b[0m\u001b[0;34m\u001b[0m\u001b[0m\n",
      "\u001b[0;31mFileNotFoundError\u001b[0m: [Errno 2] No such file or directory: 'raw/school_scores1011/ELA3 Subgroup Results.xlsx'"
     ]
    }
   ],
   "source": [
    "unmatched = {}\n",
    "\n",
    "def mani_table(table, subgroup, year_folder, clean_info0, clean_info1):\n",
    "    year_key0 = year_folder[13:15]\n",
    "    year_key1 = year_folder[15:17]\n",
    "    for row in table.rows:\n",
    "        if row['YEAR'] == '2012' and year_folder == 'school_scores2012':\n",
    "            clean_dict = {}\n",
    "            geoid = row['ENTITY_CD']\n",
    "            if 'County' in row[1]:\n",
    "                #County codes have 0001400000 where current use 140000000\n",
    "                geoid = row['ENTITY_CD'][4:] + row['ENTITY_CD'][0:4]\n",
    "            if geoid not in comparison_dict:\n",
    "                unmatched[geoid] = row['ENTITY_NAME']\n",
    "            else:\n",
    "                subject = subgroup[:-1]\n",
    "                grade = subgroup[-1]\n",
    "                current_info = comparison_dict[geoid]\n",
    "                clean_dict['COUNTY_DESC'] = current_info['COUNTY_DESC']\n",
    "                clean_dict['COUNTY_CODE'] = current_info['COUNTY_CODE']\n",
    "                clean_dict['SUBGROUP_NAME'] = row['SUBGROUP_NAME']\n",
    "                clean_dict['BEDSCODE'] = geoid\n",
    "                clean_dict['NAME'] = current_info['NAME']\n",
    "                clean_dict['TOTAL_TESTED'] = row['NUM_TESTED']\n",
    "                clean_dict['L1_COUNT'] = row['LEVEL1_COUNT']\n",
    "                clean_dict['L2_COUNT'] = row['LEVEL2_COUNT']\n",
    "                clean_dict['L3_COUNT'] = row['LEVEL3_COUNT']\n",
    "                clean_dict['L4_COUNT'] = row['LEVEL4_COUNT']\n",
    "                clean_dict['ITEM_DESC'] = \"Grade {0} {1}\".format(grade, subject)\n",
    "                if subject == 'Math':\n",
    "                    clean_dict['ITEM_SUBJECT_AREA'] = 'Mathematics'\n",
    "                else:\n",
    "                    clean_dict['ITEM_SUBJECT_AREA'] = subject\n",
    "                clean_dict['MEAN_SCALE_SCORE'] = row['MEAN_SCORE']\n",
    "                clean_info0.append(clean_dict)\n",
    "        elif year_folder != 'school_scores2012':\n",
    "            clean_dict = {}\n",
    "            geoid = row['ENTITY_CD']\n",
    "            if 'County' in row[1]:\n",
    "                #County codes have 0001400000 where current use 140000000\n",
    "                geoid = row['ENTITY_CD'][4:] + row['ENTITY_CD'][0:4]\n",
    "            if geoid not in comparison_dict:\n",
    "                unmatched[geoid] = row['ENTITY_NAME']\n",
    "            else:\n",
    "                subject = subgroup[:-1]\n",
    "                grade = subgroup[-1]\n",
    "                current_info = comparison_dict[geoid]\n",
    "                clean_dict['COUNTY_DESC'] = current_info['COUNTY_DESC']\n",
    "                clean_dict['COUNTY_CODE'] = current_info['COUNTY_CODE']\n",
    "                clean_dict['SUBGROUP_NAME'] = row['SUBGROUP_NAME']\n",
    "                clean_dict['BEDSCODE'] = geoid\n",
    "                clean_dict['NAME'] = current_info['NAME']\n",
    "                clean_dict['TOTAL_TESTED'] = row['NUM_TESTED']\n",
    "                clean_dict['L1_COUNT'] = row['LEVEL1_COUNT']\n",
    "                clean_dict['L2_COUNT'] = row['LEVEL2_COUNT']\n",
    "                clean_dict['L3_COUNT'] = row['LEVEL3_COUNT']\n",
    "                clean_dict['L4_COUNT'] = row['LEVEL4_COUNT']\n",
    "                clean_dict['ITEM_DESC'] = \"Grade {0} {1}\".format(grade, subject)\n",
    "                if subject == 'Math':\n",
    "                    clean_dict['ITEM_SUBJECT_AREA'] = 'Mathematics'\n",
    "                else:\n",
    "                    clean_dict['ITEM_SUBJECT_AREA'] = subject\n",
    "                clean_dict['MEAN_SCALE_SCORE'] = row['MEAN_SCORE']\n",
    "                if row['YEAR'][2:] == year_key0:\n",
    "                    clean_info0.append(clean_dict)\n",
    "                else:\n",
    "                    clean_info1.append(clean_dict)\n",
    "\n",
    "results = ['ELA3 Subgroup Results', 'ELA4 Subgroup Results','ELA5 Subgroup Results','ELA6 Subgroup Results','ELA7 Subgroup Results', 'ELA8 Subgroup Results', 'Math3 Subgroup Results', 'Math4 Subgroup Results', 'Math5 Subgroup Results', 'Math6 Subgroup Results', 'Math7 Subgroup Results', 'Math8 Subgroup Results']\n",
    "def grab_subgroup(csvpath, year_folder, clean_info0, clean_info1):\n",
    "    subgroup = csvpath.split(' ')\n",
    "    full_path = 'raw/' + year_folder +'/'+ csvpath + '.xlsx'\n",
    "    tester = agate.TypeTester(limit=100,force={\n",
    "    'ENTITY_CD': agate.Text(),\n",
    "    'NUM_TESTED': agate.Text(),\n",
    "    'LEVEL1_COUNT': agate.Text(),\n",
    "    'LEVEL2_COUNT': agate.Text(),\n",
    "    'LEVEL3_COUNT': agate.Text(),\n",
    "    'LEVEL4_COUNT': agate.Text(),\n",
    "    'NUM_TESTED': agate.Text(),\n",
    "    'LEVEL1_%TESTED': agate.Text(),\n",
    "    'LEVEL2_%TESTED': agate.Text(),\n",
    "    'LEVEL3_%TESTED': agate.Text(),\n",
    "    'LEVEL4_%TESTED': agate.Text(),\n",
    "    'TOTAL_SCALE_SCORES': agate.Text(),\n",
    "    'MEAN_SCORE': agate.Text(),\n",
    "    'YEAR': agate.Text()\n",
    "    })\n",
    "    schools = agate.Table.from_xlsx(full_path, column_types=tester)\n",
    "    print(len(schools))\n",
    "    print('clean_info0={0};clean_info1={1}'.format(len(clean_info0), len(clean_info1)))\n",
    "    mani_table(schools, subgroup[0], year_folder, clean_info0, clean_info1)\n",
    "\n",
    "folders = ['school_scores1011', 'school_scores0809', 'school_scores0607', 'school_scores2012']\n",
    "\n",
    "for folder in folders:\n",
    "    clean_info0 = []\n",
    "    clean_info1 = []\n",
    "    print('Accessing {0}'.format(folder))\n",
    "    for result in results:\n",
    "        print('Grabbing {0}'.format(result))\n",
    "        grab_subgroup(result, folder, clean_info0, clean_info1)\n",
    "    if folder == 'school_scores2012':\n",
    "        csv_path = 'raw/3-8_ELA_AND_MATH_2012.csv'\n",
    "        with open(csv_path, 'w') as csvfile:\n",
    "            fieldnames = clean_info0[0].keys()\n",
    "            writer = csv.DictWriter(csvfile, fieldnames=fieldnames)\n",
    "            writer.writeheader()\n",
    "            for row in clean_info:\n",
    "                writer.writerow(row)\n",
    "    else:\n",
    "        csv_path0 = 'raw/3-8_ELA_AND_MATH_20{}.csv'.format(folder[13:15])\n",
    "        print(csv_path0)\n",
    "        csv_path1 = 'raw/3-8_ELA_AND_MATH_20{}.csv'.format(folder[15:17])\n",
    "        print(csv_path1)\n",
    "        with open(csv_path0, 'w') as csvfile:\n",
    "            fieldnames = clean_info0[0].keys()\n",
    "            print(fieldnames)\n",
    "            writer = csv.DictWriter(csvfile, fieldnames=fieldnames)\n",
    "            writer.writeheader()\n",
    "            for row in clean_info0:\n",
    "                writer.writerow(row)\n",
    "        with open(csv_path1, 'w') as csvfile:\n",
    "            fieldnames = clean_info1[0].keys()\n",
    "            print(fieldnames)\n",
    "            writer = csv.DictWriter(csvfile, fieldnames=fieldnames)\n",
    "            writer.writeheader()\n",
    "            for row in clean_info1:\n",
    "                writer.writerow(row)         \n",
    "\n",
    "    "
   ]
  },
  {
   "cell_type": "code",
   "execution_count": 170,
   "metadata": {},
   "outputs": [
    {
     "name": "stdout",
     "output_type": "stream",
     "text": [
      "{'COUNTY_DESC': 'RENSSELAER', 'ITEM_DESC': 'Grade 3 ELA', 'L4_COUNT': '2', 'ITEM_SUBJECT_AREA': 'ELA', 'L2_COUNT': '71', 'BEDSCODE': '490000000000', 'SUBGROUP_NAME': 'Students with Disabilities', 'NAME': 'RENSSELAER COUNTY', 'COUNTY_CODE': '49', 'MEAN_SCALE_SCORE': '643', 'TOTAL_TESTED': '216', 'L1_COUNT': '104', 'L3_COUNT': '39'}\n",
      "{'COUNTY_DESC': 'RENSSELAER', 'L3-L4_PCT': '44%', 'L2_COUNT': '421', 'L1_PCT': '25%', 'L4_PCT': '8%', 'COUNTY_CODE': '49', 'SUBGROUP_CODE': '01', 'L3_COUNT': '493', 'SUBGROUP_NAME': 'All Students', 'NAME': 'RENSSELAER COUNTY', 'TOTAL_TESTED': '1374', 'L1_COUNT': '349', 'L4_COUNT': '111', 'ITEM_DESC': 'Grade 3 ELA', 'L2-L4_PCT': '75%', 'NRC_CODE': '', 'NRC_DESC': '', 'SY_END_DATE': '06/30/2017', 'BEDSCODE': '490000000000', 'ITEM_SUBJECT_AREA': 'ELA', 'MEAN_SCALE_SCORE': '309', 'L2_PCT': '31%', 'L3_PCT': '36%'}\n"
     ]
    }
   ],
   "source": [
    "print(clean_info[1359])\n",
    "print(comparison_dict['490000000000'])"
   ]
  },
  {
   "cell_type": "code",
   "execution_count": 171,
   "metadata": {},
   "outputs": [
    {
     "name": "stdout",
     "output_type": "stream",
     "text": [
      "619\n",
      "{'280210030006': 'MILBURN ELEMENTARY SCHOOL', '660412020003': 'CLARK ACADEMY', '321000011237': 'MARIE CURIE HIGH SCH-NURSING, MEDICINE & APPLIED HLTH PROF', '321100011270': 'ACADEMY FOR SCHOLARSHIP AND ENTRENEURSHIP', '571502060003': 'CANISTEO-GREENWOOD MIDDLE SCHOOL', '140600010103': 'GROVER CLEVELAND HIGH SCHOOL', '401301040004': 'BARKER MIDDLE SCHOOL', '310200860905': 'ROSS GLOBAL ACADEMY CHARTER SCHOOL', '001800000000': 'Similar Schools Group #18', '491302060003': 'GEORGE WASHINGTON SCHOOL', '651201060002': 'SODUS INTERMEDIATE SCHOOL', '007400000000': 'Similar Schools Group #74', '660401030002': 'W L MORSE SCHOOL', '180300010004': 'ROBERT MORRIS SCHOOL', '251601060005': 'CHITTENANGO HIGH SCHOOL', '460801060004': 'CLEVELAND ELEMENTARY SCHOOL', '321200011270': 'ACADEMY FOR SCHOLARSHIP AND ENTRENEURSHIP', '331700860951': 'FAHARI ACADEMY CHARTER SCHOOL', '091101060006': 'PERU MIDDLE SCHOOL', '331300010103': 'SATELLITE THREE', '261600010036': 'SCHOOL 36-HENRY W LONGFELLOW', '530600010020': 'CENTRAL PARK MIDDLE SCHOOL', '580235060006': 'BELLPORT SENIOR HIGH SCHOOL', '670201060001': 'ATTICA SENIOR HIGH SCHOOL', '070600010014': 'PINE CITY SCHOOL', '342800010030': 'PS 30', '331600010385': 'SCHOOL OF BUSINESS FINANCE & ENTREPRENEURSHIP', '070600010007': 'FASSETT ELEMENTARY SCHOOL', '042400010010': 'IVERS J NORTON ELEMENTARY SCHOOL', '131601060007': 'ARLINGTON MIDDLE SCHOOL', '310500860963': 'NEW YORK FRENCH-AMERICAN CHARTER SCHOOL', '142500010010': 'TONAWANDA MIDDLE SCHOOL', '310500010172': 'POWELL MIDDLE SCHOOL FOR LAW AND SOCIAL JUSTICE', '580503030001': 'CONNETQUOT ELEMENTARY SCHOOL', '331900010166': 'JHS 166 GEORGE GERSHWIN', '332300010634': 'GENERAL D CHAPPIE JAMES MIDDLE SCHOOL OF SCIENCE', '051901040005': 'UNION SPRINGS MIDDLE SCHOOL HIGH SCHOOL', '210402060001': 'FRANKFORT SCHUYLER CENTRAL HIGH SCHOOL', '331400010019': 'PS 19 ROBERTO CLEMENTE', '332200011468': 'KINGSBOROUGH EARLY COLLEGE SCHOOL', '421101060003': 'MARCELLUS HIGH SCHOOL', '310500010410': 'URBAN ASSEMBLY INSTITUTE FOR NEW TECHNOLOGIES', '560501040005': 'SOUTH SENECA MIDDLE SCHOOL', '002700000000': 'Similar Schools Group #27', '280211030010': 'OCEANSIDE SENIOR HIGH SCHOOL', '500201060003': 'NORTH GARNERVILLE ELEMENTARY SCHOOL', '471601040002': 'OTEGO ELEMENTARY SCHOOL', '580205060001': 'GATELOT AVENUE SCHOOL', '142601030021': 'THOMAS JEFFERSON ELEMENTARY SCHOOL', '010605060006': 'LATHAM RIDGE SCHOOL', '140600010120': 'CAMPUS WEST SCHOOL', '280410030004': 'MEADOW DRIVE SCHOOL', '331800011500': 'CANARSIE HIGH SCHOOL', '070600010015': 'RIVERSIDE SCHOOL', '401501060001': 'W H STEVENSON ELEMENTARY SCHOOL', '261600010069': 'SCHOOL WITHOUT WALLS', '332300010055': 'IS 55 OCEAN HILL BROWNSVILLE INTERMEDIATE SCHOOL', '251400010001': 'SYLVAN-VERONA BEACH ELEMENTARY SCHOOL', '310600010164': 'I.S. 164 EDWARD W. STITT SCHOOL', '140203060010': 'WILLIAMSVILLE NORTH HIGH SCHOOL', '030701060004': 'PORT DICKINSON ELEMENTARY SCHOOL', '580405060015': 'CHESTNUT HILL ELEMENTARY SCHOOL', '140600010039': 'DR MARTIN LUTHER KING, JR MULTICULTURAL INSTITUTE', '231101040004': 'CONSTABLEVILLE ELEMENTARY SCHOOL', '005100000000': 'Similar Schools Group #51', '571000010014': 'NORTHSIDE BLODGETT MIDDLE SCHOOL', '180300010003': 'JACKSON SCHOOL', '500401060009': 'SUFFERN SENIOR HIGH SCHOOL', '320800011282': \"YOUNG WOMEN'S LEADERSHIP SCHOOL-BRONX CAMPUS\", '261600010061': 'EAST HIGH SCHOOL', '441600010015': 'NORTH JUNIOR HIGH SCHOOL', '310400010101': 'PS 101 ANDREW DRAPER SCHOOL', '671201060003': 'PERRY MIDDLE SCHOOL', '006200000000': 'Similar Schools Group #62', '650902040001': 'RUBEN A CIRILLO HIGH SCHOOL', '081401040002': 'OTSELIC VALLEY ELEMENTARY SCHOOL', '320900011250': 'EXIMIUS COLLEGE PREPARATORY ACADEMY', '006600000000': 'Similar Schools Group #66', '120501040003': 'ABRAHAM KELLOGG ELEMENTARY SCHOOL', '000300000000': 'Similar Schools Group #3', '140600860857': 'SANKOFA CHARTER SCHOOL', '004300000000': 'Similar Schools Group #43', '320800860962': 'METROPOLITAN LIGHTHOUSE CHARTER SCHOOL', '002400000000': 'Similar Schools Group #24', '043001040001': 'RANDOLPH MIDDLE SCHOOL', '511101060006': 'EAST SIDE ELEMENTARY SCHOOL', '332300011493': 'BROOKLYN COLLEGIATE-A COLLEGE BOARD SCHOOL', '661500010004': 'WOODSIDE SCHOOL', '591201040004': 'TRI-VALLEY MIDDLE SCHOOL', '591401060001': 'CORNELIUS DUGGAN SCHOOL', '241701040005': 'YORK MIDDLE SCHOOL', '490101040003': 'STEPHENTOWN ELEMENTARY SCHOOL', '280215030007': 'LAWRENCE SENIOR HIGH SCHOOL', '190301040002': 'DURHAM ELEMENTARY SCHOOL', '500402060018': 'RAMAPO HIGH SCHOOL', '003600000000': 'Similar Schools Group #36', '280210030009': 'SHUBERT ELEMENTARY SCHOOL', '321000011324': 'BRONX EARLY COLLEGE ACADEMY FOR TEACHING AND LEARNING', '310500010195': 'IS 195 ROBERTO CLEMENTE', '662300010050': 'RIVERSIDE HIGH SCHOOL', '042400010005': 'BOARDMANVILLE ELEMENTARY SCHOOL', '310200010414': 'NYC MUSEUM SCHOOL', '002800000000': 'Similar Schools Group #28', '321100010322': 'ASPIRE PREPARATORY MIDDLE SCHOOL', '261600010076': 'BIOSCIENCE & HEALTH CAREER HS AT FRANKLIN', '007000000000': 'Similar Schools Group #70', '008400000000': 'Similar Schools Group #84', '280410030002': 'HAMPTON STREET SCHOOL', '140600010110': 'SOUTH PARK HIGH SCHOOL', '460102040002': 'ALTMAR ELEMENTARY SCHOOL', '610600010017': 'ITHACA SENIOR HIGH SCHOOL', '520701040003': 'GALWAY MIDDLE SCHOOL', '331700011537': 'HIGH SCHOOL FOR YOUTH AND COMMUNITY DEVELOPMENT', '010623060001': 'MAPLEWOOD SCHOOL', '580601040002': 'MILLER AVENUE SCHOOL', '030200010021': 'BINGHAMTON HIGH SCHOOL', '320900011517': 'FREDERICK DOUGLAS ACADEMY III SECONDARY SCHOOL', '331800010252': 'IS 252 ARTHUR S SOMMERS', '280208030001': 'HARRY D. DANIELS SCHOOL', '001000000000': 'Similar Schools Group #10', '331500011592': 'KHALIL GIBRAN INTERNATIONAL ACADEMY', '321200011269': 'BRONX STUDIO SCHOOL', '321100010135': 'JHS 135 F D WHALEN', '550301060003': 'WATKINS GLEN MIDDLE SCHOOL', '441202020001': 'KIRYAS JOEL VILLAGE SCHOOL', '002000000000': 'Similar Schools Group #20', '007500000000': 'Similar Schools Group #75', '120501040004': 'DELHI MIDDLE SCHOOL', '140701060006': 'CHEEKTOWAGA HIGH SCHOOL', '131500010014': 'CIRCLE OF COURAGE LEARNING CENTER', '471400010006': 'CENTER STREET ELEMENTARY SCHOOL', '333200010296': 'JHS 296 THE ANNA GONZALEZ COMMUNITY SCHOOL', '310100010056': 'J.H.S.  56 CORLEARS J.H.S.', '321200010216': 'BUSINESS SCHOOL FOR ENTREPRENURIAL STUDIES', '320900860872': 'GRAND CONCOURSE ACADEMY CHARTER SCHOOL', '400400010006': 'JOHN E POUND ELEMENTARY SCHOOL', '002300000000': 'Similar Schools Group #23', '421800010055': 'BLODGETT K-8 SCHOOL', '070600010018': 'ERNIE DAVIS MIDDLE SCHOOL', '131301040003': 'COLD SPRING ELEMENTARY SCHOOL', '280226030004': 'J FRED SPARKE SCHOOL', '530600010022': 'ONEIDA MIDDLE SCHOOL', '400900010004': 'GILMORE SCHOOL', '010605060000': 'NORTH COLONIE CENTRAL SCHOOL DISTRICT', '261600010014': 'SCHOOL 14-CHESTER DEWEY', '051101040003': 'LESLIE B LEHN MIDDLE SCHOOL', '010622080001': 'MAPLEWOOD SCHOOL', '420501060003': 'JORDAN-ELBRIDGE HIGH SCHOOL', '320800860917': 'ICAHN CHARTER SCHOOL 3', '061700010008': 'ROVILLUS R ROGERS ELEMENTARY SCHOOL', '320900010230': 'PS 230 DR ROLAND N PATTERSON', '022601060002': 'WELLSVILLE MIDDLE SCHOOL', '430700010001': 'WEST STREET ELEMENTARY SCHOOL', '140301030006': 'MAIN STREET ELEMENTARY SCHOOL', '331300010596': 'KNOWLEDGE AND POWER PREPARATORY VII MIDDLE SCHOOL', '310300010246': 'MS 246 CROSSROADS SCHOOL', '331700010022': 'PS 22', '430901060007': 'MIDDLESEX VALLEY ELEMENTARY SCHOOL', '261600010006': 'SCHOOL 6-DAG HAMMARSKJOLD', '310300010244': 'M.S. 244 COLUMBUS MIDDLE SCHOOL', '310100011292': 'HENRY STREET SCHOOL FOR INTERNATIONAL STUDIES', '181302040003': 'PEMBROKE PRIMARY SCHOOL', '010100860884': 'ALBANY PREPARATORY CHARTER SCHOOL', '040302060004': 'ALLEGANY-LIMESTONE MIDDLE SCHOOL', '431401040003': 'HONEOYE MIDDLE SCHOOL', '003300000000': 'Similar Schools Group #33', '321100010113': 'JHS 113 RICHARD R GREEN', '331600010393': 'FREDERICK DOUGLASS ACADEMY IV SECONDARY SCHOOL', '321000011241': 'URBAN ASSEMBLY FOR APPLIED MATH AND SCIENCE', '500301060004': 'TAPPAN ZEE ELEMENTARY SCHOOL', '002900000000': 'Similar Schools Group #29', '101300010008': 'GREENPORT SCHOOL', '320800010366': 'URBAN ASSEMBLY FOR CIVIC ENGAGEMENT', '140600860837': 'STEPPING STONE ACADEMY CHARTER SCHOOL', '530600010003': 'ELMER AVENUE SCHOOL', '320900010002': 'PS 2 MORRISANIA', '571000010015': 'CORNING FREE ACADEMY MIDDLE SCHOOL', '007200000000': 'Similar Schools Group #72', '580232030002': 'WILLIAM FLOYD HIGH SCHOOL', '491700860034': 'ARK COMMUNITY CHARTER SCHOOL', '261600010030': 'SCHOOL 30-GENERAL ELWELL S OTIS', '210502040001': 'GREGORY B JARVIS JUNIOR-SENIOR HS', '500101060005': 'CONGERS ELEMENTARY SCHOOL', '261600010060': 'CHARLOTTE HIGH SCHOOL', '260501060022': 'APOLLO MIDDLE SCHOOL', '280209030007': 'FREEPORT HIGH SCHOOL', '140600010307': 'EAST HIGH SCHOOL', '261600010072': 'FREDERICK DOUGLASS PREPARATORY SCHOOL', '471601040005': 'UNATEGO JUNIOR-SENIOR HIGH SCHOOL', '660412020002': 'REACH ACADEMY (THE)', '332300010631': 'GENERAL D CHAPPIE JAMES ELEMENTARY SCHOOL OF SCIENCE', '210502040000': 'MOHAWK CENTRAL SCHOOL DISTRICT', '261600010073': 'NORTHEAST COLLEGE PREPARATORY HIGH SCHOOL', '010100860005': 'NEW COVENANT CHARTER SCHOOL', '280226030006': 'ISLAND TREES HIGH SCHOOL', '342700010198': 'J.H.S. 198 B. N. CARDOZO JUNIOR HIGH SCHOOL', '400800010025': 'LASALLE MIDDLE SCHOOL', '006500000000': 'Similar Schools Group #65', '111111111111': 'All Public Schools', '331600010143': 'MS 143 PERFORMING & FINE ARTS', '212001040003': 'MOUNT MARKHAM SENIOR HIGH SCHOOL', '520101060006': 'BURNT HILLS-BALLSTON LAKE SENIOR HIGH SCHOOL', '660410020001': 'ZICCOLELLA ELEMENTARY SCHOOL', '310600010326': 'MS 326 WRITERS TODAY & LEADERS TOMORROW', '321200011245': 'NEW DAY ACADEMY', '421800010029': 'ELMWOOD ELEMENTARY SCHOOL', '331400011330': 'URBAN ASSEMBLY SCHOOL FOR THE URBAN ENVIRONMENT (THE)', '001900000000': 'Similar Schools Group #19', '005500000000': 'Similar Schools Group #55', '650301040001': 'SAVANNAH ELEMENTARY SCHOOL', '010605060008': 'SOUTHGATE SCHOOL', '353100010014': 'PS 14 CORNELIUS VANDERBILT', '332300860937': 'BROOKLYN EAST COLLEGIATE CHARTER SCHOOL', '004400000000': 'Similar Schools Group #44', '320700860842': 'READNET BRONX CHARTER SCHOOL AT METROPOLITAN COLLEGE', '011003060002': 'C A BOUTON MIDDLE SCHOOL HIGH SCHOOL', '331900010302': 'JHS 302 RAFAEL CORDERO', '320700010220': 'P.S. 220 MOTT HAVEN VILLAGE SCHOOL', '140600010098': 'MCKINLEY VOCATIONAL HIGH SCHOOL', '003500000000': 'Similar Schools Group #35', '421800010036': 'T AARON LEVY MIDDLE SCHOOL', '400800010024': 'CHARLES B GASKILL MIDDLE SCHOOL', '200101080000': 'PISECO COMMON SCHOOL DISTRICT', '310100010345': 'COLLABORATIVE ACAD OF SCIENCE, TECHNOLOGY AND LANGUAGE ARTS ED', '261600010086': 'INTERNATIONAL FINANCE & ECONOMIC DEVELOPMENT HS AT FRANKLIN', '141901060009': 'CENTRAL AVENUE ELEMENTARY SCHOOL', '600903040002': 'NICHOLS ELEMENTARY SCHOOL', '101401040001': 'MARTIN VAN BUREN ELEMENTARY SCHOOL', '670201060003': 'SHELDON ELEMENTARY SCHOOL', '331400010049': 'JHS 49 WILLIAM J GAYNOR', '490601060008': 'TURNPIKE ELEMENTARY SCHOOL', '005300000000': 'Similar Schools Group #53', '271102040004': 'SAINT JOHNSVILLE JUNIOR-SENIOR HIGH SCHOOL', '580801060006': 'NESCONSET ELEMENTARY SCHOOL', '331700010334': 'MIDDLE SCHOOL FOR ACADEMIC AND SOCIAL EXCELLENCE', '521200050004': 'MECHANICVILLE MIDDLE SCHOOL', '560603040002': 'ROMULUS ELEMENTARY SCHOOL', '010605060007': 'LOUDONVILLE SCHOOL', '331700011527': 'URBAN ASSEMBLY INSTITUTE OF MATH AND SCIENCE FOR YOUNG WOMEN', '420501060002': 'RAMSDELL ELEMENTARY SCHOOL', '043501060006': 'PIONEER SENIOR HIGH SCHOOL', '660412020000': 'GREENBURGH-NORTH CASTLE UNION FREE SCHOOL DISTRICT', '260401060005': 'WASHINGTON IRVING SCHOOL', '042400010015': 'NORTH HILL ELEMENTARY SCHOOL', '170600010002': 'JANSEN AVENUE ELEMENTARY SCHOOL', '003100000000': 'Similar Schools Group #31', '660101030003': 'LEWISBORO ELEMENTARY SCHOOL', '620600010026': 'ZENA ELEMENTARY SCHOOL', '480601060001': 'GARDEN STREET SCHOOL', '530501060005': 'WOESTINA ELEMENTARY SCHOOL', '280212030002': 'MAURICE W DOWNING SCHOOL', '140600010099': 'BENNETT HIGH SCHOOL', '420101060009': 'WEST GENESEE SENIOR HIGH SCHOOL', '331500010027': 'PS 27 AGNES Y HUMPHREY SCHOOL', '590901060009': 'LIBERTY MIDDLE SCHOOL', '110701060005': 'HARTNETT ELEMENTARY SCHOOL', '321000010143': 'J.H.S. 143-JOHN PETER TETARD SCHOOL', '140101060001': 'ALDEN INTERMEDIATE SCHOOL', '331700010167': 'PS 167 THE PARKWAY', '650901060001': 'PALMYRA-MACEDON SENIOR HIGH SCHOOL', '280221030001': 'SOUTH SIDE HIGH SCHOOL', '310400010013': 'JHS 13 JACKIE ROBINSON', '260501060010': 'GREECE ARCADIA HIGH SCHOOL', '660407060004': 'WOODLANDS SENIOR HIGH SCHOOL', '321200010158': 'IS 158 THEODORE GATHINGS SCHOOL', '280204020001': 'JACOB GUNTHER ELEMENTARY SCHOOL', '420901060007': 'CHARLES W BAKER HIGH SCHOOL', '491700010012': 'PS 12', '491200010008': 'RENSSELAER MIDDLE SCHOOL', '310100860905': 'ROSS GLOBAL ACADEMY CHARTER SCHOOL', '141401060005': 'BRANT ELEMENTARY SCHOOL', '100501040005': 'TACONIC HILLS MIDDLE SCHOOL', '280100010007': 'GLEN COVE HIGH SCHOOL', '580224030008': 'PATCHOGUE-MEDFORD HIGH SCHOOL', '000200000000': 'Similar Schools Group #2', '332300010073': 'PS 73 THOMAS S BOYLAND', '310200860819': 'JOHN V LINDSAY WILDCAT ACADEMY CHARTER SCHOOL', '031401060001': 'WHITNEY POINT INTERMEDIATE SCHOOL', '061101040005': 'FALCONER MIDDLE SCHOOL', '131101040004': 'WEBUTUCK HIGH SCHOOL', '251400010004': 'ONEIDA CASTLE SCHOOL', '004600000000': 'Similar Schools Group #46', '331700010587': 'MIDDLE SCHOOL FOR THE ARTS', '000700000000': 'Similar Schools Group #7', '010605060009': 'SHAKER JUNIOR HIGH SCHOOL', '310100010137': 'PS 137 JOHN L BERNSTEIN', '490101040002': 'GRAFTON ELEMENTARY SCHOOL', '002100000000': 'Similar Schools Group #21', '442101060002': 'WARWICK VALLEY HIGH SCHOOL', '580404030009': 'NORTHPORT SENIOR HIGH SCHOOL', '081003040001': 'UNADILLA VALLEY ELEMENTARY SCHOOL', '101401040003': 'MARTIN H GLYNN ELEMENTARY SCHOOL', '043200050006': 'SALAMANCA MIDDLE SCHOOL', '141701040003': 'HOLLAND MIDDLE SCHOOL', '620600010002': 'SOPHIE FINN SCHOOL', '570302060002': 'DANA L LYON ELEMENTARY SCHOOL', '000400000000': 'Similar Schools Group #4', '620202020001': 'WEST PARK SCHOOL', '332300860895': 'EAST NEW YORK PREPARATORY CHARTER SCHOOL', '042302040001': 'CATTARAUGUS-LITTLE VALLEY INTERMEDIATE SCHOOL', '500101060021': 'FELIX V. FESTA MIDDLE SCHOOL', '004200000000': 'Similar Schools Group #42', '140600010101': 'BURGARD VOCATIONAL HIGH SCHOOL', '010306060001': 'CLARKSVILLE ELEMENTARY SCHOOL', '650301040003': 'CLYDE JUNIOR-SENIOR HIGH SCHOOL', '310300860886': \"HARLEM CHILDREN'S ZONE PROMISE ACADEMY II CHARTER SCHOOL\", '101300010002': 'JOHN L EDWARDS SCHOOL', '131602020003': 'NASSAU SCHOOL', '662300010054': 'COMMERCE MIDDLE SCHOOL', '331800860954': 'BROWNSVILLE ASCEND CHARTER SCHOOL', '442101060001': 'PINE ISLAND SCHOOL', '332300010271': 'IS 271 JOHN M COLEMAN SCHOOL', '140600860853': 'PINNACLE CHARTER SCHOOL', '210501060006': 'BARRINGER ROAD ELEMENTARY SCHOOL', '650901060003': 'PALMYRA ELEMENTARY SCHOOL', '400400010004': 'DEWITT CLINTON ELEMENTARY SCHOOL', '010605060003': 'BOGHT HILLS SCHOOL', '320800010192': 'IS 192 PIAGENTINI JONES SCHOOL', '331800010232': 'IS 232 WINTHROP', '140600010109': 'SENECA VOCATIONAL HIGH SCHOOL', '010100010031': 'PHILIP LIVINGSTON MAGNET ACADEMY', '342500010168': 'JHS 168 PARSONS SCHOOL', '461801040001': 'PULASKI JUNIOR-SENIOR HIGH SCHOOL', '003200000000': 'Similar Schools Group #32', '620901060005': 'ROSENDALE ELEMENTARY SCHOOL', '570101040003': 'VALLEY ELEMENTARY SCHOOL', '500301060007': 'TAPPAN ZEE HIGH SCHOOL', '460102040004': 'WILLIAMSTOWN ELEMENTARY SCHOOL', '001300000000': 'Similar Schools Group #13', '342700010215': 'PS 215 LUCRETIA MOTT', '002500000000': 'Similar Schools Group #25', '332300010484': 'RONALD EDMONDS LEARNING CTR II', '320900860917': 'ICAHN CHARTER SCHOOL 3', '661100010016': 'NEW ROCHELLE HIGH SCHOOL', '400800010033': 'NIAGARA MIDDLE SCHOOL', '321200010102': 'PS 102 JOSEPH O LORETAN', '411800010006': 'FORT STANWIX ELEMENTARY SCHOOL', '310200860996': 'INNOVATE MANHATTAN CHARTER SCHOOL', '001700000000': 'Similar Schools Group #17', '571000010010': 'LINDLEY PRESHO ELEMENTARY SCHOOL', '662300010038': 'LINCOLN HIGH SCHOOL', '210402060002': 'WEST FRANKFORT ELEMENTARY SCHOOL', '320700010222': 'IS 222', '140600010078': 'MONTESSORI AT #78', '331400860902': 'ACHIEVEMENT FIRST ENDEAVOR CHARTER SCHOOL', '431301060001': 'MIDLAKES PRIMARY SCHOOL', '003700000000': 'Similar Schools Group #37', '004000000000': 'Similar Schools Group #40', '511101060004': 'FOWLER ELEMENTARY SCHOOL', '500402060022': 'MERRILL L COLTON SCHOOL', '600101060004': 'LINCOLN STREET ELEMENTARY SCHOOL', '331300010571': 'MS 571', '010100860876': 'ACHIEVEMENT ACADEMY CHARTER SCHOOL', '022302040001': 'CUBA-RUSHFORD HIGH SCHOOL', '580403030016': 'HUNTINGTON INTERMEDIATE SCHOOL', '003800000000': 'Similar Schools Group #38', '660900010025': 'NELSON MANDELA COMMUNITY HS AT COLUMBUS BLDG', '140600860868': 'ORACLE CHARTER SCHOOL', '140101060003': 'ALDEN PRIMARY AT TOWNLINE', '141603020000': 'HOPEVALE UNION FREE SCHOOL DISTRICT AT HAMBURG', '280403030008': 'ROSLYN HIGH SCHOOL', '161401060006': 'LAKE CLEAR SCHOOL', '008300000000': 'Similar Schools Group #83', '005400000000': 'Similar Schools Group #54', '332200860841': 'Explore Charter School', '580503030004': 'TIMBER POINT ELEMENTARY SCHOOL', '331300010258': 'JHS 258 DAVID RUGGLES', '331900860891': 'UFT CHARTER SCHOOL', '001600000000': 'Similar Schools Group #16', '140600010077': 'P.S. 77', '210501060007': 'REMINGTON ELEMENTARY SCHOOL', '321200010050': 'PS 50 CLARA BARTON', '331400860825': 'BEGINNING WITH CHILDREN CHARTER SCHOOL', '140600010011': 'PS 11 POPLAR STREET ACADEMY', '421501060007': 'WETZEL ROAD ELEMENTARY SCHOOL', '331900010174': 'PS 174 DUMONT', '660413020002': 'ABBOTT SCHOOL', '321200010198': 'PS 198', '005200000000': 'Similar Schools Group #52', '091402060001': 'DANNEMORA ELEMENTARY SCHOOL', '490101040004': 'BERLIN MIDDLE SCHOOL', '630300010007': 'GLENS FALLS SENIOR HIGH SCHOOL', '440401060005': 'PINE BUSH SENIOR HIGH SCHOOL', '310500010275': 'I.S. 275', '140600860843': 'COMMUNITY CHARTER SCHOOL', '310600010321': 'MS 321 MINERVA', '460102040003': 'PARISH ELEMENTARY SCHOOL', '000600000000': 'Similar Schools Group #6', '310400010045': 'MS 45/STARS PREP ACADEMY', '480601060004': 'JOHN F KENNEDY ELEMENTARY SCHOOL', '261600010067': 'JOSEPH C WILSON MAGNET HIGH SCHOOL', '000100000000': 'Similar Schools Group #1', '010100010034': 'ALBANY HIGH SCHOOL', '141603020001': 'HOPEVALE SCHOOL', '541001040003': 'MIDDLEBURGH MIDDLE SCHOOL', '100902040001': 'GERMANTOWN CENTRAL SCHOOL', '171102040002': 'BROADALBIN-PERTH PRIMARY SCHOOL', '320700010385': 'PERFORMANCE SCHOOL', '010605060004': 'FORTS FERRY SCHOOL', '321100010142': 'MS 142 JOHN PHILIP SOUSA', '620600010009': 'ANNA DEVINE SCHOOL', '171001040000': 'OPPENHEIM-EPHRATAH CENTRAL SCHOOL DISTRICT', '332300010183': 'PS 183 GEN D CHAPPIE JAMES SCHOOL', '007100000000': 'Similar Schools Group #71', '000900000000': 'Similar Schools Group #9', '005000000000': 'Similar Schools Group #50', '412201060005': 'GENERAL WILLIAM FLOYD ELEMENTARY SCHOOL', '321200860948': 'ICAHN CHARTER SCHOOL 4', '580104030004': 'EDWARD W BOWER SCHOOL', '500201060009': 'NORTH ROCKLAND HIGH SCHOOL', '130801060001': 'HYDE PARK ELEMENTARY SCHOOL', '200101080001': 'PISECO ELEMENTARY SCHOOL', '271102040000': 'SAINT JOHNSVILLE CENTRAL SCHOOL DISTRICT', '530600010032': 'KATHERINE BURR BLODGETT SUCCESS ACADEMY FOR MIDDLE SCHOOL STUDENTS', '050100010012': 'WEST MIDDLE SCHOOL', '010100860976': 'BRIGHTER CHOICE CHARTER MIDDLE SCHOOL FOR BOYS', '321000010079': 'PS 79-CRESTON SCHOOL', '491700010019': 'TROY HIGH SCHOOL', '022302040003': 'RUSHFORD ELEMENTARY SCHOOL', '580203020005': 'CLINTON AVENUE SCHOOL', '331400010033': 'JHS 33 MARK HOPKINS', '002200000000': 'Similar Schools Group #22', '142601030002': 'ALEXANDER HAMILTON ELEMENTARY SCHOOL', '007900000000': 'Similar Schools Group #79', '530600010031': 'FRANKLIN DELANO ROOSEVELT ELEMENTARY SCHOOL', '320900010166': 'JHS 166 ROBERTO CLEMENTE SCHOOL', '010605060010': 'SHAKER HIGH SCHOOL', '010100860977': 'BRIGHTER CHOICE CHARTER MIDDLE SCHOOL FOR GIRLS', '006900000000': 'Similar Schools Group #69', '000800000000': 'Similar Schools Group #8', '580403030013': 'HUNTINGTON HIGH SCHOOL', '070600010023': 'ELMIRA ALTERNATIVE HIGH SCHOOL', '480401040002': 'HALDANE MIDDLE/HIGH SCHOOL', '131500010007': 'W W SMITH SCHOOL', '460102040005': 'ALTMAR-PARISH-WILLIAMSTOWN MIDDLE SCHOOL', '310400011381': 'GLOBAL NEIGHBORHOOD SECONDARY SCHOOL', '571000010009': 'KENT W PHILLIPS ELEMENTARY SCHOOL', '570603040003': 'CAMPBELL-SAVONA MIDDLE SCHOOL', '530101040003': 'DUANESBURG MIDDLE SCHOOL', '140600010038': 'FRANK A. SEDITA COMMUNITY SCHOOL', '321000010399': 'MS 399', '331300011336': 'ACADEMY OF BUSINESS AND COMMUNITY DEVELOPMENT', '580203020002': 'NORWOOD AVENUE SCHOOL', '210502040002': 'HARRY M FISHER ELEMENTARY SCHOOL', '007800000000': 'Similar Schools Group #78', '332000010314': 'P.S. 314 LUIS MUNOZ MARIN SCHOOL', '331700011408': 'ACADEMY OF HOSPITALITY AND TOURISM', '110701060001': 'HOMER SENIOR HIGH SCHOOL', '140600010107': 'LAFAYETTE HIGH SCHOOL', '060401040002': 'CASSADAGA ELEMENTARY SCHOOL', '332100860978': 'BROOKLYN DREAMS CHARTER SCHOOL', '261600010063': 'THOMAS JEFFERSON HIGH SCHOOL', '320800860870': 'BRONX LIGHTHOUSE CHARTER SCHOOL', '491401040003': 'HOOSIC VALLEY MIDDLE SCHOOL', '321100010372': 'URBAN ASSEMBLY SCHOOL FOR WILDLIFE CONSERVATION', '320800010174': 'IS 174 EUGENE T MALESKA', '261101060004': 'HILTON HIGH SCHOOL', '210501060005': 'ILION JUNIOR-SENIOR HIGH SCHOOL', '280215030002': '2 SCHOOL', '621001060001': 'MARLBORO ELEMENTARY SCHOOL', '580209020003': 'FRANK J. CARASITI ELEMENTARY SCHOOL', '310600010090': 'I.S.  90 MIRABEL SISTERS SCHOOL', '500402060014': 'SPRING VALLEY HIGH SCHOOL', '451001040003': 'LYNDONVILLE MIDDLE SCHOOL', '310500010317': 'KNOWLEDGE AND POWER PREPARATORY ACADEMY II', '140600010104': 'EMERSON SCHOOL OF HOSPITALITY', '010605060002': 'BLUE CREEK SCHOOL', '261600010084': 'GLOBAL MEDIA ARTS HS AT FRANKLIN', '411800010020': 'ROME FREE ACADEMY', '004700000000': 'Similar Schools Group #47', '331600010534': 'UPPER SCHOOL AT PS 25', '270100010012': 'CLARA S. BACON SCHOOL', '541102060006': 'WILLIAM H GOLDING ELEMENTARY SCHOOL', '320900010090': 'PS 90 GEORGE MEANY SCHOOL', '261501060007': 'CHURCHVILLE-CHILI MIDDLE SCHOOL', '001200000000': 'Similar Schools Group #12', '020702040002': 'GENESEE VALLEY MIDDLE SCHOOL', '571800010006': 'HORNELL SENIOR HIGH SCHOOL', '261600010065': 'JOHN MARSHALL HIGH SCHOOL', '261901060009': 'WEBSTER-SCHROEDER HIGH SCHOOL', '580205060021': 'SEQUOYA MIDDLE SCHOOL', '331300010117': 'JHS 117 FRANCIS SCOTT KEY', '620901060001': 'RONDOUT VALLEY HIGH SCHOOL', '140600010128': 'LEONARDO DA VINCI HIGH SCHOOL', '521701040002': 'SCHUYLERVILLE JUNIOR-SENIOR HIGH SCHOOL', '142500010004': 'HIGHLAND ELEMENTARY SCHOOL', '004800000000': 'Similar Schools Group #48', '261701060009': 'NINTH GRADE ACADEMY', '005600000000': 'Similar Schools Group #56', '310400011635': 'ENVIRONMENTAL SCIENCE SECONDARY SCHOOL', '331700010391': 'I.S. 391 MAHALIA JACKSON', '580302860027': 'CHILD DEVELOPMENT CENTER OF THE HAMPTONS CHARTER SCHOOL', '342900010231': 'IS 231 MAGNETECH 2000', '400601060009': 'NEWFANE INTERMEDIATE SCHOOL', '070600010006': 'DIVEN SCHOOL', '260501060018': 'KIRK ROAD ELEMENTARY SCHOOL', '660401030003': 'SLEEPY HOLLOW HIGH SCHOOL', '043200050007': 'SALAMANCA ALTERNATIVE SCHOOL', '004100000000': 'Similar Schools Group #41', '030601060002': 'CEDARHURST ELEMENTARY SCHOOL', '310500011367': 'ACADEMY FOR SOCIAL ACTION-A COLLEGE BOARD SCHOOL', '141401060002': 'WILLIAM T HOAG ELEMENTARY SCHOOL', '580905020001': 'HAMPTON BAYS SECONDARY SCHOOL', '580205060017': 'TECUMSEH ELEMENTARY SCHOOL', '142601030022': 'KENMORE MIDDLE SCHOOL', '001400000000': 'Similar Schools Group #14', '320900010064': 'PS 64 PURA BELPRE', '001100000000': 'Similar Schools Group #11', '500108030002': 'GEORGE W. MILLER ELEMENTARY SCHOOL', '620202020000': 'WEST PARK UNION FREE SCHOOL DISTRICT', '002600000000': 'Similar Schools Group #26', '140600010131': 'THE ACADEMY SCHOOL #131', '240801060004': 'LIVONIA INTERMEDIATE SCHOOL', '171001040001': 'OPPENHEIM-EPHRATAH CENTRAL SCHOOL', '140600010084': 'PS 84', '131500010013': 'COLUMBUS SCHOOL', '442101060006': 'KINGS ELEMENTARY SCHOOL', '211003040002': 'JAMES A GREEN HIGH SCHOOL', '007300000000': 'Similar Schools Group #73', '332300860906': 'ACHIEVEMENT FIRST BUSHWICK CHARTER SCHOOL', '421800010056': 'SOLACE ELEMENTARY SCHOOL', '321100011272': 'GLOBE SCHOOL FOR ENVIRONMENTAL RESEARCH', '660410020002': 'MARTIN LUTHER KING,JR HIGH SCHOOL', '660412020001': 'YONKERS CAMPUS', '421800010057': 'BELLEVUE MIDDLE SCHOOL ACADEMY', '530515860813': 'INTERNATIONAL CHARTER SCHOOL OF SCHENECTADY', '331500011462': 'SECONDARY SCHOOL FOR LAW', '006800000000': 'Similar Schools Group #68', '210501060000': 'ILION CENTRAL SCHOOL DISTRICT', '411800010003': 'JERRY C CLOUGH ELEMENTARY SCHOOL', '421001060002': 'FAYETTEVILLE-MANLIUS SENIOR HIGH SCHOOL', '510501040002': 'COLTON-PIERREPONT ELEMENTARY SCHOOL', '331500011463': 'SECONDARY SCHOOL FOR JOURNALISM', '332200011555': 'BROOKLYN COLLEGE ACADEMY', '421800010045': 'JAMES A. SHEA MIDDLE SCHOOL', '001500000000': 'Similar Schools Group #15', '000500000000': 'Similar Schools Group #5', '003900000000': 'Similar Schools Group #39', '331700010390': 'MS 390 MAGGIE L WALKER SCHOOL', '031501060011': 'LINNAEUS W WEST PRIMARY SCHOOL', '331300011592': 'KHALIL GIBRAN INTERNATIONAL ACADEMY', '400800010008': 'SIXTIETH STREET SCHOOL', '580405060002': 'FOREST PARK ELEMENTARY SCHOOL', '081200050002': 'STANFORD J GIBSON PRIMARY SCHOOL', '400400010008': 'WASHINGTON HUNT SCHOOL', '050100010013': 'AUBURN HIGH SCHOOL', '320800010201': 'MS 201X-SCL THEATRE ARTS AND RES', '271102040003': 'DAVID H ROBBINS ELEMENTARY SCHOOL', '331600010304': 'PS 304 CASIMIR PULASKI SCHOOL', '332300010332': 'PS 332 CHARLES H HOUSTON SCHOOL', '050701040006': 'SOUTHERN CAYUGA ELEMENTARY SCHOOL-HOWLAND BUILDING', '310500011469': 'CHOIR ACADEMY OF HARLEM', '400800010009': 'SIXTY SIXTH STREET SCHOOL', '140600010108': 'RIVERSIDE INSTITUTE OF TECHNOLOGY', '580509030009': 'WESTBROOK ELEMENTARY SCHOOL', '060503040003': 'CHAUTAUQUA LAKE MIDDLE SCHOOL', '121901040002': 'WALTON HIGH SCHOOL', '630300010005': 'SANFORD STREET SCHOOL', '440901040002': 'HIGHLAND FALLS ELEMENTARY SCHOOL', '131601060003': 'LAGRANGE ELEMENTARY SCHOOL', '180701040005': 'BYRON-BERGEN MIDDLE SCHOOL', '003400000000': 'Similar Schools Group #34', '441301060005': 'MAYBROOK ELEMENTARY SCHOOL', '530501060007': 'MARIAVILLE ELEMENTARY SCHOOL', '140600010042': 'PS 42 OCCUPATIONAL TRAINING CENTER', '310500010344': 'ACADEMY OF COLLABORATIVE EDUCATION', '241001060002': 'DANSVILLE MIDDLE SCHOOL', '331400860930': 'ETHICAL COMMUNITY CHARTER SCHOOL (THE)', '342700010180': 'M.S. 180 GERALD R. DEVER MIDDLE SCHOOL', '472202040004': 'CHERRY VALLEY-SPRINGFIELD ELEMENTARY SCHOOL', '310400010117': 'TITO PUENTO EDUCATION COMPLEX', '003000000000': 'Similar Schools Group #30', '661401030001': 'BROOKSIDE SCHOOL', '231301040002': 'BEAVER RIVER MIDDLE/SENIOR HIGH SCHOOL', '310300010044': \"JHS 44 WILLIAM J O'SHEA\", '010622080000': 'MAPLEWOOD COMMON SCHOOL DISTRICT', '320700010184': 'IS 184 RAFAEL C Y MOLINA SCHOOL', '161201040002': 'SALMON RIVER JUNIOR-SENIOR HIGH SCHOOL', '522101030003': 'WATERFORD MIDDLE SCHOOL', '320800860909': 'ICAHN CHARTER SCHOOL 2', '320700010203': 'MS 203', '004500000000': 'Similar Schools Group #45', '101300010001': 'HUDSON JUNIOR/SENIOR HIGH SCHOOL', '662300010011': 'SCHOOL 11-MONTESSORI SCHOOL', '662200010011': 'WHITE PLAINS SENIOR HIGH SCHOOL', '331900010260': 'PS 260 BREUCKELEN', '530501060006': 'SCHALMONT HIGH SCHOOL', '280410030001': 'CROSS STREET SCHOOL', '142601030019': 'THEODORE ROOSEVELT ELEMENTARY SCHOOL', '580509030003': 'PAUL E KIRDAHY ELEMENTARY SCHOOL', '220301060007': 'INDIAN RIVER HIGH SCHOOL', '040302060003': 'LIMESTONE ELEMENTARY SCHOOL', '310200011429': 'LEGACY SCHOOL FOR INTEGRATED STUDIES', '441600010022': 'WEST STREET ELEMENTARY SCHOOL', '331900010072': 'PS 72 ANNETTE P GOLDMAN SCHOOL', '662200010014': 'NEW YORK HOSPITAL ANNEX', '600101060001': 'CHEMUNG ELEMENTARY SCHOOL', '010306060008': 'BETHLEHEM CENTRAL SENIOR HIGH SCHOOL', '620901060006': 'RONDOUT VALLEY MIDDLE SCHOOL', '561006060005': 'MAIN STREET ELEMENTARY SCHOOL', '471701040004': 'COOPERSTOWN MIDDLE SCHOOL', '331600010636': 'YOUNG SCHOLARS ACADEMY FOR DISCOVERY AND EXPLORATION', '320700010156': 'PS 156 BENJAMIN BANNEKER SCHOOL', '342700010225': 'PS 225 SEASIDE SCHOOL', '310200010047': 'PS 47-AMERICAN SIGN LANGUAGE & ENGLISH SCHOOL', '261600010085': 'DR FREDDIE THOMAS HIGH SCHOOL', '512001060008': 'MASSENA SENIOR HIGH SCHOOL', '142801060012': 'EAST ELEMENTARY SCHOOL', '610501040003': 'GROTON MIDDLE SCHOOL', '142801060001': 'POTTERS ROAD SCHOOL', '004900000000': 'Similar Schools Group #49', '410601040003': 'NORTH BAY AREA SCHOOL', '091402060003': 'CADYVILLE ELEMENTARY SCHOOL', '441202020000': 'KIRYAS JOEL VILLAGE UNION FREE SCHOOL DISTRICT', '280215030006': '6 SCHOOL', '660413020000': 'ABBOTT UNION FREE SCHOOL DISTRICT', '310100011509': 'MARTE VALLE SECONDARY SCHOOL', '006700000000': 'Similar Schools Group #67', '620600010016': 'FRANK L MEAGHER SCHOOL'}\n"
     ]
    }
   ],
   "source": [
    "print(len(unmatched.keys()))\n",
    "print(unmatched)"
   ]
  },
  {
   "cell_type": "code",
   "execution_count": null,
   "metadata": {
    "collapsed": true
   },
   "outputs": [],
   "source": []
  }
 ],
 "metadata": {
  "kernelspec": {
   "display_name": "Python 3",
   "language": "python",
   "name": "python3"
  },
  "language_info": {
   "codemirror_mode": {
    "name": "ipython",
    "version": 3
   },
   "file_extension": ".py",
   "mimetype": "text/x-python",
   "name": "python",
   "nbconvert_exporter": "python",
   "pygments_lexer": "ipython3",
   "version": "3.7.3"
  }
 },
 "nbformat": 4,
 "nbformat_minor": 2
}
