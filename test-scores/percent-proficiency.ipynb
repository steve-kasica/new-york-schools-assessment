{
 "cells": [
  {
   "cell_type": "markdown",
   "metadata": {},
   "source": [
    "# Calculating percent proficiency and its percent change in New York State education assessment data\n",
    "\n",
    "After downloading the [2015, 2016 and 2017 data from the New York State Education Department](https://data.nysed.gov/downloads.php) and renaming the files to 3-8\\_ELA\\_MATH\\_{{ year }}.csv, this program calculates the percent proficient, scoring at Level 3 or 4, of each school. The percent proficient is calculated by adding each raw proficient count together for available grades and then dividing the total test takers. The 2013 and 2014 files were first converted from .mdb file format."
   ]
  },
  {
   "cell_type": "code",
   "execution_count": 1,
   "metadata": {
    "collapsed": false
   },
   "outputs": [],
   "source": [
    "import agate\n",
    "import csv"
   ]
  },
  {
   "cell_type": "markdown",
   "metadata": {},
   "source": [
    "Due to missing school values and changes in data columns, I needed two different typetesters to force the columns into their correct formatting."
   ]
  },
  {
   "cell_type": "code",
   "execution_count": 2,
   "metadata": {
    "collapsed": false
   },
   "outputs": [],
   "source": [
    "tester_15 = agate.TypeTester(limit=100,force={\n",
    "    'NRC_DESC': agate.Text(),\n",
    "    'NRC_CODE': agate.Number(),\n",
    "        'BEDSCODE': agate.Text(),\n",
    "        'L1_COUNT': agate.Text(),\n",
    "        'L1_PCT': agate.Text(),\n",
    "        'L2_COUNT': agate.Text(),\n",
    "        'L2_PCT': agate.Text(),\n",
    "        'L3_COUNT': agate.Text(),\n",
    "        'L3_PCT': agate.Text(),\n",
    "        'L4_COUNT': agate.Text(),\n",
    "        'L4_PCT': agate.Text(),\n",
    "        'L2-L4_PCT': agate.Text(),\n",
    "        'L3-L4_PCT': agate.Text(),\n",
    "        'MEAN_SCALE_SCORE': agate.Text(),\n",
    "        'COUNTY_DESC': agate.Text(),\n",
    "        'TOTAL_TESTED': agate.Text(),\n",
    "        'COUNTY_CODE': agate.Text(),\n",
    "        'Sum_Of_SCALE_SCORE': agate.Text()\n",
    "})\n",
    "tester_16 = agate.TypeTester(limit=100,force={\n",
    "    'NRC_DESC': agate.Text(),\n",
    "    'NRC_CODE': agate.Number(),\n",
    "        'BEDSCODE': agate.Text(),\n",
    "        'L1_COUNT': agate.Text(),\n",
    "        'L1_PCT': agate.Text(),\n",
    "        'L2_COUNT': agate.Text(),\n",
    "        'L2_PCT': agate.Text(),\n",
    "        'L3_COUNT': agate.Text(),\n",
    "        'L3_PCT': agate.Text(),\n",
    "        'L4_COUNT': agate.Text(),\n",
    "        'L4_PCT': agate.Text(),\n",
    "        'L2-L4_PCT': agate.Text(),\n",
    "        'L3-L4_PCT': agate.Text(),\n",
    "        'MEAN_SCALE_SCORE': agate.Text(),\n",
    "        'COUNTY_DESC': agate.Text(),\n",
    "        'TOTAL_TESTED': agate.Text(),\n",
    "        'COUNTY_CODE': agate.Text()\n",
    "})"
   ]
  },
  {
   "cell_type": "markdown",
   "metadata": {},
   "source": [
    "This program takes in the csv of a specific year's assesment data and its tester and returns a dictionary of BEDS (state id codes) and test data."
   ]
  },
  {
   "cell_type": "code",
   "execution_count": 3,
   "metadata": {
    "collapsed": true
   },
   "outputs": [],
   "source": [
    "def get_percent_dictionary(file_name, tester):\n",
    "    schools = agate.Table.from_csv(file_name, column_types=tester)\n",
    "    #Grab just Erie and Niagara schools, filtering out available subgroups and total county stats\n",
    "    erie_niagara = schools.where(lambda row: row['COUNTY_DESC'] in ['ERIE', 'NIAGARA']).where(lambda row: row['SUBGROUP_NAME'] in ['All Students'])\n",
    "    print(len(erie_niagara.rows))\n",
    "    #Data doesn't include district information, but the first six digits of a school's BEDS codes includes that info.\n",
    "    beds_code = {}\n",
    "    for row in erie_niagara.rows:\n",
    "        if 'SCHOOL DISTRICT' in row['NAME']:\n",
    "            beds_district = row['BEDSCODE'][:6]\n",
    "            #Creates a lookup table of ids for the district name\n",
    "            beds_code[str(beds_district)] = row['NAME']\n",
    "    def calculate_prof_counts(row):\n",
    "        #Some schools don't have test takers for certain tests, so fill in with zeros.\n",
    "        try:\n",
    "            l3_counts = int(row['L3_COUNT'])\n",
    "        except ValueError:\n",
    "            l3_counts = 0\n",
    "        try:\n",
    "            l4_counts = int(row['L4_COUNT'])\n",
    "        except ValueError:\n",
    "            l4_counts = 0\n",
    "        proficient = l3_counts + l4_counts\n",
    "        return proficient\n",
    "    erie_calcs = erie_niagara.compute([\n",
    "        ('proficient_count', agate.Formula(agate.Number(), lambda row: calculate_prof_counts(row)))\n",
    "    ])\n",
    "    # Form the data structure for each school with beds code as a key\n",
    "    schools_info = {}\n",
    "    for row in erie_calcs.rows:\n",
    "        if row['NAME'] == 'NIAGARA CHARTER SCHOOL':\n",
    "            district = 'NIAGARA-WHEATFIELD CENTRAL SCHOOL DISTRICT'\n",
    "        elif row['NAME'] == 'ERIE COUNTY' or row['NAME'] == 'NIAGARA COUNTY':\n",
    "            district = row['NAME']\n",
    "        else:\n",
    "            beds_district = row['BEDSCODE'][:6]\n",
    "            district = beds_code[beds_district]\n",
    "        \"\"\"name = School name\n",
    "        math/ela dictionary has totals = total test takers one per applicable class; proficient = proficient_count values; classes = grades taking the test\n",
    "        district = district name (looked up using the beds_code dict)\n",
    "        county = county\"\"\"\n",
    "        schools_info[row['BEDSCODE']] = {'name': row['NAME'], 'math': {'totals': [], 'proficient': [], 'classes': []}, 'ela': {'totals': [], 'proficient': [], 'classes': []}, 'district': district, 'county': row['COUNTY_DESC'] }\n",
    "    # After creating the correct dict format, now I run through the schools again to fill the score values.\n",
    "    for row in erie_calcs.rows:\n",
    "        if row['ITEM_SUBJECT_AREA'] == 'ELA':\n",
    "            data_dict = schools_info[row['BEDSCODE']]['ela']\n",
    "        else:\n",
    "            data_dict = schools_info[row['BEDSCODE']]['math']\n",
    "        try:\n",
    "            data_dict['totals'].append(int(row['TOTAL_TESTED']))\n",
    "        except ValueError:\n",
    "            data_dict['totals'].append(0)\n",
    "        try:\n",
    "            data_dict['classes'].append(row['ITEM_DESC'])\n",
    "        except ValueError:\n",
    "            data_dict['classes'].append(0)\n",
    "        try:\n",
    "            data_dict['proficient'].append(int(row['proficient_count']))\n",
    "        except ValueError:\n",
    "            data_dict['proficient'].append(0)\n",
    "    def calculate_prof_percent(test_area):\n",
    "        total_sum = sum(values[test_area]['totals'])\n",
    "        proficient_sum = sum(values[test_area]['proficient'])\n",
    "        try:\n",
    "            correct_value = ((proficient_sum / total_sum) * 100)\n",
    "            schools_info[school][test_area]['total_percent'] = float(\"{0:.1f}\".format(correct_value))\n",
    "        except ZeroDivisionError:\n",
    "            schools_info[school][test_area]['total_percent'] = '-'\n",
    "    for school, values in schools_info.items():\n",
    "        calculate_prof_percent('ela')\n",
    "        calculate_prof_percent('math')\n",
    "    return schools_info"
   ]
  },
  {
   "cell_type": "code",
   "execution_count": 4,
   "metadata": {
    "collapsed": false
   },
   "outputs": [
    {
     "name": "stdout",
     "output_type": "stream",
     "text": [
      "1861\n"
     ]
    }
   ],
   "source": [
    "year_16 = get_percent_dictionary('3-8_ELA_AND_MATH_2016.csv', tester_16)"
   ]
  },
  {
   "cell_type": "code",
   "execution_count": 5,
   "metadata": {
    "collapsed": false
   },
   "outputs": [
    {
     "name": "stdout",
     "output_type": "stream",
     "text": [
      "1839\n"
     ]
    }
   ],
   "source": [
    "year_17 = get_percent_dictionary('3-8_ELA_AND_MATH_2017.csv', tester_16)"
   ]
  },
  {
   "cell_type": "code",
   "execution_count": 6,
   "metadata": {
    "collapsed": false
   },
   "outputs": [
    {
     "name": "stdout",
     "output_type": "stream",
     "text": [
      "1876\n"
     ]
    }
   ],
   "source": [
    "year_15 = get_percent_dictionary('3-8_ELA_AND_MATH_2015.csv',tester_15)"
   ]
  },
  {
   "cell_type": "code",
   "execution_count": 7,
   "metadata": {
    "collapsed": false
   },
   "outputs": [
    {
     "name": "stdout",
     "output_type": "stream",
     "text": [
      "1883\n"
     ]
    }
   ],
   "source": [
    "year_14 = get_percent_dictionary('3-8_ELA_AND_MATH_2014.csv',tester_15)"
   ]
  },
  {
   "cell_type": "code",
   "execution_count": 8,
   "metadata": {
    "collapsed": false
   },
   "outputs": [
    {
     "name": "stdout",
     "output_type": "stream",
     "text": [
      "1912\n"
     ]
    }
   ],
   "source": [
    "year_13 = get_percent_dictionary('3-8_ELA_AND_MATH_2013.csv',tester_15)"
   ]
  },
  {
   "cell_type": "markdown",
   "metadata": {},
   "source": [
    "Example of each year returning data for a specific school"
   ]
  },
  {
   "cell_type": "code",
   "execution_count": 13,
   "metadata": {
    "collapsed": false
   },
   "outputs": [
    {
     "name": "stdout",
     "output_type": "stream",
     "text": [
      "{'name': 'ERIE COUNTY', 'county': 'ERIE', 'math': {'proficient': [2821, 2687, 2365, 2122, 1589, 708], 'classes': ['Grade 3 Math', 'Grade 4 Math', 'Grade 5 Math', 'Grade 6 Math', 'Grade 7 Math', 'Grade 8 Math'], 'totals': [6995, 6509, 6211, 5829, 5356, 4207], 'total_percent': 35.0}, 'ela': {'proficient': [2740, 2345, 1865, 1962, 1737, 1904], 'classes': ['Grade 3 ELA', 'Grade 4 ELA', 'Grade 5 ELA', 'Grade 6 ELA', 'Grade 7 ELA', 'Grade 8 ELA'], 'totals': [7026, 6577, 6329, 6070, 5706, 5368], 'total_percent': 33.9}, 'district': 'ERIE COUNTY'}\n"
     ]
    }
   ],
   "source": [
    "print(year_16['140000000000'])"
   ]
  },
  {
   "cell_type": "code",
   "execution_count": 9,
   "metadata": {
    "collapsed": false
   },
   "outputs": [
    {
     "name": "stdout",
     "output_type": "stream",
     "text": [
      "{'name': 'ANNA MERRITT ELEMENTARY SCHOOL', 'ela': {'totals': [69, 62], 'classes': ['Grade 3 ELA', 'Grade 4 ELA'], 'total_percent': 25.2, 'proficient': [22, 11]}, 'math': {'totals': [67, 54], 'classes': ['Grade 3 Math', 'Grade 4 Math'], 'total_percent': 41.3, 'proficient': [29, 21]}, 'district': 'LOCKPORT CITY SCHOOL DISTRICT', 'county': 'NIAGARA'}\n",
      "{'name': 'ANNA MERRITT ELEMENTARY SCHOOL', 'ela': {'totals': [60, 69], 'classes': ['Grade 3 ELA', 'Grade 4 ELA'], 'total_percent': 17.8, 'proficient': [11, 12]}, 'math': {'totals': [57, 62], 'classes': ['Grade 3 Math', 'Grade 4 Math'], 'total_percent': 37.0, 'proficient': [15, 29]}, 'district': 'LOCKPORT CITY SCHOOL DISTRICT', 'county': 'NIAGARA'}\n",
      "{'name': 'ANNA MERRITT ELEMENTARY SCHOOL', 'ela': {'totals': [53, 65], 'classes': ['Grade 3 ELA', 'Grade 4 ELA'], 'total_percent': 22.9, 'proficient': [11, 16]}, 'math': {'totals': [52, 62], 'classes': ['Grade 3 Math', 'Grade 4 Math'], 'total_percent': 36.8, 'proficient': [23, 19]}, 'district': 'LOCKPORT CITY SCHOOL DISTRICT', 'county': 'NIAGARA'}\n",
      "****\n",
      "{'name': 'ALDEN INTERMEDIATE SCHOOL', 'ela': {'totals': [77, 69, 70], 'classes': ['Grade 3 ELA', 'Grade 4 ELA', 'Grade 5 ELA'], 'total_percent': 53.7, 'proficient': [54, 41, 21]}, 'math': {'totals': [81, 73, 73], 'classes': ['Grade 3 Math', 'Grade 4 Math', 'Grade 5 Math'], 'total_percent': 57.3, 'proficient': [62, 40, 28]}, 'district': 'ALDEN CENTRAL SCHOOL DISTRICT', 'county': 'ERIE'}\n"
     ]
    }
   ],
   "source": [
    "print(year_16['400400010001'])\n",
    "print(year_15['400400010001'])\n",
    "print(year_17['400400010001'])\n",
    "print('****')\n",
    "print(year_17['140101060007'])"
   ]
  },
  {
   "cell_type": "markdown",
   "metadata": {},
   "source": [
    "Backfilling new 2017 schools"
   ]
  },
  {
   "cell_type": "code",
   "execution_count": 9,
   "metadata": {
    "collapsed": false
   },
   "outputs": [
    {
     "name": "stdout",
     "output_type": "stream",
     "text": [
      "not in 2013 WEST BUFFALO CHARTER SCHOOL\n",
      "not in 2016 KENMORE WEST SENIOR HIGH SCHOOL\n",
      "not in 2015 KENMORE WEST SENIOR HIGH SCHOOL\n",
      "not in 2014 KENMORE WEST SENIOR HIGH SCHOOL\n",
      "not in 2013 KENMORE WEST SENIOR HIGH SCHOOL\n",
      "not in 2016 CHARTER SCHOOL OF INQUIRY\n",
      "not in 2015 CHARTER SCHOOL OF INQUIRY\n",
      "not in 2014 CHARTER SCHOOL OF INQUIRY\n",
      "not in 2013 CHARTER SCHOOL OF INQUIRY\n",
      "not in 2016 KENMORE EAST SENIOR HIGH SCHOOL\n",
      "not in 2015 KENMORE EAST SENIOR HIGH SCHOOL\n",
      "not in 2014 KENMORE EAST SENIOR HIGH SCHOOL\n",
      "not in 2013 KENMORE EAST SENIOR HIGH SCHOOL\n",
      "not in 2016 ALDEN INTERMEDIATE SCHOOL\n",
      "not in 2015 ALDEN INTERMEDIATE SCHOOL\n",
      "not in 2014 ALDEN INTERMEDIATE SCHOOL\n",
      "not in 2013 ALDEN INTERMEDIATE SCHOOL\n",
      "not in 2016 NEWCOMER ACADEMY AT LAFAYETTE\n",
      "not in 2015 NEWCOMER ACADEMY AT LAFAYETTE\n",
      "not in 2014 NEWCOMER ACADEMY AT LAFAYETTE\n",
      "not in 2013 NEWCOMER ACADEMY AT LAFAYETTE\n",
      "not in 2016 WESTERN NEW YORK MARITIME CHARTER SCHOOL\n",
      "not in 2015 WESTERN NEW YORK MARITIME CHARTER SCHOOL\n",
      "not in 2014 WESTERN NEW YORK MARITIME CHARTER SCHOOL\n",
      "not in 2013 WESTERN NEW YORK MARITIME CHARTER SCHOOL\n",
      "Not in 2017 140101060003 ALDEN PRIMARY AT TOWNLINE\n",
      "Not in 2017 142601030019 THEODORE ROOSEVELT ELEMENTARY SCHOOL\n",
      "Not in 2017 140600010107 LAFAYETTE HIGH SCHOOL\n",
      "Not in 2017 142601030022 KENMORE MIDDLE SCHOOL\n",
      "Not in 2017 140600010039 DR MARTIN LUTHER KING, JR MULTICULTURAL INSTITUTE\n",
      "Not in 2017 142601030002 ALEXANDER HAMILTON ELEMENTARY SCHOOL\n",
      "checking 2015\n",
      "Not in 2017 400301060006 LEWISTON PORTER SENIOR HIGH SCHOOL\n",
      "Not in 2016 400301060006 LEWISTON PORTER SENIOR HIGH SCHOOL\n",
      "Not in 2017 140101060003 ALDEN PRIMARY AT TOWNLINE\n",
      "Not in 2017 142601030019 THEODORE ROOSEVELT ELEMENTARY SCHOOL\n",
      "Not in 2017 140600010107 LAFAYETTE HIGH SCHOOL\n",
      "Not in 2017 142601030022 KENMORE MIDDLE SCHOOL\n",
      "Not in 2017 142801060001 POTTERS ROAD SCHOOL\n",
      "Not in 2016 142801060001 POTTERS ROAD SCHOOL\n",
      "Not in 2017 140600010039 DR MARTIN LUTHER KING, JR MULTICULTURAL INSTITUTE\n",
      "Not in 2017 142601030002 ALEXANDER HAMILTON ELEMENTARY SCHOOL\n"
     ]
    }
   ],
   "source": [
    "for school in year_17:\n",
    "    if school not in year_16:\n",
    "        print('not in 2016 {0}'.format(year_17[school]['name']))\n",
    "        year_16[school] = {'name': year_17[school]['name'], 'county': year_17[school]['county'], 'district': year_17[school]['district'], 'math': {'totals': [], 'proficient': [], 'classes': [], 'total_percent': '-'}, 'ela': {'totals': [], 'proficient': [], 'classes': [], 'total_percent': '-'}}\n",
    "    if school not in year_15:\n",
    "        print('not in 2015 {0}'.format(year_17[school]['name']))\n",
    "        year_15[school] = {'name': year_17[school]['name'], 'county': year_17[school]['county'], 'district': year_17[school]['district'], 'math': {'totals': [], 'proficient': [], 'classes': [], 'total_percent': '-'}, 'ela': {'totals': [], 'proficient': [], 'classes': [], 'total_percent': '-'}}\n",
    "    if school not in year_14:\n",
    "        print('not in 2014 {0}'.format(year_17[school]['name']))\n",
    "        year_14[school] = {'name': year_17[school]['name'], 'county': year_17[school]['county'], 'district': year_17[school]['district'], 'math': {'totals': [], 'proficient': [], 'classes': [], 'total_percent': '-'}, 'ela': {'totals': [], 'proficient': [], 'classes': [], 'total_percent': '-'}}\n",
    "    if school not in year_13:\n",
    "        print('not in 2013 {0}'.format(year_17[school]['name']))\n",
    "        year_13[school] = {'name': year_17[school]['name'], 'county': year_17[school]['county'], 'district': year_17[school]['district'], 'math': {'totals': [], 'proficient': [], 'classes': [], 'total_percent': '-'}, 'ela': {'totals': [], 'proficient': [], 'classes': [], 'total_percent': '-'}}\n",
    "for school in year_16:\n",
    "    if school not in year_17:\n",
    "        print ('Not in 2017 {0} {1}'.format(school, year_16[school]['name']))\n",
    "    if school not in year_15:\n",
    "        print ('Not in 2015 {0} {1}'.format(school, year_16[school]['name']))\n",
    "print('checking 2015')\n",
    "for school in year_15:\n",
    "    if school not in year_17:\n",
    "        print ('Not in 2017 {0} {1}'.format(school, year_15[school]['name']))\n",
    "    if school not in year_16:\n",
    "        print ('Not in 2016 {0} {1}'.format(school, year_15[school]['name']))"
   ]
  },
  {
   "cell_type": "markdown",
   "metadata": {},
   "source": [
    "Grab clean school/district names and which schools are charters"
   ]
  },
  {
   "cell_type": "code",
   "execution_count": 10,
   "metadata": {
    "collapsed": false
   },
   "outputs": [
    {
     "data": {
      "text/plain": [
       "'Alden Intermediate'"
      ]
     },
     "execution_count": 10,
     "metadata": {},
     "output_type": "execute_result"
    }
   ],
   "source": [
    "clean_names = {}\n",
    "charters = []\n",
    "with open('../school_name_dictionary.csv') as csvfile:\n",
    "    reader = csv.DictReader(csvfile)\n",
    "    for row in reader:\n",
    "        clean_names[row['BEDS']] = row['clean_school']\n",
    "        if len(row['charter']) == 1:\n",
    "            charters.append(row['BEDS'])\n",
    "clean_names['140101060007']"
   ]
  },
  {
   "cell_type": "markdown",
   "metadata": {},
   "source": [
    "Separate schools/district into county lists for print, and create dictionary with included schools and codes."
   ]
  },
  {
   "cell_type": "code",
   "execution_count": 11,
   "metadata": {
    "collapsed": false
   },
   "outputs": [
    {
     "name": "stdout",
     "output_type": "stream",
     "text": [
      "{'400701060000': {'schools': {}, 'name': 'NIAGARA WHEATFIELD SCH. DIST.', 'dist_key': 'NIAGARA-WHEATFIELD CENTRAL SCHOOL DISTRICT'}, '400301060000': {'schools': {}, 'name': 'LEW-PORT SCHOOL DISTRICT', 'dist_key': 'LEWISTON-PORTER CENTRAL SCHOOL DISTRICT'}, '401501060000': {'schools': {}, 'name': 'WILSON SCHOOL DISTRICT', 'dist_key': 'WILSON CENTRAL SCHOOL DISTRICT'}, '400800010000': {'schools': {}, 'name': 'NIAGARA FALLS SCHOOL DISTRICT', 'dist_key': 'NIAGARA FALLS CITY SCHOOL DISTRICT'}, '401001060000': {'schools': {}, 'name': 'STARPOINT SCHOOL DISTRICT', 'dist_key': 'STARPOINT CENTRAL SCHOOL DISTRICT'}, '400400010000': {'schools': {}, 'name': 'LOCKPORT SCHOOL DISTRICT', 'dist_key': 'LOCKPORT CITY SCHOOL DISTRICT'}, '400601060000': {'schools': {}, 'name': 'NEWFANE SCHOOL DISTRICT', 'dist_key': 'NEWFANE CENTRAL SCHOOL DISTRICT'}, '400900010000': {'schools': {}, 'name': 'NORTH TONAWANDA SCH. DIST.', 'dist_key': 'NORTH TONAWANDA CITY SCHOOL DISTRICT'}, '401201060000': {'schools': {}, 'name': 'ROY-HART SCHOOL DISTRICT', 'dist_key': 'ROYALTON-HARTLAND CENTRAL SCHOOL DISTRICT'}, '401301040000': {'schools': {}, 'name': 'BARKER SCHOOL DISTRICT', 'dist_key': 'BARKER CENTRAL SCHOOL DISTRICT'}}\n"
     ]
    }
   ],
   "source": [
    "erie_list = {}\n",
    "niagara_list = {}\n",
    "charter_list = {}\n",
    "for key, value in year_17.items():\n",
    "    if key not in charters:\n",
    "        if 'SCHOOL DISTRICT' in value['name']:\n",
    "            if value['county'] == 'ERIE':\n",
    "                erie_list[key] = {'name': clean_names[key], 'schools': {}, 'dist_key': value['name']}\n",
    "            else:\n",
    "                niagara_list[key] = {'name': clean_names[key], 'schools': {}, 'dist_key': value['name']}\n",
    "    else:\n",
    "        charter_list[key] = clean_names[key]\n",
    "for distict, value in erie_list.items():\n",
    "    for school, info in year_17.items():\n",
    "        if school not in charters:\n",
    "            if value['dist_key'] == info['district'] and 'SCHOOL DISTRICT' not in info['name']:\n",
    "                erie_list[distict]['schools'][school] = clean_names[school]\n",
    "for distict, value in niagara_list.items():\n",
    "    for school, info in year_17.items():\n",
    "        if school not in charters:\n",
    "            if value['name'] == info['district'] and 'SCHOOL DISTRICT' not in info['name']:\n",
    "                niagara_list[distict]['schools'][school] = clean_names[school]\n",
    "print(niagara_list)"
   ]
  },
  {
   "cell_type": "code",
   "execution_count": 18,
   "metadata": {
    "collapsed": false
   },
   "outputs": [],
   "source": [
    "def percent_change(new,old):\n",
    "    try:\n",
    "        calculate = (new-old)/old\n",
    "        percent = calculate * 100\n",
    "        one_decimal = float(\"{0:.1f}\".format(percent))\n",
    "        return one_decimal\n",
    "    except (ZeroDivisionError,TypeError):\n",
    "        return '-'"
   ]
  },
  {
   "cell_type": "markdown",
   "metadata": {},
   "source": [
    "Exporting for print"
   ]
  },
  {
   "cell_type": "code",
   "execution_count": 23,
   "metadata": {
    "collapsed": false
   },
   "outputs": [
    {
     "name": "stdout",
     "output_type": "stream",
     "text": [
      "Begging erie\n",
      "Begging niagara\n",
      "Begging charter\n",
      "28 erie districts and 10 niagara districts 15 charters\n"
     ]
    }
   ],
   "source": [
    "erie_districts = 0\n",
    "niagara_districts = 0\n",
    "charter_districts = 0\n",
    "def export_county_schools(county_list, county):\n",
    "    print('Begging {0}'.format(county))\n",
    "    county_count = 0\n",
    "    if county != 'charter':\n",
    "        #Sort the county of district id's by its name value.\n",
    "        sorted_county = sorted(county_list, key= lambda district: county_list[district]['name'])\n",
    "        for district in sorted_county:\n",
    "            county_count += 1\n",
    "            #print('*** starting district {0}'.format(county_list[district]['name']))\n",
    "            pc_ela_15_17 = percent_change(year_17[district]['ela']['total_percent'],year_15[district]['ela']['total_percent'])\n",
    "            pc_ela_16_17 = percent_change(year_17[district]['ela']['total_percent'],year_16[district]['ela']['total_percent'])\n",
    "            pc_math_15_17 = percent_change(year_17[district]['math']['total_percent'],year_15[district]['math']['total_percent'])\n",
    "            pc_math_16_17 = percent_change(year_17[district]['math']['total_percent'],year_16[district]['math']['total_percent'])\n",
    "            district_info = [county_list[district]['name'], clean_names[district], year_15[district]['ela']['total_percent'],year_16[district]['ela']['total_percent'],year_17[district]['ela']['total_percent'],year_15[district]['math']['total_percent'],year_16[district]['math']['total_percent'],year_17[district]['math']['total_percent'], pc_ela_15_17, pc_ela_16_17, pc_math_15_17, pc_math_16_17]\n",
    "            writer.writerow(district_info)\n",
    "            schools_info = county_list[district]['schools']\n",
    "            sorted_schools = sorted(schools_info, key = lambda school: schools_info[school])\n",
    "            #Now go through each school in the district and calculate its percent change.\n",
    "            for school in sorted_schools:\n",
    "                    pc_school_ela_15_17 = percent_change(year_17[school]['ela']['total_percent'],year_15[school]['ela']['total_percent'])\n",
    "                    pc_school_ela_16_17 = percent_change(year_17[school]['ela']['total_percent'],year_16[school]['ela']['total_percent'])\n",
    "                    pc_school_math_15_17 = percent_change(year_17[school]['math']['total_percent'],year_15[school]['math']['total_percent'])\n",
    "                    pc_school_math_16_17 = percent_change(year_17[school]['math']['total_percent'],year_16[school]['math']['total_percent'])\n",
    "                    school_info = [county_list[district]['name'], clean_names[school], year_15[school]['ela']['total_percent'],year_16[school]['ela']['total_percent'],year_17[school]['ela']['total_percent'],year_15[school]['math']['total_percent'],year_16[school]['math']['total_percent'],year_17[school]['math']['total_percent'], pc_school_ela_15_17, pc_school_ela_16_17, pc_school_math_15_17, pc_school_math_16_17]\n",
    "                    writer.writerow(school_info)\n",
    "    else:\n",
    "        #Charter schools only have one level aka direct to school data.\n",
    "        sorted_county = sorted(county_list, key= lambda district: county_list[district])\n",
    "        for district in sorted_county:\n",
    "            county_count += 1\n",
    "            #print('*** starting district {0}'.format(county_list[district]))\n",
    "            pc_ela_15_17 = percent_change(year_17[district]['ela']['total_percent'],year_15[district]['ela']['total_percent'])\n",
    "            pc_ela_16_17 = percent_change(year_17[district]['ela']['total_percent'],year_16[district]['ela']['total_percent'])\n",
    "            pc_math_15_17 = percent_change(year_17[district]['math']['total_percent'],year_15[district]['math']['total_percent'])\n",
    "            pc_math_16_17 = percent_change(year_17[district]['math']['total_percent'],year_16[district]['math']['total_percent'])\n",
    "            district_info = [year_17[district]['district'], clean_names[district], year_15[district]['ela']['total_percent'],year_16[district]['ela']['total_percent'],year_17[district]['ela']['total_percent'],year_15[district]['math']['total_percent'],year_16[district]['math']['total_percent'],year_17[district]['math']['total_percent'], pc_ela_15_17, pc_ela_16_17, pc_math_15_17, pc_math_16_17]\n",
    "            writer.writerow(district_info)\n",
    "    return county_count\n",
    "\n",
    "with open('print_out.tsv', 'w') as out_put:\n",
    "    writer = csv.writer(out_put, delimiter='\\t')\n",
    "    writer.writerow(['district','school','ELA 2015', 'ELA 2016', 'ELA 2017', 'Math 2015', 'Math 2016', 'Math 2017', 'pc_ela_15_17', 'pc_ela_16_17', 'pc_math_15_17', 'pc_math_16_17'])\n",
    "    erie_districts = export_county_schools(erie_list, 'erie')\n",
    "    niagara_districts = export_county_schools(niagara_list, 'niagara')\n",
    "    charter_districts = export_county_schools(charter_list, 'charter')\n",
    "    print('{0} erie districts and {1} niagara districts {2} charters'.format(erie_districts,niagara_districts,charter_districts))"
   ]
  },
  {
   "cell_type": "markdown",
   "metadata": {},
   "source": [
    "Online needs JSON in the clean_json groups."
   ]
  },
  {
   "cell_type": "code",
   "execution_count": 33,
   "metadata": {
    "collapsed": false
   },
   "outputs": [
    {
     "name": "stdout",
     "output_type": "stream",
     "text": [
      "{'name': 'AMHERST', 'dist_key': 'AMHERST CENTRAL SCHOOL DISTRICT', 'schools': {'140201060006': 'Windermere', '140201060001': 'Amherst Middle', '140201060005': 'Smallwood'}}\n"
     ]
    }
   ],
   "source": [
    "print(erie_list['140201060000'])"
   ]
  },
  {
   "cell_type": "code",
   "execution_count": 32,
   "metadata": {
    "collapsed": false
   },
   "outputs": [
    {
     "name": "stdout",
     "output_type": "stream",
     "text": [
      "*** starting district Bflo. Academy of Science\n",
      "*** starting district Buffalo United\n",
      "*** starting district Charter Sch. for App. Tech.\n",
      "*** starting district Charter School of Inquiry\n",
      "*** starting district Elmwood Village\n",
      "*** starting district Enterprise\n",
      "*** starting district Global Concepts\n",
      "*** starting district Johnson\n",
      "*** starting district King Center\n",
      "*** starting district Niagara Charter\n",
      "*** starting district South Buffalo\n",
      "*** starting district Tapestry\n",
      "*** starting district WNY Maritime Charter\n",
      "*** starting district West Buffalo\n",
      "*** starting district Westminster\n",
      "{'ordered_schools': [['8686868686868', 'Charters Average'], ['140600860861', 'Bflo. Academy of Science'], ['140600860851', 'Buffalo United'], ['142601860031', 'Charter Sch. for App. Tech.'], ['140600861072', 'Charter School of Inquiry'], ['140600860896', 'Elmwood Village'], ['140600860856', 'Enterprise'], ['141800860044', 'Global Concepts'], ['140600860911', 'Johnson'], ['140600860814', 'King Center'], ['400701860890', 'Niagara Charter'], ['140600860817', 'South Buffalo'], ['140600860838', 'Tapestry'], ['140600860863', 'WNY Maritime Charter'], ['140600860986', 'West Buffalo'], ['140600860874', 'Westminster']]}\n"
     ]
    }
   ],
   "source": [
    "erie_districts = 0\n",
    "niagara_districts = 0\n",
    "clean_json = {'Erie': {}, 'Niagara': {}, 'Buffalo': {}, 'Charters': {}}\n",
    "def export_county_schools(county_list, county):\n",
    "    ordered = []\n",
    "    county_count = 0\n",
    "    #Sort the county of district id's by its name value.\n",
    "    if county != 'Charters':\n",
    "        if county == 'Erie':\n",
    "            ordered.append(['140000000000', 'Erie County'])\n",
    "        elif county == 'Niagara':\n",
    "            ordered.append(['400000000000', 'Niagara County'])\n",
    "        sorted_county = sorted(county_list, key= lambda district: county_list[district]['name'])\n",
    "        for district in sorted_county:\n",
    "            #Buffalo gets thrown in its own group\n",
    "            if district != '140600010000':\n",
    "                county_count += 1\n",
    "                #print('*** starting district {0}'.format(county_list[district]['name']))\n",
    "                schools_info = county_list[district]['schools']\n",
    "                ordered.append([district,clean_names[district]])\n",
    "                sorted_schools = sorted(schools_info, key = lambda school: schools_info[school])\n",
    "                #Now go through each school in the district and calculate its percent change.\n",
    "                for school in sorted_schools:\n",
    "                    try:\n",
    "                        #print('writing the following {0}'.format(schools_info[school]))\n",
    "                        ordered.append([school,clean_names[school]])\n",
    "                    except KeyError:\n",
    "                        #Beds code isn't found in one of the years for this school\n",
    "                        print('Missing school in 2013, 2014, 2015, 2016 and/or 2017')\n",
    "                        print(schools_info[school])\n",
    "                        print(school)\n",
    "            else:\n",
    "                buffalo_list = []\n",
    "                buffalo_list.append([district,clean_names[district]])\n",
    "                schools_info = county_list[district]['schools']\n",
    "                sorted_schools = sorted(schools_info, key = lambda school: schools_info[school])\n",
    "                #Now go through each school in the district and calculate its percent change.\n",
    "                for school in sorted_schools:\n",
    "                    try:\n",
    "                        #print('writing the following {0}'.format(schools_info[school]))\n",
    "                        buffalo_list.append([school,clean_names[school]])\n",
    "                    except KeyError:\n",
    "                        #Beds code isn't found in one of the years for this school\n",
    "                        print('Missing school in 2013, 2014, 2015, 2016 and/or 2017')\n",
    "                        print(schools_info[school])\n",
    "                        print(school)\n",
    "                clean_json['Buffalo']['ordered_schools'] = buffalo_list\n",
    "    else:\n",
    "        ordered.append(['8686868686868', 'Charters Average'])\n",
    "        sorted_county = sorted(county_list, key= lambda district: county_list[district])\n",
    "        for district in sorted_county:\n",
    "            county_count += 1\n",
    "            print('*** starting district {0}'.format(county_list[district]))\n",
    "            ordered.append([district,county_list[district]])\n",
    "    clean_json[county]['ordered_schools'] = ordered\n",
    "eried_list = export_county_schools(erie_list, 'Erie')\n",
    "\n",
    "niagarad_list = export_county_schools(niagara_list, 'Niagara')\n",
    "chartered_list = export_county_schools(charter_list, 'Charters')\n",
    "print(clean_json['Charters'])"
   ]
  },
  {
   "cell_type": "code",
   "execution_count": 13,
   "metadata": {
    "collapsed": true
   },
   "outputs": [],
   "source": [
    "def year_build(school_dict, year_dict, year):\n",
    "    if school[0] in year_dict:\n",
    "        #Only output dictionary if the school has test scores for that year.\n",
    "        if len(year_dict[school[0]]['math']['classes']) != 0 or len(year_dict[school[0]]['ela']['classes']) != 0:\n",
    "            year_info = year_dict[school[0]]\n",
    "            school_info['district'] = year_info['district']\n",
    "            school_info['name'] = clean_names[school[0]]\n",
    "            math_year = {}\n",
    "            math_year['total'] = str(year_info['math']['total_percent'])\n",
    "            for i, item in enumerate(year_info['math']['classes']):\n",
    "                clean_class = year_info['math']['classes'][i][0:7]\n",
    "                try:\n",
    "                    percent_profficient = (year_info['math']['proficient'][i] / year_info['math']['totals'][i]) * 100\n",
    "                    math_year[clean_class] = str(float(\"{0:.1f}\".format(percent_profficient)))\n",
    "                except ZeroDivisionError:\n",
    "                    math_year[clean_class] = '-'\n",
    "            school_dict['math'][year] = math_year\n",
    "            ela_year = {}\n",
    "            ela_year['total'] = str(year_info['ela']['total_percent'])\n",
    "            for i, item in enumerate(year_info['ela']['classes']):\n",
    "                clean_class = year_info['ela']['classes'][i][0:7]\n",
    "                try:\n",
    "                    percent_profficient = (year_info['ela']['proficient'][i] / year_info['ela']['totals'][i]) * 100\n",
    "                    ela_year[clean_class] = str(float(\"{0:.1f}\".format(percent_profficient)))\n",
    "                except ZeroDivisionError:\n",
    "                    ela_year[clean_class] = '-'\n",
    "            school_dict['ela'][year] = ela_year\n",
    "    else:\n",
    "        print('Missing {0} - {2} in {1}'.format(school[0], year, year_17[school[0]]['name']))"
   ]
  },
  {
   "cell_type": "code",
   "execution_count": 33,
   "metadata": {
    "collapsed": false
   },
   "outputs": [
    {
     "name": "stdout",
     "output_type": "stream",
     "text": [
      "**Starting Erie\n",
      "**Starting Buffalo\n",
      "**Starting Niagara\n",
      "**Starting Charters\n",
      "hit charter average\n",
      "{'math': {}, 'ela': {}}\n",
      "((**(**(***()))))\n",
      "{'math': {'2013': {'total': '10.2', 'Grade 7': '3.3', 'Grade 8': '18.8'}, '2016': {'total': '26.7', 'Grade 7': '22.9', 'Grade 8': '29.8'}, '2015': {'total': '25.9', 'Grade 7': '12.0', 'Grade 8': '37.9'}, '2014': {'total': '20.0', 'Grade 7': '20.3', 'Grade 8': '19.7'}, '2017': {'total': '33.5', 'Grade 5': '37.5', 'Grade 7': '23.5', 'Grade 8': '38.7'}}, 'name': 'Bflo. Academy of Science', 'district': 'BUFFALO CITY SCHOOL DISTRICT', 'ela': {'2013': {'total': '13.5', 'Grade 7': '12.7', 'Grade 8': '14.6'}, '2016': {'total': '31.5', 'Grade 7': '17.3', 'Grade 8': '44.6'}, '2015': {'total': '10.9', 'Grade 7': '5.8', 'Grade 8': '15.5'}, '2014': {'total': '15.7', 'Grade 7': '16.9', 'Grade 8': '14.5'}, '2017': {'total': '35.4', 'Grade 5': '34.7', 'Grade 7': '23.1', 'Grade 8': '46.0'}}}\n",
      "[['8686868686868', 'Charters Average'], ['140600860861', 'Bflo. Academy of Science'], ['140600860851', 'Buffalo United'], ['142601860031', 'Charter Sch. for App. Tech.'], ['140600861072', 'Charter School of Inquiry'], ['140600860896', 'Elmwood Village'], ['140600860856', 'Enterprise'], ['141800860044', 'Global Concepts'], ['140600860911', 'Johnson'], ['140600860814', 'King Center'], ['400701860890', 'Niagara Charter'], ['140600860817', 'South Buffalo'], ['140600860838', 'Tapestry'], ['140600860863', 'WNY Maritime Charter'], ['140600860986', 'West Buffalo'], ['140600860874', 'Westminster']]\n",
      "***************\n",
      "{'140600860911': {'math': {'2013': {'total': '10.9', 'Grade 3': '10.0', 'Grade 4': '11.9'}, '2016': {'total': '17.7', 'Grade 3': '20.0', 'Grade 4': '14.6'}, '2015': {'total': '26.2', 'Grade 3': '18.5', 'Grade 4': '34.7'}, '2014': {'total': '20.4', 'Grade 3': '24.5', 'Grade 4': '16.4'}, '2017': {'total': '18.9', 'Grade 3': '20.8', 'Grade 4': '17.2'}}, 'name': 'Johnson', 'district': 'BUFFALO CITY SCHOOL DISTRICT', 'ela': {'2013': {'total': '12.6', 'Grade 3': '8.3', 'Grade 4': '16.9'}, '2016': {'total': '18.6', 'Grade 3': '20.0', 'Grade 4': '16.7'}, '2015': {'total': '13.6', 'Grade 3': '11.1', 'Grade 4': '16.3'}, '2014': {'total': '7.4', 'Grade 3': '11.3', 'Grade 4': '3.6'}, '2017': {'total': '19.8', 'Grade 3': '15.4', 'Grade 4': '23.7'}}}, '140600860856': {'math': {'2013': {'Grade 8': '7.5', 'Grade 5': '11.4', 'Grade 7': '2.2', 'Grade 3': '0.0', 'total': '8.4', 'Grade 6': '19.1', 'Grade 4': '8.7'}, '2016': {'Grade 8': '2.4', 'Grade 5': '8.9', 'Grade 7': '5.3', 'Grade 3': '13.3', 'total': '8.0', 'Grade 6': '8.5', 'Grade 4': '8.9'}, '2015': {'Grade 8': '2.9', 'Grade 5': '6.4', 'Grade 7': '0.0', 'Grade 3': '15.2', 'total': '5.6', 'Grade 6': '4.8', 'Grade 4': '2.3'}, '2014': {'Grade 8': '2.6', 'Grade 5': '4.7', 'Grade 7': '7.3', 'Grade 3': '13.3', 'total': '11.6', 'Grade 6': '26.7', 'Grade 4': '12.8'}, '2017': {'Grade 8': '5.7', 'Grade 5': '11.6', 'Grade 7': '2.7', 'Grade 3': '8.7', 'total': '13.7', 'Grade 6': '19.6', 'Grade 4': '29.2'}}, 'name': 'Enterprise', 'district': 'BUFFALO CITY SCHOOL DISTRICT', 'ela': {'2013': {'Grade 8': '7.7', 'Grade 5': '9.1', 'Grade 7': '8.9', 'Grade 3': '0.0', 'total': '7.3', 'Grade 6': '12.8', 'Grade 4': '4.3'}, '2016': {'Grade 8': '22.0', 'Grade 5': '11.1', 'Grade 7': '7.9', 'Grade 3': '10.9', 'total': '11.5', 'Grade 6': '10.9', 'Grade 4': '6.8'}, '2015': {'Grade 8': '11.1', 'Grade 5': '8.5', 'Grade 7': '7.7', 'Grade 3': '11.1', 'total': '9.9', 'Grade 6': '7.1', 'Grade 4': '13.6'}, '2014': {'Grade 8': '10.3', 'Grade 5': '7.0', 'Grade 7': '24.4', 'Grade 3': '23.3', 'total': '16.4', 'Grade 6': '19.6', 'Grade 4': '13.6'}, '2017': {'Grade 8': '13.9', 'Grade 5': '4.7', 'Grade 7': '2.7', 'Grade 3': '4.3', 'total': '9.8', 'Grade 6': '15.2', 'Grade 4': '17.4'}}}, '140600860814': {'math': {'2013': {'total': '16.2', 'Grade 5': '9.1', 'Grade 3': '19.6', 'Grade 6': '16.7', 'Grade 4': '16.0'}, '2016': {'Grade 8': '0.0', 'Grade 5': '15.4', 'Grade 7': '9.5', 'Grade 3': '39.5', 'total': '19.4', 'Grade 6': '20.0', 'Grade 4': '17.8'}, '2015': {'Grade 8': '9.5', 'Grade 5': '14.0', 'Grade 7': '0.0', 'Grade 3': '26.0', 'total': '17.3', 'Grade 6': '20.0', 'Grade 4': '22.5'}, '2014': {'Grade 5': '0.0', 'Grade 7': '9.5', 'Grade 3': '33.3', 'total': '15.3', 'Grade 6': '9.5', 'Grade 4': '11.6'}, '2017': {'Grade 8': '23.8', 'Grade 5': '7.3', 'Grade 7': '10.3', 'Grade 3': '48.0', 'total': '25.8', 'Grade 6': '15.6', 'Grade 4': '39.5'}}, 'name': 'King Center', 'district': 'BUFFALO CITY SCHOOL DISTRICT', 'ela': {'2013': {'total': '14.7', 'Grade 5': '18.2', 'Grade 3': '13.3', 'Grade 6': '25.0', 'Grade 4': '4.0'}, '2016': {'Grade 8': '31.6', 'Grade 5': '17.9', 'Grade 7': '13.6', 'Grade 3': '45.9', 'total': '27.4', 'Grade 6': '21.1', 'Grade 4': '30.4'}, '2015': {'Grade 8': '18.2', 'Grade 5': '35.7', 'Grade 7': '21.7', 'Grade 3': '7.7', 'total': '17.5', 'Grade 6': '0.0', 'Grade 4': '17.1'}, '2014': {'Grade 5': '8.7', 'Grade 7': '23.8', 'Grade 3': '31.0', 'total': '18.0', 'Grade 6': '0.0', 'Grade 4': '16.3'}, '2017': {'Grade 8': '38.1', 'Grade 5': '12.5', 'Grade 7': '20.0', 'Grade 3': '29.4', 'total': '22.5', 'Grade 6': '16.3', 'Grade 4': '23.8'}}}, '140600860851': {'math': {'2013': {'Grade 8': '24.0', 'Grade 5': '9.3', 'Grade 7': '18.8', 'Grade 3': '8.6', 'total': '21.1', 'Grade 6': '17.6', 'Grade 4': '45.3'}, '2016': {'Grade 8': '22.1', 'Grade 5': '28.6', 'Grade 7': '11.8', 'Grade 3': '27.8', 'total': '22.4', 'Grade 6': '25.7', 'Grade 4': '16.2'}, '2015': {'Grade 8': '18.6', 'Grade 5': '32.4', 'Grade 7': '16.4', 'Grade 3': '20.5', 'total': '24.5', 'Grade 6': '21.3', 'Grade 4': '36.8'}, '2014': {'Grade 8': '2.1', 'Grade 5': '33.3', 'Grade 7': '28.9', 'Grade 3': '26.4', 'total': '28.5', 'Grade 6': '24.7', 'Grade 4': '47.8'}, '2017': {'Grade 8': '0.0', 'Grade 5': '18.3', 'Grade 7': '10.1', 'Grade 3': '45.3', 'total': '23.0', 'Grade 6': '21.7', 'Grade 4': '25.6'}}, 'name': 'Buffalo United', 'district': 'BUFFALO CITY SCHOOL DISTRICT', 'ela': {'2013': {'Grade 8': '4.0', 'Grade 5': '13.3', 'Grade 7': '8.7', 'Grade 3': '5.2', 'total': '10.8', 'Grade 6': '10.8', 'Grade 4': '21.3'}, '2016': {'Grade 8': '24.3', 'Grade 5': '18.6', 'Grade 7': '17.4', 'Grade 3': '30.5', 'total': '22.2', 'Grade 6': '20.3', 'Grade 4': '18.8'}, '2015': {'Grade 8': '16.0', 'Grade 5': '10.8', 'Grade 7': '6.8', 'Grade 3': '13.7', 'total': '13.6', 'Grade 6': '13.3', 'Grade 4': '21.1'}, '2014': {'Grade 8': '8.1', 'Grade 5': '7.9', 'Grade 7': '5.2', 'Grade 3': '17.3', 'total': '12.9', 'Grade 6': '13.0', 'Grade 4': '26.8'}, '2017': {'Grade 8': '24.1', 'Grade 5': '19.2', 'Grade 7': '15.5', 'Grade 3': '32.1', 'total': '21.3', 'Grade 6': '7.9', 'Grade 4': '25.8'}}}, '8686868686868': {'math': {}, 'ela': {}}, '140600861072': {'math': {'2017': {'total': '32.3', 'Grade 3': '32.3'}}, 'name': 'Charter School of Inquiry', 'district': 'BUFFALO CITY SCHOOL DISTRICT', 'ela': {'2017': {'total': '19.4', 'Grade 3': '19.4'}}}, '140600860838': {'math': {'2013': {'Grade 8': '12.0', 'Grade 5': '20.0', 'Grade 7': '0.0', 'Grade 3': '32.0', 'total': '16.9', 'Grade 6': '16.3', 'Grade 4': '20.0'}, '2016': {'Grade 8': '9.7', 'Grade 5': '20.7', 'Grade 7': '9.1', 'Grade 3': '46.8', 'total': '28.1', 'Grade 6': '24.4', 'Grade 4': '54.8'}, '2015': {'Grade 8': '25.0', 'Grade 5': '18.6', 'Grade 7': '23.3', 'Grade 3': '55.3', 'total': '27.6', 'Grade 6': '2.1', 'Grade 4': '40.0'}, '2014': {'Grade 8': '14.0', 'Grade 5': '9.8', 'Grade 7': '31.2', 'Grade 3': '35.8', 'total': '20.1', 'Grade 6': '17.4', 'Grade 4': '12.0'}, '2017': {'Grade 8': '10.7', 'Grade 5': '32.1', 'Grade 7': '19.6', 'Grade 3': '53.3', 'total': '29.4', 'Grade 6': '29.3', 'Grade 4': '36.0'}}, 'name': 'Tapestry', 'district': 'BUFFALO CITY SCHOOL DISTRICT', 'ela': {'2013': {'Grade 8': '32.0', 'Grade 5': '19.6', 'Grade 7': '20.0', 'Grade 3': '32.0', 'total': '26.0', 'Grade 6': '30.6', 'Grade 4': '24.0'}, '2016': {'Grade 8': '11.1', 'Grade 5': '11.7', 'Grade 7': '26.5', 'Grade 3': '34.8', 'total': '27.6', 'Grade 6': '34.9', 'Grade 4': '48.9'}, '2015': {'Grade 8': '31.1', 'Grade 5': '25.0', 'Grade 7': '21.7', 'Grade 3': '39.6', 'total': '25.2', 'Grade 6': '10.0', 'Grade 4': '24.5'}, '2014': {'Grade 8': '29.4', 'Grade 5': '9.8', 'Grade 7': '22.9', 'Grade 3': '25.0', 'total': '20.5', 'Grade 6': '19.6', 'Grade 4': '16.0'}, '2017': {'Grade 8': '43.1', 'Grade 5': '42.3', 'Grade 7': '38.2', 'Grade 3': '45.7', 'total': '37.3', 'Grade 6': '25.4', 'Grade 4': '30.6'}}}, '400701860890': {'math': {'2013': {'total': '19.4', 'Grade 5': '28.3', 'Grade 3': '10.9', 'Grade 6': '11.1', 'Grade 4': '30.4'}, '2016': {'total': '47.5', 'Grade 5': '29.5', 'Grade 3': '60.0', 'Grade 6': '48.8', 'Grade 4': '51.1'}, '2015': {'total': '43.0', 'Grade 5': '19.1', 'Grade 3': '58.0', 'Grade 6': '56.8', 'Grade 4': '40.4'}, '2014': {'total': '28.4', 'Grade 5': '29.3', 'Grade 3': '20.0', 'Grade 6': '34.1', 'Grade 4': '31.2'}, '2017': {'total': '52.9', 'Grade 5': '56.5', 'Grade 3': '63.0', 'Grade 6': '59.6', 'Grade 4': '33.3'}}, 'name': 'Niagara Charter', 'district': 'NIAGARA-WHEATFIELD CENTRAL SCHOOL DISTRICT', 'ela': {'2013': {'total': '8.5', 'Grade 5': '8.7', 'Grade 3': '13.0', 'Grade 6': '4.8', 'Grade 4': '8.5'}, '2016': {'total': '29.2', 'Grade 5': '14.9', 'Grade 3': '40.4', 'Grade 6': '30.2', 'Grade 4': '31.2'}, '2015': {'total': '22.3', 'Grade 5': '12.8', 'Grade 3': '35.8', 'Grade 6': '21.6', 'Grade 4': '17.6'}, '2014': {'total': '14.5', 'Grade 5': '7.3', 'Grade 3': '5.9', 'Grade 6': '17.4', 'Grade 4': '27.1'}, '2017': {'total': '32.8', 'Grade 5': '35.4', 'Grade 3': '61.4', 'Grade 6': '24.5', 'Grade 4': '12.5'}}}, '141800860044': {'math': {'2013': {'Grade 8': '21.4', 'Grade 5': '40.3', 'Grade 7': '20.3', 'Grade 3': '37.0', 'total': '35.1', 'Grade 6': '34.7', 'Grade 4': '56.3'}, '2016': {'Grade 8': '45.5', 'Grade 5': '47.9', 'Grade 7': '12.5', 'Grade 3': '23.9', 'total': '42.1', 'Grade 6': '59.4', 'Grade 4': '57.5'}, '2015': {'Grade 8': '21.0', 'Grade 5': '63.5', 'Grade 7': '45.6', 'Grade 3': '20.9', 'total': '42.5', 'Grade 6': '42.9', 'Grade 4': '60.9'}, '2014': {'Grade 8': '16.4', 'Grade 5': '47.9', 'Grade 7': '24.6', 'Grade 3': '34.8', 'total': '43.9', 'Grade 6': '59.2', 'Grade 4': '75.3'}, '2017': {'Grade 8': '0.0', 'Grade 5': '50.0', 'Grade 7': '26.7', 'Grade 3': '32.9', 'total': '37.9', 'Grade 6': '53.1', 'Grade 4': '50.0'}}, 'name': 'Global Concepts', 'district': 'LACKAWANNA CITY SCHOOL DISTRICT', 'ela': {'2013': {'Grade 8': '29.4', 'Grade 5': '38.9', 'Grade 7': '23.5', 'Grade 3': '37.0', 'total': '33.0', 'Grade 6': '27.0', 'Grade 4': '41.7'}, '2016': {'Grade 8': '32.2', 'Grade 5': '38.9', 'Grade 7': '19.4', 'Grade 3': '45.1', 'total': '35.7', 'Grade 6': '32.8', 'Grade 4': '42.7'}, '2015': {'Grade 8': '15.3', 'Grade 5': '28.4', 'Grade 7': '21.1', 'Grade 3': '21.7', 'total': '26.3', 'Grade 6': '17.9', 'Grade 4': '50.7'}, '2014': {'Grade 8': '20.3', 'Grade 5': '28.4', 'Grade 7': '8.7', 'Grade 3': '39.4', 'total': '29.0', 'Grade 6': '26.8', 'Grade 4': '49.3'}, '2017': {'Grade 8': '14.0', 'Grade 5': '36.6', 'Grade 7': '18.0', 'Grade 3': '29.6', 'total': '30.8', 'Grade 6': '32.9', 'Grade 4': '47.9'}}}, '140600860861': {'math': {'2013': {'total': '10.2', 'Grade 7': '3.3', 'Grade 8': '18.8'}, '2016': {'total': '26.7', 'Grade 7': '22.9', 'Grade 8': '29.8'}, '2015': {'total': '25.9', 'Grade 7': '12.0', 'Grade 8': '37.9'}, '2014': {'total': '20.0', 'Grade 7': '20.3', 'Grade 8': '19.7'}, '2017': {'total': '33.5', 'Grade 5': '37.5', 'Grade 7': '23.5', 'Grade 8': '38.7'}}, 'name': 'Bflo. Academy of Science', 'district': 'BUFFALO CITY SCHOOL DISTRICT', 'ela': {'2013': {'total': '13.5', 'Grade 7': '12.7', 'Grade 8': '14.6'}, '2016': {'total': '31.5', 'Grade 7': '17.3', 'Grade 8': '44.6'}, '2015': {'total': '10.9', 'Grade 7': '5.8', 'Grade 8': '15.5'}, '2014': {'total': '15.7', 'Grade 7': '16.9', 'Grade 8': '14.5'}, '2017': {'total': '35.4', 'Grade 5': '34.7', 'Grade 7': '23.1', 'Grade 8': '46.0'}}}, '140600860986': {'math': {'2016': {'total': '40.7', 'Grade 3': '57.6', 'Grade 4': '22.2'}, '2015': {'total': '31.7', 'Grade 3': '35.7', 'Grade 4': '27.1'}, '2014': {'total': '27.1', 'Grade 3': '27.1'}, '2017': {'total': '36.0', 'Grade 5': '14.9', 'Grade 3': '50.9', 'Grade 4': '38.3'}}, 'name': 'West Buffalo', 'district': 'BUFFALO CITY SCHOOL DISTRICT', 'ela': {'2016': {'total': '37.2', 'Grade 3': '50.0', 'Grade 4': '22.6'}, '2015': {'total': '31.4', 'Grade 3': '33.3', 'Grade 4': '29.2'}, '2014': {'total': '22.9', 'Grade 3': '22.9'}, '2017': {'total': '29.9', 'Grade 5': '2.1', 'Grade 3': '35.6', 'Grade 4': '46.7'}}}, '140600860896': {'math': {'2013': {'Grade 8': '52.2', 'Grade 5': '38.5', 'Grade 7': '27.3', 'Grade 3': '73.1', 'total': '51.7', 'Grade 6': '56.5', 'Grade 4': '60.0'}, '2016': {'Grade 8': '20.0', 'Grade 5': '42.0', 'Grade 7': '36.8', 'Grade 3': '50.0', 'total': '50.5', 'Grade 6': '53.8', 'Grade 4': '74.5'}, '2015': {'Grade 8': '25.0', 'Grade 5': '48.0', 'Grade 7': '29.2', 'Grade 3': '55.8', 'total': '50.3', 'Grade 6': '37.5', 'Grade 4': '72.0'}, '2014': {'Grade 8': '38.1', 'Grade 5': '46.2', 'Grade 7': '38.1', 'Grade 3': '62.7', 'total': '52.6', 'Grade 6': '42.3', 'Grade 4': '73.1'}, '2017': {'Grade 8': '50.0', 'Grade 5': '34.0', 'Grade 7': '60.9', 'Grade 3': '65.3', 'total': '52.8', 'Grade 6': '57.4', 'Grade 4': '51.0'}}, 'name': 'Elmwood Village', 'district': 'BUFFALO CITY SCHOOL DISTRICT', 'ela': {'2013': {'Grade 8': '30.4', 'Grade 5': '30.8', 'Grade 7': '22.7', 'Grade 3': '50.0', 'total': '39.5', 'Grade 6': '37.5', 'Grade 4': '61.5'}, '2016': {'Grade 8': '21.1', 'Grade 5': '32.0', 'Grade 7': '47.4', 'Grade 3': '52.0', 'total': '47.0', 'Grade 6': '46.2', 'Grade 4': '66.7'}, '2015': {'Grade 8': '40.0', 'Grade 5': '41.7', 'Grade 7': '20.8', 'Grade 3': '51.9', 'total': '47.4', 'Grade 6': '45.8', 'Grade 4': '62.0'}, '2014': {'Grade 8': '38.1', 'Grade 5': '42.3', 'Grade 7': '23.8', 'Grade 3': '52.9', 'total': '43.3', 'Grade 6': '19.2', 'Grade 4': '69.2'}, '2017': {'Grade 8': '55.6', 'Grade 5': '23.4', 'Grade 7': '52.2', 'Grade 3': '64.0', 'total': '46.6', 'Grade 6': '38.8', 'Grade 4': '52.9'}}}, '142601860031': {'math': {'2013': {'Grade 8': '18.8', 'Grade 5': '24.6', 'Grade 7': '15.6', 'Grade 3': '14.8', 'total': '22.5', 'Grade 6': '21.8', 'Grade 4': '39.1'}, '2016': {'Grade 8': '7.4', 'Grade 5': '38.6', 'Grade 7': '4.9', 'Grade 3': '34.8', 'total': '19.4', 'Grade 6': '13.6', 'Grade 4': '27.8'}, '2015': {'Grade 8': '4.0', 'Grade 5': '33.0', 'Grade 7': '7.4', 'Grade 3': '28.4', 'total': '20.5', 'Grade 6': '9.6', 'Grade 4': '44.1'}, '2014': {'Grade 8': '16.3', 'Grade 5': '18.9', 'Grade 7': '22.8', 'Grade 3': '30.7', 'total': '22.5', 'Grade 6': '10.7', 'Grade 4': '35.4'}, '2017': {'Grade 8': '8.5', 'Grade 5': '31.1', 'Grade 7': '21.9', 'Grade 3': '48.9', 'total': '24.3', 'Grade 6': '14.6', 'Grade 4': '30.1'}}, 'name': 'Charter Sch. for App. Tech.', 'district': 'KENMORE-TONAWANDA UNION FREE SCHOOL DISTRICT', 'ela': {'2013': {'Grade 8': '12.3', 'Grade 5': '17.0', 'Grade 7': '10.0', 'Grade 3': '14.1', 'total': '15.1', 'Grade 6': '20.3', 'Grade 4': '16.7'}, '2016': {'Grade 8': '16.5', 'Grade 5': '18.8', 'Grade 7': '16.4', 'Grade 3': '25.9', 'total': '18.0', 'Grade 6': '16.4', 'Grade 4': '15.7'}, '2015': {'Grade 8': '6.8', 'Grade 5': '14.2', 'Grade 7': '6.5', 'Grade 3': '17.9', 'total': '14.0', 'Grade 6': '10.1', 'Grade 4': '31.5'}, '2014': {'Grade 8': '16.2', 'Grade 5': '16.8', 'Grade 7': '10.4', 'Grade 3': '21.7', 'total': '17.2', 'Grade 6': '11.3', 'Grade 4': '26.5'}, '2017': {'Grade 8': '23.5', 'Grade 5': '15.8', 'Grade 7': '27.5', 'Grade 3': '28.9', 'total': '23.9', 'Grade 6': '22.2', 'Grade 4': '25.0'}}}, '140600860863': {'math': {'2017': {'total': '2.6', 'Grade 7': '2.6'}}, 'name': 'WNY Maritime Charter', 'district': 'BUFFALO CITY SCHOOL DISTRICT', 'ela': {'2017': {'total': '21.1', 'Grade 7': '21.1'}}}, '140600860874': {'math': {'2013': {'Grade 8': '9.1', 'Grade 5': '13.6', 'Grade 7': '3.8', 'Grade 3': '30.8', 'total': '14.1', 'Grade 6': '6.0', 'Grade 4': '18.6'}, '2016': {'Grade 8': '8.6', 'Grade 5': '24.1', 'Grade 7': '14.3', 'Grade 3': '22.1', 'total': '18.7', 'Grade 6': '14.3', 'Grade 4': '23.2'}, '2015': {'Grade 8': '4.9', 'Grade 5': '20.0', 'Grade 7': '10.9', 'Grade 3': '40.7', 'total': '17.0', 'Grade 6': '11.7', 'Grade 4': '11.7'}, '2014': {'Grade 8': '0.0', 'Grade 5': '14.7', 'Grade 7': '3.3', 'Grade 3': '15.7', 'total': '10.6', 'Grade 6': '14.8', 'Grade 4': '10.9'}, '2017': {'Grade 8': '2.9', 'Grade 5': '8.3', 'Grade 7': '5.9', 'Grade 3': '12.1', 'total': '9.3', 'Grade 6': '23.5', 'Grade 4': '2.9'}}, 'name': 'Westminster', 'district': 'BUFFALO CITY SCHOOL DISTRICT', 'ela': {'2013': {'Grade 8': '5.5', 'Grade 5': '3.0', 'Grade 7': '9.6', 'Grade 3': '16.9', 'total': '8.0', 'Grade 6': '4.5', 'Grade 4': '8.6'}, '2016': {'Grade 8': '26.0', 'Grade 5': '26.7', 'Grade 7': '20.5', 'Grade 3': '24.6', 'total': '22.4', 'Grade 6': '14.0', 'Grade 4': '21.8'}, '2015': {'Grade 8': '14.6', 'Grade 5': '21.7', 'Grade 7': '17.5', 'Grade 3': '22.2', 'total': '16.4', 'Grade 6': '16.1', 'Grade 4': '6.7'}, '2014': {'Grade 8': '11.5', 'Grade 5': '10.4', 'Grade 7': '12.9', 'Grade 3': '7.8', 'total': '10.2', 'Grade 6': '7.0', 'Grade 4': '11.1'}, '2017': {'Grade 8': '23.7', 'Grade 5': '20.3', 'Grade 7': '16.7', 'Grade 3': '19.0', 'total': '17.7', 'Grade 6': '18.9', 'Grade 4': '10.8'}}}, '140600860817': {'math': {'2013': {'Grade 8': '9.7', 'Grade 5': '28.2', 'Grade 7': '17.4', 'Grade 3': '19.2', 'total': '26.3', 'Grade 6': '44.9', 'Grade 4': '36.5'}, '2016': {'Grade 8': '35.2', 'Grade 5': '22.5', 'Grade 7': '15.6', 'Grade 3': '28.6', 'total': '27.0', 'Grade 6': '33.0', 'Grade 4': '26.8'}, '2015': {'Grade 8': '31.4', 'Grade 5': '18.8', 'Grade 7': '28.3', 'Grade 3': '37.2', 'total': '32.8', 'Grade 6': '37.9', 'Grade 4': '39.1'}, '2014': {'Grade 8': '34.9', 'Grade 5': '37.7', 'Grade 7': '21.7', 'Grade 3': '36.0', 'total': '31.0', 'Grade 6': '38.4', 'Grade 4': '17.8'}, '2017': {'Grade 8': '7.5', 'Grade 5': '32.2', 'Grade 7': '10.3', 'Grade 3': '26.6', 'total': '27.0', 'Grade 6': '43.0', 'Grade 4': '34.7'}}, 'name': 'South Buffalo', 'district': 'BUFFALO CITY SCHOOL DISTRICT', 'ela': {'2013': {'Grade 8': '18.6', 'Grade 5': '18.1', 'Grade 7': '17.6', 'Grade 3': '9.7', 'total': '17.1', 'Grade 6': '18.2', 'Grade 4': '20.3'}, '2016': {'Grade 8': '29.2', 'Grade 5': '14.1', 'Grade 7': '13.9', 'Grade 3': '26.6', 'total': '24.3', 'Grade 6': '19.6', 'Grade 4': '40.4'}, '2015': {'Grade 8': '26.3', 'Grade 5': '13.0', 'Grade 7': '15.9', 'Grade 3': '29.7', 'total': '20.6', 'Grade 6': '11.6', 'Grade 4': '24.2'}, '2014': {'Grade 8': '23.4', 'Grade 5': '14.3', 'Grade 7': '24.3', 'Grade 3': '20.0', 'total': '18.7', 'Grade 6': '12.0', 'Grade 4': '19.2'}, '2017': {'Grade 8': '26.2', 'Grade 5': '19.1', 'Grade 7': '16.2', 'Grade 3': '25.0', 'total': '24.5', 'Grade 6': '22.1', 'Grade 4': '36.7'}}}}\n"
     ]
    }
   ],
   "source": [
    "for group, value in clean_json.items():\n",
    "    print ('**Starting {0}'.format(group))\n",
    "    #print('values {0}'.format(value))\n",
    "    schools = {}\n",
    "    for school in value['ordered_schools']:\n",
    "        school_info = {}\n",
    "        school_info['math'] = {}\n",
    "        school_info['ela'] = {}\n",
    "        if school[0] == '8686868686868':\n",
    "            #Charters\n",
    "            print('hit charter average')\n",
    "        else:\n",
    "            year_build(school_info,year_17, '2017')\n",
    "            year_build(school_info,year_16, '2016')\n",
    "            year_build(school_info,year_15, '2015')\n",
    "            year_build(school_info,year_14, '2014')\n",
    "            year_build(school_info,year_13, '2013')\n",
    "        schools[school[0]] = school_info\n",
    "    clean_json[group]['schools'] = schools\n",
    "            \n",
    "print(clean_json['Charters']['schools']['8686868686868'])\n",
    "print('((**(**(***()))))')\n",
    "print(clean_json['Charters']['schools']['140600860861'])\n",
    "print(clean_json['Charters']['ordered_schools'])\n",
    "print('***************')\n",
    "print(clean_json['Charters']['schools'])\n"
   ]
  },
  {
   "cell_type": "code",
   "execution_count": 67,
   "metadata": {
    "collapsed": false
   },
   "outputs": [
    {
     "name": "stdout",
     "output_type": "stream",
     "text": [
      "140600860911\n",
      "{'math': {'2013': {'total': '10.9', 'Grade 3': '10.0', 'Grade 4': '11.9'}, '2016': {'total': '17.7', 'Grade 3': '20.0', 'Grade 4': '14.6'}, '2015': {'total': '26.2', 'Grade 3': '18.5', 'Grade 4': '34.7'}, '2014': {'total': '20.4', 'Grade 3': '24.5', 'Grade 4': '16.4'}, '2017': {'total': '18.9', 'Grade 3': '20.8', 'Grade 4': '17.2'}}, 'name': 'Johnson', 'district': 'BUFFALO CITY SCHOOL DISTRICT', 'ela': {'2013': {'total': '12.6', 'Grade 3': '8.3', 'Grade 4': '16.9'}, '2016': {'total': '18.6', 'Grade 3': '20.0', 'Grade 4': '16.7'}, '2015': {'total': '13.6', 'Grade 3': '11.1', 'Grade 4': '16.3'}, '2014': {'total': '7.4', 'Grade 3': '11.3', 'Grade 4': '3.6'}, '2017': {'total': '19.8', 'Grade 3': '15.4', 'Grade 4': '23.7'}}}\n",
      "*****\n",
      "{'math': {}, 'ela': {}}\n",
      "140600860856\n",
      "{'math': {'2013': {'Grade 8': '7.5', 'Grade 5': '11.4', 'Grade 7': '2.2', 'Grade 3': '0.0', 'total': '8.4', 'Grade 6': '19.1', 'Grade 4': '8.7'}, '2016': {'Grade 8': '2.4', 'Grade 5': '8.9', 'Grade 7': '5.3', 'Grade 3': '13.3', 'total': '8.0', 'Grade 6': '8.5', 'Grade 4': '8.9'}, '2015': {'Grade 8': '2.9', 'Grade 5': '6.4', 'Grade 7': '0.0', 'Grade 3': '15.2', 'total': '5.6', 'Grade 6': '4.8', 'Grade 4': '2.3'}, '2014': {'Grade 8': '2.6', 'Grade 5': '4.7', 'Grade 7': '7.3', 'Grade 3': '13.3', 'total': '11.6', 'Grade 6': '26.7', 'Grade 4': '12.8'}, '2017': {'Grade 8': '5.7', 'Grade 5': '11.6', 'Grade 7': '2.7', 'Grade 3': '8.7', 'total': '13.7', 'Grade 6': '19.6', 'Grade 4': '29.2'}}, 'name': 'Enterprise', 'district': 'BUFFALO CITY SCHOOL DISTRICT', 'ela': {'2013': {'Grade 8': '7.7', 'Grade 5': '9.1', 'Grade 7': '8.9', 'Grade 3': '0.0', 'total': '7.3', 'Grade 6': '12.8', 'Grade 4': '4.3'}, '2016': {'Grade 8': '22.0', 'Grade 5': '11.1', 'Grade 7': '7.9', 'Grade 3': '10.9', 'total': '11.5', 'Grade 6': '10.9', 'Grade 4': '6.8'}, '2015': {'Grade 8': '11.1', 'Grade 5': '8.5', 'Grade 7': '7.7', 'Grade 3': '11.1', 'total': '9.9', 'Grade 6': '7.1', 'Grade 4': '13.6'}, '2014': {'Grade 8': '10.3', 'Grade 5': '7.0', 'Grade 7': '24.4', 'Grade 3': '23.3', 'total': '16.4', 'Grade 6': '19.6', 'Grade 4': '13.6'}, '2017': {'Grade 8': '13.9', 'Grade 5': '4.7', 'Grade 7': '2.7', 'Grade 3': '4.3', 'total': '9.8', 'Grade 6': '15.2', 'Grade 4': '17.4'}}}\n",
      "*****\n",
      "{'math': {'2013': {'Grade 3': [10.0], 'Grade 4': [11.9]}, '2016': {'Grade 3': [20.0], 'Grade 4': [14.6]}, '2017': {'Grade 3': [20.8], 'Grade 4': [17.2]}, '2014': {'Grade 3': [24.5], 'Grade 4': [16.4]}, '2015': {'Grade 3': [18.5], 'Grade 4': [34.7]}}, 'ela': {'2013': {'Grade 3': [8.3], 'Grade 4': [16.9]}, '2016': {'Grade 3': [20.0], 'Grade 4': [16.7]}, '2017': {'Grade 3': [15.4], 'Grade 4': [23.7]}, '2014': {'Grade 3': [11.3], 'Grade 4': [3.6]}, '2015': {'Grade 3': [11.1], 'Grade 4': [16.3]}}}\n",
      "140600860814\n",
      "{'math': {'2013': {'total': '16.2', 'Grade 5': '9.1', 'Grade 3': '19.6', 'Grade 6': '16.7', 'Grade 4': '16.0'}, '2016': {'Grade 8': '0.0', 'Grade 5': '15.4', 'Grade 7': '9.5', 'Grade 3': '39.5', 'total': '19.4', 'Grade 6': '20.0', 'Grade 4': '17.8'}, '2015': {'Grade 8': '9.5', 'Grade 5': '14.0', 'Grade 7': '0.0', 'Grade 3': '26.0', 'total': '17.3', 'Grade 6': '20.0', 'Grade 4': '22.5'}, '2014': {'Grade 5': '0.0', 'Grade 7': '9.5', 'Grade 3': '33.3', 'total': '15.3', 'Grade 6': '9.5', 'Grade 4': '11.6'}, '2017': {'Grade 8': '23.8', 'Grade 5': '7.3', 'Grade 7': '10.3', 'Grade 3': '48.0', 'total': '25.8', 'Grade 6': '15.6', 'Grade 4': '39.5'}}, 'name': 'King Center', 'district': 'BUFFALO CITY SCHOOL DISTRICT', 'ela': {'2013': {'total': '14.7', 'Grade 5': '18.2', 'Grade 3': '13.3', 'Grade 6': '25.0', 'Grade 4': '4.0'}, '2016': {'Grade 8': '31.6', 'Grade 5': '17.9', 'Grade 7': '13.6', 'Grade 3': '45.9', 'total': '27.4', 'Grade 6': '21.1', 'Grade 4': '30.4'}, '2015': {'Grade 8': '18.2', 'Grade 5': '35.7', 'Grade 7': '21.7', 'Grade 3': '7.7', 'total': '17.5', 'Grade 6': '0.0', 'Grade 4': '17.1'}, '2014': {'Grade 5': '8.7', 'Grade 7': '23.8', 'Grade 3': '31.0', 'total': '18.0', 'Grade 6': '0.0', 'Grade 4': '16.3'}, '2017': {'Grade 8': '38.1', 'Grade 5': '12.5', 'Grade 7': '20.0', 'Grade 3': '29.4', 'total': '22.5', 'Grade 6': '16.3', 'Grade 4': '23.8'}}}\n",
      "*****\n",
      "{'math': {'2013': {'Grade 7': [2.2], 'Grade 3': [10.0, 0.0], 'Grade 5': [11.4], 'Grade 4': [11.9, 8.7], 'Grade 6': [19.1], 'Grade 8': [7.5]}, '2016': {'Grade 7': [5.3], 'Grade 3': [20.0, 13.3], 'Grade 5': [8.9], 'Grade 4': [14.6, 8.9], 'Grade 6': [8.5], 'Grade 8': [2.4]}, '2017': {'Grade 7': [2.7], 'Grade 3': [20.8, 8.7], 'Grade 5': [11.6], 'Grade 4': [17.2, 29.2], 'Grade 6': [19.6], 'Grade 8': [5.7]}, '2014': {'Grade 7': [7.3], 'Grade 3': [24.5, 13.3], 'Grade 5': [4.7], 'Grade 4': [16.4, 12.8], 'Grade 6': [26.7], 'Grade 8': [2.6]}, '2015': {'Grade 7': [0.0], 'Grade 3': [18.5, 15.2], 'Grade 5': [6.4], 'Grade 4': [34.7, 2.3], 'Grade 6': [4.8], 'Grade 8': [2.9]}}, 'ela': {'2013': {'Grade 7': [8.9], 'Grade 3': [8.3, 0.0], 'Grade 5': [9.1], 'Grade 4': [16.9, 4.3], 'Grade 6': [12.8], 'Grade 8': [7.7]}, '2016': {'Grade 7': [7.9], 'Grade 3': [20.0, 10.9], 'Grade 5': [11.1], 'Grade 4': [16.7, 6.8], 'Grade 6': [10.9], 'Grade 8': [22.0]}, '2017': {'Grade 7': [2.7], 'Grade 3': [15.4, 4.3], 'Grade 5': [4.7], 'Grade 4': [23.7, 17.4], 'Grade 6': [15.2], 'Grade 8': [13.9]}, '2014': {'Grade 7': [24.4], 'Grade 3': [11.3, 23.3], 'Grade 5': [7.0], 'Grade 4': [3.6, 13.6], 'Grade 6': [19.6], 'Grade 8': [10.3]}, '2015': {'Grade 7': [7.7], 'Grade 3': [11.1, 11.1], 'Grade 5': [8.5], 'Grade 4': [16.3, 13.6], 'Grade 6': [7.1], 'Grade 8': [11.1]}}}\n",
      "140600860851\n",
      "{'math': {'2013': {'Grade 8': '24.0', 'Grade 5': '9.3', 'Grade 7': '18.8', 'Grade 3': '8.6', 'total': '21.1', 'Grade 6': '17.6', 'Grade 4': '45.3'}, '2016': {'Grade 8': '22.1', 'Grade 5': '28.6', 'Grade 7': '11.8', 'Grade 3': '27.8', 'total': '22.4', 'Grade 6': '25.7', 'Grade 4': '16.2'}, '2015': {'Grade 8': '18.6', 'Grade 5': '32.4', 'Grade 7': '16.4', 'Grade 3': '20.5', 'total': '24.5', 'Grade 6': '21.3', 'Grade 4': '36.8'}, '2014': {'Grade 8': '2.1', 'Grade 5': '33.3', 'Grade 7': '28.9', 'Grade 3': '26.4', 'total': '28.5', 'Grade 6': '24.7', 'Grade 4': '47.8'}, '2017': {'Grade 8': '0.0', 'Grade 5': '18.3', 'Grade 7': '10.1', 'Grade 3': '45.3', 'total': '23.0', 'Grade 6': '21.7', 'Grade 4': '25.6'}}, 'name': 'Buffalo United', 'district': 'BUFFALO CITY SCHOOL DISTRICT', 'ela': {'2013': {'Grade 8': '4.0', 'Grade 5': '13.3', 'Grade 7': '8.7', 'Grade 3': '5.2', 'total': '10.8', 'Grade 6': '10.8', 'Grade 4': '21.3'}, '2016': {'Grade 8': '24.3', 'Grade 5': '18.6', 'Grade 7': '17.4', 'Grade 3': '30.5', 'total': '22.2', 'Grade 6': '20.3', 'Grade 4': '18.8'}, '2015': {'Grade 8': '16.0', 'Grade 5': '10.8', 'Grade 7': '6.8', 'Grade 3': '13.7', 'total': '13.6', 'Grade 6': '13.3', 'Grade 4': '21.1'}, '2014': {'Grade 8': '8.1', 'Grade 5': '7.9', 'Grade 7': '5.2', 'Grade 3': '17.3', 'total': '12.9', 'Grade 6': '13.0', 'Grade 4': '26.8'}, '2017': {'Grade 8': '24.1', 'Grade 5': '19.2', 'Grade 7': '15.5', 'Grade 3': '32.1', 'total': '21.3', 'Grade 6': '7.9', 'Grade 4': '25.8'}}}\n",
      "*****\n",
      "{'math': {'2013': {'Grade 7': [2.2], 'Grade 3': [10.0, 0.0, 19.6], 'Grade 5': [11.4, 9.1], 'Grade 4': [11.9, 8.7, 16.0], 'Grade 6': [19.1, 16.7], 'Grade 8': [7.5]}, '2016': {'Grade 7': [5.3, 9.5], 'Grade 3': [20.0, 13.3, 39.5], 'Grade 5': [8.9, 15.4], 'Grade 4': [14.6, 8.9, 17.8], 'Grade 6': [8.5, 20.0], 'Grade 8': [2.4, 0.0]}, '2017': {'Grade 7': [2.7, 10.3], 'Grade 3': [20.8, 8.7, 48.0], 'Grade 5': [11.6, 7.3], 'Grade 4': [17.2, 29.2, 39.5], 'Grade 6': [19.6, 15.6], 'Grade 8': [5.7, 23.8]}, '2014': {'Grade 7': [7.3, 9.5], 'Grade 3': [24.5, 13.3, 33.3], 'Grade 5': [4.7, 0.0], 'Grade 4': [16.4, 12.8, 11.6], 'Grade 6': [26.7, 9.5], 'Grade 8': [2.6]}, '2015': {'Grade 7': [0.0, 0.0], 'Grade 3': [18.5, 15.2, 26.0], 'Grade 5': [6.4, 14.0], 'Grade 4': [34.7, 2.3, 22.5], 'Grade 6': [4.8, 20.0], 'Grade 8': [2.9, 9.5]}}, 'ela': {'2013': {'Grade 7': [8.9], 'Grade 3': [8.3, 0.0, 13.3], 'Grade 5': [9.1, 18.2], 'Grade 4': [16.9, 4.3, 4.0], 'Grade 6': [12.8, 25.0], 'Grade 8': [7.7]}, '2016': {'Grade 7': [7.9, 13.6], 'Grade 3': [20.0, 10.9, 45.9], 'Grade 5': [11.1, 17.9], 'Grade 4': [16.7, 6.8, 30.4], 'Grade 6': [10.9, 21.1], 'Grade 8': [22.0, 31.6]}, '2017': {'Grade 7': [2.7, 20.0], 'Grade 3': [15.4, 4.3, 29.4], 'Grade 5': [4.7, 12.5], 'Grade 4': [23.7, 17.4, 23.8], 'Grade 6': [15.2, 16.3], 'Grade 8': [13.9, 38.1]}, '2014': {'Grade 7': [24.4, 23.8], 'Grade 3': [11.3, 23.3, 31.0], 'Grade 5': [7.0, 8.7], 'Grade 4': [3.6, 13.6, 16.3], 'Grade 6': [19.6, 0.0], 'Grade 8': [10.3]}, '2015': {'Grade 7': [7.7, 21.7], 'Grade 3': [11.1, 11.1, 7.7], 'Grade 5': [8.5, 35.7], 'Grade 4': [16.3, 13.6, 17.1], 'Grade 6': [7.1, 0.0], 'Grade 8': [11.1, 18.2]}}}\n",
      "140600861072\n",
      "{'math': {'2017': {'total': '32.3', 'Grade 3': '32.3'}}, 'name': 'Charter School of Inquiry', 'district': 'BUFFALO CITY SCHOOL DISTRICT', 'ela': {'2017': {'total': '19.4', 'Grade 3': '19.4'}}}\n",
      "*****\n",
      "{'math': {'2013': {'Grade 7': [2.2, 18.8], 'Grade 3': [10.0, 0.0, 19.6, 8.6], 'Grade 5': [11.4, 9.1, 9.3], 'Grade 4': [11.9, 8.7, 16.0, 45.3], 'Grade 6': [19.1, 16.7, 17.6], 'Grade 8': [7.5, 24.0]}, '2016': {'Grade 7': [5.3, 9.5, 11.8], 'Grade 3': [20.0, 13.3, 39.5, 27.8], 'Grade 5': [8.9, 15.4, 28.6], 'Grade 4': [14.6, 8.9, 17.8, 16.2], 'Grade 6': [8.5, 20.0, 25.7], 'Grade 8': [2.4, 0.0, 22.1]}, '2017': {'Grade 7': [2.7, 10.3, 10.1], 'Grade 3': [20.8, 8.7, 48.0, 45.3], 'Grade 5': [11.6, 7.3, 18.3], 'Grade 4': [17.2, 29.2, 39.5, 25.6], 'Grade 6': [19.6, 15.6, 21.7], 'Grade 8': [5.7, 23.8, 0.0]}, '2014': {'Grade 7': [7.3, 9.5, 28.9], 'Grade 3': [24.5, 13.3, 33.3, 26.4], 'Grade 5': [4.7, 0.0, 33.3], 'Grade 4': [16.4, 12.8, 11.6, 47.8], 'Grade 6': [26.7, 9.5, 24.7], 'Grade 8': [2.6, 2.1]}, '2015': {'Grade 7': [0.0, 0.0, 16.4], 'Grade 3': [18.5, 15.2, 26.0, 20.5], 'Grade 5': [6.4, 14.0, 32.4], 'Grade 4': [34.7, 2.3, 22.5, 36.8], 'Grade 6': [4.8, 20.0, 21.3], 'Grade 8': [2.9, 9.5, 18.6]}}, 'ela': {'2013': {'Grade 7': [8.9, 8.7], 'Grade 3': [8.3, 0.0, 13.3, 5.2], 'Grade 5': [9.1, 18.2, 13.3], 'Grade 4': [16.9, 4.3, 4.0, 21.3], 'Grade 6': [12.8, 25.0, 10.8], 'Grade 8': [7.7, 4.0]}, '2016': {'Grade 7': [7.9, 13.6, 17.4], 'Grade 3': [20.0, 10.9, 45.9, 30.5], 'Grade 5': [11.1, 17.9, 18.6], 'Grade 4': [16.7, 6.8, 30.4, 18.8], 'Grade 6': [10.9, 21.1, 20.3], 'Grade 8': [22.0, 31.6, 24.3]}, '2017': {'Grade 7': [2.7, 20.0, 15.5], 'Grade 3': [15.4, 4.3, 29.4, 32.1], 'Grade 5': [4.7, 12.5, 19.2], 'Grade 4': [23.7, 17.4, 23.8, 25.8], 'Grade 6': [15.2, 16.3, 7.9], 'Grade 8': [13.9, 38.1, 24.1]}, '2014': {'Grade 7': [24.4, 23.8, 5.2], 'Grade 3': [11.3, 23.3, 31.0, 17.3], 'Grade 5': [7.0, 8.7, 7.9], 'Grade 4': [3.6, 13.6, 16.3, 26.8], 'Grade 6': [19.6, 0.0, 13.0], 'Grade 8': [10.3, 8.1]}, '2015': {'Grade 7': [7.7, 21.7, 6.8], 'Grade 3': [11.1, 11.1, 7.7, 13.7], 'Grade 5': [8.5, 35.7, 10.8], 'Grade 4': [16.3, 13.6, 17.1, 21.1], 'Grade 6': [7.1, 0.0, 13.3], 'Grade 8': [11.1, 18.2, 16.0]}}}\n",
      "140600860838\n",
      "{'math': {'2013': {'Grade 8': '12.0', 'Grade 5': '20.0', 'Grade 7': '0.0', 'Grade 3': '32.0', 'total': '16.9', 'Grade 6': '16.3', 'Grade 4': '20.0'}, '2016': {'Grade 8': '9.7', 'Grade 5': '20.7', 'Grade 7': '9.1', 'Grade 3': '46.8', 'total': '28.1', 'Grade 6': '24.4', 'Grade 4': '54.8'}, '2015': {'Grade 8': '25.0', 'Grade 5': '18.6', 'Grade 7': '23.3', 'Grade 3': '55.3', 'total': '27.6', 'Grade 6': '2.1', 'Grade 4': '40.0'}, '2014': {'Grade 8': '14.0', 'Grade 5': '9.8', 'Grade 7': '31.2', 'Grade 3': '35.8', 'total': '20.1', 'Grade 6': '17.4', 'Grade 4': '12.0'}, '2017': {'Grade 8': '10.7', 'Grade 5': '32.1', 'Grade 7': '19.6', 'Grade 3': '53.3', 'total': '29.4', 'Grade 6': '29.3', 'Grade 4': '36.0'}}, 'name': 'Tapestry', 'district': 'BUFFALO CITY SCHOOL DISTRICT', 'ela': {'2013': {'Grade 8': '32.0', 'Grade 5': '19.6', 'Grade 7': '20.0', 'Grade 3': '32.0', 'total': '26.0', 'Grade 6': '30.6', 'Grade 4': '24.0'}, '2016': {'Grade 8': '11.1', 'Grade 5': '11.7', 'Grade 7': '26.5', 'Grade 3': '34.8', 'total': '27.6', 'Grade 6': '34.9', 'Grade 4': '48.9'}, '2015': {'Grade 8': '31.1', 'Grade 5': '25.0', 'Grade 7': '21.7', 'Grade 3': '39.6', 'total': '25.2', 'Grade 6': '10.0', 'Grade 4': '24.5'}, '2014': {'Grade 8': '29.4', 'Grade 5': '9.8', 'Grade 7': '22.9', 'Grade 3': '25.0', 'total': '20.5', 'Grade 6': '19.6', 'Grade 4': '16.0'}, '2017': {'Grade 8': '43.1', 'Grade 5': '42.3', 'Grade 7': '38.2', 'Grade 3': '45.7', 'total': '37.3', 'Grade 6': '25.4', 'Grade 4': '30.6'}}}\n",
      "*****\n",
      "{'math': {'2013': {'Grade 7': [2.2, 18.8], 'Grade 3': [10.0, 0.0, 19.6, 8.6], 'Grade 5': [11.4, 9.1, 9.3], 'Grade 4': [11.9, 8.7, 16.0, 45.3], 'Grade 6': [19.1, 16.7, 17.6], 'Grade 8': [7.5, 24.0]}, '2016': {'Grade 7': [5.3, 9.5, 11.8], 'Grade 3': [20.0, 13.3, 39.5, 27.8], 'Grade 5': [8.9, 15.4, 28.6], 'Grade 4': [14.6, 8.9, 17.8, 16.2], 'Grade 6': [8.5, 20.0, 25.7], 'Grade 8': [2.4, 0.0, 22.1]}, '2017': {'Grade 7': [2.7, 10.3, 10.1], 'Grade 3': [20.8, 8.7, 48.0, 45.3, 32.3], 'Grade 5': [11.6, 7.3, 18.3], 'Grade 4': [17.2, 29.2, 39.5, 25.6], 'Grade 6': [19.6, 15.6, 21.7], 'Grade 8': [5.7, 23.8, 0.0]}, '2014': {'Grade 7': [7.3, 9.5, 28.9], 'Grade 3': [24.5, 13.3, 33.3, 26.4], 'Grade 5': [4.7, 0.0, 33.3], 'Grade 4': [16.4, 12.8, 11.6, 47.8], 'Grade 6': [26.7, 9.5, 24.7], 'Grade 8': [2.6, 2.1]}, '2015': {'Grade 7': [0.0, 0.0, 16.4], 'Grade 3': [18.5, 15.2, 26.0, 20.5], 'Grade 5': [6.4, 14.0, 32.4], 'Grade 4': [34.7, 2.3, 22.5, 36.8], 'Grade 6': [4.8, 20.0, 21.3], 'Grade 8': [2.9, 9.5, 18.6]}}, 'ela': {'2013': {'Grade 7': [8.9, 8.7], 'Grade 3': [8.3, 0.0, 13.3, 5.2], 'Grade 5': [9.1, 18.2, 13.3], 'Grade 4': [16.9, 4.3, 4.0, 21.3], 'Grade 6': [12.8, 25.0, 10.8], 'Grade 8': [7.7, 4.0]}, '2016': {'Grade 7': [7.9, 13.6, 17.4], 'Grade 3': [20.0, 10.9, 45.9, 30.5], 'Grade 5': [11.1, 17.9, 18.6], 'Grade 4': [16.7, 6.8, 30.4, 18.8], 'Grade 6': [10.9, 21.1, 20.3], 'Grade 8': [22.0, 31.6, 24.3]}, '2017': {'Grade 7': [2.7, 20.0, 15.5], 'Grade 3': [15.4, 4.3, 29.4, 32.1, 19.4], 'Grade 5': [4.7, 12.5, 19.2], 'Grade 4': [23.7, 17.4, 23.8, 25.8], 'Grade 6': [15.2, 16.3, 7.9], 'Grade 8': [13.9, 38.1, 24.1]}, '2014': {'Grade 7': [24.4, 23.8, 5.2], 'Grade 3': [11.3, 23.3, 31.0, 17.3], 'Grade 5': [7.0, 8.7, 7.9], 'Grade 4': [3.6, 13.6, 16.3, 26.8], 'Grade 6': [19.6, 0.0, 13.0], 'Grade 8': [10.3, 8.1]}, '2015': {'Grade 7': [7.7, 21.7, 6.8], 'Grade 3': [11.1, 11.1, 7.7, 13.7], 'Grade 5': [8.5, 35.7, 10.8], 'Grade 4': [16.3, 13.6, 17.1, 21.1], 'Grade 6': [7.1, 0.0, 13.3], 'Grade 8': [11.1, 18.2, 16.0]}}}\n",
      "400701860890\n",
      "{'math': {'2013': {'total': '19.4', 'Grade 5': '28.3', 'Grade 3': '10.9', 'Grade 6': '11.1', 'Grade 4': '30.4'}, '2016': {'total': '47.5', 'Grade 5': '29.5', 'Grade 3': '60.0', 'Grade 6': '48.8', 'Grade 4': '51.1'}, '2015': {'total': '43.0', 'Grade 5': '19.1', 'Grade 3': '58.0', 'Grade 6': '56.8', 'Grade 4': '40.4'}, '2014': {'total': '28.4', 'Grade 5': '29.3', 'Grade 3': '20.0', 'Grade 6': '34.1', 'Grade 4': '31.2'}, '2017': {'total': '52.9', 'Grade 5': '56.5', 'Grade 3': '63.0', 'Grade 6': '59.6', 'Grade 4': '33.3'}}, 'name': 'Niagara Charter', 'district': 'NIAGARA-WHEATFIELD CENTRAL SCHOOL DISTRICT', 'ela': {'2013': {'total': '8.5', 'Grade 5': '8.7', 'Grade 3': '13.0', 'Grade 6': '4.8', 'Grade 4': '8.5'}, '2016': {'total': '29.2', 'Grade 5': '14.9', 'Grade 3': '40.4', 'Grade 6': '30.2', 'Grade 4': '31.2'}, '2015': {'total': '22.3', 'Grade 5': '12.8', 'Grade 3': '35.8', 'Grade 6': '21.6', 'Grade 4': '17.6'}, '2014': {'total': '14.5', 'Grade 5': '7.3', 'Grade 3': '5.9', 'Grade 6': '17.4', 'Grade 4': '27.1'}, '2017': {'total': '32.8', 'Grade 5': '35.4', 'Grade 3': '61.4', 'Grade 6': '24.5', 'Grade 4': '12.5'}}}\n",
      "*****\n",
      "{'math': {'2013': {'Grade 7': [2.2, 18.8, 0.0], 'Grade 3': [10.0, 0.0, 19.6, 8.6, 32.0], 'Grade 5': [11.4, 9.1, 9.3, 20.0], 'Grade 4': [11.9, 8.7, 16.0, 45.3, 20.0], 'Grade 6': [19.1, 16.7, 17.6, 16.3], 'Grade 8': [7.5, 24.0, 12.0]}, '2016': {'Grade 7': [5.3, 9.5, 11.8, 9.1], 'Grade 3': [20.0, 13.3, 39.5, 27.8, 46.8], 'Grade 5': [8.9, 15.4, 28.6, 20.7], 'Grade 4': [14.6, 8.9, 17.8, 16.2, 54.8], 'Grade 6': [8.5, 20.0, 25.7, 24.4], 'Grade 8': [2.4, 0.0, 22.1, 9.7]}, '2017': {'Grade 7': [2.7, 10.3, 10.1, 19.6], 'Grade 3': [20.8, 8.7, 48.0, 45.3, 32.3, 53.3], 'Grade 5': [11.6, 7.3, 18.3, 32.1], 'Grade 4': [17.2, 29.2, 39.5, 25.6, 36.0], 'Grade 6': [19.6, 15.6, 21.7, 29.3], 'Grade 8': [5.7, 23.8, 0.0, 10.7]}, '2014': {'Grade 7': [7.3, 9.5, 28.9, 31.2], 'Grade 3': [24.5, 13.3, 33.3, 26.4, 35.8], 'Grade 5': [4.7, 0.0, 33.3, 9.8], 'Grade 4': [16.4, 12.8, 11.6, 47.8, 12.0], 'Grade 6': [26.7, 9.5, 24.7, 17.4], 'Grade 8': [2.6, 2.1, 14.0]}, '2015': {'Grade 7': [0.0, 0.0, 16.4, 23.3], 'Grade 3': [18.5, 15.2, 26.0, 20.5, 55.3], 'Grade 5': [6.4, 14.0, 32.4, 18.6], 'Grade 4': [34.7, 2.3, 22.5, 36.8, 40.0], 'Grade 6': [4.8, 20.0, 21.3, 2.1], 'Grade 8': [2.9, 9.5, 18.6, 25.0]}}, 'ela': {'2013': {'Grade 7': [8.9, 8.7, 20.0], 'Grade 3': [8.3, 0.0, 13.3, 5.2, 32.0], 'Grade 5': [9.1, 18.2, 13.3, 19.6], 'Grade 4': [16.9, 4.3, 4.0, 21.3, 24.0], 'Grade 6': [12.8, 25.0, 10.8, 30.6], 'Grade 8': [7.7, 4.0, 32.0]}, '2016': {'Grade 7': [7.9, 13.6, 17.4, 26.5], 'Grade 3': [20.0, 10.9, 45.9, 30.5, 34.8], 'Grade 5': [11.1, 17.9, 18.6, 11.7], 'Grade 4': [16.7, 6.8, 30.4, 18.8, 48.9], 'Grade 6': [10.9, 21.1, 20.3, 34.9], 'Grade 8': [22.0, 31.6, 24.3, 11.1]}, '2017': {'Grade 7': [2.7, 20.0, 15.5, 38.2], 'Grade 3': [15.4, 4.3, 29.4, 32.1, 19.4, 45.7], 'Grade 5': [4.7, 12.5, 19.2, 42.3], 'Grade 4': [23.7, 17.4, 23.8, 25.8, 30.6], 'Grade 6': [15.2, 16.3, 7.9, 25.4], 'Grade 8': [13.9, 38.1, 24.1, 43.1]}, '2014': {'Grade 7': [24.4, 23.8, 5.2, 22.9], 'Grade 3': [11.3, 23.3, 31.0, 17.3, 25.0], 'Grade 5': [7.0, 8.7, 7.9, 9.8], 'Grade 4': [3.6, 13.6, 16.3, 26.8, 16.0], 'Grade 6': [19.6, 0.0, 13.0, 19.6], 'Grade 8': [10.3, 8.1, 29.4]}, '2015': {'Grade 7': [7.7, 21.7, 6.8, 21.7], 'Grade 3': [11.1, 11.1, 7.7, 13.7, 39.6], 'Grade 5': [8.5, 35.7, 10.8, 25.0], 'Grade 4': [16.3, 13.6, 17.1, 21.1, 24.5], 'Grade 6': [7.1, 0.0, 13.3, 10.0], 'Grade 8': [11.1, 18.2, 16.0, 31.1]}}}\n",
      "141800860044\n",
      "{'math': {'2013': {'Grade 8': '21.4', 'Grade 5': '40.3', 'Grade 7': '20.3', 'Grade 3': '37.0', 'total': '35.1', 'Grade 6': '34.7', 'Grade 4': '56.3'}, '2016': {'Grade 8': '45.5', 'Grade 5': '47.9', 'Grade 7': '12.5', 'Grade 3': '23.9', 'total': '42.1', 'Grade 6': '59.4', 'Grade 4': '57.5'}, '2015': {'Grade 8': '21.0', 'Grade 5': '63.5', 'Grade 7': '45.6', 'Grade 3': '20.9', 'total': '42.5', 'Grade 6': '42.9', 'Grade 4': '60.9'}, '2014': {'Grade 8': '16.4', 'Grade 5': '47.9', 'Grade 7': '24.6', 'Grade 3': '34.8', 'total': '43.9', 'Grade 6': '59.2', 'Grade 4': '75.3'}, '2017': {'Grade 8': '0.0', 'Grade 5': '50.0', 'Grade 7': '26.7', 'Grade 3': '32.9', 'total': '37.9', 'Grade 6': '53.1', 'Grade 4': '50.0'}}, 'name': 'Global Concepts', 'district': 'LACKAWANNA CITY SCHOOL DISTRICT', 'ela': {'2013': {'Grade 8': '29.4', 'Grade 5': '38.9', 'Grade 7': '23.5', 'Grade 3': '37.0', 'total': '33.0', 'Grade 6': '27.0', 'Grade 4': '41.7'}, '2016': {'Grade 8': '32.2', 'Grade 5': '38.9', 'Grade 7': '19.4', 'Grade 3': '45.1', 'total': '35.7', 'Grade 6': '32.8', 'Grade 4': '42.7'}, '2015': {'Grade 8': '15.3', 'Grade 5': '28.4', 'Grade 7': '21.1', 'Grade 3': '21.7', 'total': '26.3', 'Grade 6': '17.9', 'Grade 4': '50.7'}, '2014': {'Grade 8': '20.3', 'Grade 5': '28.4', 'Grade 7': '8.7', 'Grade 3': '39.4', 'total': '29.0', 'Grade 6': '26.8', 'Grade 4': '49.3'}, '2017': {'Grade 8': '14.0', 'Grade 5': '36.6', 'Grade 7': '18.0', 'Grade 3': '29.6', 'total': '30.8', 'Grade 6': '32.9', 'Grade 4': '47.9'}}}\n",
      "*****\n",
      "{'math': {'2013': {'Grade 7': [2.2, 18.8, 0.0], 'Grade 3': [10.0, 0.0, 19.6, 8.6, 32.0, 10.9], 'Grade 5': [11.4, 9.1, 9.3, 20.0, 28.3], 'Grade 4': [11.9, 8.7, 16.0, 45.3, 20.0, 30.4], 'Grade 6': [19.1, 16.7, 17.6, 16.3, 11.1], 'Grade 8': [7.5, 24.0, 12.0]}, '2016': {'Grade 7': [5.3, 9.5, 11.8, 9.1], 'Grade 3': [20.0, 13.3, 39.5, 27.8, 46.8, 60.0], 'Grade 5': [8.9, 15.4, 28.6, 20.7, 29.5], 'Grade 4': [14.6, 8.9, 17.8, 16.2, 54.8, 51.1], 'Grade 6': [8.5, 20.0, 25.7, 24.4, 48.8], 'Grade 8': [2.4, 0.0, 22.1, 9.7]}, '2017': {'Grade 7': [2.7, 10.3, 10.1, 19.6], 'Grade 3': [20.8, 8.7, 48.0, 45.3, 32.3, 53.3, 63.0], 'Grade 5': [11.6, 7.3, 18.3, 32.1, 56.5], 'Grade 4': [17.2, 29.2, 39.5, 25.6, 36.0, 33.3], 'Grade 6': [19.6, 15.6, 21.7, 29.3, 59.6], 'Grade 8': [5.7, 23.8, 0.0, 10.7]}, '2014': {'Grade 7': [7.3, 9.5, 28.9, 31.2], 'Grade 3': [24.5, 13.3, 33.3, 26.4, 35.8, 20.0], 'Grade 5': [4.7, 0.0, 33.3, 9.8, 29.3], 'Grade 4': [16.4, 12.8, 11.6, 47.8, 12.0, 31.2], 'Grade 6': [26.7, 9.5, 24.7, 17.4, 34.1], 'Grade 8': [2.6, 2.1, 14.0]}, '2015': {'Grade 7': [0.0, 0.0, 16.4, 23.3], 'Grade 3': [18.5, 15.2, 26.0, 20.5, 55.3, 58.0], 'Grade 5': [6.4, 14.0, 32.4, 18.6, 19.1], 'Grade 4': [34.7, 2.3, 22.5, 36.8, 40.0, 40.4], 'Grade 6': [4.8, 20.0, 21.3, 2.1, 56.8], 'Grade 8': [2.9, 9.5, 18.6, 25.0]}}, 'ela': {'2013': {'Grade 7': [8.9, 8.7, 20.0], 'Grade 3': [8.3, 0.0, 13.3, 5.2, 32.0, 13.0], 'Grade 5': [9.1, 18.2, 13.3, 19.6, 8.7], 'Grade 4': [16.9, 4.3, 4.0, 21.3, 24.0, 8.5], 'Grade 6': [12.8, 25.0, 10.8, 30.6, 4.8], 'Grade 8': [7.7, 4.0, 32.0]}, '2016': {'Grade 7': [7.9, 13.6, 17.4, 26.5], 'Grade 3': [20.0, 10.9, 45.9, 30.5, 34.8, 40.4], 'Grade 5': [11.1, 17.9, 18.6, 11.7, 14.9], 'Grade 4': [16.7, 6.8, 30.4, 18.8, 48.9, 31.2], 'Grade 6': [10.9, 21.1, 20.3, 34.9, 30.2], 'Grade 8': [22.0, 31.6, 24.3, 11.1]}, '2017': {'Grade 7': [2.7, 20.0, 15.5, 38.2], 'Grade 3': [15.4, 4.3, 29.4, 32.1, 19.4, 45.7, 61.4], 'Grade 5': [4.7, 12.5, 19.2, 42.3, 35.4], 'Grade 4': [23.7, 17.4, 23.8, 25.8, 30.6, 12.5], 'Grade 6': [15.2, 16.3, 7.9, 25.4, 24.5], 'Grade 8': [13.9, 38.1, 24.1, 43.1]}, '2014': {'Grade 7': [24.4, 23.8, 5.2, 22.9], 'Grade 3': [11.3, 23.3, 31.0, 17.3, 25.0, 5.9], 'Grade 5': [7.0, 8.7, 7.9, 9.8, 7.3], 'Grade 4': [3.6, 13.6, 16.3, 26.8, 16.0, 27.1], 'Grade 6': [19.6, 0.0, 13.0, 19.6, 17.4], 'Grade 8': [10.3, 8.1, 29.4]}, '2015': {'Grade 7': [7.7, 21.7, 6.8, 21.7], 'Grade 3': [11.1, 11.1, 7.7, 13.7, 39.6, 35.8], 'Grade 5': [8.5, 35.7, 10.8, 25.0, 12.8], 'Grade 4': [16.3, 13.6, 17.1, 21.1, 24.5, 17.6], 'Grade 6': [7.1, 0.0, 13.3, 10.0, 21.6], 'Grade 8': [11.1, 18.2, 16.0, 31.1]}}}\n",
      "140600860861\n",
      "{'math': {'2013': {'total': '10.2', 'Grade 7': '3.3', 'Grade 8': '18.8'}, '2016': {'total': '26.7', 'Grade 7': '22.9', 'Grade 8': '29.8'}, '2015': {'total': '25.9', 'Grade 7': '12.0', 'Grade 8': '37.9'}, '2014': {'total': '20.0', 'Grade 7': '20.3', 'Grade 8': '19.7'}, '2017': {'total': '33.5', 'Grade 5': '37.5', 'Grade 7': '23.5', 'Grade 8': '38.7'}}, 'name': 'Bflo. Academy of Science', 'district': 'BUFFALO CITY SCHOOL DISTRICT', 'ela': {'2013': {'total': '13.5', 'Grade 7': '12.7', 'Grade 8': '14.6'}, '2016': {'total': '31.5', 'Grade 7': '17.3', 'Grade 8': '44.6'}, '2015': {'total': '10.9', 'Grade 7': '5.8', 'Grade 8': '15.5'}, '2014': {'total': '15.7', 'Grade 7': '16.9', 'Grade 8': '14.5'}, '2017': {'total': '35.4', 'Grade 5': '34.7', 'Grade 7': '23.1', 'Grade 8': '46.0'}}}\n",
      "*****\n",
      "{'math': {'2013': {'Grade 7': [2.2, 18.8, 0.0, 20.3], 'Grade 3': [10.0, 0.0, 19.6, 8.6, 32.0, 10.9, 37.0], 'Grade 5': [11.4, 9.1, 9.3, 20.0, 28.3, 40.3], 'Grade 4': [11.9, 8.7, 16.0, 45.3, 20.0, 30.4, 56.3], 'Grade 6': [19.1, 16.7, 17.6, 16.3, 11.1, 34.7], 'Grade 8': [7.5, 24.0, 12.0, 21.4]}, '2016': {'Grade 7': [5.3, 9.5, 11.8, 9.1, 12.5], 'Grade 3': [20.0, 13.3, 39.5, 27.8, 46.8, 60.0, 23.9], 'Grade 5': [8.9, 15.4, 28.6, 20.7, 29.5, 47.9], 'Grade 4': [14.6, 8.9, 17.8, 16.2, 54.8, 51.1, 57.5], 'Grade 6': [8.5, 20.0, 25.7, 24.4, 48.8, 59.4], 'Grade 8': [2.4, 0.0, 22.1, 9.7, 45.5]}, '2017': {'Grade 7': [2.7, 10.3, 10.1, 19.6, 26.7], 'Grade 3': [20.8, 8.7, 48.0, 45.3, 32.3, 53.3, 63.0, 32.9], 'Grade 5': [11.6, 7.3, 18.3, 32.1, 56.5, 50.0], 'Grade 4': [17.2, 29.2, 39.5, 25.6, 36.0, 33.3, 50.0], 'Grade 6': [19.6, 15.6, 21.7, 29.3, 59.6, 53.1], 'Grade 8': [5.7, 23.8, 0.0, 10.7, 0.0]}, '2014': {'Grade 7': [7.3, 9.5, 28.9, 31.2, 24.6], 'Grade 3': [24.5, 13.3, 33.3, 26.4, 35.8, 20.0, 34.8], 'Grade 5': [4.7, 0.0, 33.3, 9.8, 29.3, 47.9], 'Grade 4': [16.4, 12.8, 11.6, 47.8, 12.0, 31.2, 75.3], 'Grade 6': [26.7, 9.5, 24.7, 17.4, 34.1, 59.2], 'Grade 8': [2.6, 2.1, 14.0, 16.4]}, '2015': {'Grade 7': [0.0, 0.0, 16.4, 23.3, 45.6], 'Grade 3': [18.5, 15.2, 26.0, 20.5, 55.3, 58.0, 20.9], 'Grade 5': [6.4, 14.0, 32.4, 18.6, 19.1, 63.5], 'Grade 4': [34.7, 2.3, 22.5, 36.8, 40.0, 40.4, 60.9], 'Grade 6': [4.8, 20.0, 21.3, 2.1, 56.8, 42.9], 'Grade 8': [2.9, 9.5, 18.6, 25.0, 21.0]}}, 'ela': {'2013': {'Grade 7': [8.9, 8.7, 20.0, 23.5], 'Grade 3': [8.3, 0.0, 13.3, 5.2, 32.0, 13.0, 37.0], 'Grade 5': [9.1, 18.2, 13.3, 19.6, 8.7, 38.9], 'Grade 4': [16.9, 4.3, 4.0, 21.3, 24.0, 8.5, 41.7], 'Grade 6': [12.8, 25.0, 10.8, 30.6, 4.8, 27.0], 'Grade 8': [7.7, 4.0, 32.0, 29.4]}, '2016': {'Grade 7': [7.9, 13.6, 17.4, 26.5, 19.4], 'Grade 3': [20.0, 10.9, 45.9, 30.5, 34.8, 40.4, 45.1], 'Grade 5': [11.1, 17.9, 18.6, 11.7, 14.9, 38.9], 'Grade 4': [16.7, 6.8, 30.4, 18.8, 48.9, 31.2, 42.7], 'Grade 6': [10.9, 21.1, 20.3, 34.9, 30.2, 32.8], 'Grade 8': [22.0, 31.6, 24.3, 11.1, 32.2]}, '2017': {'Grade 7': [2.7, 20.0, 15.5, 38.2, 18.0], 'Grade 3': [15.4, 4.3, 29.4, 32.1, 19.4, 45.7, 61.4, 29.6], 'Grade 5': [4.7, 12.5, 19.2, 42.3, 35.4, 36.6], 'Grade 4': [23.7, 17.4, 23.8, 25.8, 30.6, 12.5, 47.9], 'Grade 6': [15.2, 16.3, 7.9, 25.4, 24.5, 32.9], 'Grade 8': [13.9, 38.1, 24.1, 43.1, 14.0]}, '2014': {'Grade 7': [24.4, 23.8, 5.2, 22.9, 8.7], 'Grade 3': [11.3, 23.3, 31.0, 17.3, 25.0, 5.9, 39.4], 'Grade 5': [7.0, 8.7, 7.9, 9.8, 7.3, 28.4], 'Grade 4': [3.6, 13.6, 16.3, 26.8, 16.0, 27.1, 49.3], 'Grade 6': [19.6, 0.0, 13.0, 19.6, 17.4, 26.8], 'Grade 8': [10.3, 8.1, 29.4, 20.3]}, '2015': {'Grade 7': [7.7, 21.7, 6.8, 21.7, 21.1], 'Grade 3': [11.1, 11.1, 7.7, 13.7, 39.6, 35.8, 21.7], 'Grade 5': [8.5, 35.7, 10.8, 25.0, 12.8, 28.4], 'Grade 4': [16.3, 13.6, 17.1, 21.1, 24.5, 17.6, 50.7], 'Grade 6': [7.1, 0.0, 13.3, 10.0, 21.6, 17.9], 'Grade 8': [11.1, 18.2, 16.0, 31.1, 15.3]}}}\n",
      "140600860986\n",
      "{'math': {'2016': {'total': '40.7', 'Grade 3': '57.6', 'Grade 4': '22.2'}, '2015': {'total': '31.7', 'Grade 3': '35.7', 'Grade 4': '27.1'}, '2014': {'total': '27.1', 'Grade 3': '27.1'}, '2017': {'total': '36.0', 'Grade 5': '14.9', 'Grade 3': '50.9', 'Grade 4': '38.3'}}, 'name': 'West Buffalo', 'district': 'BUFFALO CITY SCHOOL DISTRICT', 'ela': {'2016': {'total': '37.2', 'Grade 3': '50.0', 'Grade 4': '22.6'}, '2015': {'total': '31.4', 'Grade 3': '33.3', 'Grade 4': '29.2'}, '2014': {'total': '22.9', 'Grade 3': '22.9'}, '2017': {'total': '29.9', 'Grade 5': '2.1', 'Grade 3': '35.6', 'Grade 4': '46.7'}}}\n",
      "*****\n",
      "{'math': {'2013': {'Grade 7': [2.2, 18.8, 0.0, 20.3, 3.3], 'Grade 3': [10.0, 0.0, 19.6, 8.6, 32.0, 10.9, 37.0], 'Grade 5': [11.4, 9.1, 9.3, 20.0, 28.3, 40.3], 'Grade 4': [11.9, 8.7, 16.0, 45.3, 20.0, 30.4, 56.3], 'Grade 6': [19.1, 16.7, 17.6, 16.3, 11.1, 34.7], 'Grade 8': [7.5, 24.0, 12.0, 21.4, 18.8]}, '2016': {'Grade 7': [5.3, 9.5, 11.8, 9.1, 12.5, 22.9], 'Grade 3': [20.0, 13.3, 39.5, 27.8, 46.8, 60.0, 23.9], 'Grade 5': [8.9, 15.4, 28.6, 20.7, 29.5, 47.9], 'Grade 4': [14.6, 8.9, 17.8, 16.2, 54.8, 51.1, 57.5], 'Grade 6': [8.5, 20.0, 25.7, 24.4, 48.8, 59.4], 'Grade 8': [2.4, 0.0, 22.1, 9.7, 45.5, 29.8]}, '2017': {'Grade 7': [2.7, 10.3, 10.1, 19.6, 26.7, 23.5], 'Grade 3': [20.8, 8.7, 48.0, 45.3, 32.3, 53.3, 63.0, 32.9], 'Grade 5': [11.6, 7.3, 18.3, 32.1, 56.5, 50.0, 37.5], 'Grade 4': [17.2, 29.2, 39.5, 25.6, 36.0, 33.3, 50.0], 'Grade 6': [19.6, 15.6, 21.7, 29.3, 59.6, 53.1], 'Grade 8': [5.7, 23.8, 0.0, 10.7, 0.0, 38.7]}, '2014': {'Grade 7': [7.3, 9.5, 28.9, 31.2, 24.6, 20.3], 'Grade 3': [24.5, 13.3, 33.3, 26.4, 35.8, 20.0, 34.8], 'Grade 5': [4.7, 0.0, 33.3, 9.8, 29.3, 47.9], 'Grade 4': [16.4, 12.8, 11.6, 47.8, 12.0, 31.2, 75.3], 'Grade 6': [26.7, 9.5, 24.7, 17.4, 34.1, 59.2], 'Grade 8': [2.6, 2.1, 14.0, 16.4, 19.7]}, '2015': {'Grade 7': [0.0, 0.0, 16.4, 23.3, 45.6, 12.0], 'Grade 3': [18.5, 15.2, 26.0, 20.5, 55.3, 58.0, 20.9], 'Grade 5': [6.4, 14.0, 32.4, 18.6, 19.1, 63.5], 'Grade 4': [34.7, 2.3, 22.5, 36.8, 40.0, 40.4, 60.9], 'Grade 6': [4.8, 20.0, 21.3, 2.1, 56.8, 42.9], 'Grade 8': [2.9, 9.5, 18.6, 25.0, 21.0, 37.9]}}, 'ela': {'2013': {'Grade 7': [8.9, 8.7, 20.0, 23.5, 12.7], 'Grade 3': [8.3, 0.0, 13.3, 5.2, 32.0, 13.0, 37.0], 'Grade 5': [9.1, 18.2, 13.3, 19.6, 8.7, 38.9], 'Grade 4': [16.9, 4.3, 4.0, 21.3, 24.0, 8.5, 41.7], 'Grade 6': [12.8, 25.0, 10.8, 30.6, 4.8, 27.0], 'Grade 8': [7.7, 4.0, 32.0, 29.4, 14.6]}, '2016': {'Grade 7': [7.9, 13.6, 17.4, 26.5, 19.4, 17.3], 'Grade 3': [20.0, 10.9, 45.9, 30.5, 34.8, 40.4, 45.1], 'Grade 5': [11.1, 17.9, 18.6, 11.7, 14.9, 38.9], 'Grade 4': [16.7, 6.8, 30.4, 18.8, 48.9, 31.2, 42.7], 'Grade 6': [10.9, 21.1, 20.3, 34.9, 30.2, 32.8], 'Grade 8': [22.0, 31.6, 24.3, 11.1, 32.2, 44.6]}, '2017': {'Grade 7': [2.7, 20.0, 15.5, 38.2, 18.0, 23.1], 'Grade 3': [15.4, 4.3, 29.4, 32.1, 19.4, 45.7, 61.4, 29.6], 'Grade 5': [4.7, 12.5, 19.2, 42.3, 35.4, 36.6, 34.7], 'Grade 4': [23.7, 17.4, 23.8, 25.8, 30.6, 12.5, 47.9], 'Grade 6': [15.2, 16.3, 7.9, 25.4, 24.5, 32.9], 'Grade 8': [13.9, 38.1, 24.1, 43.1, 14.0, 46.0]}, '2014': {'Grade 7': [24.4, 23.8, 5.2, 22.9, 8.7, 16.9], 'Grade 3': [11.3, 23.3, 31.0, 17.3, 25.0, 5.9, 39.4], 'Grade 5': [7.0, 8.7, 7.9, 9.8, 7.3, 28.4], 'Grade 4': [3.6, 13.6, 16.3, 26.8, 16.0, 27.1, 49.3], 'Grade 6': [19.6, 0.0, 13.0, 19.6, 17.4, 26.8], 'Grade 8': [10.3, 8.1, 29.4, 20.3, 14.5]}, '2015': {'Grade 7': [7.7, 21.7, 6.8, 21.7, 21.1, 5.8], 'Grade 3': [11.1, 11.1, 7.7, 13.7, 39.6, 35.8, 21.7], 'Grade 5': [8.5, 35.7, 10.8, 25.0, 12.8, 28.4], 'Grade 4': [16.3, 13.6, 17.1, 21.1, 24.5, 17.6, 50.7], 'Grade 6': [7.1, 0.0, 13.3, 10.0, 21.6, 17.9], 'Grade 8': [11.1, 18.2, 16.0, 31.1, 15.3, 15.5]}}}\n",
      "140600860896\n",
      "{'math': {'2013': {'Grade 8': '52.2', 'Grade 5': '38.5', 'Grade 7': '27.3', 'Grade 3': '73.1', 'total': '51.7', 'Grade 6': '56.5', 'Grade 4': '60.0'}, '2016': {'Grade 8': '20.0', 'Grade 5': '42.0', 'Grade 7': '36.8', 'Grade 3': '50.0', 'total': '50.5', 'Grade 6': '53.8', 'Grade 4': '74.5'}, '2015': {'Grade 8': '25.0', 'Grade 5': '48.0', 'Grade 7': '29.2', 'Grade 3': '55.8', 'total': '50.3', 'Grade 6': '37.5', 'Grade 4': '72.0'}, '2014': {'Grade 8': '38.1', 'Grade 5': '46.2', 'Grade 7': '38.1', 'Grade 3': '62.7', 'total': '52.6', 'Grade 6': '42.3', 'Grade 4': '73.1'}, '2017': {'Grade 8': '50.0', 'Grade 5': '34.0', 'Grade 7': '60.9', 'Grade 3': '65.3', 'total': '52.8', 'Grade 6': '57.4', 'Grade 4': '51.0'}}, 'name': 'Elmwood Village', 'district': 'BUFFALO CITY SCHOOL DISTRICT', 'ela': {'2013': {'Grade 8': '30.4', 'Grade 5': '30.8', 'Grade 7': '22.7', 'Grade 3': '50.0', 'total': '39.5', 'Grade 6': '37.5', 'Grade 4': '61.5'}, '2016': {'Grade 8': '21.1', 'Grade 5': '32.0', 'Grade 7': '47.4', 'Grade 3': '52.0', 'total': '47.0', 'Grade 6': '46.2', 'Grade 4': '66.7'}, '2015': {'Grade 8': '40.0', 'Grade 5': '41.7', 'Grade 7': '20.8', 'Grade 3': '51.9', 'total': '47.4', 'Grade 6': '45.8', 'Grade 4': '62.0'}, '2014': {'Grade 8': '38.1', 'Grade 5': '42.3', 'Grade 7': '23.8', 'Grade 3': '52.9', 'total': '43.3', 'Grade 6': '19.2', 'Grade 4': '69.2'}, '2017': {'Grade 8': '55.6', 'Grade 5': '23.4', 'Grade 7': '52.2', 'Grade 3': '64.0', 'total': '46.6', 'Grade 6': '38.8', 'Grade 4': '52.9'}}}\n",
      "*****\n",
      "{'math': {'2013': {'Grade 7': [2.2, 18.8, 0.0, 20.3, 3.3], 'Grade 3': [10.0, 0.0, 19.6, 8.6, 32.0, 10.9, 37.0], 'Grade 5': [11.4, 9.1, 9.3, 20.0, 28.3, 40.3], 'Grade 4': [11.9, 8.7, 16.0, 45.3, 20.0, 30.4, 56.3], 'Grade 6': [19.1, 16.7, 17.6, 16.3, 11.1, 34.7], 'Grade 8': [7.5, 24.0, 12.0, 21.4, 18.8]}, '2016': {'Grade 7': [5.3, 9.5, 11.8, 9.1, 12.5, 22.9], 'Grade 3': [20.0, 13.3, 39.5, 27.8, 46.8, 60.0, 23.9, 57.6], 'Grade 5': [8.9, 15.4, 28.6, 20.7, 29.5, 47.9], 'Grade 4': [14.6, 8.9, 17.8, 16.2, 54.8, 51.1, 57.5, 22.2], 'Grade 6': [8.5, 20.0, 25.7, 24.4, 48.8, 59.4], 'Grade 8': [2.4, 0.0, 22.1, 9.7, 45.5, 29.8]}, '2017': {'Grade 7': [2.7, 10.3, 10.1, 19.6, 26.7, 23.5], 'Grade 3': [20.8, 8.7, 48.0, 45.3, 32.3, 53.3, 63.0, 32.9, 50.9], 'Grade 5': [11.6, 7.3, 18.3, 32.1, 56.5, 50.0, 37.5, 14.9], 'Grade 4': [17.2, 29.2, 39.5, 25.6, 36.0, 33.3, 50.0, 38.3], 'Grade 6': [19.6, 15.6, 21.7, 29.3, 59.6, 53.1], 'Grade 8': [5.7, 23.8, 0.0, 10.7, 0.0, 38.7]}, '2014': {'Grade 7': [7.3, 9.5, 28.9, 31.2, 24.6, 20.3], 'Grade 3': [24.5, 13.3, 33.3, 26.4, 35.8, 20.0, 34.8, 27.1], 'Grade 5': [4.7, 0.0, 33.3, 9.8, 29.3, 47.9], 'Grade 4': [16.4, 12.8, 11.6, 47.8, 12.0, 31.2, 75.3], 'Grade 6': [26.7, 9.5, 24.7, 17.4, 34.1, 59.2], 'Grade 8': [2.6, 2.1, 14.0, 16.4, 19.7]}, '2015': {'Grade 7': [0.0, 0.0, 16.4, 23.3, 45.6, 12.0], 'Grade 3': [18.5, 15.2, 26.0, 20.5, 55.3, 58.0, 20.9, 35.7], 'Grade 5': [6.4, 14.0, 32.4, 18.6, 19.1, 63.5], 'Grade 4': [34.7, 2.3, 22.5, 36.8, 40.0, 40.4, 60.9, 27.1], 'Grade 6': [4.8, 20.0, 21.3, 2.1, 56.8, 42.9], 'Grade 8': [2.9, 9.5, 18.6, 25.0, 21.0, 37.9]}}, 'ela': {'2013': {'Grade 7': [8.9, 8.7, 20.0, 23.5, 12.7], 'Grade 3': [8.3, 0.0, 13.3, 5.2, 32.0, 13.0, 37.0], 'Grade 5': [9.1, 18.2, 13.3, 19.6, 8.7, 38.9], 'Grade 4': [16.9, 4.3, 4.0, 21.3, 24.0, 8.5, 41.7], 'Grade 6': [12.8, 25.0, 10.8, 30.6, 4.8, 27.0], 'Grade 8': [7.7, 4.0, 32.0, 29.4, 14.6]}, '2016': {'Grade 7': [7.9, 13.6, 17.4, 26.5, 19.4, 17.3], 'Grade 3': [20.0, 10.9, 45.9, 30.5, 34.8, 40.4, 45.1, 50.0], 'Grade 5': [11.1, 17.9, 18.6, 11.7, 14.9, 38.9], 'Grade 4': [16.7, 6.8, 30.4, 18.8, 48.9, 31.2, 42.7, 22.6], 'Grade 6': [10.9, 21.1, 20.3, 34.9, 30.2, 32.8], 'Grade 8': [22.0, 31.6, 24.3, 11.1, 32.2, 44.6]}, '2017': {'Grade 7': [2.7, 20.0, 15.5, 38.2, 18.0, 23.1], 'Grade 3': [15.4, 4.3, 29.4, 32.1, 19.4, 45.7, 61.4, 29.6, 35.6], 'Grade 5': [4.7, 12.5, 19.2, 42.3, 35.4, 36.6, 34.7, 2.1], 'Grade 4': [23.7, 17.4, 23.8, 25.8, 30.6, 12.5, 47.9, 46.7], 'Grade 6': [15.2, 16.3, 7.9, 25.4, 24.5, 32.9], 'Grade 8': [13.9, 38.1, 24.1, 43.1, 14.0, 46.0]}, '2014': {'Grade 7': [24.4, 23.8, 5.2, 22.9, 8.7, 16.9], 'Grade 3': [11.3, 23.3, 31.0, 17.3, 25.0, 5.9, 39.4, 22.9], 'Grade 5': [7.0, 8.7, 7.9, 9.8, 7.3, 28.4], 'Grade 4': [3.6, 13.6, 16.3, 26.8, 16.0, 27.1, 49.3], 'Grade 6': [19.6, 0.0, 13.0, 19.6, 17.4, 26.8], 'Grade 8': [10.3, 8.1, 29.4, 20.3, 14.5]}, '2015': {'Grade 7': [7.7, 21.7, 6.8, 21.7, 21.1, 5.8], 'Grade 3': [11.1, 11.1, 7.7, 13.7, 39.6, 35.8, 21.7, 33.3], 'Grade 5': [8.5, 35.7, 10.8, 25.0, 12.8, 28.4], 'Grade 4': [16.3, 13.6, 17.1, 21.1, 24.5, 17.6, 50.7, 29.2], 'Grade 6': [7.1, 0.0, 13.3, 10.0, 21.6, 17.9], 'Grade 8': [11.1, 18.2, 16.0, 31.1, 15.3, 15.5]}}}\n",
      "142601860031\n",
      "{'math': {'2013': {'Grade 8': '18.8', 'Grade 5': '24.6', 'Grade 7': '15.6', 'Grade 3': '14.8', 'total': '22.5', 'Grade 6': '21.8', 'Grade 4': '39.1'}, '2016': {'Grade 8': '7.4', 'Grade 5': '38.6', 'Grade 7': '4.9', 'Grade 3': '34.8', 'total': '19.4', 'Grade 6': '13.6', 'Grade 4': '27.8'}, '2015': {'Grade 8': '4.0', 'Grade 5': '33.0', 'Grade 7': '7.4', 'Grade 3': '28.4', 'total': '20.5', 'Grade 6': '9.6', 'Grade 4': '44.1'}, '2014': {'Grade 8': '16.3', 'Grade 5': '18.9', 'Grade 7': '22.8', 'Grade 3': '30.7', 'total': '22.5', 'Grade 6': '10.7', 'Grade 4': '35.4'}, '2017': {'Grade 8': '8.5', 'Grade 5': '31.1', 'Grade 7': '21.9', 'Grade 3': '48.9', 'total': '24.3', 'Grade 6': '14.6', 'Grade 4': '30.1'}}, 'name': 'Charter Sch. for App. Tech.', 'district': 'KENMORE-TONAWANDA UNION FREE SCHOOL DISTRICT', 'ela': {'2013': {'Grade 8': '12.3', 'Grade 5': '17.0', 'Grade 7': '10.0', 'Grade 3': '14.1', 'total': '15.1', 'Grade 6': '20.3', 'Grade 4': '16.7'}, '2016': {'Grade 8': '16.5', 'Grade 5': '18.8', 'Grade 7': '16.4', 'Grade 3': '25.9', 'total': '18.0', 'Grade 6': '16.4', 'Grade 4': '15.7'}, '2015': {'Grade 8': '6.8', 'Grade 5': '14.2', 'Grade 7': '6.5', 'Grade 3': '17.9', 'total': '14.0', 'Grade 6': '10.1', 'Grade 4': '31.5'}, '2014': {'Grade 8': '16.2', 'Grade 5': '16.8', 'Grade 7': '10.4', 'Grade 3': '21.7', 'total': '17.2', 'Grade 6': '11.3', 'Grade 4': '26.5'}, '2017': {'Grade 8': '23.5', 'Grade 5': '15.8', 'Grade 7': '27.5', 'Grade 3': '28.9', 'total': '23.9', 'Grade 6': '22.2', 'Grade 4': '25.0'}}}\n",
      "*****\n",
      "{'math': {'2013': {'Grade 7': [2.2, 18.8, 0.0, 20.3, 3.3, 27.3], 'Grade 3': [10.0, 0.0, 19.6, 8.6, 32.0, 10.9, 37.0, 73.1], 'Grade 5': [11.4, 9.1, 9.3, 20.0, 28.3, 40.3, 38.5], 'Grade 4': [11.9, 8.7, 16.0, 45.3, 20.0, 30.4, 56.3, 60.0], 'Grade 6': [19.1, 16.7, 17.6, 16.3, 11.1, 34.7, 56.5], 'Grade 8': [7.5, 24.0, 12.0, 21.4, 18.8, 52.2]}, '2016': {'Grade 7': [5.3, 9.5, 11.8, 9.1, 12.5, 22.9, 36.8], 'Grade 3': [20.0, 13.3, 39.5, 27.8, 46.8, 60.0, 23.9, 57.6, 50.0], 'Grade 5': [8.9, 15.4, 28.6, 20.7, 29.5, 47.9, 42.0], 'Grade 4': [14.6, 8.9, 17.8, 16.2, 54.8, 51.1, 57.5, 22.2, 74.5], 'Grade 6': [8.5, 20.0, 25.7, 24.4, 48.8, 59.4, 53.8], 'Grade 8': [2.4, 0.0, 22.1, 9.7, 45.5, 29.8, 20.0]}, '2017': {'Grade 7': [2.7, 10.3, 10.1, 19.6, 26.7, 23.5, 60.9], 'Grade 3': [20.8, 8.7, 48.0, 45.3, 32.3, 53.3, 63.0, 32.9, 50.9, 65.3], 'Grade 5': [11.6, 7.3, 18.3, 32.1, 56.5, 50.0, 37.5, 14.9, 34.0], 'Grade 4': [17.2, 29.2, 39.5, 25.6, 36.0, 33.3, 50.0, 38.3, 51.0], 'Grade 6': [19.6, 15.6, 21.7, 29.3, 59.6, 53.1, 57.4], 'Grade 8': [5.7, 23.8, 0.0, 10.7, 0.0, 38.7, 50.0]}, '2014': {'Grade 7': [7.3, 9.5, 28.9, 31.2, 24.6, 20.3, 38.1], 'Grade 3': [24.5, 13.3, 33.3, 26.4, 35.8, 20.0, 34.8, 27.1, 62.7], 'Grade 5': [4.7, 0.0, 33.3, 9.8, 29.3, 47.9, 46.2], 'Grade 4': [16.4, 12.8, 11.6, 47.8, 12.0, 31.2, 75.3, 73.1], 'Grade 6': [26.7, 9.5, 24.7, 17.4, 34.1, 59.2, 42.3], 'Grade 8': [2.6, 2.1, 14.0, 16.4, 19.7, 38.1]}, '2015': {'Grade 7': [0.0, 0.0, 16.4, 23.3, 45.6, 12.0, 29.2], 'Grade 3': [18.5, 15.2, 26.0, 20.5, 55.3, 58.0, 20.9, 35.7, 55.8], 'Grade 5': [6.4, 14.0, 32.4, 18.6, 19.1, 63.5, 48.0], 'Grade 4': [34.7, 2.3, 22.5, 36.8, 40.0, 40.4, 60.9, 27.1, 72.0], 'Grade 6': [4.8, 20.0, 21.3, 2.1, 56.8, 42.9, 37.5], 'Grade 8': [2.9, 9.5, 18.6, 25.0, 21.0, 37.9, 25.0]}}, 'ela': {'2013': {'Grade 7': [8.9, 8.7, 20.0, 23.5, 12.7, 22.7], 'Grade 3': [8.3, 0.0, 13.3, 5.2, 32.0, 13.0, 37.0, 50.0], 'Grade 5': [9.1, 18.2, 13.3, 19.6, 8.7, 38.9, 30.8], 'Grade 4': [16.9, 4.3, 4.0, 21.3, 24.0, 8.5, 41.7, 61.5], 'Grade 6': [12.8, 25.0, 10.8, 30.6, 4.8, 27.0, 37.5], 'Grade 8': [7.7, 4.0, 32.0, 29.4, 14.6, 30.4]}, '2016': {'Grade 7': [7.9, 13.6, 17.4, 26.5, 19.4, 17.3, 47.4], 'Grade 3': [20.0, 10.9, 45.9, 30.5, 34.8, 40.4, 45.1, 50.0, 52.0], 'Grade 5': [11.1, 17.9, 18.6, 11.7, 14.9, 38.9, 32.0], 'Grade 4': [16.7, 6.8, 30.4, 18.8, 48.9, 31.2, 42.7, 22.6, 66.7], 'Grade 6': [10.9, 21.1, 20.3, 34.9, 30.2, 32.8, 46.2], 'Grade 8': [22.0, 31.6, 24.3, 11.1, 32.2, 44.6, 21.1]}, '2017': {'Grade 7': [2.7, 20.0, 15.5, 38.2, 18.0, 23.1, 52.2], 'Grade 3': [15.4, 4.3, 29.4, 32.1, 19.4, 45.7, 61.4, 29.6, 35.6, 64.0], 'Grade 5': [4.7, 12.5, 19.2, 42.3, 35.4, 36.6, 34.7, 2.1, 23.4], 'Grade 4': [23.7, 17.4, 23.8, 25.8, 30.6, 12.5, 47.9, 46.7, 52.9], 'Grade 6': [15.2, 16.3, 7.9, 25.4, 24.5, 32.9, 38.8], 'Grade 8': [13.9, 38.1, 24.1, 43.1, 14.0, 46.0, 55.6]}, '2014': {'Grade 7': [24.4, 23.8, 5.2, 22.9, 8.7, 16.9, 23.8], 'Grade 3': [11.3, 23.3, 31.0, 17.3, 25.0, 5.9, 39.4, 22.9, 52.9], 'Grade 5': [7.0, 8.7, 7.9, 9.8, 7.3, 28.4, 42.3], 'Grade 4': [3.6, 13.6, 16.3, 26.8, 16.0, 27.1, 49.3, 69.2], 'Grade 6': [19.6, 0.0, 13.0, 19.6, 17.4, 26.8, 19.2], 'Grade 8': [10.3, 8.1, 29.4, 20.3, 14.5, 38.1]}, '2015': {'Grade 7': [7.7, 21.7, 6.8, 21.7, 21.1, 5.8, 20.8], 'Grade 3': [11.1, 11.1, 7.7, 13.7, 39.6, 35.8, 21.7, 33.3, 51.9], 'Grade 5': [8.5, 35.7, 10.8, 25.0, 12.8, 28.4, 41.7], 'Grade 4': [16.3, 13.6, 17.1, 21.1, 24.5, 17.6, 50.7, 29.2, 62.0], 'Grade 6': [7.1, 0.0, 13.3, 10.0, 21.6, 17.9, 45.8], 'Grade 8': [11.1, 18.2, 16.0, 31.1, 15.3, 15.5, 40.0]}}}\n",
      "140600860863\n",
      "{'math': {'2017': {'total': '2.6', 'Grade 7': '2.6'}}, 'name': 'WNY Maritime Charter', 'district': 'BUFFALO CITY SCHOOL DISTRICT', 'ela': {'2017': {'total': '21.1', 'Grade 7': '21.1'}}}\n",
      "*****\n",
      "{'math': {'2013': {'Grade 7': [2.2, 18.8, 0.0, 20.3, 3.3, 27.3, 15.6], 'Grade 3': [10.0, 0.0, 19.6, 8.6, 32.0, 10.9, 37.0, 73.1, 14.8], 'Grade 5': [11.4, 9.1, 9.3, 20.0, 28.3, 40.3, 38.5, 24.6], 'Grade 4': [11.9, 8.7, 16.0, 45.3, 20.0, 30.4, 56.3, 60.0, 39.1], 'Grade 6': [19.1, 16.7, 17.6, 16.3, 11.1, 34.7, 56.5, 21.8], 'Grade 8': [7.5, 24.0, 12.0, 21.4, 18.8, 52.2, 18.8]}, '2016': {'Grade 7': [5.3, 9.5, 11.8, 9.1, 12.5, 22.9, 36.8, 4.9], 'Grade 3': [20.0, 13.3, 39.5, 27.8, 46.8, 60.0, 23.9, 57.6, 50.0, 34.8], 'Grade 5': [8.9, 15.4, 28.6, 20.7, 29.5, 47.9, 42.0, 38.6], 'Grade 4': [14.6, 8.9, 17.8, 16.2, 54.8, 51.1, 57.5, 22.2, 74.5, 27.8], 'Grade 6': [8.5, 20.0, 25.7, 24.4, 48.8, 59.4, 53.8, 13.6], 'Grade 8': [2.4, 0.0, 22.1, 9.7, 45.5, 29.8, 20.0, 7.4]}, '2017': {'Grade 7': [2.7, 10.3, 10.1, 19.6, 26.7, 23.5, 60.9, 21.9], 'Grade 3': [20.8, 8.7, 48.0, 45.3, 32.3, 53.3, 63.0, 32.9, 50.9, 65.3, 48.9], 'Grade 5': [11.6, 7.3, 18.3, 32.1, 56.5, 50.0, 37.5, 14.9, 34.0, 31.1], 'Grade 4': [17.2, 29.2, 39.5, 25.6, 36.0, 33.3, 50.0, 38.3, 51.0, 30.1], 'Grade 6': [19.6, 15.6, 21.7, 29.3, 59.6, 53.1, 57.4, 14.6], 'Grade 8': [5.7, 23.8, 0.0, 10.7, 0.0, 38.7, 50.0, 8.5]}, '2014': {'Grade 7': [7.3, 9.5, 28.9, 31.2, 24.6, 20.3, 38.1, 22.8], 'Grade 3': [24.5, 13.3, 33.3, 26.4, 35.8, 20.0, 34.8, 27.1, 62.7, 30.7], 'Grade 5': [4.7, 0.0, 33.3, 9.8, 29.3, 47.9, 46.2, 18.9], 'Grade 4': [16.4, 12.8, 11.6, 47.8, 12.0, 31.2, 75.3, 73.1, 35.4], 'Grade 6': [26.7, 9.5, 24.7, 17.4, 34.1, 59.2, 42.3, 10.7], 'Grade 8': [2.6, 2.1, 14.0, 16.4, 19.7, 38.1, 16.3]}, '2015': {'Grade 7': [0.0, 0.0, 16.4, 23.3, 45.6, 12.0, 29.2, 7.4], 'Grade 3': [18.5, 15.2, 26.0, 20.5, 55.3, 58.0, 20.9, 35.7, 55.8, 28.4], 'Grade 5': [6.4, 14.0, 32.4, 18.6, 19.1, 63.5, 48.0, 33.0], 'Grade 4': [34.7, 2.3, 22.5, 36.8, 40.0, 40.4, 60.9, 27.1, 72.0, 44.1], 'Grade 6': [4.8, 20.0, 21.3, 2.1, 56.8, 42.9, 37.5, 9.6], 'Grade 8': [2.9, 9.5, 18.6, 25.0, 21.0, 37.9, 25.0, 4.0]}}, 'ela': {'2013': {'Grade 7': [8.9, 8.7, 20.0, 23.5, 12.7, 22.7, 10.0], 'Grade 3': [8.3, 0.0, 13.3, 5.2, 32.0, 13.0, 37.0, 50.0, 14.1], 'Grade 5': [9.1, 18.2, 13.3, 19.6, 8.7, 38.9, 30.8, 17.0], 'Grade 4': [16.9, 4.3, 4.0, 21.3, 24.0, 8.5, 41.7, 61.5, 16.7], 'Grade 6': [12.8, 25.0, 10.8, 30.6, 4.8, 27.0, 37.5, 20.3], 'Grade 8': [7.7, 4.0, 32.0, 29.4, 14.6, 30.4, 12.3]}, '2016': {'Grade 7': [7.9, 13.6, 17.4, 26.5, 19.4, 17.3, 47.4, 16.4], 'Grade 3': [20.0, 10.9, 45.9, 30.5, 34.8, 40.4, 45.1, 50.0, 52.0, 25.9], 'Grade 5': [11.1, 17.9, 18.6, 11.7, 14.9, 38.9, 32.0, 18.8], 'Grade 4': [16.7, 6.8, 30.4, 18.8, 48.9, 31.2, 42.7, 22.6, 66.7, 15.7], 'Grade 6': [10.9, 21.1, 20.3, 34.9, 30.2, 32.8, 46.2, 16.4], 'Grade 8': [22.0, 31.6, 24.3, 11.1, 32.2, 44.6, 21.1, 16.5]}, '2017': {'Grade 7': [2.7, 20.0, 15.5, 38.2, 18.0, 23.1, 52.2, 27.5], 'Grade 3': [15.4, 4.3, 29.4, 32.1, 19.4, 45.7, 61.4, 29.6, 35.6, 64.0, 28.9], 'Grade 5': [4.7, 12.5, 19.2, 42.3, 35.4, 36.6, 34.7, 2.1, 23.4, 15.8], 'Grade 4': [23.7, 17.4, 23.8, 25.8, 30.6, 12.5, 47.9, 46.7, 52.9, 25.0], 'Grade 6': [15.2, 16.3, 7.9, 25.4, 24.5, 32.9, 38.8, 22.2], 'Grade 8': [13.9, 38.1, 24.1, 43.1, 14.0, 46.0, 55.6, 23.5]}, '2014': {'Grade 7': [24.4, 23.8, 5.2, 22.9, 8.7, 16.9, 23.8, 10.4], 'Grade 3': [11.3, 23.3, 31.0, 17.3, 25.0, 5.9, 39.4, 22.9, 52.9, 21.7], 'Grade 5': [7.0, 8.7, 7.9, 9.8, 7.3, 28.4, 42.3, 16.8], 'Grade 4': [3.6, 13.6, 16.3, 26.8, 16.0, 27.1, 49.3, 69.2, 26.5], 'Grade 6': [19.6, 0.0, 13.0, 19.6, 17.4, 26.8, 19.2, 11.3], 'Grade 8': [10.3, 8.1, 29.4, 20.3, 14.5, 38.1, 16.2]}, '2015': {'Grade 7': [7.7, 21.7, 6.8, 21.7, 21.1, 5.8, 20.8, 6.5], 'Grade 3': [11.1, 11.1, 7.7, 13.7, 39.6, 35.8, 21.7, 33.3, 51.9, 17.9], 'Grade 5': [8.5, 35.7, 10.8, 25.0, 12.8, 28.4, 41.7, 14.2], 'Grade 4': [16.3, 13.6, 17.1, 21.1, 24.5, 17.6, 50.7, 29.2, 62.0, 31.5], 'Grade 6': [7.1, 0.0, 13.3, 10.0, 21.6, 17.9, 45.8, 10.1], 'Grade 8': [11.1, 18.2, 16.0, 31.1, 15.3, 15.5, 40.0, 6.8]}}}\n",
      "140600860874\n",
      "{'math': {'2013': {'Grade 8': '9.1', 'Grade 5': '13.6', 'Grade 7': '3.8', 'Grade 3': '30.8', 'total': '14.1', 'Grade 6': '6.0', 'Grade 4': '18.6'}, '2016': {'Grade 8': '8.6', 'Grade 5': '24.1', 'Grade 7': '14.3', 'Grade 3': '22.1', 'total': '18.7', 'Grade 6': '14.3', 'Grade 4': '23.2'}, '2015': {'Grade 8': '4.9', 'Grade 5': '20.0', 'Grade 7': '10.9', 'Grade 3': '40.7', 'total': '17.0', 'Grade 6': '11.7', 'Grade 4': '11.7'}, '2014': {'Grade 8': '0.0', 'Grade 5': '14.7', 'Grade 7': '3.3', 'Grade 3': '15.7', 'total': '10.6', 'Grade 6': '14.8', 'Grade 4': '10.9'}, '2017': {'Grade 8': '2.9', 'Grade 5': '8.3', 'Grade 7': '5.9', 'Grade 3': '12.1', 'total': '9.3', 'Grade 6': '23.5', 'Grade 4': '2.9'}}, 'name': 'Westminster', 'district': 'BUFFALO CITY SCHOOL DISTRICT', 'ela': {'2013': {'Grade 8': '5.5', 'Grade 5': '3.0', 'Grade 7': '9.6', 'Grade 3': '16.9', 'total': '8.0', 'Grade 6': '4.5', 'Grade 4': '8.6'}, '2016': {'Grade 8': '26.0', 'Grade 5': '26.7', 'Grade 7': '20.5', 'Grade 3': '24.6', 'total': '22.4', 'Grade 6': '14.0', 'Grade 4': '21.8'}, '2015': {'Grade 8': '14.6', 'Grade 5': '21.7', 'Grade 7': '17.5', 'Grade 3': '22.2', 'total': '16.4', 'Grade 6': '16.1', 'Grade 4': '6.7'}, '2014': {'Grade 8': '11.5', 'Grade 5': '10.4', 'Grade 7': '12.9', 'Grade 3': '7.8', 'total': '10.2', 'Grade 6': '7.0', 'Grade 4': '11.1'}, '2017': {'Grade 8': '23.7', 'Grade 5': '20.3', 'Grade 7': '16.7', 'Grade 3': '19.0', 'total': '17.7', 'Grade 6': '18.9', 'Grade 4': '10.8'}}}\n",
      "*****\n",
      "{'math': {'2013': {'Grade 7': [2.2, 18.8, 0.0, 20.3, 3.3, 27.3, 15.6], 'Grade 3': [10.0, 0.0, 19.6, 8.6, 32.0, 10.9, 37.0, 73.1, 14.8], 'Grade 5': [11.4, 9.1, 9.3, 20.0, 28.3, 40.3, 38.5, 24.6], 'Grade 4': [11.9, 8.7, 16.0, 45.3, 20.0, 30.4, 56.3, 60.0, 39.1], 'Grade 6': [19.1, 16.7, 17.6, 16.3, 11.1, 34.7, 56.5, 21.8], 'Grade 8': [7.5, 24.0, 12.0, 21.4, 18.8, 52.2, 18.8]}, '2016': {'Grade 7': [5.3, 9.5, 11.8, 9.1, 12.5, 22.9, 36.8, 4.9], 'Grade 3': [20.0, 13.3, 39.5, 27.8, 46.8, 60.0, 23.9, 57.6, 50.0, 34.8], 'Grade 5': [8.9, 15.4, 28.6, 20.7, 29.5, 47.9, 42.0, 38.6], 'Grade 4': [14.6, 8.9, 17.8, 16.2, 54.8, 51.1, 57.5, 22.2, 74.5, 27.8], 'Grade 6': [8.5, 20.0, 25.7, 24.4, 48.8, 59.4, 53.8, 13.6], 'Grade 8': [2.4, 0.0, 22.1, 9.7, 45.5, 29.8, 20.0, 7.4]}, '2017': {'Grade 7': [2.7, 10.3, 10.1, 19.6, 26.7, 23.5, 60.9, 21.9, 2.6], 'Grade 3': [20.8, 8.7, 48.0, 45.3, 32.3, 53.3, 63.0, 32.9, 50.9, 65.3, 48.9], 'Grade 5': [11.6, 7.3, 18.3, 32.1, 56.5, 50.0, 37.5, 14.9, 34.0, 31.1], 'Grade 4': [17.2, 29.2, 39.5, 25.6, 36.0, 33.3, 50.0, 38.3, 51.0, 30.1], 'Grade 6': [19.6, 15.6, 21.7, 29.3, 59.6, 53.1, 57.4, 14.6], 'Grade 8': [5.7, 23.8, 0.0, 10.7, 0.0, 38.7, 50.0, 8.5]}, '2014': {'Grade 7': [7.3, 9.5, 28.9, 31.2, 24.6, 20.3, 38.1, 22.8], 'Grade 3': [24.5, 13.3, 33.3, 26.4, 35.8, 20.0, 34.8, 27.1, 62.7, 30.7], 'Grade 5': [4.7, 0.0, 33.3, 9.8, 29.3, 47.9, 46.2, 18.9], 'Grade 4': [16.4, 12.8, 11.6, 47.8, 12.0, 31.2, 75.3, 73.1, 35.4], 'Grade 6': [26.7, 9.5, 24.7, 17.4, 34.1, 59.2, 42.3, 10.7], 'Grade 8': [2.6, 2.1, 14.0, 16.4, 19.7, 38.1, 16.3]}, '2015': {'Grade 7': [0.0, 0.0, 16.4, 23.3, 45.6, 12.0, 29.2, 7.4], 'Grade 3': [18.5, 15.2, 26.0, 20.5, 55.3, 58.0, 20.9, 35.7, 55.8, 28.4], 'Grade 5': [6.4, 14.0, 32.4, 18.6, 19.1, 63.5, 48.0, 33.0], 'Grade 4': [34.7, 2.3, 22.5, 36.8, 40.0, 40.4, 60.9, 27.1, 72.0, 44.1], 'Grade 6': [4.8, 20.0, 21.3, 2.1, 56.8, 42.9, 37.5, 9.6], 'Grade 8': [2.9, 9.5, 18.6, 25.0, 21.0, 37.9, 25.0, 4.0]}}, 'ela': {'2013': {'Grade 7': [8.9, 8.7, 20.0, 23.5, 12.7, 22.7, 10.0], 'Grade 3': [8.3, 0.0, 13.3, 5.2, 32.0, 13.0, 37.0, 50.0, 14.1], 'Grade 5': [9.1, 18.2, 13.3, 19.6, 8.7, 38.9, 30.8, 17.0], 'Grade 4': [16.9, 4.3, 4.0, 21.3, 24.0, 8.5, 41.7, 61.5, 16.7], 'Grade 6': [12.8, 25.0, 10.8, 30.6, 4.8, 27.0, 37.5, 20.3], 'Grade 8': [7.7, 4.0, 32.0, 29.4, 14.6, 30.4, 12.3]}, '2016': {'Grade 7': [7.9, 13.6, 17.4, 26.5, 19.4, 17.3, 47.4, 16.4], 'Grade 3': [20.0, 10.9, 45.9, 30.5, 34.8, 40.4, 45.1, 50.0, 52.0, 25.9], 'Grade 5': [11.1, 17.9, 18.6, 11.7, 14.9, 38.9, 32.0, 18.8], 'Grade 4': [16.7, 6.8, 30.4, 18.8, 48.9, 31.2, 42.7, 22.6, 66.7, 15.7], 'Grade 6': [10.9, 21.1, 20.3, 34.9, 30.2, 32.8, 46.2, 16.4], 'Grade 8': [22.0, 31.6, 24.3, 11.1, 32.2, 44.6, 21.1, 16.5]}, '2017': {'Grade 7': [2.7, 20.0, 15.5, 38.2, 18.0, 23.1, 52.2, 27.5, 21.1], 'Grade 3': [15.4, 4.3, 29.4, 32.1, 19.4, 45.7, 61.4, 29.6, 35.6, 64.0, 28.9], 'Grade 5': [4.7, 12.5, 19.2, 42.3, 35.4, 36.6, 34.7, 2.1, 23.4, 15.8], 'Grade 4': [23.7, 17.4, 23.8, 25.8, 30.6, 12.5, 47.9, 46.7, 52.9, 25.0], 'Grade 6': [15.2, 16.3, 7.9, 25.4, 24.5, 32.9, 38.8, 22.2], 'Grade 8': [13.9, 38.1, 24.1, 43.1, 14.0, 46.0, 55.6, 23.5]}, '2014': {'Grade 7': [24.4, 23.8, 5.2, 22.9, 8.7, 16.9, 23.8, 10.4], 'Grade 3': [11.3, 23.3, 31.0, 17.3, 25.0, 5.9, 39.4, 22.9, 52.9, 21.7], 'Grade 5': [7.0, 8.7, 7.9, 9.8, 7.3, 28.4, 42.3, 16.8], 'Grade 4': [3.6, 13.6, 16.3, 26.8, 16.0, 27.1, 49.3, 69.2, 26.5], 'Grade 6': [19.6, 0.0, 13.0, 19.6, 17.4, 26.8, 19.2, 11.3], 'Grade 8': [10.3, 8.1, 29.4, 20.3, 14.5, 38.1, 16.2]}, '2015': {'Grade 7': [7.7, 21.7, 6.8, 21.7, 21.1, 5.8, 20.8, 6.5], 'Grade 3': [11.1, 11.1, 7.7, 13.7, 39.6, 35.8, 21.7, 33.3, 51.9, 17.9], 'Grade 5': [8.5, 35.7, 10.8, 25.0, 12.8, 28.4, 41.7, 14.2], 'Grade 4': [16.3, 13.6, 17.1, 21.1, 24.5, 17.6, 50.7, 29.2, 62.0, 31.5], 'Grade 6': [7.1, 0.0, 13.3, 10.0, 21.6, 17.9, 45.8, 10.1], 'Grade 8': [11.1, 18.2, 16.0, 31.1, 15.3, 15.5, 40.0, 6.8]}}}\n",
      "140600860817\n",
      "{'math': {'2013': {'Grade 8': '9.7', 'Grade 5': '28.2', 'Grade 7': '17.4', 'Grade 3': '19.2', 'total': '26.3', 'Grade 6': '44.9', 'Grade 4': '36.5'}, '2016': {'Grade 8': '35.2', 'Grade 5': '22.5', 'Grade 7': '15.6', 'Grade 3': '28.6', 'total': '27.0', 'Grade 6': '33.0', 'Grade 4': '26.8'}, '2015': {'Grade 8': '31.4', 'Grade 5': '18.8', 'Grade 7': '28.3', 'Grade 3': '37.2', 'total': '32.8', 'Grade 6': '37.9', 'Grade 4': '39.1'}, '2014': {'Grade 8': '34.9', 'Grade 5': '37.7', 'Grade 7': '21.7', 'Grade 3': '36.0', 'total': '31.0', 'Grade 6': '38.4', 'Grade 4': '17.8'}, '2017': {'Grade 8': '7.5', 'Grade 5': '32.2', 'Grade 7': '10.3', 'Grade 3': '26.6', 'total': '27.0', 'Grade 6': '43.0', 'Grade 4': '34.7'}}, 'name': 'South Buffalo', 'district': 'BUFFALO CITY SCHOOL DISTRICT', 'ela': {'2013': {'Grade 8': '18.6', 'Grade 5': '18.1', 'Grade 7': '17.6', 'Grade 3': '9.7', 'total': '17.1', 'Grade 6': '18.2', 'Grade 4': '20.3'}, '2016': {'Grade 8': '29.2', 'Grade 5': '14.1', 'Grade 7': '13.9', 'Grade 3': '26.6', 'total': '24.3', 'Grade 6': '19.6', 'Grade 4': '40.4'}, '2015': {'Grade 8': '26.3', 'Grade 5': '13.0', 'Grade 7': '15.9', 'Grade 3': '29.7', 'total': '20.6', 'Grade 6': '11.6', 'Grade 4': '24.2'}, '2014': {'Grade 8': '23.4', 'Grade 5': '14.3', 'Grade 7': '24.3', 'Grade 3': '20.0', 'total': '18.7', 'Grade 6': '12.0', 'Grade 4': '19.2'}, '2017': {'Grade 8': '26.2', 'Grade 5': '19.1', 'Grade 7': '16.2', 'Grade 3': '25.0', 'total': '24.5', 'Grade 6': '22.1', 'Grade 4': '36.7'}}}\n",
      "*****\n",
      "{'math': {'2013': {'Grade 7': [2.2, 18.8, 0.0, 20.3, 3.3, 27.3, 15.6, 3.8], 'Grade 3': [10.0, 0.0, 19.6, 8.6, 32.0, 10.9, 37.0, 73.1, 14.8, 30.8], 'Grade 5': [11.4, 9.1, 9.3, 20.0, 28.3, 40.3, 38.5, 24.6, 13.6], 'Grade 4': [11.9, 8.7, 16.0, 45.3, 20.0, 30.4, 56.3, 60.0, 39.1, 18.6], 'Grade 6': [19.1, 16.7, 17.6, 16.3, 11.1, 34.7, 56.5, 21.8, 6.0], 'Grade 8': [7.5, 24.0, 12.0, 21.4, 18.8, 52.2, 18.8, 9.1]}, '2016': {'Grade 7': [5.3, 9.5, 11.8, 9.1, 12.5, 22.9, 36.8, 4.9, 14.3], 'Grade 3': [20.0, 13.3, 39.5, 27.8, 46.8, 60.0, 23.9, 57.6, 50.0, 34.8, 22.1], 'Grade 5': [8.9, 15.4, 28.6, 20.7, 29.5, 47.9, 42.0, 38.6, 24.1], 'Grade 4': [14.6, 8.9, 17.8, 16.2, 54.8, 51.1, 57.5, 22.2, 74.5, 27.8, 23.2], 'Grade 6': [8.5, 20.0, 25.7, 24.4, 48.8, 59.4, 53.8, 13.6, 14.3], 'Grade 8': [2.4, 0.0, 22.1, 9.7, 45.5, 29.8, 20.0, 7.4, 8.6]}, '2017': {'Grade 7': [2.7, 10.3, 10.1, 19.6, 26.7, 23.5, 60.9, 21.9, 2.6, 5.9], 'Grade 3': [20.8, 8.7, 48.0, 45.3, 32.3, 53.3, 63.0, 32.9, 50.9, 65.3, 48.9, 12.1], 'Grade 5': [11.6, 7.3, 18.3, 32.1, 56.5, 50.0, 37.5, 14.9, 34.0, 31.1, 8.3], 'Grade 4': [17.2, 29.2, 39.5, 25.6, 36.0, 33.3, 50.0, 38.3, 51.0, 30.1, 2.9], 'Grade 6': [19.6, 15.6, 21.7, 29.3, 59.6, 53.1, 57.4, 14.6, 23.5], 'Grade 8': [5.7, 23.8, 0.0, 10.7, 0.0, 38.7, 50.0, 8.5, 2.9]}, '2014': {'Grade 7': [7.3, 9.5, 28.9, 31.2, 24.6, 20.3, 38.1, 22.8, 3.3], 'Grade 3': [24.5, 13.3, 33.3, 26.4, 35.8, 20.0, 34.8, 27.1, 62.7, 30.7, 15.7], 'Grade 5': [4.7, 0.0, 33.3, 9.8, 29.3, 47.9, 46.2, 18.9, 14.7], 'Grade 4': [16.4, 12.8, 11.6, 47.8, 12.0, 31.2, 75.3, 73.1, 35.4, 10.9], 'Grade 6': [26.7, 9.5, 24.7, 17.4, 34.1, 59.2, 42.3, 10.7, 14.8], 'Grade 8': [2.6, 2.1, 14.0, 16.4, 19.7, 38.1, 16.3, 0.0]}, '2015': {'Grade 7': [0.0, 0.0, 16.4, 23.3, 45.6, 12.0, 29.2, 7.4, 10.9], 'Grade 3': [18.5, 15.2, 26.0, 20.5, 55.3, 58.0, 20.9, 35.7, 55.8, 28.4, 40.7], 'Grade 5': [6.4, 14.0, 32.4, 18.6, 19.1, 63.5, 48.0, 33.0, 20.0], 'Grade 4': [34.7, 2.3, 22.5, 36.8, 40.0, 40.4, 60.9, 27.1, 72.0, 44.1, 11.7], 'Grade 6': [4.8, 20.0, 21.3, 2.1, 56.8, 42.9, 37.5, 9.6, 11.7], 'Grade 8': [2.9, 9.5, 18.6, 25.0, 21.0, 37.9, 25.0, 4.0, 4.9]}}, 'ela': {'2013': {'Grade 7': [8.9, 8.7, 20.0, 23.5, 12.7, 22.7, 10.0, 9.6], 'Grade 3': [8.3, 0.0, 13.3, 5.2, 32.0, 13.0, 37.0, 50.0, 14.1, 16.9], 'Grade 5': [9.1, 18.2, 13.3, 19.6, 8.7, 38.9, 30.8, 17.0, 3.0], 'Grade 4': [16.9, 4.3, 4.0, 21.3, 24.0, 8.5, 41.7, 61.5, 16.7, 8.6], 'Grade 6': [12.8, 25.0, 10.8, 30.6, 4.8, 27.0, 37.5, 20.3, 4.5], 'Grade 8': [7.7, 4.0, 32.0, 29.4, 14.6, 30.4, 12.3, 5.5]}, '2016': {'Grade 7': [7.9, 13.6, 17.4, 26.5, 19.4, 17.3, 47.4, 16.4, 20.5], 'Grade 3': [20.0, 10.9, 45.9, 30.5, 34.8, 40.4, 45.1, 50.0, 52.0, 25.9, 24.6], 'Grade 5': [11.1, 17.9, 18.6, 11.7, 14.9, 38.9, 32.0, 18.8, 26.7], 'Grade 4': [16.7, 6.8, 30.4, 18.8, 48.9, 31.2, 42.7, 22.6, 66.7, 15.7, 21.8], 'Grade 6': [10.9, 21.1, 20.3, 34.9, 30.2, 32.8, 46.2, 16.4, 14.0], 'Grade 8': [22.0, 31.6, 24.3, 11.1, 32.2, 44.6, 21.1, 16.5, 26.0]}, '2017': {'Grade 7': [2.7, 20.0, 15.5, 38.2, 18.0, 23.1, 52.2, 27.5, 21.1, 16.7], 'Grade 3': [15.4, 4.3, 29.4, 32.1, 19.4, 45.7, 61.4, 29.6, 35.6, 64.0, 28.9, 19.0], 'Grade 5': [4.7, 12.5, 19.2, 42.3, 35.4, 36.6, 34.7, 2.1, 23.4, 15.8, 20.3], 'Grade 4': [23.7, 17.4, 23.8, 25.8, 30.6, 12.5, 47.9, 46.7, 52.9, 25.0, 10.8], 'Grade 6': [15.2, 16.3, 7.9, 25.4, 24.5, 32.9, 38.8, 22.2, 18.9], 'Grade 8': [13.9, 38.1, 24.1, 43.1, 14.0, 46.0, 55.6, 23.5, 23.7]}, '2014': {'Grade 7': [24.4, 23.8, 5.2, 22.9, 8.7, 16.9, 23.8, 10.4, 12.9], 'Grade 3': [11.3, 23.3, 31.0, 17.3, 25.0, 5.9, 39.4, 22.9, 52.9, 21.7, 7.8], 'Grade 5': [7.0, 8.7, 7.9, 9.8, 7.3, 28.4, 42.3, 16.8, 10.4], 'Grade 4': [3.6, 13.6, 16.3, 26.8, 16.0, 27.1, 49.3, 69.2, 26.5, 11.1], 'Grade 6': [19.6, 0.0, 13.0, 19.6, 17.4, 26.8, 19.2, 11.3, 7.0], 'Grade 8': [10.3, 8.1, 29.4, 20.3, 14.5, 38.1, 16.2, 11.5]}, '2015': {'Grade 7': [7.7, 21.7, 6.8, 21.7, 21.1, 5.8, 20.8, 6.5, 17.5], 'Grade 3': [11.1, 11.1, 7.7, 13.7, 39.6, 35.8, 21.7, 33.3, 51.9, 17.9, 22.2], 'Grade 5': [8.5, 35.7, 10.8, 25.0, 12.8, 28.4, 41.7, 14.2, 21.7], 'Grade 4': [16.3, 13.6, 17.1, 21.1, 24.5, 17.6, 50.7, 29.2, 62.0, 31.5, 6.7], 'Grade 6': [7.1, 0.0, 13.3, 10.0, 21.6, 17.9, 45.8, 10.1, 16.1], 'Grade 8': [11.1, 18.2, 16.0, 31.1, 15.3, 15.5, 40.0, 6.8, 14.6]}}}\n",
      "9\n",
      "9\n",
      "[2.2, 18.8, 0.0, 20.3, 3.3, 27.3, 15.6, 3.8, 17.4]\n",
      "12.1\n",
      "[10.0, 0.0, 19.6, 8.6, 32.0, 10.9, 37.0, 73.1, 14.8, 30.8, 19.2]\n",
      "23.3\n",
      "[11.4, 9.1, 9.3, 20.0, 28.3, 40.3, 38.5, 24.6, 13.6, 28.2]\n",
      "22.3\n",
      "[11.9, 8.7, 16.0, 45.3, 20.0, 30.4, 56.3, 60.0, 39.1, 18.6, 36.5]\n",
      "31.2\n",
      "[19.1, 16.7, 17.6, 16.3, 11.1, 34.7, 56.5, 21.8, 6.0, 44.9]\n",
      "24.5\n",
      "[7.5, 24.0, 12.0, 21.4, 18.8, 52.2, 18.8, 9.1, 9.7]\n",
      "19.3\n",
      "[5.3, 9.5, 11.8, 9.1, 12.5, 22.9, 36.8, 4.9, 14.3, 15.6]\n",
      "14.3\n",
      "[20.0, 13.3, 39.5, 27.8, 46.8, 60.0, 23.9, 57.6, 50.0, 34.8, 22.1, 28.6]\n",
      "35.4\n",
      "[8.9, 15.4, 28.6, 20.7, 29.5, 47.9, 42.0, 38.6, 24.1, 22.5]\n",
      "27.8\n",
      "[14.6, 8.9, 17.8, 16.2, 54.8, 51.1, 57.5, 22.2, 74.5, 27.8, 23.2, 26.8]\n",
      "33.0\n",
      "[8.5, 20.0, 25.7, 24.4, 48.8, 59.4, 53.8, 13.6, 14.3, 33.0]\n",
      "30.1\n",
      "[2.4, 0.0, 22.1, 9.7, 45.5, 29.8, 20.0, 7.4, 8.6, 35.2]\n",
      "18.1\n",
      "[2.7, 10.3, 10.1, 19.6, 26.7, 23.5, 60.9, 21.9, 2.6, 5.9, 10.3]\n",
      "17.7\n",
      "[20.8, 8.7, 48.0, 45.3, 32.3, 53.3, 63.0, 32.9, 50.9, 65.3, 48.9, 12.1, 26.6]\n",
      "39.1\n",
      "[11.6, 7.3, 18.3, 32.1, 56.5, 50.0, 37.5, 14.9, 34.0, 31.1, 8.3, 32.2]\n",
      "27.8\n",
      "[17.2, 29.2, 39.5, 25.6, 36.0, 33.3, 50.0, 38.3, 51.0, 30.1, 2.9, 34.7]\n",
      "32.3\n",
      "[19.6, 15.6, 21.7, 29.3, 59.6, 53.1, 57.4, 14.6, 23.5, 43.0]\n",
      "33.7\n",
      "[5.7, 23.8, 0.0, 10.7, 0.0, 38.7, 50.0, 8.5, 2.9, 7.5]\n",
      "14.8\n",
      "[7.3, 9.5, 28.9, 31.2, 24.6, 20.3, 38.1, 22.8, 3.3, 21.7]\n",
      "20.8\n",
      "[24.5, 13.3, 33.3, 26.4, 35.8, 20.0, 34.8, 27.1, 62.7, 30.7, 15.7, 36.0]\n",
      "30.0\n",
      "[4.7, 0.0, 33.3, 9.8, 29.3, 47.9, 46.2, 18.9, 14.7, 37.7]\n",
      "24.2\n",
      "[16.4, 12.8, 11.6, 47.8, 12.0, 31.2, 75.3, 73.1, 35.4, 10.9, 17.8]\n",
      "31.3\n",
      "[26.7, 9.5, 24.7, 17.4, 34.1, 59.2, 42.3, 10.7, 14.8, 38.4]\n",
      "27.8\n",
      "[2.6, 2.1, 14.0, 16.4, 19.7, 38.1, 16.3, 0.0, 34.9]\n",
      "16.0\n",
      "[0.0, 0.0, 16.4, 23.3, 45.6, 12.0, 29.2, 7.4, 10.9, 28.3]\n",
      "17.3\n",
      "[18.5, 15.2, 26.0, 20.5, 55.3, 58.0, 20.9, 35.7, 55.8, 28.4, 40.7, 37.2]\n",
      "34.4\n",
      "[6.4, 14.0, 32.4, 18.6, 19.1, 63.5, 48.0, 33.0, 20.0, 18.8]\n",
      "27.4\n",
      "[34.7, 2.3, 22.5, 36.8, 40.0, 40.4, 60.9, 27.1, 72.0, 44.1, 11.7, 39.1]\n",
      "36.0\n",
      "[4.8, 20.0, 21.3, 2.1, 56.8, 42.9, 37.5, 9.6, 11.7, 37.9]\n",
      "24.5\n",
      "[2.9, 9.5, 18.6, 25.0, 21.0, 37.9, 25.0, 4.0, 4.9, 31.4]\n",
      "18.0\n",
      "[8.9, 8.7, 20.0, 23.5, 12.7, 22.7, 10.0, 9.6, 17.6]\n",
      "14.9\n",
      "[8.3, 0.0, 13.3, 5.2, 32.0, 13.0, 37.0, 50.0, 14.1, 16.9, 9.7]\n",
      "18.1\n",
      "[9.1, 18.2, 13.3, 19.6, 8.7, 38.9, 30.8, 17.0, 3.0, 18.1]\n",
      "17.7\n",
      "[16.9, 4.3, 4.0, 21.3, 24.0, 8.5, 41.7, 61.5, 16.7, 8.6, 20.3]\n",
      "20.7\n",
      "[12.8, 25.0, 10.8, 30.6, 4.8, 27.0, 37.5, 20.3, 4.5, 18.2]\n",
      "19.1\n",
      "[7.7, 4.0, 32.0, 29.4, 14.6, 30.4, 12.3, 5.5, 18.6]\n",
      "17.2\n",
      "[7.9, 13.6, 17.4, 26.5, 19.4, 17.3, 47.4, 16.4, 20.5, 13.9]\n",
      "20.0\n",
      "[20.0, 10.9, 45.9, 30.5, 34.8, 40.4, 45.1, 50.0, 52.0, 25.9, 24.6, 26.6]\n",
      "33.9\n",
      "[11.1, 17.9, 18.6, 11.7, 14.9, 38.9, 32.0, 18.8, 26.7, 14.1]\n",
      "20.5\n",
      "[16.7, 6.8, 30.4, 18.8, 48.9, 31.2, 42.7, 22.6, 66.7, 15.7, 21.8, 40.4]\n",
      "30.2\n",
      "[10.9, 21.1, 20.3, 34.9, 30.2, 32.8, 46.2, 16.4, 14.0, 19.6]\n",
      "24.6\n",
      "[22.0, 31.6, 24.3, 11.1, 32.2, 44.6, 21.1, 16.5, 26.0, 29.2]\n",
      "25.9\n",
      "[2.7, 20.0, 15.5, 38.2, 18.0, 23.1, 52.2, 27.5, 21.1, 16.7, 16.2]\n",
      "22.8\n",
      "[15.4, 4.3, 29.4, 32.1, 19.4, 45.7, 61.4, 29.6, 35.6, 64.0, 28.9, 19.0, 25.0]\n",
      "31.5\n",
      "[4.7, 12.5, 19.2, 42.3, 35.4, 36.6, 34.7, 2.1, 23.4, 15.8, 20.3, 19.1]\n",
      "22.2\n",
      "[23.7, 17.4, 23.8, 25.8, 30.6, 12.5, 47.9, 46.7, 52.9, 25.0, 10.8, 36.7]\n",
      "29.5\n",
      "[15.2, 16.3, 7.9, 25.4, 24.5, 32.9, 38.8, 22.2, 18.9, 22.1]\n",
      "22.4\n",
      "[13.9, 38.1, 24.1, 43.1, 14.0, 46.0, 55.6, 23.5, 23.7, 26.2]\n",
      "30.8\n",
      "[24.4, 23.8, 5.2, 22.9, 8.7, 16.9, 23.8, 10.4, 12.9, 24.3]\n",
      "17.3\n",
      "[11.3, 23.3, 31.0, 17.3, 25.0, 5.9, 39.4, 22.9, 52.9, 21.7, 7.8, 20.0]\n",
      "23.2\n",
      "[7.0, 8.7, 7.9, 9.8, 7.3, 28.4, 42.3, 16.8, 10.4, 14.3]\n",
      "15.3\n",
      "[3.6, 13.6, 16.3, 26.8, 16.0, 27.1, 49.3, 69.2, 26.5, 11.1, 19.2]\n",
      "25.3\n",
      "[19.6, 0.0, 13.0, 19.6, 17.4, 26.8, 19.2, 11.3, 7.0, 12.0]\n",
      "14.6\n",
      "[10.3, 8.1, 29.4, 20.3, 14.5, 38.1, 16.2, 11.5, 23.4]\n",
      "19.1\n",
      "[7.7, 21.7, 6.8, 21.7, 21.1, 5.8, 20.8, 6.5, 17.5, 15.9]\n",
      "14.6\n",
      "[11.1, 11.1, 7.7, 13.7, 39.6, 35.8, 21.7, 33.3, 51.9, 17.9, 22.2, 29.7]\n",
      "24.6\n",
      "[8.5, 35.7, 10.8, 25.0, 12.8, 28.4, 41.7, 14.2, 21.7, 13.0]\n",
      "21.2\n",
      "[16.3, 13.6, 17.1, 21.1, 24.5, 17.6, 50.7, 29.2, 62.0, 31.5, 6.7, 24.2]\n",
      "26.2\n",
      "[7.1, 0.0, 13.3, 10.0, 21.6, 17.9, 45.8, 10.1, 16.1, 11.6]\n",
      "15.3\n",
      "[11.1, 18.2, 16.0, 31.1, 15.3, 15.5, 40.0, 6.8, 14.6, 26.3]\n",
      "19.5\n"
     ]
    }
   ],
   "source": [
    "def calculate_charter_average():\n",
    "    \"\"\"from statistics import mean\n",
    "l = [15, 18, 2, 36, 12, 78, 5, 6, 9]\n",
    "mean(l)\"\"\"\n",
    "    charter_average = {'math': {}, 'ela': {}}\n",
    "    check = 0\n",
    "    #Get all values added to the correct subject/year/grade list\n",
    "    for charter,charter_info in clean_json['Charters']['schools'].items():\n",
    "        if charter != '8686868686868':\n",
    "            print(charter)\n",
    "            print(charter_info)\n",
    "            print('*****')\n",
    "            print(charter_average)\n",
    "            for subject in charter_average.keys():\n",
    "                subject_years = charter_info[subject].keys()\n",
    "                for year in subject_years:\n",
    "                    grades = charter_info[subject][year].keys()\n",
    "                    for grade in grades:\n",
    "                        if grade != 'total':\n",
    "                            if grade == 'Grade 7' and year == '2013' and subject == 'ela':\n",
    "                                check += 1\n",
    "                            if year not in charter_average[subject]:\n",
    "                                charter_average[subject][year] = {grade: [float(charter_info[subject][year][grade])]}\n",
    "                            elif grade not in charter_average[subject][year]:\n",
    "                                charter_average[subject][year][grade] = [float(charter_info[subject][year][grade])]\n",
    "                            else:\n",
    "                                charter_average[subject][year][grade].append(float(charter_info[subject][year][grade]))\n",
    "    print(len(charter_average['ela']['2013']['Grade 7']))\n",
    "    print(check)\n",
    "    #Start calculating the correct mean\n",
    "    from statistics import mean\n",
    "    for subject in charter_average:\n",
    "        for year in charter_average[subject]:\n",
    "            mean_grades = []\n",
    "            for grade in charter_average[subject][year]:\n",
    "                print(charter_average[subject][year][grade])\n",
    "                mean_score = \"{0:.1f}\".format(mean(charter_average[subject][year][grade]))\n",
    "                print(mean_score)\n",
    "                charter_average[subject][year][grade] = mean_score\n",
    "                mean_grades.append(float(mean_score))\n",
    "            charter_average[subject][year]['total'] = mean(mean_grades)\n",
    "    \n",
    "    clean_json['Charters']['schools']['8686868686868'] = charter_average\n",
    "    clean_json['Charters']['schools']['8686868686868']['name'] = 'Charter Average'\n",
    "                        \n",
    "calculate_charter_average()"
   ]
  },
  {
   "cell_type": "code",
   "execution_count": 68,
   "metadata": {
    "collapsed": false
   },
   "outputs": [
    {
     "name": "stdout",
     "output_type": "stream",
     "text": [
      "{'math': {'2013': {'total': 22.116666666666667, 'Grade 7': '12.1', 'Grade 3': '23.3', 'Grade 5': '22.3', 'Grade 4': '31.2', 'Grade 6': '24.5', 'Grade 8': '19.3'}, '2016': {'total': 26.45, 'Grade 7': '14.3', 'Grade 3': '35.4', 'Grade 5': '27.8', 'Grade 4': '33.0', 'Grade 6': '30.1', 'Grade 8': '18.1'}, '2017': {'total': 27.566666666666666, 'Grade 7': '17.7', 'Grade 3': '39.1', 'Grade 5': '27.8', 'Grade 4': '32.3', 'Grade 6': '33.7', 'Grade 8': '14.8'}, '2014': {'total': 25.016666666666666, 'Grade 7': '20.8', 'Grade 3': '30.0', 'Grade 5': '24.2', 'Grade 4': '31.3', 'Grade 6': '27.8', 'Grade 8': '16.0'}, '2015': {'total': 26.266666666666666, 'Grade 7': '17.3', 'Grade 3': '34.4', 'Grade 5': '27.4', 'Grade 4': '36.0', 'Grade 6': '24.5', 'Grade 8': '18.0'}}, 'name': 'Charter Average', 'ela': {'2013': {'total': 17.95, 'Grade 7': '14.9', 'Grade 3': '18.1', 'Grade 5': '17.7', 'Grade 4': '20.7', 'Grade 6': '19.1', 'Grade 8': '17.2'}, '2016': {'total': 25.85, 'Grade 7': '20.0', 'Grade 3': '33.9', 'Grade 5': '20.5', 'Grade 4': '30.2', 'Grade 6': '24.6', 'Grade 8': '25.9'}, '2017': {'total': 26.53333333333333, 'Grade 7': '22.8', 'Grade 3': '31.5', 'Grade 5': '22.2', 'Grade 4': '29.5', 'Grade 6': '22.4', 'Grade 8': '30.8'}, '2014': {'total': 19.133333333333333, 'Grade 7': '17.3', 'Grade 3': '23.2', 'Grade 5': '15.3', 'Grade 4': '25.3', 'Grade 6': '14.6', 'Grade 8': '19.1'}, '2015': {'total': 20.233333333333334, 'Grade 7': '14.6', 'Grade 3': '24.6', 'Grade 5': '21.2', 'Grade 4': '26.2', 'Grade 6': '15.3', 'Grade 8': '19.5'}}}\n"
     ]
    }
   ],
   "source": [
    "print(clean_json['Charters']['schools']['8686868686868'])"
   ]
  },
  {
   "cell_type": "code",
   "execution_count": 69,
   "metadata": {
    "collapsed": false
   },
   "outputs": [
    {
     "name": "stdout",
     "output_type": "stream",
     "text": [
      "{'math': {'2013': {'Grade 8': '28.2', 'Grade 5': '27.4', 'Grade 7': '26.7', 'Grade 3': '33.4', 'total': '30.2', 'Grade 6': '29.0', 'Grade 4': '36.8'}, '2016': {'Grade 8': '16.8', 'Grade 5': '38.1', 'Grade 7': '29.7', 'Grade 3': '40.3', 'total': '35.0', 'Grade 6': '36.4', 'Grade 4': '41.3'}, '2015': {'Grade 8': '16.6', 'Grade 5': '40.7', 'Grade 7': '30.8', 'Grade 3': '39.3', 'total': '35.2', 'Grade 6': '34.0', 'Grade 4': '42.7'}, '2014': {'Grade 8': '17.3', 'Grade 5': '36.0', 'Grade 7': '30.7', 'Grade 3': '40.9', 'total': '33.6', 'Grade 6': '33.3', 'Grade 4': '39.8'}, '2017': {'Grade 8': '13.3', 'Grade 5': '40.0', 'Grade 7': '33.1', 'Grade 3': '43.2', 'total': '36.2', 'Grade 6': '38.7', 'Grade 4': '39.3'}}, 'name': 'Erie County', 'district': 'ERIE COUNTY', 'ela': {'2013': {'Grade 8': '36.6', 'Grade 5': '28.4', 'Grade 7': '32.3', 'Grade 3': '32.0', 'total': '32.0', 'Grade 6': '32.6', 'Grade 4': '30.2'}, '2016': {'Grade 8': '35.5', 'Grade 5': '29.5', 'Grade 7': '30.4', 'Grade 3': '39.0', 'total': '33.9', 'Grade 6': '32.3', 'Grade 4': '35.7'}, '2015': {'Grade 8': '31.5', 'Grade 5': '28.1', 'Grade 7': '26.3', 'Grade 3': '29.6', 'total': '29.1', 'Grade 6': '27.2', 'Grade 4': '31.8'}, '2014': {'Grade 8': '33.2', 'Grade 5': '26.4', 'Grade 7': '26.7', 'Grade 3': '32.8', 'total': '29.8', 'Grade 6': '27.3', 'Grade 4': '32.7'}, '2017': {'Grade 8': '36.3', 'Grade 5': '30.4', 'Grade 7': '36.4', 'Grade 3': '37.4', 'total': '34.2', 'Grade 6': '29.3', 'Grade 4': '35.3'}}}\n",
      "[['140000000000', 'Erie County'], ['142101040000', 'AKRON SCHOOL DISTRICT'], ['142101040001', 'Akron Elementary'], ['142101040003', 'Akron Middle'], ['140101060000', 'ALDEN SCHOOL DISTRICT'], ['140101060007', 'Alden Intermediate'], ['140101060005', 'Alden Middle'], ['140201060000', 'AMHERST'], ['140201060001', 'Amherst Middle'], ['140201060005', 'Smallwood'], ['140201060006', 'Windermere'], ['140701060000', 'CHEEKTOWAGA SCHOOL DISTRICT'], ['140701060007', 'Cheektowaga Middle'], ['140701060008', 'Pine Hill'], ['140701060004', 'Union East'], ['140801060000', 'CLARENCE SCHOOL DISTRICT'], ['140801060007', 'Clarence Center Elem.'], ['140801060008', 'Clarence Middle'], ['140801060002', 'Harris Hill Elementary'], ['140801060003', 'Ledgeview Elementary'], ['140801060005', 'Sheridan Hill Elementary'], ['140703020000', 'CLEVELAND HILL SCHOOL DISTRICT'], ['140703020002', 'Cleveland Hill Elem.'], ['140703020004', 'Cleveland Hill Middle'], ['140707030000', 'DEPEW SCHOOL DISTRICT'], ['140707030005', 'Cayuga Heights Elem.'], ['140707030004', 'Depew Middle'], ['140301030000', 'EAST AURORA SCHOOL DISTRICT'], ['140301030004', 'East Aurora Middle'], ['140301030001', 'Parkdale Elementary'], ['141201060000', 'EDEN SCHOOL DISTRICT'], ['141201060005', 'Eden Elementary'], ['141201060001', 'Eden Junior-Senior High'], ['141604060000', 'FRONTIER SCHOOL DISTRICT'], ['141604060003', 'Big Tree Elementary'], ['141604060004', 'Blasdell Elementary'], ['141604060005', 'Cloverbank Elementary'], ['141604060007', 'Frontier Middle'], ['141604060006', 'Pinehurst Elementary'], ['141501060000', 'GRAND ISLAND SCHOOL DISTRICT'], ['141501060005', 'Connor Middle'], ['141501060001', 'Huth Road'], ['141501060003', 'Kaegebein'], ['141601060000', 'HAMBURG SCHOOL DISTRICT'], ['141601060001', 'Armor Elementary'], ['141601060002', 'Boston Valley Elem.'], ['141601060003', 'Charlotte Ave. Elem.'], ['141601060006', 'Hamburg Middle'], ['141601060004', 'Union Pleasant Elem.'], ['141701040000', 'HOLLAND SCHOOL DISTRICT'], ['141701040002', 'Brumsted Elementary'], ['141701040001', 'Holland Junior/Senior High'], ['141301060000', 'IROQUOIS SCHOOL DISTRICT'], ['141301060007', 'Elma Primary'], ['141301060002', 'Iroquois Intermediate'], ['141301060005', 'Iroquois Middle'], ['141301060003', 'Marilla Primary'], ['141301060004', 'Wales Primary'], ['142601030000', 'KEN-TON SCHOOL DISTRICT'], ['142601030020', 'Edison Elementary'], ['142601030023', 'Franklin Elementary'], ['142601030003', 'Franklin Middle'], ['142601030013', 'Holmes Elementary'], ['142601030024', 'Hoover Elementary'], ['142601030011', 'Hoover Middle'], ['142601030025', 'Kenmore East High School'], ['142601030026', 'Kenmore West High School'], ['142601030006', 'Lindbergh Elementary'], ['141800010000', 'LACKAWANNA SCHOOL DISTRICT'], ['141800010005', 'Lackawanna Middle'], ['141800010011', 'Martin Road Elementary'], ['141401060000', 'LAKE SHORE SCHOOL DISTRICT'], ['141401060001', 'Highland Elementary'], ['141401060009', 'Lake Shore Middle'], ['141401060008', 'Schmidt Elementary'], ['141401060004', 'Waugh Elementary'], ['141901060000', 'LANCASTER SCHOOL DISTRICT'], ['141901060004', 'Como Park Elementary'], ['141901060005', 'Court Street Elementary'], ['141901060006', 'Hillview Elementary'], ['141901060007', 'Lancaster Middle'], ['141901060001', 'Sciole Elementary'], ['141901060010', 'William Street'], ['140702030000', 'MARYVALE SCHOOL DISTRICT'], ['140702030004', 'Maryvale Intermediate'], ['140702030005', 'Maryvale Middle'], ['142201040000', 'NORTH COLLINS SCHOOL DISTRICT'], ['142201040002', 'North Collins Elementary'], ['142201040001', 'North Collins Junior-Senior'], ['142301060000', 'ORCHARD PARK SCHOOL DISTRICT'], ['142301060003', 'Eggert Road Elementary'], ['142301060007', 'Ellicott Road Elementary'], ['142301060002', 'Orchard Park Middle'], ['142301060005', 'South Davis Elementary'], ['142301060001', 'Windom Elementary'], ['140709030000', 'SLOAN SCHOOL DISTRICT'], ['140709030003', 'JFK Middle'], ['140709030002', 'Wilson Elementary'], ['141101060000', 'SPRINGVILLE-GRIFFITH SCH. DIST.'], ['141101060002', 'Colden Elementary'], ['141101060004', 'Griffith Institute Middle'], ['141101060003', 'Springville Elementary'], ['140207060000', 'SWEET HOME SCHOOL DISTRICT'], ['140207060002', 'Glendale Elementary'], ['140207060008', 'Heritage Heights Elem.'], ['140207060003', 'Maplemere Elementary'], ['140207060005', 'Sweet Home Middle'], ['140207060007', 'Willow Ridge Elementary'], ['142500010000', 'TONAWANDA SCHOOL DISTRICT'], ['142500010003', 'Fletcher Elementary'], ['142500010005', 'Mullen Elementary'], ['142500010007', 'Riverview Elementary'], ['142500010009', 'Tonawanda Middle/High'], ['142801060000', 'WEST SENECA SCHOOL DISTRICT'], ['142801060003', 'Allendale Elementary'], ['142801060015', 'Clinton Elementary'], ['142801060005', 'East Middle'], ['142801060017', 'Northwood Elementary'], ['142801060018', 'West Elementary'], ['142801060011', 'West Middle'], ['142801060008', 'Winchester Elementary'], ['140203060000', 'WILLIAMSVILLE SCHOOL DISTRICT'], ['140203060012', 'Casey Middle'], ['140203060011', 'Country Parkway Elem.'], ['140203060002', 'Dodge Elementary'], ['140203060007', 'Forest Elementary'], ['140203060005', 'Heim Elementary'], ['140203060009', 'Heim Middle'], ['140203060003', 'Maple East Elementary'], ['140203060008', 'Maple West Elementary'], ['140203060001', 'Mill Middle'], ['140203060015', 'Transit Middle']]\n"
     ]
    }
   ],
   "source": [
    "print(clean_json['Erie']['schools']['140000000000'])\n",
    "print(clean_json['Erie']['ordered_schools'])\n",
    "\n",
    "import json\n",
    "with open('data.json', 'w') as output:\n",
    "    json.dump(clean_json, output)"
   ]
  },
  {
   "cell_type": "code",
   "execution_count": null,
   "metadata": {
    "collapsed": true
   },
   "outputs": [],
   "source": []
  }
 ],
 "metadata": {
  "kernelspec": {
   "display_name": "Python 3",
   "language": "python",
   "name": "python3"
  },
  "language_info": {
   "codemirror_mode": {
    "name": "ipython",
    "version": 3
   },
   "file_extension": ".py",
   "mimetype": "text/x-python",
   "name": "python",
   "nbconvert_exporter": "python",
   "pygments_lexer": "ipython3",
   "version": "3.5.2"
  }
 },
 "nbformat": 4,
 "nbformat_minor": 2
}
