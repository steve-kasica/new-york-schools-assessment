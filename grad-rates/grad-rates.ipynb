{
 "cells": [
  {
   "cell_type": "markdown",
   "metadata": {},
   "source": [
    "# Calculating graduation rates and its percent change in New York State education data\n",
    "\n",
    "After downloading the [2015, 2016 and 2017 data from the New York State Education Department](https://data.nysed.gov/downloads.php), this program calculates the percent proficient, scoring at Level 3 or 4, of each school. The percent proficient is calculated by adding each raw proficient count together for available grades and then dividing the total test takers. The 2013 and 2014 files were first converted from .mdb file format."
   ]
  },
  {
   "cell_type": "code",
   "execution_count": 1,
   "metadata": {
    "collapsed": false
   },
   "outputs": [],
   "source": [
    "import agate\n",
    "import csv"
   ]
  },
  {
   "cell_type": "markdown",
   "metadata": {},
   "source": [
    "Due to missing school values and changes in data columns, I needed two different typetesters to force the columns into their correct formatting."
   ]
  },
  {
   "cell_type": "code",
   "execution_count": 45,
   "metadata": {
    "collapsed": false
   },
   "outputs": [],
   "source": [
    "tester_16 = agate.TypeTester(limit=200,force={\n",
    "    'NRC_DESC': agate.Text(),\n",
    "    'NRC_CODE': agate.Number(),\n",
    "        'LEA_BEDS': agate.Text(),\n",
    "        'COUNTY_CODE': agate.Text(),\n",
    "        'AGGREGATION_CODE': agate.Text(),\n",
    "        'AGGREGATION_INDEX': agate.Text(),\n",
    "        'COUNTY_NAME': agate.Text(),\n",
    "        'BOCES_CODE': agate.Text(),\n",
    "        'BOCES_NAME': agate.Text(),\n",
    "        'LEA_NAME': agate.Text(),\n",
    "        'MEMBERSHIP_DESC': agate.Text()\n",
    "})"
   ]
  },
  {
   "cell_type": "markdown",
   "metadata": {},
   "source": [
    "This program takes in the csv of a specific year's assesment data and its tester and returns a dictionary of BEDS (state id codes) and test data."
   ]
  },
  {
   "cell_type": "code",
   "execution_count": 49,
   "metadata": {
    "collapsed": true
   },
   "outputs": [],
   "source": [
    "def get_percent_dictionary(file_name, tester):\n",
    "    year = file_name[-8:-4]\n",
    "    print(year)\n",
    "    year4 = int(year) - 4\n",
    "    year_stat = \"{0} Total Cohort - 4 Year Outcome\".format(year4)\n",
    "    print(year_stat)\n",
    "    schools = agate.Table.from_csv(file_name, column_types=tester)\n",
    "    #Grab just Erie and Niagara schools, filtering out available subgroups and total county stats\n",
    "    erie_niagara = schools.where(lambda row: row['COUNTY_NAME'] in ['ERIE', 'NIAGARA']).where(lambda row: row['SUBGROUP_NAME'] in ['All Students']).where(lambda row: row['AGGREGATION_TYPE'] in ['School']).where(lambda row: row['MEMBERSHIP_DESC'] in [year_stat])\n",
    "    print(len(erie_niagara.rows))\n",
    "    #Data doesn't include district information, but the first six digits of a school's BEDS codes includes that info.\n",
    "    # Form the data structure for each school with beds code as a key\n",
    "    schools_info = {}\n",
    "    for row in erie_niagara.rows:\n",
    "        \"\"\"name = School name\n",
    "        grad_pct = graduation rate for 4 year cohort\n",
    "        district = district name\n",
    "        county = county\"\"\"\n",
    "        schools_info[row['AGGREGATION_CODE']] = {'name': row['AGGREGATION_NAME'], 'grad_pct': row['REG_PCT'][:-1], 'district': row['LEA_NAME'], 'county': row['COUNTY_NAME'] }\n",
    "    return schools_info"
   ]
  },
  {
   "cell_type": "code",
   "execution_count": 58,
   "metadata": {
    "collapsed": false
   },
   "outputs": [
    {
     "name": "stdout",
     "output_type": "stream",
     "text": [
      "2016\n",
      "2012 Total Cohort - 4 Year Outcome\n",
      "68\n"
     ]
    }
   ],
   "source": [
    "year_17 = get_percent_dictionary('GRAD_RATE_AND_OUTCOMES_2016.csv', tester_16)\n",
    "#Note just changing so I don't have to rechange everything"
   ]
  },
  {
   "cell_type": "code",
   "execution_count": 59,
   "metadata": {
    "collapsed": false
   },
   "outputs": [
    {
     "name": "stdout",
     "output_type": "stream",
     "text": [
      "2015\n",
      "2011 Total Cohort - 4 Year Outcome\n",
      "68\n"
     ]
    }
   ],
   "source": [
    "year_16 = get_percent_dictionary('GRAD_RATE_AND_OUTCOMES_2015.csv',tester_16)"
   ]
  },
  {
   "cell_type": "code",
   "execution_count": 7,
   "metadata": {
    "collapsed": false
   },
   "outputs": [
    {
     "name": "stdout",
     "output_type": "stream",
     "text": [
      "1859\n"
     ]
    }
   ],
   "source": [
    "year_14 = get_percent_dictionary('3-8_ELA_AND_MATH_2014.csv',tester_15)"
   ]
  },
  {
   "cell_type": "code",
   "execution_count": 8,
   "metadata": {
    "collapsed": false
   },
   "outputs": [
    {
     "name": "stdout",
     "output_type": "stream",
     "text": [
      "1888\n"
     ]
    }
   ],
   "source": [
    "year_13 = get_percent_dictionary('3-8_ELA_AND_MATH_2013.csv',tester_15)"
   ]
  },
  {
   "cell_type": "markdown",
   "metadata": {},
   "source": [
    "Example of each year returning data for a specific school"
   ]
  },
  {
   "cell_type": "code",
   "execution_count": 60,
   "metadata": {
    "collapsed": false
   },
   "outputs": [
    {
     "name": "stdout",
     "output_type": "stream",
     "text": [
      "{'name': 'GLOBAL CONCEPTS CHARTER SCHOOL', 'county': 'ERIE', 'grad_pct': '79', 'district': 'GLOBAL CONCEPTS CHARTER SCHOOL'}\n",
      "{'name': 'GLOBAL CONCEPTS CHARTER SCHOOL', 'county': 'ERIE', 'grad_pct': '56', 'district': 'GLOBAL CONCEPTS CHARTER SCHOOL'}\n"
     ]
    }
   ],
   "source": [
    "print(year_17['141800860044'])\n",
    "print(year_16['141800860044'])"
   ]
  },
  {
   "cell_type": "markdown",
   "metadata": {},
   "source": [
    "Backfilling new 2017 schools"
   ]
  },
  {
   "cell_type": "code",
   "execution_count": 55,
   "metadata": {
    "collapsed": false
   },
   "outputs": [
    {
     "name": "stdout",
     "output_type": "stream",
     "text": [
      "not in 2015 NEWFANE SENIOR HIGH SCHOOL\n",
      "not in 2015 NORTH TONAWANDA HIGH SCHOOL\n",
      "not in 2015 LOCKPORT HIGH SCHOOL\n",
      "not in 2015 LEWISTON PORTER SENIOR HIGH SCHOOL\n",
      "not in 2015 BARKER JR/SR HIGH SCHOOL\n",
      "not in 2015 NIAGARA FALLS HIGH SCHOOL\n",
      "not in 2015 STARPOINT HIGH SCHOOL\n",
      "not in 2015 NIAGARA-WHEATFIELD SR HIGH SCHOOL\n",
      "not in 2015 WILSON HIGH SCHOOL\n",
      "not in 2015 ROYALTON-HARTLAND HIGH SCHOOL\n"
     ]
    }
   ],
   "source": [
    "for school in year_16:\n",
    "    if school not in year_15:\n",
    "        print('not in 2015 {0}'.format(year_16[school]['name']))\n",
    "        year_15[school] = {'name': year_16[school]['name'], 'county': year_16[school]['county'], 'district': year_16[school]['district'], 'grad_pct': '-'}"
   ]
  },
  {
   "cell_type": "code",
   "execution_count": 10,
   "metadata": {
    "collapsed": true
   },
   "outputs": [
    {
     "name": "stdout",
     "output_type": "stream",
     "text": [
      "not in 2016 NEWCOMER ACADEMY AT LAFAYETTE\n",
      "not in 2015 NEWCOMER ACADEMY AT LAFAYETTE\n",
      "not in 2014 NEWCOMER ACADEMY AT LAFAYETTE\n",
      "not in 2013 NEWCOMER ACADEMY AT LAFAYETTE\n",
      "not in 2016 CHARTER SCHOOL OF INQUIRY\n",
      "not in 2015 CHARTER SCHOOL OF INQUIRY\n",
      "not in 2014 CHARTER SCHOOL OF INQUIRY\n",
      "not in 2013 CHARTER SCHOOL OF INQUIRY\n",
      "not in 2013 WEST BUFFALO CHARTER SCHOOL\n",
      "not in 2016 KENMORE WEST SENIOR HIGH SCHOOL\n",
      "not in 2015 KENMORE WEST SENIOR HIGH SCHOOL\n",
      "not in 2014 KENMORE WEST SENIOR HIGH SCHOOL\n",
      "not in 2013 KENMORE WEST SENIOR HIGH SCHOOL\n",
      "not in 2016 KENMORE EAST SENIOR HIGH SCHOOL\n",
      "not in 2015 KENMORE EAST SENIOR HIGH SCHOOL\n",
      "not in 2014 KENMORE EAST SENIOR HIGH SCHOOL\n",
      "not in 2013 KENMORE EAST SENIOR HIGH SCHOOL\n",
      "not in 2016 ALDEN INTERMEDIATE SCHOOL\n",
      "not in 2015 ALDEN INTERMEDIATE SCHOOL\n",
      "not in 2014 ALDEN INTERMEDIATE SCHOOL\n",
      "not in 2013 ALDEN INTERMEDIATE SCHOOL\n",
      "not in 2016 WESTERN NEW YORK MARITIME CHARTER SCHOOL\n",
      "not in 2015 WESTERN NEW YORK MARITIME CHARTER SCHOOL\n",
      "not in 2014 WESTERN NEW YORK MARITIME CHARTER SCHOOL\n",
      "not in 2013 WESTERN NEW YORK MARITIME CHARTER SCHOOL\n",
      "Not in 2017 142601030022 KENMORE MIDDLE SCHOOL\n",
      "Not in 2017 140101060003 ALDEN PRIMARY AT TOWNLINE\n",
      "Not in 2017 140600010039 DR MARTIN LUTHER KING, JR MULTICULTURAL INSTITUTE\n",
      "Not in 2017 142601030002 ALEXANDER HAMILTON ELEMENTARY SCHOOL\n",
      "Not in 2017 140600010107 LAFAYETTE HIGH SCHOOL\n",
      "Not in 2017 142601030019 THEODORE ROOSEVELT ELEMENTARY SCHOOL\n",
      "checking 2015\n",
      "Not in 2017 142601030022 KENMORE MIDDLE SCHOOL\n",
      "Not in 2017 140101060003 ALDEN PRIMARY AT TOWNLINE\n",
      "Not in 2017 140600010039 DR MARTIN LUTHER KING, JR MULTICULTURAL INSTITUTE\n",
      "Not in 2017 142601030002 ALEXANDER HAMILTON ELEMENTARY SCHOOL\n",
      "Not in 2017 140600010107 LAFAYETTE HIGH SCHOOL\n",
      "Not in 2017 400301060006 LEWISTON PORTER SENIOR HIGH SCHOOL\n",
      "Not in 2016 400301060006 LEWISTON PORTER SENIOR HIGH SCHOOL\n",
      "Not in 2017 142801060001 POTTERS ROAD SCHOOL\n",
      "Not in 2016 142801060001 POTTERS ROAD SCHOOL\n",
      "Not in 2017 142601030019 THEODORE ROOSEVELT ELEMENTARY SCHOOL\n"
     ]
    }
   ],
   "source": [
    "for school in year_17:\n",
    "    if school not in year_16:\n",
    "        print('not in 2016 {0}'.format(year_17[school]['name']))\n",
    "        year_16[school] = {'name': year_17[school]['name'], 'county': year_17[school]['county'], 'district': year_17[school]['district'], 'grad_pct': '-'}\n",
    "    if school not in year_15:\n",
    "        print('not in 2015 {0}'.format(year_17[school]['name']))\n",
    "        year_15[school] = {'name': year_17[school]['name'], 'county': year_17[school]['county'], 'district': year_17[school]['district'], 'math': {'totals': [], 'proficient': [], 'classes': [], 'total_percent': '-'}, 'ela': {'totals': [], 'proficient': [], 'classes': [], 'total_percent': '-'}}\n",
    "    if school not in year_14:\n",
    "        print('not in 2014 {0}'.format(year_17[school]['name']))\n",
    "        year_14[school] = {'name': year_17[school]['name'], 'county': year_17[school]['county'], 'district': year_17[school]['district'], 'math': {'totals': [], 'proficient': [], 'classes': [], 'total_percent': '-'}, 'ela': {'totals': [], 'proficient': [], 'classes': [], 'total_percent': '-'}}\n",
    "    if school not in year_13:\n",
    "        print('not in 2013 {0}'.format(year_17[school]['name']))\n",
    "        year_13[school] = {'name': year_17[school]['name'], 'county': year_17[school]['county'], 'district': year_17[school]['district'], 'math': {'totals': [], 'proficient': [], 'classes': [], 'total_percent': '-'}, 'ela': {'totals': [], 'proficient': [], 'classes': [], 'total_percent': '-'}}\n",
    "for school in year_16:\n",
    "    if school not in year_17:\n",
    "        print ('Not in 2017 {0} {1}'.format(school, year_16[school]['name']))\n",
    "    if school not in year_15:\n",
    "        print ('Not in 2015 {0} {1}'.format(school, year_16[school]['name']))\n",
    "print('checking 2015')\n",
    "for school in year_15:\n",
    "    if school not in year_17:\n",
    "        print ('Not in 2017 {0} {1}'.format(school, year_15[school]['name']))\n",
    "    if school not in year_16:\n",
    "        print ('Not in 2016 {0} {1}'.format(school, year_15[school]['name']))"
   ]
  },
  {
   "cell_type": "markdown",
   "metadata": {},
   "source": [
    "Grab clean school/district names and which schools are charters"
   ]
  },
  {
   "cell_type": "code",
   "execution_count": 57,
   "metadata": {
    "collapsed": false
   },
   "outputs": [
    {
     "data": {
      "text/plain": [
       "'Alden Intermediate'"
      ]
     },
     "execution_count": 57,
     "metadata": {},
     "output_type": "execute_result"
    }
   ],
   "source": [
    "clean_names = {}\n",
    "charters = []\n",
    "with open('../school_name_dictionary.csv') as csvfile:\n",
    "    reader = csv.DictReader(csvfile)\n",
    "    for row in reader:\n",
    "        clean_names[row['BEDS']] = row['clean_school']\n",
    "        if len(row['charter']) == 1:\n",
    "            charters.append(row['BEDS'])\n",
    "clean_names['140101060007']"
   ]
  },
  {
   "cell_type": "markdown",
   "metadata": {},
   "source": [
    "Separate schools/district into county lists for print, and create dictionary with included schools and codes."
   ]
  },
  {
   "cell_type": "code",
   "execution_count": 68,
   "metadata": {
    "collapsed": false
   },
   "outputs": [
    {
     "name": "stdout",
     "output_type": "stream",
     "text": [
      "{}\n",
      "[{'charter': '', 'school': 'LEONARDO DA VINCI HIGH SCHOOL', 'clean_school': '', 'BEDS': '140600010128'}, {'charter': '', 'school': 'NEWFANE SENIOR HIGH SCHOOL', 'clean_school': '', 'BEDS': '4.00601E+11'}, {'charter': '', 'school': 'GRAND ISLAND SENIOR HIGH SCHOOL', 'clean_school': '', 'BEDS': '141501060004'}, {'charter': '', 'school': 'ORCHARD PARK HIGH SCHOOL', 'clean_school': '', 'BEDS': '142301060006'}, {'charter': '', 'school': 'DEPEW HIGH SCHOOL', 'clean_school': '', 'BEDS': '140707030003'}, {'charter': '', 'school': 'LAFAYETTE HIGH SCHOOL', 'clean_school': '', 'BEDS': '140600010107'}, {'charter': '', 'school': 'NORTH TONAWANDA HIGH SCHOOL', 'clean_school': '', 'BEDS': '4.009E+11'}, {'charter': '', 'school': 'WILLIAMSVILLE SOUTH HIGH SCHOOL', 'clean_school': '', 'BEDS': '140203060004'}, {'charter': '', 'school': 'LOCKPORT HIGH SCHOOL', 'clean_school': '', 'BEDS': '4.004E+11'}, {'charter': '', 'school': 'JOHN F KENNEDY SENIOR HIGH SCHOOL', 'clean_school': '', 'BEDS': '140709030004'}, {'charter': '', 'school': 'WEST SENECA EAST SENIOR HIGH SCHOOL', 'clean_school': '', 'BEDS': '142801060016'}, {'charter': '', 'school': 'HUTCHINSON CENTRAL TECH HIGH SCHOOL', 'clean_school': '', 'BEDS': '140600010105'}, {'charter': '', 'school': 'WEST SENECA WEST SENIOR HIGH SCHOOL', 'clean_school': '', 'BEDS': '142801060010'}, {'charter': '', 'school': 'LEWISTON PORTER SENIOR HIGH SCHOOL', 'clean_school': '', 'BEDS': '4.00301E+11'}, {'charter': '', 'school': 'CHEEKTOWAGA HIGH SCHOOL', 'clean_school': '', 'BEDS': '140701060006'}, {'charter': '', 'school': 'MIDDLE EARLY COLLEGE HIGH SCHOOL', 'clean_school': '', 'BEDS': '140600010135'}, {'charter': '', 'school': 'SOUTH PARK HIGH SCHOOL', 'clean_school': '', 'BEDS': '140600010110'}, {'charter': '', 'school': 'RIVERSIDE INSTITUTE OF TECHNOLOGY', 'clean_school': '', 'BEDS': '140600010108'}, {'charter': '', 'school': 'HEALTH SCIENCES CHARTER SCHOOL', 'clean_school': '', 'BEDS': '140600860961'}, {'charter': '', 'school': 'WILLIAMSVILLE EAST HIGH SCHOOL', 'clean_school': '', 'BEDS': '140203060013'}, {'charter': '', 'school': 'BARKER JR/SR HIGH SCHOOL', 'clean_school': '', 'BEDS': '4.01301E+11'}, {'charter': '', 'school': 'MARYVALE HIGH SCHOOL', 'clean_school': '', 'BEDS': '140702030006'}, {'charter': '', 'school': 'MCKINLEY VOC HIGH SCHOOL', 'clean_school': '', 'BEDS': '140600010098'}, {'charter': '', 'school': 'FRONTIER SENIOR HIGH SCHOOL', 'clean_school': '', 'BEDS': '141604060008'}, {'charter': '', 'school': 'ORACLE CHARTER SCHOOL', 'clean_school': '', 'BEDS': '140600860868'}, {'charter': '', 'school': 'NIAGARA FALLS HIGH SCHOOL', 'clean_school': '', 'BEDS': '4.008E+11'}, {'charter': '', 'school': 'HAMBURG HIGH SCHOOL', 'clean_school': '', 'BEDS': '141601060007'}, {'charter': '', 'school': 'STARPOINT HIGH SCHOOL', 'clean_school': '', 'BEDS': '4.01001E+11'}, {'charter': '', 'school': 'NIAGARA-WHEATFIELD SR HIGH SCHOOL', 'clean_school': '', 'BEDS': '4.00701E+11'}, {'charter': '', 'school': 'IROQUOIS SENIOR HIGH SCHOOL', 'clean_school': '', 'BEDS': '141301060006'}, {'charter': '', 'school': 'EAST AURORA HIGH SCHOOL', 'clean_school': '', 'BEDS': '140301030005'}, {'charter': '', 'school': 'ALDEN SENIOR HIGH SCHOOL', 'clean_school': '', 'BEDS': '140101060006'}, {'charter': '', 'school': 'AMHERST CENTRAL HIGH SCHOOL', 'clean_school': '', 'BEDS': '140201060002'}, {'charter': '', 'school': 'PS 42 OCCUPATIONAL TRAINING CTR', 'clean_school': '', 'BEDS': '140600010042'}, {'charter': '', 'school': 'SWEET HOME SENIOR HIGH SCHOOL', 'clean_school': '', 'BEDS': '140207060006'}, {'charter': '', 'school': 'AKRON HIGH SCHOOL', 'clean_school': '', 'BEDS': '142101040002'}, {'charter': '', 'school': 'CLEVELAND HILL HIGH SCHOOL', 'clean_school': '', 'BEDS': '140703020003'}, {'charter': '', 'school': 'WILLIAMSVILLE NORTH HIGH SCHOOL', 'clean_school': '', 'BEDS': '140203060010'}, {'charter': '', 'school': 'CLARENCE SENIOR HIGH SCHOOL', 'clean_school': '', 'BEDS': '140801060006'}, {'charter': '', 'school': 'BURGARD VOC HIGH SCHOOL', 'clean_school': '', 'BEDS': '140600010101'}, {'charter': '', 'school': 'LAKE SHORE SENIOR HIGH SCHOOL', 'clean_school': '', 'BEDS': '141401060003'}, {'charter': '', 'school': 'LACKAWANNA HIGH SCHOOL', 'clean_school': '', 'BEDS': '141800010008'}, {'charter': '', 'school': 'WILSON HIGH SCHOOL', 'clean_school': '', 'BEDS': '4.01501E+11'}, {'charter': '', 'school': 'EMERSON SCHOOL OF HOSPITALITY', 'clean_school': '', 'BEDS': '140600010104'}, {'charter': '', 'school': 'BENNETT HIGH SCHOOL', 'clean_school': '', 'BEDS': '140600010099'}, {'charter': '', 'school': 'PS 84', 'clean_school': '', 'BEDS': '140600010084'}, {'charter': '', 'school': 'GRIFFITH INST HIGH SCHOOL', 'clean_school': '', 'BEDS': '141101060001'}, {'charter': '', 'school': 'LANCASTER HIGH SCHOOL', 'clean_school': '', 'BEDS': '141901060008'}, {'charter': '', 'school': 'ROYALTON-HARTLAND HIGH SCHOOL', 'clean_school': '', 'BEDS': '4.01201E+11'}, {'charter': '', 'school': 'EAST HIGH SCHOOL', 'clean_school': '', 'BEDS': '140600010307'}]\n"
     ]
    },
    {
     "data": {
      "text/plain": [
       "\"with open('../school_name_dictionary.csv', 'a') as csvfile:\\n    fieldnames = ['BEDS', 'school', 'clean_school', 'charter']\\n    writer = csv.DictWriter(csvfile, fieldnames=fieldnames)\\n    for row in missing_list:\\n        writer.writerow(row)\""
      ]
     },
     "execution_count": 68,
     "metadata": {},
     "output_type": "execute_result"
    }
   ],
   "source": [
    "erie_list = {}\n",
    "niagara_list = {}\n",
    "charter_list = {}\n",
    "missing_list = []\n",
    "for key, value in year_17.items():\n",
    "    try:\n",
    "        if key not in charters:\n",
    "            if value['county'] == 'ERIE':\n",
    "\n",
    "                erie_list[key] = {'name': clean_names[key],'dist_key': value['name']}\n",
    "            else:\n",
    "                niagara_list[key] = {'name': clean_names[key],'dist_key': value['name']}\n",
    "        else:\n",
    "            charter_list[key] = clean_names[key]\n",
    "    except KeyError:\n",
    "        \"\"\"print('$$$$Missing school in school_name_dictionary$$$')\n",
    "        print (value['name'])\n",
    "        print(key)\"\"\"\n",
    "        missing_list.append({'BEDS': key, 'school': value['name'], 'clean_school': '', 'charter': ''})\n",
    "print(niagara_list)\n",
    "print(missing_list)\n",
    "\"\"\"with open('../school_name_dictionary.csv', 'a') as csvfile:\n",
    "    fieldnames = ['BEDS', 'school', 'clean_school', 'charter']\n",
    "    writer = csv.DictWriter(csvfile, fieldnames=fieldnames)\n",
    "    for row in missing_list:\n",
    "        writer.writerow(row)\"\"\""
   ]
  },
  {
   "cell_type": "code",
   "execution_count": 18,
   "metadata": {
    "collapsed": false
   },
   "outputs": [],
   "source": [
    "def percent_change(new,old):\n",
    "    try:\n",
    "        calculate = (new-old)/old\n",
    "        percent = calculate * 100\n",
    "        one_decimal = float(\"{0:.1f}\".format(percent))\n",
    "        return one_decimal\n",
    "    except (ZeroDivisionError,TypeError):\n",
    "        return '-'"
   ]
  },
  {
   "cell_type": "markdown",
   "metadata": {},
   "source": [
    "Exporting for print"
   ]
  },
  {
   "cell_type": "code",
   "execution_count": 23,
   "metadata": {
    "collapsed": false
   },
   "outputs": [
    {
     "name": "stdout",
     "output_type": "stream",
     "text": [
      "Begging erie\n",
      "Begging niagara\n",
      "Begging charter\n",
      "28 erie districts and 10 niagara districts 15 charters\n"
     ]
    }
   ],
   "source": [
    "erie_districts = 0\n",
    "niagara_districts = 0\n",
    "charter_districts = 0\n",
    "def export_county_schools(county_list, county):\n",
    "    print('Begging {0}'.format(county))\n",
    "    county_count = 0\n",
    "    if county != 'charter':\n",
    "        #Sort the county of district id's by its name value.\n",
    "        sorted_county = sorted(county_list, key= lambda district: county_list[district]['name'])\n",
    "        for district in sorted_county:\n",
    "            county_count += 1\n",
    "            #print('*** starting district {0}'.format(county_list[district]['name']))\n",
    "            pc_ela_15_17 = percent_change(year_17[district]['ela']['total_percent'],year_15[district]['ela']['total_percent'])\n",
    "            pc_ela_16_17 = percent_change(year_17[district]['ela']['total_percent'],year_16[district]['ela']['total_percent'])\n",
    "            pc_math_15_17 = percent_change(year_17[district]['math']['total_percent'],year_15[district]['math']['total_percent'])\n",
    "            pc_math_16_17 = percent_change(year_17[district]['math']['total_percent'],year_16[district]['math']['total_percent'])\n",
    "            district_info = [county_list[district]['name'], clean_names[district], year_15[district]['ela']['total_percent'],year_16[district]['ela']['total_percent'],year_17[district]['ela']['total_percent'],year_15[district]['math']['total_percent'],year_16[district]['math']['total_percent'],year_17[district]['math']['total_percent'], pc_ela_15_17, pc_ela_16_17, pc_math_15_17, pc_math_16_17]\n",
    "            writer.writerow(district_info)\n",
    "            schools_info = county_list[district]['schools']\n",
    "            sorted_schools = sorted(schools_info, key = lambda school: schools_info[school])\n",
    "            #Now go through each school in the district and calculate its percent change.\n",
    "            for school in sorted_schools:\n",
    "                    pc_school_ela_15_17 = percent_change(year_17[school]['ela']['total_percent'],year_15[school]['ela']['total_percent'])\n",
    "                    pc_school_ela_16_17 = percent_change(year_17[school]['ela']['total_percent'],year_16[school]['ela']['total_percent'])\n",
    "                    pc_school_math_15_17 = percent_change(year_17[school]['math']['total_percent'],year_15[school]['math']['total_percent'])\n",
    "                    pc_school_math_16_17 = percent_change(year_17[school]['math']['total_percent'],year_16[school]['math']['total_percent'])\n",
    "                    school_info = [county_list[district]['name'], clean_names[school], year_15[school]['ela']['total_percent'],year_16[school]['ela']['total_percent'],year_17[school]['ela']['total_percent'],year_15[school]['math']['total_percent'],year_16[school]['math']['total_percent'],year_17[school]['math']['total_percent'], pc_school_ela_15_17, pc_school_ela_16_17, pc_school_math_15_17, pc_school_math_16_17]\n",
    "                    writer.writerow(school_info)\n",
    "    else:\n",
    "        #Charter schools only have one level aka direct to school data.\n",
    "        sorted_county = sorted(county_list, key= lambda district: county_list[district])\n",
    "        for district in sorted_county:\n",
    "            county_count += 1\n",
    "            #print('*** starting district {0}'.format(county_list[district]))\n",
    "            pc_ela_15_17 = percent_change(year_17[district]['ela']['total_percent'],year_15[district]['ela']['total_percent'])\n",
    "            pc_ela_16_17 = percent_change(year_17[district]['ela']['total_percent'],year_16[district]['ela']['total_percent'])\n",
    "            pc_math_15_17 = percent_change(year_17[district]['math']['total_percent'],year_15[district]['math']['total_percent'])\n",
    "            pc_math_16_17 = percent_change(year_17[district]['math']['total_percent'],year_16[district]['math']['total_percent'])\n",
    "            district_info = [year_17[district]['district'], clean_names[district], year_15[district]['ela']['total_percent'],year_16[district]['ela']['total_percent'],year_17[district]['ela']['total_percent'],year_15[district]['math']['total_percent'],year_16[district]['math']['total_percent'],year_17[district]['math']['total_percent'], pc_ela_15_17, pc_ela_16_17, pc_math_15_17, pc_math_16_17]\n",
    "            writer.writerow(district_info)\n",
    "    return county_count\n",
    "\n",
    "with open('print_out.tsv', 'w') as out_put:\n",
    "    writer = csv.writer(out_put, delimiter='\\t')\n",
    "    writer.writerow(['district','school','ELA 2015', 'ELA 2016', 'ELA 2017', 'Math 2015', 'Math 2016', 'Math 2017', 'pc_ela_15_17', 'pc_ela_16_17', 'pc_math_15_17', 'pc_math_16_17'])\n",
    "    erie_districts = export_county_schools(erie_list, 'erie')\n",
    "    niagara_districts = export_county_schools(niagara_list, 'niagara')\n",
    "    charter_districts = export_county_schools(charter_list, 'charter')\n",
    "    print('{0} erie districts and {1} niagara districts {2} charters'.format(erie_districts,niagara_districts,charter_districts))"
   ]
  },
  {
   "cell_type": "markdown",
   "metadata": {},
   "source": [
    "Online needs JSON in the clean_json groups."
   ]
  },
  {
   "cell_type": "code",
   "execution_count": 24,
   "metadata": {
    "collapsed": false
   },
   "outputs": [
    {
     "name": "stdout",
     "output_type": "stream",
     "text": [
      "*** starting district Bflo. Academy of Science\n",
      "*** starting district Buffalo United\n",
      "*** starting district Charter Sch. for App. Tech.\n",
      "*** starting district Charter School of Inquiry\n",
      "*** starting district Elmwood Village\n",
      "*** starting district Enterprise\n",
      "*** starting district Global Concepts\n",
      "*** starting district Johnson\n",
      "*** starting district King Center\n",
      "*** starting district Niagara Charter\n",
      "*** starting district South Buffalo\n",
      "*** starting district Tapestry\n",
      "*** starting district WNY Maritime Charter\n",
      "*** starting district West Buffalo\n",
      "*** starting district Westminster\n"
     ]
    }
   ],
   "source": [
    "erie_districts = 0\n",
    "niagara_districts = 0\n",
    "clean_json = {'Erie': {}, 'Niagara': {}, 'Buffalo': {}, 'Charters': {}}\n",
    "def export_county_schools(county_list, county):\n",
    "    ordered = []\n",
    "    county_count = 0\n",
    "    #Sort the county of district id's by its name value.\n",
    "    if county != 'Charters':\n",
    "        sorted_county = sorted(county_list, key= lambda district: county_list[district]['name'])\n",
    "        for district in sorted_county:\n",
    "            #Buffalo gets thrown in its own group\n",
    "            if district != '140600010000':\n",
    "                county_count += 1\n",
    "                #print('*** starting district {0}'.format(county_list[district]['name']))\n",
    "                schools_info = county_list[district]['schools']\n",
    "                ordered.append([district,clean_names[district]])\n",
    "                sorted_schools = sorted(schools_info, key = lambda school: schools_info[school])\n",
    "                #Now go through each school in the district and calculate its percent change.\n",
    "                for school in sorted_schools:\n",
    "                    try:\n",
    "                        #print('writing the following {0}'.format(schools_info[school]))\n",
    "                        ordered.append([school,clean_names[school]])\n",
    "                    except KeyError:\n",
    "                        #Beds code isn't found in one of the years for this school\n",
    "                        print('Missing school in 2013, 2014, 2015, 2016 and/or 2017')\n",
    "                        print(schools_info[school])\n",
    "                        print(school)\n",
    "            else:\n",
    "                buffalo_list = []\n",
    "                buffalo_list.append([district,clean_names[district]])\n",
    "                schools_info = county_list[district]['schools']\n",
    "                sorted_schools = sorted(schools_info, key = lambda school: schools_info[school])\n",
    "                #Now go through each school in the district and calculate its percent change.\n",
    "                for school in sorted_schools:\n",
    "                    try:\n",
    "                        #print('writing the following {0}'.format(schools_info[school]))\n",
    "                        buffalo_list.append([school,clean_names[school]])\n",
    "                    except KeyError:\n",
    "                        #Beds code isn't found in one of the years for this school\n",
    "                        print('Missing school in 2013, 2014, 2015, 2016 and/or 2017')\n",
    "                        print(schools_info[school])\n",
    "                        print(school)\n",
    "                clean_json['Buffalo']['ordered_schools'] = buffalo_list\n",
    "    else:\n",
    "        sorted_county = sorted(county_list, key= lambda district: county_list[district])\n",
    "        for district in sorted_county:\n",
    "            county_count += 1\n",
    "            print('*** starting district {0}'.format(county_list[district]))\n",
    "            ordered.append([district,county_list[district]])\n",
    "    clean_json[county]['ordered_schools'] = ordered\n",
    "eried_list = export_county_schools(erie_list, 'Erie')\n",
    "niagarad_list = export_county_schools(niagara_list, 'Niagara')\n",
    "chartered_list = export_county_schools(charter_list, 'Charters')"
   ]
  },
  {
   "cell_type": "code",
   "execution_count": 25,
   "metadata": {
    "collapsed": true
   },
   "outputs": [],
   "source": [
    "def year_build(school_dict, year_dict, year):\n",
    "    if school[0] in year_dict:\n",
    "        #Only output dictionary if the school has test scores for that year.\n",
    "        if len(year_dict[school[0]]['math']['classes']) != 0 or len(year_dict[school[0]]['ela']['classes']) != 0:\n",
    "            year_info = year_dict[school[0]]\n",
    "            school_info['district'] = year_info['district']\n",
    "            school_info['name'] = clean_names[school[0]]\n",
    "            math_year = {}\n",
    "            math_year['total'] = str(year_info['math']['total_percent'])\n",
    "            for i, item in enumerate(year_info['math']['classes']):\n",
    "                clean_class = year_info['math']['classes'][i][0:7]\n",
    "                try:\n",
    "                    percent_profficient = (year_info['math']['proficient'][i] / year_info['math']['totals'][i]) * 100\n",
    "                    math_year[clean_class] = str(float(\"{0:.1f}\".format(percent_profficient)))\n",
    "                except ZeroDivisionError:\n",
    "                    math_year[clean_class] = '-'\n",
    "            school_dict['math'][year] = math_year\n",
    "            ela_year = {}\n",
    "            ela_year['total'] = str(year_info['ela']['total_percent'])\n",
    "            for i, item in enumerate(year_info['ela']['classes']):\n",
    "                clean_class = year_info['ela']['classes'][i][0:7]\n",
    "                try:\n",
    "                    percent_profficient = (year_info['ela']['proficient'][i] / year_info['ela']['totals'][i]) * 100\n",
    "                    ela_year[clean_class] = str(float(\"{0:.1f}\".format(percent_profficient)))\n",
    "                except ZeroDivisionError:\n",
    "                    ela_year[clean_class] = '-'\n",
    "            school_dict['ela'][year] = ela_year\n",
    "    else:\n",
    "        print('Missing {0} - {2} in {1}'.format(school[0], year, year_17[school[0]]['name']))"
   ]
  },
  {
   "cell_type": "code",
   "execution_count": 27,
   "metadata": {
    "collapsed": false
   },
   "outputs": [
    {
     "name": "stdout",
     "output_type": "stream",
     "text": [
      "**Starting Buffalo\n",
      "**Starting Niagara\n",
      "**Starting Charters\n",
      "**Starting Erie\n",
      "{'ela': {'2017': {'Grade 5': '30.0', 'Grade 4': '59.4', 'Grade 3': '70.1', 'total': '53.7'}}, 'district': 'ALDEN CENTRAL SCHOOL DISTRICT', 'name': 'Alden Intermediate', 'math': {'2017': {'Grade 5': '38.4', 'Grade 4': '54.8', 'Grade 3': '76.5', 'total': '57.3'}}}\n",
      "[['142101040000', 'AKRON SCHOOL DISTRICT'], ['142101040001', 'Akron Elementary'], ['142101040003', 'Akron Middle'], ['140101060000', 'ALDEN SCHOOL DISTRICT'], ['140101060007', 'Alden Intermediate'], ['140101060005', 'Alden Middle'], ['140201060000', 'AMHERST'], ['140201060001', 'Amherst Middle'], ['140201060005', 'Smallwood'], ['140201060006', 'Windermere'], ['140701060000', 'CHEEKTOWAGA SCHOOL DISTRICT'], ['140701060007', 'Cheektowaga Middle'], ['140701060008', 'Pine Hill'], ['140701060004', 'Union East'], ['140801060000', 'CLARENCE SCHOOL DISTRICT'], ['140801060007', 'Clarence Center Elem.'], ['140801060008', 'Clarence Middle'], ['140801060002', 'Harris Hill Elementary'], ['140801060003', 'Ledgeview Elementary'], ['140801060005', 'Sheridan Hill Elementary'], ['140703020000', 'CLEVELAND HILL SCHOOL DISTRICT'], ['140703020002', 'Cleveland Hill Elem.'], ['140703020004', 'Cleveland Hill Middle'], ['140707030000', 'DEPEW SCHOOL DISTRICT'], ['140707030005', 'Cayuga Heights Elem.'], ['140707030004', 'Depew Middle'], ['140301030000', 'EAST AURORA SCHOOL DISTRICT'], ['140301030004', 'East Aurora Middle'], ['140301030001', 'Parkdale Elementary'], ['141201060000', 'EDEN SCHOOL DISTRICT'], ['141201060005', 'Eden Elementary'], ['141201060001', 'Eden Junior-Senior High'], ['141604060000', 'FRONTIER SCHOOL DISTRICT'], ['141604060003', 'Big Tree Elementary'], ['141604060004', 'Blasdell Elementary'], ['141604060005', 'Cloverbank Elementary'], ['141604060007', 'Frontier Middle'], ['141604060006', 'Pinehurst Elementary'], ['141501060000', 'GRAND ISLAND SCHOOL DISTRICT'], ['141501060005', 'Connor Middle'], ['141501060001', 'Huth Road'], ['141501060003', 'Kaegebein'], ['141601060000', 'HAMBURG SCHOOL DISTRICT'], ['141601060001', 'Armor Elementary'], ['141601060002', 'Boston Valley Elem.'], ['141601060003', 'Charlotte Ave. Elem.'], ['141601060006', 'Hamburg Middle'], ['141601060004', 'Union Pleasant Elem.'], ['141701040000', 'HOLLAND SCHOOL DISTRICT'], ['141701040002', 'Brumsted Elementary'], ['141701040001', 'Holland Junior/Senior High'], ['141301060000', 'IROQUOIS SCHOOL DISTRICT'], ['141301060007', 'Elma Primary'], ['141301060002', 'Iroquois Intermediate'], ['141301060005', 'Iroquois Middle'], ['141301060003', 'Marilla Primary'], ['141301060004', 'Wales Primary'], ['142601030000', 'KEN-TON SCHOOL DISTRICT'], ['142601030020', 'Edison Elementary'], ['142601030023', 'Franklin Elementary'], ['142601030003', 'Franklin Middle'], ['142601030013', 'Holmes Elementary'], ['142601030024', 'Hoover Elementary'], ['142601030011', 'Hoover Middle'], ['142601030025', 'Kenmore East High School'], ['142601030026', 'Kenmore West High School'], ['142601030006', 'Lindbergh Elementary'], ['141800010000', 'LACKAWANNA SCHOOL DISTRICT'], ['141800010005', 'Lackawanna Middle'], ['141800010011', 'Martin Road Elementary'], ['141401060000', 'LAKE SHORE SCHOOL DISTRICT'], ['141401060001', 'Highland Elementary'], ['141401060009', 'Lake Shore Middle'], ['141401060008', 'Schmidt Elementary'], ['141401060004', 'Waugh Elementary'], ['141901060000', 'LANCASTER SCHOOL DISTRICT'], ['141901060004', 'Como Park Elementary'], ['141901060005', 'Court Street Elementary'], ['141901060006', 'Hillview Elementary'], ['141901060007', 'Lancaster Middle'], ['141901060001', 'Sciole Elementary'], ['141901060010', 'William Street'], ['140702030000', 'MARYVALE SCHOOL DISTRICT'], ['140702030004', 'Maryvale Intermediate'], ['140702030005', 'Maryvale Middle'], ['142201040000', 'NORTH COLLINS SCHOOL DISTRICT'], ['142201040002', 'North Collins Elementary'], ['142201040001', 'North Collins Junior-Senior'], ['142301060000', 'ORCHARD PARK SCHOOL DISTRICT'], ['142301060003', 'Eggert Road Elementary'], ['142301060007', 'Ellicott Road Elementary'], ['142301060002', 'Orchard Park Middle'], ['142301060005', 'South Davis Elementary'], ['142301060001', 'Windom Elementary'], ['140709030000', 'SLOAN SCHOOL DISTRICT'], ['140709030003', 'JFK Middle'], ['140709030002', 'Wilson Elementary'], ['141101060000', 'SPRINGVILLE-GRIFFITH SCH. DIST.'], ['141101060002', 'Colden Elementary'], ['141101060004', 'Griffith Institute Middle'], ['141101060003', 'Springville Elementary'], ['140207060000', 'SWEET HOME SCHOOL DISTRICT'], ['140207060002', 'Glendale Elementary'], ['140207060008', 'Heritage Heights Elem.'], ['140207060003', 'Maplemere Elementary'], ['140207060005', 'Sweet Home Middle'], ['140207060007', 'Willow Ridge Elementary'], ['142500010000', 'TONAWANDA SCHOOL DISTRICT'], ['142500010003', 'Fletcher Elementary'], ['142500010005', 'Mullen Elementary'], ['142500010007', 'Riverview Elementary'], ['142500010009', 'Tonawanda Middle/High'], ['142801060000', 'WEST SENECA SCHOOL DISTRICT'], ['142801060003', 'Allendale Elementary'], ['142801060015', 'Clinton Elementary'], ['142801060005', 'East Middle'], ['142801060017', 'Northwood Elementary'], ['142801060018', 'West Elementary'], ['142801060011', 'West Middle'], ['142801060008', 'Winchester Elementary'], ['140203060000', 'WILLIAMSVILLE SCHOOL DISTRICT'], ['140203060012', 'Casey Middle'], ['140203060011', 'Country Parkway Elem.'], ['140203060002', 'Dodge Elementary'], ['140203060007', 'Forest Elementary'], ['140203060005', 'Heim Elementary'], ['140203060009', 'Heim Middle'], ['140203060003', 'Maple East Elementary'], ['140203060008', 'Maple West Elementary'], ['140203060001', 'Mill Middle'], ['140203060015', 'Transit Middle']]\n"
     ]
    }
   ],
   "source": [
    "for group, value in clean_json.items():\n",
    "    print ('**Starting {0}'.format(group))\n",
    "    #print('values {0}'.format(value))\n",
    "    schools = {}\n",
    "    for school in value['ordered_schools']:\n",
    "        school_info = {}\n",
    "        school_info['math'] = {}\n",
    "        school_info['ela'] = {}\n",
    "        year_build(school_info,year_17, '2017')\n",
    "        year_build(school_info,year_16, '2016')\n",
    "        year_build(school_info,year_15, '2015')\n",
    "        year_build(school_info,year_14, '2014')\n",
    "        year_build(school_info,year_13, '2013')\n",
    "        schools[school[0]] = school_info\n",
    "    clean_json[group]['schools'] = schools\n",
    "            \n",
    "print(clean_json['Erie']['schools']['140101060007'])\n",
    "print(clean_json['Erie']['ordered_schools'])\n",
    "import json\n",
    "with open('data.json', 'w') as output:\n",
    "    json.dump(clean_json, output)"
   ]
  },
  {
   "cell_type": "code",
   "execution_count": null,
   "metadata": {
    "collapsed": true
   },
   "outputs": [],
   "source": []
  }
 ],
 "metadata": {
  "kernelspec": {
   "display_name": "Python 3",
   "language": "python",
   "name": "python3"
  },
  "language_info": {
   "codemirror_mode": {
    "name": "ipython",
    "version": 3
   },
   "file_extension": ".py",
   "mimetype": "text/x-python",
   "name": "python",
   "nbconvert_exporter": "python",
   "pygments_lexer": "ipython3",
   "version": "3.5.2"
  }
 },
 "nbformat": 4,
 "nbformat_minor": 2
}
