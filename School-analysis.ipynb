{
 "cells": [
  {
   "cell_type": "code",
   "execution_count": 4,
   "metadata": {
    "collapsed": true
   },
   "outputs": [],
   "source": [
    "import agate"
   ]
  },
  {
   "cell_type": "code",
   "execution_count": 5,
   "metadata": {
    "collapsed": false
   },
   "outputs": [],
   "source": [
    "tester = agate.TypeTester(limit=100,force={\n",
    "    'NRC_DESC': agate.Text(),\n",
    "    'NRC_CODE': agate.Number(),\n",
    "        'BEDSCODE': agate.Text(),\n",
    "        'L1_COUNT': agate.Text(),\n",
    "        'L1_PCT': agate.Text(),\n",
    "        'L2_COUNT': agate.Text(),\n",
    "        'L2_PCT': agate.Text(),\n",
    "        'L3_COUNT': agate.Text(),\n",
    "        'L3_PCT': agate.Text(),\n",
    "        'L4_COUNT': agate.Text(),\n",
    "        'L4_PCT': agate.Text(),\n",
    "        'L2-L4_PCT': agate.Text(),\n",
    "        'L3-L4_PCT': agate.Text(),\n",
    "        'MEAN_SCALE_SCORE': agate.Text(),\n",
    "        'COUNTY_DESC': agate.Text(),\n",
    "        'TOTAL_TESTED': agate.Text(),\n",
    "        'COUNTY_CODE': agate.Text()\n",
    "})"
   ]
  },
  {
   "cell_type": "code",
   "execution_count": 20,
   "metadata": {
    "collapsed": true
   },
   "outputs": [],
   "source": [
    "def get_percent_dictionary(file_name):\n",
    "    schools = agate.Table.from_csv(file_name, column_types=tester)\n",
    "    print(schools)\n",
    "    erie_niagara = schools.where(lambda row: row['COUNTY_DESC'] in ['ERIE', 'NIAGARA'])\n",
    "    schools_total = erie_niagara.where(lambda row: row['SUBGROUP_NAME'] in ['All Students'])\n",
    "    print(len(erie_niagara.rows))\n",
    "    print(len(schools_total.rows))\n",
    "    def calculate_counts(row):\n",
    "        try:\n",
    "            l3_counts = int(row['L3_COUNT'])\n",
    "        except ValueError:\n",
    "            l3_counts = 0\n",
    "        try:\n",
    "            l4_counts = int(row['L4_COUNT'])\n",
    "        except ValueError:\n",
    "            l4_counts = 0\n",
    "        profficent = l3_counts + l4_counts\n",
    "        return profficent\n",
    "    erie_calcs = schools_total.compute([\n",
    "        ('pass_count', agate.Formula(agate.Number(), lambda row: calculate_counts(row)))\n",
    "    ])\n",
    "    percent_calculates = {}\n",
    "    for row in erie_calcs.rows:\n",
    "        percent_calculates[row['NAME']] = {'math': {'totals': [], 'profficent': [], 'classes': []}, 'ela': {'totals': [], 'profficent': [], 'classes': []}}\n",
    "    print(percent_calculates['WILLIAM STREET SCHOOL'])\n",
    "    for row in erie_calcs.rows:\n",
    "        if row['ITEM_SUBJECT_AREA'] == 'ELA':\n",
    "            data_dict = percent_calculates[row['NAME']]['ela']\n",
    "        else:\n",
    "            data_dict = percent_calculates[row['NAME']]['math']\n",
    "        try:\n",
    "            data_dict['totals'].append(int(row['TOTAL_TESTED']))\n",
    "        except ValueError:\n",
    "            data_dict['totals'].append(0)\n",
    "        try:\n",
    "            data_dict['classes'].append(row['ITEM_DESC'])\n",
    "        except ValueError:\n",
    "            data_dict['classes'].append(0)\n",
    "        try:\n",
    "            data_dict['profficent'].append(int(row['pass_count']))\n",
    "        except ValueError:\n",
    "            data_dict['profficent'].append(0)\n",
    "    print(percent_calculates['WILLIAM STREET SCHOOL'])\n",
    "    for school, values in percent_calculates.items():\n",
    "        total_sum = sum(values['ela']['totals'])\n",
    "        profficient_sum = sum(values['ela']['profficent'])\n",
    "        try:\n",
    "            correct_value = ((profficient_sum / total_sum) * 100)\n",
    "            percent_calculates[school]['ela']['total_percent'] = float(\"{0:.1f}\".format(correct_value))\n",
    "        except ZeroDivisionError:\n",
    "            percent_calculates[school]['ela']['total_percent'] = '-'\n",
    "        total_math_sum = sum(values['math']['totals'])\n",
    "        profficient_math_sum = sum(values['math']['profficent'])\n",
    "        try:\n",
    "            correct_math_value = ((profficient_math_sum / total_math_sum) * 100)\n",
    "            percent_calculates[school]['math']['total_percent'] = float(\"{0:.1f}\".format(correct_math_value))\n",
    "        except ZeroDivisionError:\n",
    "            percent_calculates[school]['math']['total_percent'] = '-'\n",
    "    return percent_calculates"
   ]
  },
  {
   "cell_type": "code",
   "execution_count": 22,
   "metadata": {
    "collapsed": false
   },
   "outputs": [
    {
     "name": "stderr",
     "output_type": "stream",
     "text": [
      "/Users/lheinle/anaconda/envs/py35/lib/python3.5/site-packages/agate/table/__init__.py:104: DuplicateColumnWarning: Column name \"\" already exists in Table. Column will be renamed to \"_2\".\n",
      "  warn_duplicate_column(new_column_name, final_column_name)\n"
     ]
    },
    {
     "name": "stdout",
     "output_type": "stream",
     "text": [
      "|--------------------+------------|\n",
      "|  column            | data_type  |\n",
      "|--------------------+------------|\n",
      "|  SY_END_DATE       | Date       |\n",
      "|  NRC_CODE          | Number     |\n",
      "|  NRC_DESC          | Text       |\n",
      "|  COUNTY_CODE       | Text       |\n",
      "|  COUNTY_DESC       | Text       |\n",
      "|  BEDSCODE          | Text       |\n",
      "|  NAME              | Text       |\n",
      "|  ITEM_SUBJECT_AREA | Text       |\n",
      "|  ITEM_DESC         | Text       |\n",
      "|  dian              | Number     |\n",
      "|  SUBGROUP_NAME     | Text       |\n",
      "|  TOTAL_TESTED      | Text       |\n",
      "|  L1_COUNT          | Text       |\n",
      "|  L1_PCT            | Text       |\n",
      "|  L2_COUNT          | Text       |\n",
      "|  L2_PCT            | Text       |\n",
      "|  L3_COUNT          | Text       |\n",
      "|  L3_PCT            | Text       |\n",
      "|  L4_COUNT          | Text       |\n",
      "|  L4_PCT            | Text       |\n",
      "|  ...               | ...        |\n",
      "|--------------------+------------|\n",
      "\n",
      "25544\n",
      "1861\n",
      "{'ela': {'classes': [], 'profficent': [], 'totals': []}, 'math': {'classes': [], 'profficent': [], 'totals': []}}\n",
      "{'ela': {'classes': ['Grade 4 ELA', 'Grade 5 ELA', 'Grade 6 ELA'], 'profficent': [94, 78, 89], 'totals': [189, 201, 197]}, 'math': {'classes': ['Grade 4 Math', 'Grade 5 Math', 'Grade 6 Math'], 'profficent': [118, 127, 107], 'totals': [185, 196, 191]}}\n",
      "{'ela': {'classes': ['Grade 4 ELA', 'Grade 5 ELA', 'Grade 6 ELA'], 'total_percent': 44.5, 'profficent': [94, 78, 89], 'totals': [189, 201, 197]}, 'math': {'classes': ['Grade 4 Math', 'Grade 5 Math', 'Grade 6 Math'], 'total_percent': 61.5, 'profficent': [118, 127, 107], 'totals': [185, 196, 191]}}\n"
     ]
    }
   ],
   "source": [
    "year_16 = get_percent_dictionary('3-8_ELA_MATH_2016.csv')\n"
   ]
  },
  {
   "cell_type": "code",
   "execution_count": 23,
   "metadata": {
    "collapsed": false
   },
   "outputs": [
    {
     "name": "stdout",
     "output_type": "stream",
     "text": [
      "{'ela': {'classes': ['Grade 4 ELA', 'Grade 5 ELA', 'Grade 6 ELA'], 'total_percent': 44.5, 'profficent': [94, 78, 89], 'totals': [189, 201, 197]}, 'math': {'classes': ['Grade 4 Math', 'Grade 5 Math', 'Grade 6 Math'], 'total_percent': 61.5, 'profficent': [118, 127, 107], 'totals': [185, 196, 191]}}\n"
     ]
    }
   ],
   "source": []
  },
  {
   "cell_type": "code",
   "execution_count": 24,
   "metadata": {
    "collapsed": false
   },
   "outputs": [
    {
     "name": "stdout",
     "output_type": "stream",
     "text": [
      "|--------------------+------------|\n",
      "|  column            | data_type  |\n",
      "|--------------------+------------|\n",
      "|  SY_END_DATE       | Date       |\n",
      "|  NRC_CODE          | Number     |\n",
      "|  NRC_DESC          | Text       |\n",
      "|  COUNTY_CODE       | Text       |\n",
      "|  COUNTY_DESC       | Text       |\n",
      "|  BEDSCODE          | Text       |\n",
      "|  NAME              | Text       |\n",
      "|  ITEM_SUBJECT_AREA | Text       |\n",
      "|  ITEM_DESC         | Text       |\n",
      "|  SUBGROUP_CODE     | Number     |\n",
      "|  SUBGROUP_NAME     | Text       |\n",
      "|  TOTAL_TESTED      | Text       |\n",
      "|  L1_COUNT          | Text       |\n",
      "|  L1_PCT            | Text       |\n",
      "|  L2_COUNT          | Text       |\n",
      "|  L2_PCT            | Text       |\n",
      "|  L3_COUNT          | Text       |\n",
      "|  L3_PCT            | Text       |\n",
      "|  L4_COUNT          | Text       |\n",
      "|  L4_PCT            | Text       |\n",
      "|  ...               | ...        |\n",
      "|--------------------+------------|\n",
      "\n",
      "25452\n",
      "1839\n",
      "{'ela': {'classes': [], 'profficent': [], 'totals': []}, 'math': {'classes': [], 'profficent': [], 'totals': []}}\n",
      "{'ela': {'classes': ['Grade 4 ELA', 'Grade 5 ELA', 'Grade 6 ELA'], 'profficent': [81, 79, 87], 'totals': [243, 200, 199]}, 'math': {'classes': ['Grade 4 Math', 'Grade 5 Math', 'Grade 6 Math'], 'profficent': [130, 122, 120], 'totals': [244, 206, 193]}}\n"
     ]
    }
   ],
   "source": [
    "year_17 = get_percent_dictionary('3-8_ELA_MATH_2017.csv')"
   ]
  },
  {
   "cell_type": "code",
   "execution_count": null,
   "metadata": {
    "collapsed": true
   },
   "outputs": [],
   "source": [
    "year_15 = get_percent_dictionary('')"
   ]
  }
 ],
 "metadata": {
  "kernelspec": {
   "display_name": "Python 3",
   "language": "python",
   "name": "python3"
  },
  "language_info": {
   "codemirror_mode": {
    "name": "ipython",
    "version": 3
   },
   "file_extension": ".py",
   "mimetype": "text/x-python",
   "name": "python",
   "nbconvert_exporter": "python",
   "pygments_lexer": "ipython3",
   "version": "3.5.2"
  }
 },
 "nbformat": 4,
 "nbformat_minor": 2
}
