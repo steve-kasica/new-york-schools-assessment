{
 "cells": [
  {
   "cell_type": "markdown",
   "metadata": {},
   "source": [
    "# Calculating percent proficiency and its percent change in New York State education assessment data\n",
    "\n",
    "After downloading the [2015, 2016 and 2017 data from the New York State Education Department](https://data.nysed.gov/downloads.php) and renaming the files to 3-8\\_ELA\\_MATH\\_{{ year }}.csv, this program calculates the percent proficient, scoring at Level 3 or 4, of each school. The percent proficient is calculated by adding each raw proficient count together for available grades and then dividing the total test takers. "
   ]
  },
  {
   "cell_type": "code",
   "execution_count": 229,
   "metadata": {
    "collapsed": true
   },
   "outputs": [],
   "source": [
    "import agate\n",
    "import csv"
   ]
  },
  {
   "cell_type": "markdown",
   "metadata": {},
   "source": [
    "Due to missing school values and changes in data columns, I needed two different typetesters to force the columns into their correct formatting."
   ]
  },
  {
   "cell_type": "code",
   "execution_count": 113,
   "metadata": {
    "collapsed": true
   },
   "outputs": [],
   "source": [
    "tester_15 = agate.TypeTester(limit=100,force={\n",
    "    'NRC_DESC': agate.Text(),\n",
    "    'NRC_CODE': agate.Number(),\n",
    "        'BEDSCODE': agate.Text(),\n",
    "        'L1_COUNT': agate.Text(),\n",
    "        'L1_PCT': agate.Text(),\n",
    "        'L2_COUNT': agate.Text(),\n",
    "        'L2_PCT': agate.Text(),\n",
    "        'L3_COUNT': agate.Text(),\n",
    "        'L3_PCT': agate.Text(),\n",
    "        'L4_COUNT': agate.Text(),\n",
    "        'L4_PCT': agate.Text(),\n",
    "        'L2-L4_PCT': agate.Text(),\n",
    "        'L3-L4_PCT': agate.Text(),\n",
    "        'MEAN_SCALE_SCORE': agate.Text(),\n",
    "        'COUNTY_DESC': agate.Text(),\n",
    "        'TOTAL_TESTED': agate.Text(),\n",
    "        'COUNTY_CODE': agate.Text(),\n",
    "        'Sum_Of_SCALE_SCORE': agate.Text()\n",
    "})\n",
    "tester_16 = agate.TypeTester(limit=100,force={\n",
    "    'NRC_DESC': agate.Text(),\n",
    "    'NRC_CODE': agate.Number(),\n",
    "        'BEDSCODE': agate.Text(),\n",
    "        'L1_COUNT': agate.Text(),\n",
    "        'L1_PCT': agate.Text(),\n",
    "        'L2_COUNT': agate.Text(),\n",
    "        'L2_PCT': agate.Text(),\n",
    "        'L3_COUNT': agate.Text(),\n",
    "        'L3_PCT': agate.Text(),\n",
    "        'L4_COUNT': agate.Text(),\n",
    "        'L4_PCT': agate.Text(),\n",
    "        'L2-L4_PCT': agate.Text(),\n",
    "        'L3-L4_PCT': agate.Text(),\n",
    "        'MEAN_SCALE_SCORE': agate.Text(),\n",
    "        'COUNTY_DESC': agate.Text(),\n",
    "        'TOTAL_TESTED': agate.Text(),\n",
    "        'COUNTY_CODE': agate.Text()\n",
    "})"
   ]
  },
  {
   "cell_type": "markdown",
   "metadata": {},
   "source": [
    "This program takes in the csv of a specific year's assesment data and its tester and returns a dictionary of BEDS (state id codes) and test data."
   ]
  },
  {
   "cell_type": "code",
   "execution_count": 230,
   "metadata": {
    "collapsed": false
   },
   "outputs": [],
   "source": [
    "def get_percent_dictionary(file_name, tester):\n",
    "    schools = agate.Table.from_csv(file_name, column_types=tester)\n",
    "    #Grab just Erie and Niagara schools, filtering out available subgroups and total county stats\n",
    "    erie_niagara = schools.where(lambda row: row['COUNTY_DESC'] in ['ERIE', 'NIAGARA']).where(lambda row: row['SUBGROUP_NAME'] in ['All Students']).where(lambda row: row['NAME'] not in ['ERIE COUNTY', 'NIAGARA COUNTY'])\n",
    "    print(len(erie_niagara.rows))\n",
    "    #Data doesn't include district information, but the first six digits of a school's BEDS codes includes that info.\n",
    "    beds_code = {}\n",
    "    for row in erie_niagara.rows:\n",
    "        if 'SCHOOL DISTRICT' in row['NAME']:\n",
    "            beds_district = row['BEDSCODE'][:6]\n",
    "            #Creates a lookup table of ids for the district name\n",
    "            beds_code[str(beds_district)] = row['NAME']\n",
    "    def calculate_prof_counts(row):\n",
    "        #Some schools don't have test takers for certain tests, so fill in with zeros.\n",
    "        try:\n",
    "            l3_counts = int(row['L3_COUNT'])\n",
    "        except ValueError:\n",
    "            l3_counts = 0\n",
    "        try:\n",
    "            l4_counts = int(row['L4_COUNT'])\n",
    "        except ValueError:\n",
    "            l4_counts = 0\n",
    "        proficient = l3_counts + l4_counts\n",
    "        return proficient\n",
    "    erie_calcs = erie_niagara.compute([\n",
    "        ('proficient_count', agate.Formula(agate.Number(), lambda row: calculate_prof_counts(row)))\n",
    "    ])\n",
    "    # Form the data structure for each school with beds code as a key\n",
    "    schools_info = {}\n",
    "    for row in erie_calcs.rows:\n",
    "        if row['NAME'] == 'NIAGARA CHARTER SCHOOL':\n",
    "            district = 'NIAGARA-WHEATFIELD CENTRAL SCHOOL DISTRICT'\n",
    "        else:\n",
    "            beds_district = row['BEDSCODE'][:6]\n",
    "            district = beds_code[beds_district]\n",
    "        \"\"\"name = School name\n",
    "        math/ela dictionary has totals = total test takers one per applicable class; proficient = proficient_count values; classes = grades taking the test\n",
    "        district = district name (looked up using the beds_code dict)\n",
    "        county = county\"\"\"\n",
    "        schools_info[row['BEDSCODE']] = {'name': row['NAME'], 'math': {'totals': [], 'proficient': [], 'classes': []}, 'ela': {'totals': [], 'proficient': [], 'classes': []}, 'district': district, 'county': row['COUNTY_DESC'] }\n",
    "    # After creating the correct dict format, now I run through the schools again to fill the score values.\n",
    "    for row in erie_calcs.rows:\n",
    "        if row['ITEM_SUBJECT_AREA'] == 'ELA':\n",
    "            data_dict = schools_info[row['BEDSCODE']]['ela']\n",
    "        else:\n",
    "            data_dict = schools_info[row['BEDSCODE']]['math']\n",
    "        try:\n",
    "            data_dict['totals'].append(int(row['TOTAL_TESTED']))\n",
    "        except ValueError:\n",
    "            data_dict['totals'].append(0)\n",
    "        try:\n",
    "            data_dict['classes'].append(row['ITEM_DESC'])\n",
    "        except ValueError:\n",
    "            data_dict['classes'].append(0)\n",
    "        try:\n",
    "            data_dict['proficient'].append(int(row['proficient_count']))\n",
    "        except ValueError:\n",
    "            data_dict['proficient'].append(0)\n",
    "    def calculate_prof_percent(test_area):\n",
    "        total_sum = sum(values[test_area]['totals'])\n",
    "        proficient_sum = sum(values[test_area]['proficient'])\n",
    "        try:\n",
    "            correct_value = ((proficient_sum / total_sum) * 100)\n",
    "            schools_info[school][test_area]['total_percent'] = float(\"{0:.1f}\".format(correct_value))\n",
    "        except ZeroDivisionError:\n",
    "            schools_info[school][test_area]['total_percent'] = '-'\n",
    "    for school, values in schools_info.items():\n",
    "        calculate_prof_percent('ela')\n",
    "        calculate_prof_percent('math')\n",
    "    return schools_info"
   ]
  },
  {
   "cell_type": "code",
   "execution_count": 231,
   "metadata": {
    "collapsed": false
   },
   "outputs": [
    {
     "name": "stderr",
     "output_type": "stream",
     "text": [
      "/Users/lheinle/anaconda/envs/py35/lib/python3.5/site-packages/agate/table/__init__.py:104: DuplicateColumnWarning: Column name \"\" already exists in Table. Column will be renamed to \"_2\".\n",
      "  warn_duplicate_column(new_column_name, final_column_name)\n"
     ]
    },
    {
     "name": "stdout",
     "output_type": "stream",
     "text": [
      "1837\n"
     ]
    }
   ],
   "source": [
    "year_16 = get_percent_dictionary('3-8_ELA_MATH_2016.csv', tester_16)\n"
   ]
  },
  {
   "cell_type": "code",
   "execution_count": 232,
   "metadata": {
    "collapsed": false
   },
   "outputs": [
    {
     "name": "stdout",
     "output_type": "stream",
     "text": [
      "1815\n"
     ]
    }
   ],
   "source": [
    "year_17 = get_percent_dictionary('3-8_ELA_MATH_2017.csv', tester_16)"
   ]
  },
  {
   "cell_type": "code",
   "execution_count": 233,
   "metadata": {
    "collapsed": false
   },
   "outputs": [
    {
     "name": "stdout",
     "output_type": "stream",
     "text": [
      "1852\n"
     ]
    }
   ],
   "source": [
    "year_15 = get_percent_dictionary('3-8_ELA_MATH_2015.csv',tester_15)"
   ]
  },
  {
   "cell_type": "markdown",
   "metadata": {},
   "source": [
    "Example of each year returning data for a specific school"
   ]
  },
  {
   "cell_type": "code",
   "execution_count": 234,
   "metadata": {
    "collapsed": false
   },
   "outputs": [
    {
     "name": "stdout",
     "output_type": "stream",
     "text": [
      "{'name': 'ANNA MERRITT ELEMENTARY SCHOOL', 'ela': {'total_percent': 25.2, 'classes': ['Grade 3 ELA', 'Grade 4 ELA'], 'proficient': [22, 11], 'totals': [69, 62]}, 'county': 'NIAGARA', 'district': 'LOCKPORT CITY SCHOOL DISTRICT', 'math': {'total_percent': 41.3, 'classes': ['Grade 3 Math', 'Grade 4 Math'], 'proficient': [29, 21], 'totals': [67, 54]}}\n",
      "{'name': 'ANNA MERRITT ELEMENTARY SCHOOL', 'ela': {'total_percent': 17.8, 'classes': ['Grade 3 ELA', 'Grade 4 ELA'], 'proficient': [11, 12], 'totals': [60, 69]}, 'county': 'NIAGARA', 'district': 'LOCKPORT CITY SCHOOL DISTRICT', 'math': {'total_percent': 37.0, 'classes': ['Grade 3 Math', 'Grade 4 Math'], 'proficient': [15, 29], 'totals': [57, 62]}}\n",
      "{'name': 'ANNA MERRITT ELEMENTARY SCHOOL', 'ela': {'total_percent': 22.9, 'classes': ['Grade 3 ELA', 'Grade 4 ELA'], 'proficient': [11, 16], 'totals': [53, 65]}, 'county': 'NIAGARA', 'district': 'LOCKPORT CITY SCHOOL DISTRICT', 'math': {'total_percent': 36.8, 'classes': ['Grade 3 Math', 'Grade 4 Math'], 'proficient': [23, 19], 'totals': [52, 62]}}\n"
     ]
    }
   ],
   "source": [
    "print(year_16['400400010001'])\n",
    "print(year_15['400400010001'])\n",
    "print(year_17['400400010001'])"
   ]
  },
  {
   "cell_type": "markdown",
   "metadata": {},
   "source": [
    "Separate each school into it's county and district for print order"
   ]
  },
  {
   "cell_type": "code",
   "execution_count": 235,
   "metadata": {
    "collapsed": false
   },
   "outputs": [],
   "source": [
    "erie_list = {}\n",
    "niagara_list = {}\n",
    "for key, value in year_16.items():\n",
    "    if 'SCHOOL DISTRICT' in value['name']:\n",
    "        if value['county'] == 'ERIE':\n",
    "            erie_list[key] = {'name': value['name'], 'schools': {}}\n",
    "        else:\n",
    "            niagara_list[key] = {'name': value['name'], 'schools': {}}\n",
    "for distict, value in erie_list.items():\n",
    "    for school, info in year_16.items():\n",
    "        if value['name'] == info['district'] and 'SCHOOL DISTRICT' not in info['name']:\n",
    "            erie_list[distict]['schools'][school] = info['name']\n",
    "for distict, value in niagara_list.items():\n",
    "    for school, info in year_16.items():\n",
    "        if value['name'] == info['district'] and 'SCHOOL DISTRICT' not in info['name']:\n",
    "            niagara_list[distict]['schools'][school] = info['name']"
   ]
  },
  {
   "cell_type": "code",
   "execution_count": 209,
   "metadata": {
    "collapsed": true
   },
   "outputs": [],
   "source": [
    "def percent_change(new,old):\n",
    "    try:\n",
    "        calculate = (new-old)/old\n",
    "        percent = calculate * 100\n",
    "        one_decimal = float(\"{0:.1f}\".format(percent))\n",
    "        return one_decimal\n",
    "    except (ZeroDivisionError,TypeError):\n",
    "        return 0"
   ]
  },
  {
   "cell_type": "code",
   "execution_count": 228,
   "metadata": {
    "collapsed": false
   },
   "outputs": [
    {
     "name": "stdout",
     "output_type": "stream",
     "text": [
      "Missing school in 2015, 2016 and/or 2017\n",
      "ALDEN PRIMARY AT TOWNLINE\n",
      "140101060003\n",
      "Missing school in 2015, 2016 and/or 2017\n",
      "DR MARTIN LUTHER KING, JR MULTICULTURAL INSTITUTE\n",
      "140600010039\n",
      "Missing school in 2015, 2016 and/or 2017\n",
      "LAFAYETTE HIGH SCHOOL\n",
      "140600010107\n",
      "Missing school in 2015, 2016 and/or 2017\n",
      "KENMORE MIDDLE SCHOOL\n",
      "142601030022\n",
      "Missing school in 2015, 2016 and/or 2017\n",
      "THEODORE ROOSEVELT ELEMENTARY SCHOOL\n",
      "142601030019\n",
      "Missing school in 2015, 2016 and/or 2017\n",
      "ALEXANDER HAMILTON ELEMENTARY SCHOOL\n",
      "142601030002\n",
      "28 erie districts and 10 niagara districts\n"
     ]
    }
   ],
   "source": [
    "erie_districts = 0\n",
    "niagara_districts = 0\n",
    "def export_county_schools(county_list):\n",
    "    county_count = 0\n",
    "    #Sort the county of district id's by its name value.\n",
    "    sorted_county = sorted(county_list, key= lambda district: county_list[district]['name'])\n",
    "    for district in sorted_county:\n",
    "        county_count += 1\n",
    "        #print('*** starting district {0}'.format(county_list[district]['name']))\n",
    "        pc_ela_15_17 = percent_change(year_17[district]['ela']['total_percent'],year_15[district]['ela']['total_percent'])\n",
    "        pc_ela_16_17 = percent_change(year_17[district]['ela']['total_percent'],year_16[district]['ela']['total_percent'])\n",
    "        pc_math_15_17 = percent_change(year_17[district]['math']['total_percent'],year_15[district]['math']['total_percent'])\n",
    "        pc_math_16_17 = percent_change(year_17[district]['math']['total_percent'],year_16[district]['math']['total_percent'])\n",
    "        district_info = [county_list[district]['name'], year_15[district]['ela']['total_percent'],year_16[district]['ela']['total_percent'],year_17[district]['ela']['total_percent'],year_15[district]['math']['total_percent'],year_16[district]['math']['total_percent'],year_17[district]['math']['total_percent'], pc_ela_15_17, pc_ela_16_17, pc_math_15_17, pc_math_16_17]\n",
    "        writer.writerow(district_info)\n",
    "        schools_info = county_list[district]['schools']\n",
    "        #Now go through each school in the district and calculate its percent change.\n",
    "        for school in schools_info.keys():\n",
    "            try:\n",
    "                pc_school_ela_15_17 = percent_change(year_17[school]['ela']['total_percent'],year_15[school]['ela']['total_percent'])\n",
    "                pc_school_ela_16_17 = percent_change(year_17[school]['ela']['total_percent'],year_16[school]['ela']['total_percent'])\n",
    "                pc_school_math_15_17 = percent_change(year_17[school]['math']['total_percent'],year_15[school]['math']['total_percent'])\n",
    "                pc_school_math_16_17 = percent_change(year_17[school]['math']['total_percent'],year_16[school]['math']['total_percent'])\n",
    "                school_info = [schools_info[school], year_15[school]['ela']['total_percent'],year_16[school]['ela']['total_percent'],year_17[school]['ela']['total_percent'],year_15[school]['math']['total_percent'],year_16[school]['math']['total_percent'],year_17[school]['math']['total_percent'], pc_school_ela_15_17, pc_school_ela_16_17, pc_school_math_15_17, pc_school_math_16_17]\n",
    "                writer.writerow(school_info)\n",
    "                #print('writing the followin {0}'.format(schools_info[school]))\n",
    "            except KeyError:\n",
    "                #Beds code isn't found in one of the years for this school\n",
    "                print('Missing school in 2015, 2016 and/or 2017')\n",
    "                print(schools_info[school])\n",
    "                print(school)\n",
    "    return county_count\n",
    "with open('print_out.tsv', 'w') as out_put:\n",
    "    writer = csv.writer(out_put, delimiter='\\t')\n",
    "    writer.writerow(['school','ELA 2015', 'ELA 2016', 'ELA 2017', 'Math 2015', 'Math 2016', 'Math 2017', 'pc_ela_15_17', 'pc_ela_16_17', 'pc_math_15_17', 'pc_math_16_17'])\n",
    "    erie_districts = export_county_schools(erie_list)\n",
    "    niagara_districts = export_county_schools(niagara_list)\n",
    "    print('{0} erie districts and {1} niagara districts'.format(erie_districts,niagara_districts))"
   ]
  },
  {
   "cell_type": "markdown",
   "metadata": {},
   "source": [
    "ALDEN PRIMARY AT TOWNLINE 140101060003 -> shifted to Alden Immediate\n",
    "\n",
    "DR MARTIN LUTHER KING, JR MULTICULTURAL INSTITUTE 140600010039 -> closed\n",
    "\n",
    "LAFAYETTE HIGH SCHOOL 140600010107 -> renamed to NEWCOMER ACADEMY AT LAFAYETTE \n",
    "\n",
    "KENMORE MIDDLE SCHOOL 142601030022 -> closed\n",
    "\n",
    "THEODORE ROOSEVELT ELEMENTARY SCHOOL 142601030019 -> closed\n",
    "\n",
    "ALEXANDER HAMILTON ELEMENTARY SCHOOL 142601030002 -> closed"
   ]
  }
 ],
 "metadata": {
  "kernelspec": {
   "display_name": "Python 3",
   "language": "python",
   "name": "python3"
  },
  "language_info": {
   "codemirror_mode": {
    "name": "ipython",
    "version": 3
   },
   "file_extension": ".py",
   "mimetype": "text/x-python",
   "name": "python",
   "nbconvert_exporter": "python",
   "pygments_lexer": "ipython3",
   "version": "3.5.2"
  }
 },
 "nbformat": 4,
 "nbformat_minor": 2
}
