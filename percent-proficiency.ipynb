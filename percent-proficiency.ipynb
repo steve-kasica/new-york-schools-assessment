{
 "cells": [
  {
   "cell_type": "markdown",
   "metadata": {},
   "source": [
    "# Calculating percent proficiency and its percent change in New York State education assessment data\n",
    "\n",
    "After downloading the [2015, 2016 and 2017 data from the New York State Education Department](https://data.nysed.gov/downloads.php) and renaming the files to 3-8\\_ELA\\_MATH\\_{{ year }}.csv, this program calculates the percent proficient, scoring at Level 3 or 4, of each school. The percent proficient is calculated by adding each raw proficient count together for available grades and then dividing the total test takers. "
   ]
  },
  {
   "cell_type": "code",
   "execution_count": 1,
   "metadata": {
    "collapsed": true
   },
   "outputs": [],
   "source": [
    "import agate\n",
    "import csv"
   ]
  },
  {
   "cell_type": "markdown",
   "metadata": {},
   "source": [
    "Due to missing school values and changes in data columns, I needed two different typetesters to force the columns into their correct formatting."
   ]
  },
  {
   "cell_type": "code",
   "execution_count": 2,
   "metadata": {
    "collapsed": true
   },
   "outputs": [],
   "source": [
    "tester_15 = agate.TypeTester(limit=100,force={\n",
    "    'NRC_DESC': agate.Text(),\n",
    "    'NRC_CODE': agate.Number(),\n",
    "        'BEDSCODE': agate.Text(),\n",
    "        'L1_COUNT': agate.Text(),\n",
    "        'L1_PCT': agate.Text(),\n",
    "        'L2_COUNT': agate.Text(),\n",
    "        'L2_PCT': agate.Text(),\n",
    "        'L3_COUNT': agate.Text(),\n",
    "        'L3_PCT': agate.Text(),\n",
    "        'L4_COUNT': agate.Text(),\n",
    "        'L4_PCT': agate.Text(),\n",
    "        'L2-L4_PCT': agate.Text(),\n",
    "        'L3-L4_PCT': agate.Text(),\n",
    "        'MEAN_SCALE_SCORE': agate.Text(),\n",
    "        'COUNTY_DESC': agate.Text(),\n",
    "        'TOTAL_TESTED': agate.Text(),\n",
    "        'COUNTY_CODE': agate.Text(),\n",
    "        'Sum_Of_SCALE_SCORE': agate.Text()\n",
    "})\n",
    "tester_16 = agate.TypeTester(limit=100,force={\n",
    "    'NRC_DESC': agate.Text(),\n",
    "    'NRC_CODE': agate.Number(),\n",
    "        'BEDSCODE': agate.Text(),\n",
    "        'L1_COUNT': agate.Text(),\n",
    "        'L1_PCT': agate.Text(),\n",
    "        'L2_COUNT': agate.Text(),\n",
    "        'L2_PCT': agate.Text(),\n",
    "        'L3_COUNT': agate.Text(),\n",
    "        'L3_PCT': agate.Text(),\n",
    "        'L4_COUNT': agate.Text(),\n",
    "        'L4_PCT': agate.Text(),\n",
    "        'L2-L4_PCT': agate.Text(),\n",
    "        'L3-L4_PCT': agate.Text(),\n",
    "        'MEAN_SCALE_SCORE': agate.Text(),\n",
    "        'COUNTY_DESC': agate.Text(),\n",
    "        'TOTAL_TESTED': agate.Text(),\n",
    "        'COUNTY_CODE': agate.Text()\n",
    "})"
   ]
  },
  {
   "cell_type": "markdown",
   "metadata": {},
   "source": [
    "This program takes in the csv of a specific year's assesment data and its tester and returns a dictionary of BEDS (state id codes) and test data."
   ]
  },
  {
   "cell_type": "code",
   "execution_count": 3,
   "metadata": {
    "collapsed": false
   },
   "outputs": [],
   "source": [
    "def get_percent_dictionary(file_name, tester):\n",
    "    schools = agate.Table.from_csv(file_name, column_types=tester)\n",
    "    #Grab just Erie and Niagara schools, filtering out available subgroups and total county stats\n",
    "    erie_niagara = schools.where(lambda row: row['COUNTY_DESC'] in ['ERIE', 'NIAGARA']).where(lambda row: row['SUBGROUP_NAME'] in ['All Students']).where(lambda row: row['NAME'] not in ['ERIE COUNTY', 'NIAGARA COUNTY'])\n",
    "    print(len(erie_niagara.rows))\n",
    "    #Data doesn't include district information, but the first six digits of a school's BEDS codes includes that info.\n",
    "    beds_code = {}\n",
    "    for row in erie_niagara.rows:\n",
    "        if 'SCHOOL DISTRICT' in row['NAME']:\n",
    "            beds_district = row['BEDSCODE'][:6]\n",
    "            #Creates a lookup table of ids for the district name\n",
    "            beds_code[str(beds_district)] = row['NAME']\n",
    "    def calculate_prof_counts(row):\n",
    "        #Some schools don't have test takers for certain tests, so fill in with zeros.\n",
    "        try:\n",
    "            l3_counts = int(row['L3_COUNT'])\n",
    "        except ValueError:\n",
    "            l3_counts = 0\n",
    "        try:\n",
    "            l4_counts = int(row['L4_COUNT'])\n",
    "        except ValueError:\n",
    "            l4_counts = 0\n",
    "        proficient = l3_counts + l4_counts\n",
    "        return proficient\n",
    "    erie_calcs = erie_niagara.compute([\n",
    "        ('proficient_count', agate.Formula(agate.Number(), lambda row: calculate_prof_counts(row)))\n",
    "    ])\n",
    "    # Form the data structure for each school with beds code as a key\n",
    "    schools_info = {}\n",
    "    for row in erie_calcs.rows:\n",
    "        if row['NAME'] == 'NIAGARA CHARTER SCHOOL':\n",
    "            district = 'NIAGARA-WHEATFIELD CENTRAL SCHOOL DISTRICT'\n",
    "        else:\n",
    "            beds_district = row['BEDSCODE'][:6]\n",
    "            district = beds_code[beds_district]\n",
    "        \"\"\"name = School name\n",
    "        math/ela dictionary has totals = total test takers one per applicable class; proficient = proficient_count values; classes = grades taking the test\n",
    "        district = district name (looked up using the beds_code dict)\n",
    "        county = county\"\"\"\n",
    "        schools_info[row['BEDSCODE']] = {'name': row['NAME'], 'math': {'totals': [], 'proficient': [], 'classes': []}, 'ela': {'totals': [], 'proficient': [], 'classes': []}, 'district': district, 'county': row['COUNTY_DESC'] }\n",
    "    # After creating the correct dict format, now I run through the schools again to fill the score values.\n",
    "    for row in erie_calcs.rows:\n",
    "        if row['ITEM_SUBJECT_AREA'] == 'ELA':\n",
    "            data_dict = schools_info[row['BEDSCODE']]['ela']\n",
    "        else:\n",
    "            data_dict = schools_info[row['BEDSCODE']]['math']\n",
    "        try:\n",
    "            data_dict['totals'].append(int(row['TOTAL_TESTED']))\n",
    "        except ValueError:\n",
    "            data_dict['totals'].append(0)\n",
    "        try:\n",
    "            data_dict['classes'].append(row['ITEM_DESC'])\n",
    "        except ValueError:\n",
    "            data_dict['classes'].append(0)\n",
    "        try:\n",
    "            data_dict['proficient'].append(int(row['proficient_count']))\n",
    "        except ValueError:\n",
    "            data_dict['proficient'].append(0)\n",
    "    def calculate_prof_percent(test_area):\n",
    "        total_sum = sum(values[test_area]['totals'])\n",
    "        proficient_sum = sum(values[test_area]['proficient'])\n",
    "        try:\n",
    "            correct_value = ((proficient_sum / total_sum) * 100)\n",
    "            schools_info[school][test_area]['total_percent'] = float(\"{0:.1f}\".format(correct_value))\n",
    "        except ZeroDivisionError:\n",
    "            schools_info[school][test_area]['total_percent'] = '-'\n",
    "    for school, values in schools_info.items():\n",
    "        calculate_prof_percent('ela')\n",
    "        calculate_prof_percent('math')\n",
    "    return schools_info"
   ]
  },
  {
   "cell_type": "code",
   "execution_count": 4,
   "metadata": {
    "collapsed": false
   },
   "outputs": [
    {
     "name": "stdout",
     "output_type": "stream",
     "text": [
      "1837\n"
     ]
    }
   ],
   "source": [
    "year_16 = get_percent_dictionary('3-8_ELA_AND_MATH_2016.csv', tester_16)\n"
   ]
  },
  {
   "cell_type": "code",
   "execution_count": 5,
   "metadata": {
    "collapsed": false
   },
   "outputs": [
    {
     "name": "stdout",
     "output_type": "stream",
     "text": [
      "1815\n"
     ]
    }
   ],
   "source": [
    "year_17 = get_percent_dictionary('3-8_ELA_AND_MATH_2017.csv', tester_16)"
   ]
  },
  {
   "cell_type": "code",
   "execution_count": 7,
   "metadata": {
    "collapsed": false
   },
   "outputs": [
    {
     "name": "stdout",
     "output_type": "stream",
     "text": [
      "1852\n"
     ]
    }
   ],
   "source": [
    "year_15 = get_percent_dictionary('3-8_ELA_AND_MATH_2015.csv',tester_15)"
   ]
  },
  {
   "cell_type": "markdown",
   "metadata": {},
   "source": [
    "Example of each year returning data for a specific school"
   ]
  },
  {
   "cell_type": "code",
   "execution_count": 25,
   "metadata": {
    "collapsed": false
   },
   "outputs": [
    {
     "name": "stdout",
     "output_type": "stream",
     "text": [
      "{'math': {'proficient': [29, 21], 'total_percent': 41.3, 'classes': ['Grade 3 Math', 'Grade 4 Math'], 'totals': [67, 54]}, 'ela': {'proficient': [22, 11], 'total_percent': 25.2, 'classes': ['Grade 3 ELA', 'Grade 4 ELA'], 'totals': [69, 62]}, 'district': 'LOCKPORT CITY SCHOOL DISTRICT', 'county': 'NIAGARA', 'name': 'ANNA MERRITT ELEMENTARY SCHOOL'}\n",
      "{'math': {'proficient': [15, 29], 'total_percent': 37.0, 'classes': ['Grade 3 Math', 'Grade 4 Math'], 'totals': [57, 62]}, 'ela': {'proficient': [11, 12], 'total_percent': 17.8, 'classes': ['Grade 3 ELA', 'Grade 4 ELA'], 'totals': [60, 69]}, 'district': 'LOCKPORT CITY SCHOOL DISTRICT', 'county': 'NIAGARA', 'name': 'ANNA MERRITT ELEMENTARY SCHOOL'}\n",
      "{'math': {'proficient': [23, 19], 'total_percent': 36.8, 'classes': ['Grade 3 Math', 'Grade 4 Math'], 'totals': [52, 62]}, 'ela': {'proficient': [11, 16], 'total_percent': 22.9, 'classes': ['Grade 3 ELA', 'Grade 4 ELA'], 'totals': [53, 65]}, 'district': 'LOCKPORT CITY SCHOOL DISTRICT', 'county': 'NIAGARA', 'name': 'ANNA MERRITT ELEMENTARY SCHOOL'}\n",
      "****\n",
      "{'math': {'proficient': [37, 48, 30, 30, 14, 6], 'total_percent': 21.1, 'classes': ['Grade 3 Math', 'Grade 4 Math', 'Grade 5 Math', 'Grade 6 Math', 'Grade 7 Math', 'Grade 8 Math'], 'totals': [147, 124, 132, 127, 137, 115]}, 'ela': {'proficient': [28, 24, 29, 28, 32, 40], 'total_percent': 21.7, 'classes': ['Grade 3 ELA', 'Grade 4 ELA', 'Grade 5 ELA', 'Grade 6 ELA', 'Grade 7 ELA', 'Grade 8 ELA'], 'totals': [155, 131, 135, 130, 140, 144]}, 'district': 'CHEEKTOWAGA CENTRAL SCHOOL DISTRICT', 'county': 'ERIE', 'name': 'CHEEKTOWAGA CENTRAL SCHOOL DISTRICT'}\n"
     ]
    }
   ],
   "source": [
    "print(year_16['400400010001'])\n",
    "print(year_15['400400010001'])\n",
    "print(year_17['400400010001'])\n",
    "print('****')\n",
    "print(year_16['140701060000'])"
   ]
  },
  {
   "cell_type": "markdown",
   "metadata": {},
   "source": [
    "Separate each school into its county and district for print order"
   ]
  },
  {
   "cell_type": "code",
   "execution_count": 74,
   "metadata": {
    "collapsed": false
   },
   "outputs": [
    {
     "name": "stdout",
     "output_type": "stream",
     "text": [
      "{'schools': {'140701060008': 'PINE HILL EDUCATION CENTER', '140701060007': 'CHEEKTOWAGA MIDDLE SCHOOL', '140701060004': 'UNION EAST ELEMENTARY SCHOOL'}, 'name': 'CHEEKTOWAGA CENTRAL SCHOOL DISTRICT'}\n"
     ]
    }
   ],
   "source": [
    "erie_list = {}\n",
    "niagara_list = {}\n",
    "for key, value in year_17.items():\n",
    "    if 'SCHOOL DISTRICT' in value['name']:\n",
    "        if value['county'] == 'ERIE':\n",
    "            erie_list[key] = {'name': value['name'], 'schools': {}}\n",
    "        else:\n",
    "            niagara_list[key] = {'name': value['name'], 'schools': {}}\n",
    "for distict, value in erie_list.items():\n",
    "    for school, info in year_17.items():\n",
    "        if value['name'] == info['district'] and 'SCHOOL DISTRICT' not in info['name']:\n",
    "            erie_list[distict]['schools'][school] = info['name']\n",
    "for distict, value in niagara_list.items():\n",
    "    for school, info in year_17.items():\n",
    "        if value['name'] == info['district'] and 'SCHOOL DISTRICT' not in info['name']:\n",
    "            niagara_list[distict]['schools'][school] = info['name']\n",
    "print(erie_list['140701060000'])"
   ]
  },
  {
   "cell_type": "code",
   "execution_count": 27,
   "metadata": {
    "collapsed": true
   },
   "outputs": [],
   "source": [
    "def percent_change(new,old):\n",
    "    try:\n",
    "        calculate = (new-old)/old\n",
    "        percent = calculate * 100\n",
    "        one_decimal = float(\"{0:.1f}\".format(percent))\n",
    "        return one_decimal\n",
    "    except (ZeroDivisionError,TypeError):\n",
    "        return '-'"
   ]
  },
  {
   "cell_type": "markdown",
   "metadata": {},
   "source": [
    "Exporting for print"
   ]
  },
  {
   "cell_type": "code",
   "execution_count": 28,
   "metadata": {
    "collapsed": false
   },
   "outputs": [
    {
     "name": "stdout",
     "output_type": "stream",
     "text": [
      "Missing school in 2015, 2016 and/or 2017\n",
      "ALDEN INTERMEDIATE SCHOOL\n",
      "140101060007\n",
      "Missing school in 2015, 2016 and/or 2017\n",
      "CHARTER SCHOOL OF INQUIRY\n",
      "140600861072\n",
      "Missing school in 2015, 2016 and/or 2017\n",
      "NEWCOMER ACADEMY AT LAFAYETTE\n",
      "140600010309\n",
      "Missing school in 2015, 2016 and/or 2017\n",
      "WESTERN NEW YORK MARITIME CHARTER SCHOOL\n",
      "140600860863\n",
      "Missing school in 2015, 2016 and/or 2017\n",
      "KENMORE EAST SENIOR HIGH SCHOOL\n",
      "142601030025\n",
      "Missing school in 2015, 2016 and/or 2017\n",
      "KENMORE WEST SENIOR HIGH SCHOOL\n",
      "142601030026\n",
      "28 erie districts and 10 niagara districts\n"
     ]
    }
   ],
   "source": [
    "erie_districts = 0\n",
    "niagara_districts = 0\n",
    "def export_county_schools(county_list):\n",
    "    county_count = 0\n",
    "    #Sort the county of district id's by its name value.\n",
    "    sorted_county = sorted(county_list, key= lambda district: county_list[district]['name'])\n",
    "    for district in sorted_county:\n",
    "        county_count += 1\n",
    "        #print('*** starting district {0}'.format(county_list[district]['name']))\n",
    "        pc_ela_15_17 = percent_change(year_17[district]['ela']['total_percent'],year_15[district]['ela']['total_percent'])\n",
    "        pc_ela_16_17 = percent_change(year_17[district]['ela']['total_percent'],year_16[district]['ela']['total_percent'])\n",
    "        pc_math_15_17 = percent_change(year_17[district]['math']['total_percent'],year_15[district]['math']['total_percent'])\n",
    "        pc_math_16_17 = percent_change(year_17[district]['math']['total_percent'],year_16[district]['math']['total_percent'])\n",
    "        district_info = [county_list[district]['name'], county_list[district]['name'], year_15[district]['ela']['total_percent'],year_16[district]['ela']['total_percent'],year_17[district]['ela']['total_percent'],year_15[district]['math']['total_percent'],year_16[district]['math']['total_percent'],year_17[district]['math']['total_percent'], pc_ela_15_17, pc_ela_16_17, pc_math_15_17, pc_math_16_17]\n",
    "        writer.writerow(district_info)\n",
    "        schools_info = county_list[district]['schools']\n",
    "        sorted_schools = sorted(schools_info, key = lambda school: schools_info[school])\n",
    "        #Now go through each school in the district and calculate its percent change.\n",
    "        for school in sorted_schools:\n",
    "            try:\n",
    "                pc_school_ela_15_17 = percent_change(year_17[school]['ela']['total_percent'],year_15[school]['ela']['total_percent'])\n",
    "                pc_school_ela_16_17 = percent_change(year_17[school]['ela']['total_percent'],year_16[school]['ela']['total_percent'])\n",
    "                pc_school_math_15_17 = percent_change(year_17[school]['math']['total_percent'],year_15[school]['math']['total_percent'])\n",
    "                pc_school_math_16_17 = percent_change(year_17[school]['math']['total_percent'],year_16[school]['math']['total_percent'])\n",
    "                school_info = [county_list[district]['name'], schools_info[school], year_15[school]['ela']['total_percent'],year_16[school]['ela']['total_percent'],year_17[school]['ela']['total_percent'],year_15[school]['math']['total_percent'],year_16[school]['math']['total_percent'],year_17[school]['math']['total_percent'], pc_school_ela_15_17, pc_school_ela_16_17, pc_school_math_15_17, pc_school_math_16_17]\n",
    "                writer.writerow(school_info)\n",
    "                #print('writing the following {0}'.format(schools_info[school]))\n",
    "            except KeyError:\n",
    "                #Beds code isn't found in one of the years for this school\n",
    "                print('Missing school in 2015, 2016 and/or 2017')\n",
    "                print(schools_info[school])\n",
    "                print(school)\n",
    "    return county_count\n",
    "\n",
    "with open('print_out.tsv', 'w') as out_put:\n",
    "    writer = csv.writer(out_put, delimiter='\\t')\n",
    "    writer.writerow(['district','school','ELA 2015', 'ELA 2016', 'ELA 2017', 'Math 2015', 'Math 2016', 'Math 2017', 'pc_ela_15_17', 'pc_ela_16_17', 'pc_math_15_17', 'pc_math_16_17'])\n",
    "    erie_districts = export_county_schools(erie_list)\n",
    "    niagara_districts = export_county_schools(niagara_list)\n",
    "    print('{0} erie districts and {1} niagara districts'.format(erie_districts,niagara_districts))"
   ]
  },
  {
   "cell_type": "code",
   "execution_count": 75,
   "metadata": {
    "collapsed": false
   },
   "outputs": [
    {
     "name": "stdout",
     "output_type": "stream",
     "text": [
      "*** starting district AKRON CENTRAL SCHOOL DISTRICT\n",
      "writing the following AKRON ELEMENTARY SCHOOL\n",
      "writing the following AKRON MIDDLE SCHOOL\n",
      "*** starting district ALDEN CENTRAL SCHOOL DISTRICT\n",
      "writing the following ALDEN INTERMEDIATE SCHOOL\n",
      "writing the following ALDEN MIDDLE SCHOOL\n",
      "*** starting district AMHERST CENTRAL SCHOOL DISTRICT\n",
      "writing the following AMHERST MIDDLE SCHOOL\n",
      "writing the following SMALLWOOD DRIVE SCHOOL\n",
      "writing the following WINDERMERE BLVD SCHOOL\n",
      "writing the following ALOMA D JOHNSON CHARTER SCHOOL\n",
      "writing the following ALTERNATIVE HIGH SCHOOL AT 4\n",
      "writing the following BENNETT PARK MONTESSORI SCHOOL\n",
      "writing the following BILINGUAL CENTER\n",
      "writing the following BUFFALO ACADEMY FOR THE VISUAL & PERFORMING ARTS\n",
      "writing the following BUFFALO ACADEMY OF SCIENCE CHARTER SCHOOL\n",
      "writing the following BUFFALO ELEMENTARY SCHOOL OF TECHNOLOGY\n",
      "writing the following BUFFALO UNITED CHARTER SCHOOL\n",
      "writing the following BUILD ACADEMY\n",
      "writing the following CHARTER SCHOOL OF INQUIRY\n",
      "writing the following CITY HONORS SCHOOL\n",
      "writing the following COMMUNITY SCHOOL #53\n",
      "writing the following D'YOUVILLE-PORTER CAMPUS\n",
      "writing the following DISCOVERY SCHOOL\n",
      "writing the following DR ANTONIA PANTOJA COMMUNITY SCHOOL OF ACADEMIC EXCELLENCE AT #18\n",
      "writing the following DR GEORGE BLACKMAN ECC\n",
      "writing the following DR LYDIA T WRIGHT SCH OF EXCELLENCE\n",
      "writing the following ELMWOOD VILLAGE CHARTER SCHOOL\n",
      "writing the following ENTERPRISE CHARTER SCHOOL\n",
      "writing the following FRANK A SEDITA SCHOOL #30\n",
      "writing the following FREDERICK OLMSTED #156\n",
      "writing the following HARRIET ROSS TUBMAN ACADEMY\n",
      "writing the following HARVEY AUSTIN SCHOOL #97\n",
      "writing the following HERMAN BADILLO BILINGUAL ACADEMY\n",
      "writing the following HIGHGATE HEIGHTS\n",
      "writing the following INTERNATIONAL PREPARATORY SCHOOL (THE)\n",
      "writing the following INTERNATIONAL SCHOOL\n",
      "writing the following KING CENTER CHARTER SCHOOL\n",
      "writing the following LORRAINE ELEMENTARY SCHOOL\n",
      "writing the following LOVEJOY DISCOVERY SCHOOL #43\n",
      "writing the following MARVA J DANIEL FUTURES PREPARATORY SCHOOL\n",
      "writing the following MATH SCIENCE TECHNOLOGY PREPARATORY SCHOOL AT SENECA (THE)\n",
      "writing the following NATIVE AMERICAN MAGNET\n",
      "writing the following NEWCOMER ACADEMY AT LAFAYETTE\n",
      "writing the following PFC WILLIAM J GRABIARZ #79\n",
      "writing the following PS 17\n",
      "writing the following PS 27 HILLERY PARK ACADEMY\n",
      "writing the following PS 59 DR CHARLES DREW SCIENCE MAGNET\n",
      "writing the following PS 61 ARTHUR O EVE SCHOOL OF DISTINCTION\n",
      "writing the following PS 64 FREDERICK LAW OLMSTED\n",
      "writing the following PS 65 ROOSEVELT ECC\n",
      "writing the following PS 66 NORTH PARK MIDDLE ACADEMY\n",
      "writing the following PS 69 HOUGHTON ACADEMY\n",
      "writing the following PS 74 HAMLIN PARK - CLAUDE AND OUIDA CLAPP ACADEMY\n",
      "writing the following PS 81\n",
      "writing the following PS 82\n",
      "writing the following SOUTH BUFFALO CHARTER SCHOOL\n",
      "writing the following SOUTHSIDE ELEMENTARY SCHOOL\n",
      "writing the following STANLEY MAKOWSKI EARLY CHILDHOOD CENTER\n",
      "writing the following TAPESTRY CHARTER SCHOOL\n",
      "writing the following WATERFRONT ELEMENTARY SCHOOL\n",
      "writing the following WEST BUFFALO CHARTER SCHOOL\n",
      "writing the following WEST HERTEL ELEMENTARY SCHOOL\n",
      "writing the following WESTERN NEW YORK MARITIME CHARTER SCHOOL\n",
      "writing the following WESTMINSTER COMMUNITY CHARTER SCHOOL\n",
      "*** starting district CHEEKTOWAGA CENTRAL SCHOOL DISTRICT\n",
      "writing the following CHEEKTOWAGA MIDDLE SCHOOL\n",
      "writing the following PINE HILL EDUCATION CENTER\n",
      "writing the following UNION EAST ELEMENTARY SCHOOL\n",
      "*** starting district CHEEKTOWAGA-MARYVALE UNION FREE SCHOOL DISTRICT\n",
      "writing the following MARYVALE INTERMEDIATE SCHOOL\n",
      "writing the following MARYVALE MIDDLE SCHOOL\n",
      "*** starting district CHEEKTOWAGA-SLOAN UNION FREE SCHOOL DISTRICT\n",
      "writing the following JOHN F KENNEDY MIDDLE SCHOOL\n",
      "writing the following WOODROW WILSON ELEMENTARY SCHOOL\n",
      "*** starting district CLARENCE CENTRAL SCHOOL DISTRICT\n",
      "writing the following CLARENCE CENTER ELEMENTARY SCHOOL\n",
      "writing the following CLARENCE MIDDLE SCHOOL\n",
      "writing the following HARRIS HILL ELEMENTARY SCHOOL\n",
      "writing the following LEDGEVIEW ELEMENTARY SCHOOL\n",
      "writing the following SHERIDAN HILL ELEMENTARY SCHOOL\n",
      "*** starting district CLEVELAND HILL UNION FREE SCHOOL DISTRICT\n",
      "writing the following CLEVELAND HILL ELEMENTARY SCHOOL\n",
      "writing the following CLEVELAND HILL MIDDLE SCHOOL\n",
      "*** starting district DEPEW UNION FREE SCHOOL DISTRICT\n",
      "writing the following CAYUGA HEIGHTS ELEMENTARY SCHOOL\n",
      "writing the following DEPEW MIDDLE SCHOOL\n",
      "*** starting district EAST AURORA UNION FREE SCHOOL DISTRICT\n",
      "writing the following EAST AURORA MIDDLE SCHOOL\n",
      "writing the following PARKDALE ELEMENTARY SCHOOL\n",
      "*** starting district EDEN CENTRAL SCHOOL DISTRICT\n",
      "writing the following EDEN ELEMENTARY SCHOOL\n",
      "writing the following EDEN JUNIOR-SENIOR HIGH SCHOOL\n",
      "*** starting district EVANS-BRANT CENTRAL SCHOOL DISTRICT (LAKE SHORE)\n",
      "writing the following A J SCHMIDT ELEMENTARY SCHOOL\n",
      "writing the following HIGHLAND ELEMENTARY SCHOOL\n",
      "writing the following JOHN T WAUGH ELEMENTARY SCHOOL\n",
      "writing the following LAKE SHORE MIDDLE SCHOOL\n",
      "*** starting district FRONTIER CENTRAL SCHOOL DISTRICT\n",
      "writing the following BIG TREE ELEMENTARY SCHOOL\n",
      "writing the following BLASDELL ELEMENTARY SCHOOL\n",
      "writing the following CLOVERBANK ELEMENTARY SCHOOL\n",
      "writing the following FRONTIER MIDDLE SCHOOL\n",
      "writing the following PINEHURST ELEMENTARY SCHOOL\n",
      "*** starting district GRAND ISLAND CENTRAL SCHOOL DISTRICT\n",
      "writing the following HUTH ROAD SCHOOL\n",
      "writing the following KAEGEBEIN SCHOOL\n",
      "writing the following VERONICA E CONNOR MIDDLE SCHOOL\n",
      "*** starting district HAMBURG CENTRAL SCHOOL DISTRICT\n",
      "writing the following ARMOR ELEMENTARY SCHOOL\n",
      "writing the following BOSTON VALLEY ELEMENTARY SCHOOL\n",
      "writing the following CHARLOTTE AVENUE ELEMENTARY SCHOOL\n",
      "writing the following HAMBURG MIDDLE SCHOOL\n",
      "writing the following UNION PLEASANT AVENUE ELEMENTARY SCHOOL\n",
      "*** starting district HOLLAND CENTRAL SCHOOL DISTRICT\n",
      "writing the following HAROLD O BRUMSTED ELEMENTARY SCHOOL\n",
      "writing the following HOLLAND JUNIOR/SENIOR HIGH SCHOOL\n",
      "*** starting district IROQUOIS CENTRAL SCHOOL DISTRICT\n",
      "writing the following ELMA PRIMARY SCHOOL\n",
      "writing the following IROQUOIS INTERMEDIATE SCHOOL\n",
      "writing the following IROQUOIS MIDDLE SCHOOL\n",
      "writing the following MARILLA PRIMARY SCHOOL\n",
      "writing the following WALES PRIMARY SCHOOL\n",
      "*** starting district KENMORE-TONAWANDA UNION FREE SCHOOL DISTRICT\n",
      "writing the following BEN FRANKLIN ELEMENTARY SCHOOL\n",
      "writing the following BEN FRANKLIN MIDDLE SCHOOL\n",
      "writing the following CHARLES A LINDBERGH ELEMENTARY SCHOOL\n",
      "writing the following CHARTER SCHOOL FOR APPLIED TECHNOLOGIES\n",
      "writing the following HERBERT HOOVER ELEMENTARY SCHOOL\n",
      "writing the following HERBERT HOOVER MIDDLE SCHOOL\n",
      "writing the following HOLMES ELEMENTARY SCHOOL\n",
      "writing the following KENMORE EAST SENIOR HIGH SCHOOL\n",
      "writing the following KENMORE WEST SENIOR HIGH SCHOOL\n",
      "writing the following THOMAS A EDISON ELEMENTARY SCHOOL\n",
      "*** starting district LACKAWANNA CITY SCHOOL DISTRICT\n",
      "writing the following GLOBAL CONCEPTS CHARTER SCHOOL\n",
      "writing the following LACKAWANNA MIDDLE SCHOOL\n",
      "writing the following MARTIN ROAD ELEMENTARY SCHOOL\n",
      "*** starting district LANCASTER CENTRAL SCHOOL DISTRICT\n",
      "writing the following COMO PARK ELEMENTARY SCHOOL\n",
      "writing the following COURT STREET ELEMENTARY SCHOOL\n",
      "writing the following HILLVIEW ELEMENTARY SCHOOL\n",
      "writing the following JOHN A SCIOLE ELEMENTARY SCHOOL\n",
      "writing the following LANCASTER MIDDLE SCHOOL\n",
      "writing the following WILLIAM STREET SCHOOL\n",
      "*** starting district NORTH COLLINS CENTRAL SCHOOL DISTRICT\n",
      "writing the following NORTH COLLINS ELEMENTARY SCHOOL\n",
      "writing the following NORTH COLLINS JUNIOR-SENIOR HIGH SCHOOL\n",
      "*** starting district ORCHARD PARK CENTRAL SCHOOL DISTRICT\n",
      "writing the following EGGERT ROAD ELEMENTARY SCHOOL\n",
      "writing the following ELLICOTT ROAD ELEMENTARY SCHOOL\n",
      "writing the following ORCHARD PARK MIDDLE SCHOOL\n",
      "writing the following SOUTH DAVIS ELEMENTARY SCHOOL\n",
      "writing the following WINDOM ELEMENTARY SCHOOL\n",
      "*** starting district SPRINGVILLE-GRIFFITH INSTITUTE CENTRAL SCHOOL DISTRICT\n",
      "writing the following COLDEN ELEMENTARY SCHOOL\n",
      "writing the following GRIFFITH INSTITUTE MIDDLE SCHOOL\n",
      "writing the following SPRINGVILLE ELEMENTARY SCHOOL\n",
      "*** starting district SWEET HOME CENTRAL SCHOOL DISTRICT\n",
      "writing the following GLENDALE ELEMENTARY SCHOOL\n",
      "writing the following HERITAGE HEIGHTS ELEMENTARY SCHOOL\n",
      "writing the following MAPLEMERE ELEMENTARY SCHOOL\n",
      "writing the following SWEET HOME MIDDLE SCHOOL\n",
      "writing the following WILLOW RIDGE ELEMENTARY SCHOOL\n",
      "*** starting district TONAWANDA CITY SCHOOL DISTRICT\n",
      "writing the following FLETCHER ELEMENTARY SCHOOL\n",
      "writing the following MULLEN ELEMENTARY SCHOOL\n",
      "writing the following RIVERVIEW ELEMENTARY SCHOOL\n",
      "writing the following TONAWANDA MIDDLE/HIGH SCHOOL\n",
      "*** starting district WEST SENECA CENTRAL SCHOOL DISTRICT\n",
      "writing the following ALLENDALE ELEMENTARY SCHOOL\n",
      "writing the following CLINTON ELEMENTARY SCHOOL\n",
      "writing the following EAST MIDDLE SCHOOL\n",
      "writing the following NORTHWOOD ELEMENTARY SCHOOL\n",
      "writing the following WEST ELEMENTARY SCHOOL\n",
      "writing the following WEST MIDDLE SCHOOL\n",
      "writing the following WINCHESTER ELEMENTARY SCHOOL\n",
      "*** starting district WILLIAMSVILLE CENTRAL SCHOOL DISTRICT\n",
      "writing the following CASEY MIDDLE SCHOOL\n",
      "writing the following COUNTRY PARKWAY ELEMENTARY SCHOOL\n",
      "writing the following DODGE ELEMENTARY SCHOOL\n",
      "writing the following FOREST ELEMENTARY SCHOOL\n",
      "writing the following HEIM ELEMENTARY SCHOOL\n",
      "writing the following HEIM MIDDLE SCHOOL\n",
      "writing the following MAPLE EAST ELEMENTARY SCHOOL\n",
      "writing the following MAPLE WEST ELEMENTARY SCHOOL\n",
      "writing the following MILL MIDDLE SCHOOL\n",
      "writing the following TRANSIT MIDDLE SCHOOL\n",
      "*** starting district BARKER CENTRAL SCHOOL DISTRICT\n",
      "writing the following BARKER JUNIOR/SENIOR HIGH SCHOOL\n",
      "writing the following PRATT ELEMENTARY SCHOOL\n",
      "*** starting district LEWISTON-PORTER CENTRAL SCHOOL DISTRICT\n",
      "writing the following INTERMEDIATE EDUCATION CENTER\n",
      "writing the following LEWISTON PORTER MIDDLE SCHOOL\n",
      "writing the following PRIMARY EDUCATION CENTER\n",
      "*** starting district LOCKPORT CITY SCHOOL DISTRICT\n",
      "writing the following ANNA MERRITT ELEMENTARY SCHOOL\n",
      "writing the following CHARLES A UPSON ELEMENTARY SCHOOL\n",
      "writing the following EMMET BELKNAP INTERMEDIATE SCHOOL\n",
      "writing the following GEORGE SOUTHARD ELEMENTARY SCHOOL\n",
      "writing the following NORTH PARK JUNIOR HIGH SCHOOL\n",
      "writing the following ROY KELLEY ELEMENTARY SCHOOL\n",
      "*** starting district NEWFANE CENTRAL SCHOOL DISTRICT\n",
      "writing the following NEWFANE ELEMENTARY SCHOOL\n",
      "writing the following NEWFANE MIDDLE SCHOOL\n",
      "*** starting district NIAGARA FALLS CITY SCHOOL DISTRICT\n",
      "writing the following CATARACT ELEMENTARY SCHOOL\n",
      "writing the following GASKILL PREPARATORY SCHOOL\n",
      "writing the following GERALDINE J MANN SCHOOL\n",
      "writing the following HARRY F ABATE ELEMENTARY SCHOOL\n",
      "writing the following HENRY J KALFAS MAGNET SCHOOL\n",
      "writing the following HYDE PARK SCHOOL\n",
      "writing the following LASALLE PREPARATORY SCHOOL\n",
      "writing the following MAPLE AVENUE SCHOOL\n",
      "writing the following NIAGARA STREET SCHOOL\n",
      "writing the following SEVENTY NINTH STREET SCHOOL\n",
      "*** starting district NIAGARA-WHEATFIELD CENTRAL SCHOOL DISTRICT\n",
      "writing the following COLONIAL VILLAGE ELEMENTARY SCHOOL\n",
      "writing the following EDWARD TOWN MIDDLE SCHOOL\n",
      "writing the following ERRICK ROAD ELEMENTARY SCHOOL\n",
      "writing the following NIAGARA CHARTER SCHOOL\n",
      "writing the following TUSCARORA ELEMENTARY SCHOOL\n",
      "writing the following WEST STREET ELEMENTARY SCHOOL\n",
      "*** starting district NORTH TONAWANDA CITY SCHOOL DISTRICT\n",
      "writing the following DRAKE SCHOOL\n",
      "writing the following MEADOW SCHOOL\n",
      "writing the following NORTH TONAWANDA MIDDLE SCHOOL\n",
      "writing the following OHIO ELEMENTARY SCHOOL\n",
      "writing the following SPRUCE SCHOOL\n",
      "*** starting district ROYALTON-HARTLAND CENTRAL SCHOOL DISTRICT\n",
      "writing the following ROYALTON-HARTLAND ELEMENTARY SCHOOL\n",
      "writing the following ROYALTON-HARTLAND MIDDLE SCHOOL\n",
      "*** starting district STARPOINT CENTRAL SCHOOL DISTRICT\n",
      "writing the following REGAN INTERMEDIATE SCHOOL\n",
      "writing the following STARPOINT MIDDLE SCHOOL\n",
      "*** starting district WILSON CENTRAL SCHOOL DISTRICT\n",
      "writing the following WILSON ELEMENTARY SCHOOL\n",
      "writing the following WILSON HIGH SCHOOL\n"
     ]
    }
   ],
   "source": [
    "erie_districts = 0\n",
    "niagara_districts = 0\n",
    "clean_json = {'Erie': {}, 'Niagara': {}, 'Buffalo': {}}\n",
    "def export_county_schools(county_list, county):\n",
    "    ordered = []\n",
    "    county_count = 0\n",
    "    #Sort the county of district id's by its name value.\n",
    "    sorted_county = sorted(county_list, key= lambda district: county_list[district]['name'])\n",
    "    for district in sorted_county:\n",
    "        if district != '140600010000':\n",
    "            county_count += 1\n",
    "            print('*** starting district {0}'.format(county_list[district]['name']))\n",
    "            schools_info = county_list[district]['schools']\n",
    "            ordered.append([district,county_list[district]['name']])\n",
    "            sorted_schools = sorted(schools_info, key = lambda school: schools_info[school])\n",
    "            #Now go through each school in the district and calculate its percent change.\n",
    "            for school in sorted_schools:\n",
    "                try:\n",
    "                    print('writing the following {0}'.format(schools_info[school]))\n",
    "                    ordered.append([school,schools_info[school]])\n",
    "                except KeyError:\n",
    "                    #Beds code isn't found in one of the years for this school\n",
    "                    print('Missing school in 2015, 2016 and/or 2017')\n",
    "                    print(schools_info[school])\n",
    "                    print(school)\n",
    "        else:\n",
    "            buffalo_list = []\n",
    "            buffalo_list.append([district,county_list[district]['name']])\n",
    "            schools_info = county_list[district]['schools']\n",
    "            sorted_schools = sorted(schools_info, key = lambda school: schools_info[school])\n",
    "            #Now go through each school in the district and calculate its percent change.\n",
    "            for school in sorted_schools:\n",
    "                try:\n",
    "                    print('writing the following {0}'.format(schools_info[school]))\n",
    "                    buffalo_list.append([school,schools_info[school]])\n",
    "                except KeyError:\n",
    "                    #Beds code isn't found in one of the years for this school\n",
    "                    print('Missing school in 2015, 2016 and/or 2017')\n",
    "                    print(schools_info[school])\n",
    "                    print(school)\n",
    "            clean_json['Buffalo']['ordered_schools'] = buffalo_list\n",
    "    clean_json[county]['ordered_schools'] = ordered\n",
    "erie_list = export_county_schools(erie_list, 'Erie')\n",
    "niagara_list = export_county_schools(niagara_list, 'Niagara')"
   ]
  },
  {
   "cell_type": "code",
   "execution_count": 78,
   "metadata": {
    "collapsed": true
   },
   "outputs": [],
   "source": [
    "def year_build(school_dict, year_dict, year):\n",
    "    if school[0] in year_dict:\n",
    "        year_info = year_dict[school[0]]\n",
    "        school_info['district'] = year_info['district']\n",
    "        school_info['name'] = year_info['name']\n",
    "        math_year = {}\n",
    "        math_year['total'] = str(year_info['math']['total_percent'])\n",
    "        for i, item in enumerate(year_info['math']['classes']):\n",
    "            clean_class = year_info['math']['classes'][i][0:7]\n",
    "            try:\n",
    "                percent_profficient = (year_info['math']['proficient'][i] / year_info['math']['totals'][i]) * 100\n",
    "                math_year[clean_class] = str(float(\"{0:.1f}\".format(percent_profficient)))\n",
    "            except ZeroDivisionError:\n",
    "                math_year[clean_class] = '-'\n",
    "        school_dict['math'][year] = math_year\n",
    "        ela_year = {}\n",
    "        ela_year['total'] = str(year_info['ela']['total_percent'])\n",
    "        for i, item in enumerate(year_info['ela']['classes']):\n",
    "            clean_class = year_info['ela']['classes'][i][0:7]\n",
    "            try:\n",
    "                percent_profficient = (year_info['ela']['proficient'][i] / year_info['ela']['totals'][i]) * 100\n",
    "                ela_year[clean_class] = str(float(\"{0:.1f}\".format(percent_profficient)))\n",
    "            except ZeroDivisionError:\n",
    "                ela_year[clean_class] = '-'\n",
    "        school_dict['ela'][year] = ela_year\n",
    "    else:\n",
    "        print('Missing {0} - {2} in {1}'.format(school[0], year, year_17[school[0]]['name']))"
   ]
  },
  {
   "cell_type": "code",
   "execution_count": 82,
   "metadata": {
    "collapsed": false
   },
   "outputs": [
    {
     "name": "stdout",
     "output_type": "stream",
     "text": [
      "**Starting Erie\n",
      "Missing 140101060007 - ALDEN INTERMEDIATE SCHOOL in 2016\n",
      "Missing 140101060007 - ALDEN INTERMEDIATE SCHOOL in 2015\n",
      "Missing 142601030025 - KENMORE EAST SENIOR HIGH SCHOOL in 2016\n",
      "Missing 142601030025 - KENMORE EAST SENIOR HIGH SCHOOL in 2015\n",
      "Missing 142601030026 - KENMORE WEST SENIOR HIGH SCHOOL in 2016\n",
      "Missing 142601030026 - KENMORE WEST SENIOR HIGH SCHOOL in 2015\n",
      "**Starting Niagara\n",
      "**Starting Buffalo\n",
      "Missing 140600861072 - CHARTER SCHOOL OF INQUIRY in 2016\n",
      "Missing 140600861072 - CHARTER SCHOOL OF INQUIRY in 2015\n",
      "Missing 140600010309 - NEWCOMER ACADEMY AT LAFAYETTE in 2016\n",
      "Missing 140600010309 - NEWCOMER ACADEMY AT LAFAYETTE in 2015\n",
      "Missing 140600860863 - WESTERN NEW YORK MARITIME CHARTER SCHOOL in 2016\n",
      "Missing 140600860863 - WESTERN NEW YORK MARITIME CHARTER SCHOOL in 2015\n",
      "{'schools': {'142601030026': {'math': {'2017': {'total': '12.2', 'Grade 8': '12.2'}}, 'ela': {'2017': {'total': '41.4', 'Grade 8': '41.4'}}, 'name': 'KENMORE WEST SENIOR HIGH SCHOOL', 'district': 'KENMORE-TONAWANDA UNION FREE SCHOOL DISTRICT'}, '141601060004': {'math': {'2017': {'total': '62.8', 'Grade 3': '56.7', 'Grade 4': '50.8', 'Grade 5': '79.7'}, '2016': {'total': '60.5', 'Grade 3': '49.2', 'Grade 4': '70.5', 'Grade 5': '62.0'}, '2015': {'total': '56.3', 'Grade 3': '46.6', 'Grade 4': '60.7', 'Grade 5': '61.7'}}, 'ela': {'2017': {'total': '52.7', 'Grade 3': '50.8', 'Grade 4': '45.8', 'Grade 5': '60.0'}, '2016': {'total': '56.4', 'Grade 3': '48.3', 'Grade 4': '63.9', 'Grade 5': '56.9'}, '2015': {'total': '42.1', 'Grade 3': '36.8', 'Grade 4': '49.2', 'Grade 5': '40.3'}}, 'name': 'UNION PLEASANT AVENUE ELEMENTARY SCHOOL', 'district': 'HAMBURG CENTRAL SCHOOL DISTRICT'}, '142801060000': {'math': {'2017': {'total': '36.3', 'Grade 3': '40.8', 'Grade 4': '41.8', 'Grade 6': '35.5', 'Grade 7': '31.4', 'Grade 8': '5.6', 'Grade 5': '45.2'}, '2016': {'total': '39.9', 'Grade 3': '52.3', 'Grade 4': '50.4', 'Grade 6': '37.4', 'Grade 7': '28.8', 'Grade 8': '11.5', 'Grade 5': '44.7'}, '2015': {'total': '42.2', 'Grade 3': '48.6', 'Grade 4': '51.0', 'Grade 6': '29.9', 'Grade 7': '37.8', 'Grade 8': '6.2', 'Grade 5': '58.6'}}, 'ela': {'2017': {'total': '36.0', 'Grade 3': '42.6', 'Grade 4': '44.8', 'Grade 6': '25.5', 'Grade 7': '34.7', 'Grade 8': '31.0', 'Grade 5': '31.2'}, '2016': {'total': '38.3', 'Grade 3': '52.6', 'Grade 4': '39.6', 'Grade 6': '32.5', 'Grade 7': '32.5', 'Grade 8': '42.9', 'Grade 5': '30.1'}, '2015': {'total': '31.2', 'Grade 3': '33.3', 'Grade 4': '27.0', 'Grade 6': '25.9', 'Grade 7': '38.3', 'Grade 8': '29.9', 'Grade 5': '33.3'}}, 'name': 'WEST SENECA CENTRAL SCHOOL DISTRICT', 'district': 'WEST SENECA CENTRAL SCHOOL DISTRICT'}, '141604060005': {'math': {'2017': {'total': '54.2', 'Grade 3': '61.5', 'Grade 4': '57.5', 'Grade 5': '44.2'}, '2016': {'total': '57.8', 'Grade 3': '55.6', 'Grade 4': '64.7', 'Grade 5': '50.0'}, '2015': {'total': '59.5', 'Grade 3': '61.9', 'Grade 4': '55.3', 'Grade 5': '61.0'}}, 'ela': {'2017': {'total': '52.8', 'Grade 3': '64.2', 'Grade 4': '54.3', 'Grade 5': '41.1'}, '2016': {'total': '54.0', 'Grade 3': '53.3', 'Grade 4': '59.3', 'Grade 5': '47.5'}, '2015': {'total': '53.5', 'Grade 3': '60.9', 'Grade 4': '43.6', 'Grade 5': '54.5'}}, 'name': 'CLOVERBANK ELEMENTARY SCHOOL', 'district': 'FRONTIER CENTRAL SCHOOL DISTRICT'}, '141301060000': {'math': {'2017': {'total': '62.0', 'Grade 3': '61.3', 'Grade 4': '72.8', 'Grade 6': '57.6', 'Grade 7': '58.2', 'Grade 8': '43.5', 'Grade 5': '64.4'}, '2016': {'total': '61.4', 'Grade 3': '60.5', 'Grade 4': '72.3', 'Grade 6': '63.3', 'Grade 7': '58.6', 'Grade 8': '48.6', 'Grade 5': '56.6'}, '2015': {'total': '55.1', 'Grade 3': '54.9', 'Grade 4': '53.3', 'Grade 6': '55.0', 'Grade 7': '71.2', 'Grade 8': '35.8', 'Grade 5': '56.3'}}, 'ela': {'2017': {'total': '53.2', 'Grade 3': '51.0', 'Grade 4': '65.8', 'Grade 6': '43.8', 'Grade 7': '57.0', 'Grade 8': '61.5', 'Grade 5': '45.9'}, '2016': {'total': '50.0', 'Grade 3': '59.5', 'Grade 4': '47.1', 'Grade 6': '41.6', 'Grade 7': '54.8', 'Grade 8': '60.7', 'Grade 5': '42.2'}, '2015': {'total': '49.4', 'Grade 3': '51.2', 'Grade 4': '36.7', 'Grade 6': '45.9', 'Grade 7': '56.9', 'Grade 8': '65.3', 'Grade 5': '43.2'}}, 'name': 'IROQUOIS CENTRAL SCHOOL DISTRICT', 'district': 'IROQUOIS CENTRAL SCHOOL DISTRICT'}, '140703020004': {'math': {'2017': {'total': '34.8', 'Grade 6': '51.4', 'Grade 7': '41.4', 'Grade 8': '13.5'}, '2016': {'total': '32.7', 'Grade 6': '50.8', 'Grade 7': '30.0', 'Grade 8': '20.3'}, '2015': {'total': '18.1', 'Grade 6': '25.8', 'Grade 7': '18.7', 'Grade 8': '10.0'}}, 'ela': {'2017': {'total': '42.2', 'Grade 6': '41.4', 'Grade 7': '50.8', 'Grade 8': '35.9'}, '2016': {'total': '36.0', 'Grade 6': '47.9', 'Grade 7': '27.8', 'Grade 8': '33.7'}, '2015': {'total': '22.9', 'Grade 6': '23.9', 'Grade 7': '20.2', 'Grade 8': '24.7'}}, 'name': 'CLEVELAND HILL MIDDLE SCHOOL', 'district': 'CLEVELAND HILL UNION FREE SCHOOL DISTRICT'}, '140709030003': {'math': {'2017': {'total': '17.1', 'Grade 6': '13.9', 'Grade 7': '25.0', 'Grade 8': '12.5'}, '2016': {'total': '12.6', 'Grade 6': '23.0', 'Grade 7': '7.5', 'Grade 8': '0.0'}, '2015': {'total': '10.5', 'Grade 6': '21.4', 'Grade 7': '3.8', 'Grade 8': '2.9'}}, 'ela': {'2017': {'total': '25.4', 'Grade 6': '16.9', 'Grade 7': '28.1', 'Grade 8': '34.0'}, '2016': {'total': '32.9', 'Grade 6': '28.8', 'Grade 7': '28.6', 'Grade 8': '41.8'}, '2015': {'total': '24.4', 'Grade 6': '20.5', 'Grade 7': '20.3', 'Grade 8': '34.5'}}, 'name': 'JOHN F KENNEDY MIDDLE SCHOOL', 'district': 'CHEEKTOWAGA-SLOAN UNION FREE SCHOOL DISTRICT'}, '141101060002': {'math': {'2017': {'total': '50.6', 'Grade 3': '77.3', 'Grade 4': '40.6', 'Grade 5': '40.0'}, '2016': {'total': '43.9', 'Grade 3': '57.1', 'Grade 4': '40.9', 'Grade 5': '25.0'}, '2015': {'total': '33.3', 'Grade 3': '52.9', 'Grade 4': '30.8', 'Grade 5': '16.7'}}, 'ela': {'2017': {'total': '37.3', 'Grade 3': '39.1', 'Grade 4': '33.3', 'Grade 5': '40.7'}, '2016': {'total': '43.5', 'Grade 3': '54.8', 'Grade 4': '38.1', 'Grade 5': '29.4'}, '2015': {'total': '24.5', 'Grade 3': '33.3', 'Grade 4': '15.4', 'Grade 5': '21.1'}}, 'name': 'COLDEN ELEMENTARY SCHOOL', 'district': 'SPRINGVILLE-GRIFFITH INSTITUTE CENTRAL SCHOOL DISTRICT'}, '141201060005': {'math': {'2017': {'total': '61.6', 'Grade 3': '49.0', 'Grade 6': '74.6', 'Grade 4': '62.3', 'Grade 5': '56.7'}, '2016': {'total': '56.9', 'Grade 3': '40.7', 'Grade 6': '62.3', 'Grade 4': '58.0', 'Grade 5': '65.6'}, '2015': {'total': '58.4', 'Grade 3': '26.8', 'Grade 6': '69.2', 'Grade 4': '72.1', 'Grade 5': '62.9'}}, 'ela': {'2017': {'total': '48.4', 'Grade 3': '49.0', 'Grade 6': '61.8', 'Grade 4': '40.7', 'Grade 5': '38.9'}, '2016': {'total': '42.9', 'Grade 3': '44.1', 'Grade 6': '31.6', 'Grade 4': '41.7', 'Grade 5': '53.2'}, '2015': {'total': '38.0', 'Grade 3': '25.4', 'Grade 6': '33.3', 'Grade 4': '49.3', 'Grade 5': '40.5'}}, 'name': 'EDEN ELEMENTARY SCHOOL', 'district': 'EDEN CENTRAL SCHOOL DISTRICT'}, '142500010009': {'math': {'2017': {'total': '32.9', 'Grade 6': '54.2', 'Grade 7': '27.3', 'Grade 8': '9.8'}, '2016': {'total': '31.7', 'Grade 6': '41.7', 'Grade 7': '37.5', 'Grade 8': '0.0'}, '2015': {'total': '32.9', 'Grade 6': '39.2', 'Grade 7': '39.3', 'Grade 8': '6.5'}}, 'ela': {'2017': {'total': '33.3', 'Grade 6': '48.3', 'Grade 7': '21.7', 'Grade 8': '29.2'}, '2016': {'total': '31.8', 'Grade 6': '36.5', 'Grade 7': '21.3', 'Grade 8': '39.1'}, '2015': {'total': '32.5', 'Grade 6': '34.1', 'Grade 7': '28.6', 'Grade 8': '34.7'}}, 'name': 'TONAWANDA MIDDLE/HIGH SCHOOL', 'district': 'TONAWANDA CITY SCHOOL DISTRICT'}, '142500010000': {'math': {'2017': {'total': '45.9', 'Grade 3': '64.7', 'Grade 4': '54.5', 'Grade 6': '54.2', 'Grade 7': '27.3', 'Grade 8': '9.3', 'Grade 5': '39.3'}, '2016': {'total': '44.7', 'Grade 3': '58.1', 'Grade 4': '50.0', 'Grade 6': '41.7', 'Grade 7': '35.6', 'Grade 8': '0.0', 'Grade 5': '51.7'}, '2015': {'total': '42.2', 'Grade 3': '52.4', 'Grade 4': '53.6', 'Grade 6': '38.2', 'Grade 7': '39.3', 'Grade 8': '6.2', 'Grade 5': '42.0'}}, 'ela': {'2017': {'total': '36.4', 'Grade 3': '38.0', 'Grade 4': '41.3', 'Grade 6': '48.3', 'Grade 7': '21.3', 'Grade 8': '28.0', 'Grade 5': '36.5'}, '2016': {'total': '39.6', 'Grade 3': '41.5', 'Grade 4': '51.9', 'Grade 6': '36.5', 'Grade 7': '20.6', 'Grade 8': '38.3', 'Grade 5': '45.0'}, '2015': {'total': '34.9', 'Grade 3': '41.4', 'Grade 4': '42.7', 'Grade 6': '33.3', 'Grade 7': '28.6', 'Grade 8': '34.0', 'Grade 5': '27.0'}}, 'name': 'TONAWANDA CITY SCHOOL DISTRICT', 'district': 'TONAWANDA CITY SCHOOL DISTRICT'}, '142801060011': {'math': {'2017': {'total': '25.4', 'Grade 6': '30.0', 'Grade 7': '30.6', 'Grade 8': '7.3'}, '2016': {'total': '23.2', 'Grade 6': '29.9', 'Grade 7': '24.6', 'Grade 8': '10.6'}, '2015': {'total': '24.9', 'Grade 6': '19.5', 'Grade 7': '39.7', 'Grade 8': '8.6', 'Grade 5': '-'}}, 'ela': {'2017': {'total': '24.4', 'Grade 6': '20.2', 'Grade 7': '30.3', 'Grade 8': '23.3'}, '2016': {'total': '33.3', 'Grade 6': '32.2', 'Grade 7': '29.3', 'Grade 8': '38.5'}, '2015': {'total': '27.8', 'Grade 6': '21.8', 'Grade 7': '35.3', 'Grade 8': '27.1', 'Grade 5': '-'}}, 'name': 'WEST MIDDLE SCHOOL', 'district': 'WEST SENECA CENTRAL SCHOOL DISTRICT'}, '140207060002': {'math': {'2017': {'total': '41.9', 'Grade 3': '51.0', 'Grade 4': '37.8', 'Grade 5': '36.5'}, '2016': {'total': '40.8', 'Grade 3': '56.5', 'Grade 4': '35.8', 'Grade 5': '31.2'}, '2015': {'total': '43.8', 'Grade 3': '43.4', 'Grade 4': '40.4', 'Grade 5': '50.0'}}, 'ela': {'2017': {'total': '42.6', 'Grade 3': '44.2', 'Grade 4': '51.1', 'Grade 5': '33.3'}, '2016': {'total': '39.0', 'Grade 3': '50.0', 'Grade 4': '38.0', 'Grade 5': '30.0'}, '2015': {'total': '29.1', 'Grade 3': '30.5', 'Grade 4': '30.2', 'Grade 5': '25.0'}}, 'name': 'GLENDALE ELEMENTARY SCHOOL', 'district': 'SWEET HOME CENTRAL SCHOOL DISTRICT'}, '140203060011': {'math': {'2017': {'total': '69.7', 'Grade 3': '71.6', 'Grade 4': '67.4'}, '2016': {'total': '74.4', 'Grade 3': '68.4', 'Grade 4': '79.2'}, '2015': {'total': '72.9', 'Grade 3': '70.0', 'Grade 4': '75.7'}}, 'ela': {'2017': {'total': '61.7', 'Grade 3': '67.3', 'Grade 4': '54.8'}, '2016': {'total': '60.3', 'Grade 3': '55.1', 'Grade 4': '64.4'}, '2015': {'total': '52.7', 'Grade 3': '46.5', 'Grade 4': '58.7'}}, 'name': 'COUNTRY PARKWAY ELEMENTARY SCHOOL', 'district': 'WILLIAMSVILLE CENTRAL SCHOOL DISTRICT'}, '142201040000': {'math': {'2017': {'total': '22.0', 'Grade 3': '9.5', 'Grade 4': '25.0', 'Grade 6': '21.4', 'Grade 7': '26.7', 'Grade 8': '40.0', 'Grade 5': '26.7'}, '2016': {'total': '31.4', 'Grade 3': '52.6', 'Grade 4': '29.4', 'Grade 6': '35.0', 'Grade 7': '28.6', 'Grade 8': '4.8', 'Grade 5': '45.5'}, '2015': {'total': '36.2', 'Grade 3': '38.9', 'Grade 4': '35.7', 'Grade 6': '41.7', 'Grade 7': '42.4', 'Grade 8': '21.4', 'Grade 5': '32.0'}}, 'ela': {'2017': {'total': '19.4', 'Grade 3': '13.0', 'Grade 4': '21.4', 'Grade 6': '14.3', 'Grade 7': '22.2', 'Grade 8': '14.3', 'Grade 5': '29.4'}, '2016': {'total': '47.7', 'Grade 3': '72.2', 'Grade 4': '55.6', 'Grade 6': '33.3', 'Grade 7': '33.3', 'Grade 8': '53.8', 'Grade 5': '25.0'}, '2015': {'total': '32.9', 'Grade 3': '42.9', 'Grade 4': '31.2', 'Grade 6': '14.3', 'Grade 7': '39.5', 'Grade 8': '37.5', 'Grade 5': '22.2'}}, 'name': 'NORTH COLLINS CENTRAL SCHOOL DISTRICT', 'district': 'NORTH COLLINS CENTRAL SCHOOL DISTRICT'}, '141201060000': {'math': {'2017': {'total': '53.5', 'Grade 3': '49.0', 'Grade 4': '62.3', 'Grade 6': '74.6', 'Grade 7': '36.5', 'Grade 8': '25.0', 'Grade 5': '55.7'}, '2016': {'total': '52.8', 'Grade 3': '40.7', 'Grade 4': '56.9', 'Grade 6': '62.3', 'Grade 7': '60.0', 'Grade 8': '26.7', 'Grade 5': '65.6'}, '2015': {'total': '54.3', 'Grade 3': '26.8', 'Grade 4': '72.1', 'Grade 6': '69.2', 'Grade 7': '51.5', 'Grade 8': '35.7', 'Grade 5': '62.9'}}, 'ela': {'2017': {'total': '48.6', 'Grade 3': '49.0', 'Grade 4': '40.7', 'Grade 6': '61.8', 'Grade 7': '36.2', 'Grade 8': '68.2', 'Grade 5': '37.5'}, '2016': {'total': '43.5', 'Grade 3': '44.1', 'Grade 4': '40.8', 'Grade 6': '31.6', 'Grade 7': '40.4', 'Grade 8': '49.1', 'Grade 5': '53.2'}, '2015': {'total': '41.8', 'Grade 3': '25.4', 'Grade 4': '49.3', 'Grade 6': '34.4', 'Grade 7': '45.8', 'Grade 8': '52.2', 'Grade 5': '40.0'}}, 'name': 'EDEN CENTRAL SCHOOL DISTRICT', 'district': 'EDEN CENTRAL SCHOOL DISTRICT'}, '142801060015': {'math': {'2017': {'total': '53.2', 'Grade 3': '60.4', 'Grade 4': '43.9'}, '2016': {'total': '53.2', 'Grade 3': '52.3', 'Grade 4': '54.0'}, '2015': {'total': '57.9', 'Grade 3': '55.3', 'Grade 4': '60.5'}}, 'ela': {'2017': {'total': '54.6', 'Grade 3': '63.0', 'Grade 4': '44.2'}, '2016': {'total': '45.3', 'Grade 3': '58.1', 'Grade 4': '34.6'}, '2015': {'total': '36.2', 'Grade 3': '41.0', 'Grade 4': '31.7'}}, 'name': 'CLINTON ELEMENTARY SCHOOL', 'district': 'WEST SENECA CENTRAL SCHOOL DISTRICT'}, '140203060002': {'math': {'2017': {'total': '75.6', 'Grade 3': '84.2', 'Grade 4': '67.5'}, '2016': {'total': '71.1', 'Grade 3': '75.6', 'Grade 4': '66.7'}, '2015': {'total': '61.3', 'Grade 3': '60.2', 'Grade 4': '62.5'}}, 'ela': {'2017': {'total': '72.0', 'Grade 3': '77.9', 'Grade 4': '66.2'}, '2016': {'total': '59.4', 'Grade 3': '65.1', 'Grade 4': '53.9'}, '2015': {'total': '57.8', 'Grade 3': '57.6', 'Grade 4': '58.0'}}, 'name': 'DODGE ELEMENTARY SCHOOL', 'district': 'WILLIAMSVILLE CENTRAL SCHOOL DISTRICT'}, '141604060003': {'math': {'2017': {'total': '57.8', 'Grade 3': '66.7', 'Grade 4': '57.8', 'Grade 5': '49.0'}, '2016': {'total': '68.4', 'Grade 3': '76.5', 'Grade 4': '63.2', 'Grade 5': '66.0'}, '2015': {'total': '69.7', 'Grade 3': '66.7', 'Grade 4': '76.2', 'Grade 5': '67.9'}}, 'ela': {'2017': {'total': '50.4', 'Grade 3': '52.2', 'Grade 4': '51.2', 'Grade 5': '47.9'}, '2016': {'total': '69.7', 'Grade 3': '75.5', 'Grade 4': '64.9', 'Grade 5': '69.4'}, '2015': {'total': '57.1', 'Grade 3': '59.4', 'Grade 4': '73.3', 'Grade 5': '42.4'}}, 'name': 'BIG TREE ELEMENTARY SCHOOL', 'district': 'FRONTIER CENTRAL SCHOOL DISTRICT'}, '140801060003': {'math': {'2017': {'total': '87.6', 'Grade 3': '85.2', 'Grade 4': '92.9', 'Grade 5': '84.8'}, '2016': {'total': '89.4', 'Grade 3': '98.4', 'Grade 4': '87.3', 'Grade 5': '83.8'}, '2015': {'total': '83.9', 'Grade 3': '76.4', 'Grade 4': '89.1', 'Grade 5': '87.0'}}, 'ela': {'2017': {'total': '66.8', 'Grade 3': '73.3', 'Grade 4': '70.6', 'Grade 5': '58.4'}, '2016': {'total': '69.3', 'Grade 3': '80.6', 'Grade 4': '62.0', 'Grade 5': '67.6'}, '2015': {'total': '64.4', 'Grade 3': '57.9', 'Grade 4': '68.2', 'Grade 5': '68.2'}}, 'name': 'LEDGEVIEW ELEMENTARY SCHOOL', 'district': 'CLARENCE CENTRAL SCHOOL DISTRICT'}, '141800010005': {'math': {'2017': {'total': '5.1', 'Grade 6': '3.9', 'Grade 7': '7.9', 'Grade 8': '2.7'}, '2016': {'total': '12.3', 'Grade 6': '17.5', 'Grade 7': '15.8', 'Grade 8': '2.8'}, '2015': {'total': '23.9', 'Grade 6': '29.8', 'Grade 7': '33.3', 'Grade 8': '0.0'}}, 'ela': {'2017': {'total': '6.5', 'Grade 6': '3.4', 'Grade 7': '9.7', 'Grade 8': '7.5'}, '2016': {'total': '17.5', 'Grade 6': '13.0', 'Grade 7': '9.5', 'Grade 8': '28.6'}, '2015': {'total': '8.3', 'Grade 6': '6.8', 'Grade 7': '11.1', 'Grade 8': '7.1'}}, 'name': 'LACKAWANNA MIDDLE SCHOOL', 'district': 'LACKAWANNA CITY SCHOOL DISTRICT'}, '140301030000': {'math': {'2017': {'total': '56.6', 'Grade 3': '72.6', 'Grade 4': '77.1', 'Grade 6': '51.2', 'Grade 7': '41.0', 'Grade 8': '48.2', 'Grade 5': '48.6'}, '2016': {'total': '52.8', 'Grade 3': '67.9', 'Grade 4': '60.0', 'Grade 6': '38.1', 'Grade 7': '54.4', 'Grade 8': '52.1', 'Grade 5': '46.9'}, '2015': {'total': '53.8', 'Grade 3': '66.7', 'Grade 4': '70.7', 'Grade 6': '44.4', 'Grade 7': '46.3', 'Grade 8': '50.6', 'Grade 5': '46.7'}}, 'ela': {'2017': {'total': '55.1', 'Grade 3': '60.5', 'Grade 4': '60.0', 'Grade 6': '47.7', 'Grade 7': '57.8', 'Grade 8': '55.4', 'Grade 5': '48.7'}, '2016': {'total': '52.9', 'Grade 3': '63.0', 'Grade 4': '58.3', 'Grade 6': '45.8', 'Grade 7': '52.7', 'Grade 8': '60.3', 'Grade 5': '41.2'}, '2015': {'total': '48.4', 'Grade 3': '60.4', 'Grade 4': '44.9', 'Grade 6': '41.5', 'Grade 7': '46.4', 'Grade 8': '62.5', 'Grade 5': '37.2'}}, 'name': 'EAST AURORA UNION FREE SCHOOL DISTRICT', 'district': 'EAST AURORA UNION FREE SCHOOL DISTRICT'}, '141604060000': {'math': {'2017': {'total': '55.0', 'Grade 3': '60.4', 'Grade 4': '59.6', 'Grade 6': '57.8', 'Grade 7': '55.9', 'Grade 8': '15.2', 'Grade 5': '53.7'}, '2016': {'total': '55.8', 'Grade 3': '60.0', 'Grade 4': '64.7', 'Grade 6': '49.7', 'Grade 7': '59.8', 'Grade 8': '13.8', 'Grade 5': '56.7'}, '2015': {'total': '59.2', 'Grade 3': '58.5', 'Grade 4': '73.2', 'Grade 6': '60.3', 'Grade 7': '56.0', 'Grade 8': '27.6', 'Grade 5': '56.7'}}, 'ela': {'2017': {'total': '53.2', 'Grade 3': '55.3', 'Grade 4': '54.6', 'Grade 6': '50.8', 'Grade 7': '54.3', 'Grade 8': '61.8', 'Grade 5': '46.9'}, '2016': {'total': '56.8', 'Grade 3': '61.8', 'Grade 4': '59.7', 'Grade 6': '50.9', 'Grade 7': '61.0', 'Grade 8': '55.4', 'Grade 5': '51.5'}, '2015': {'total': '49.4', 'Grade 3': '53.6', 'Grade 4': '56.9', 'Grade 6': '51.5', 'Grade 7': '51.8', 'Grade 8': '38.1', 'Grade 5': '41.8'}}, 'name': 'FRONTIER CENTRAL SCHOOL DISTRICT', 'district': 'FRONTIER CENTRAL SCHOOL DISTRICT'}, '140203060009': {'math': {'2017': {'total': '62.8', 'Grade 6': '65.5', 'Grade 7': '56.9', 'Grade 8': '8.6', 'Grade 5': '79.5'}, '2016': {'total': '62.6', 'Grade 6': '65.4', 'Grade 7': '70.8', 'Grade 8': '26.3', 'Grade 5': '72.7'}, '2015': {'total': '57.3', 'Grade 6': '72.7', 'Grade 7': '45.4', 'Grade 8': '43.4', 'Grade 5': '59.4'}}, 'ela': {'2017': {'total': '50.0', 'Grade 6': '44.2', 'Grade 7': '54.5', 'Grade 8': '59.3', 'Grade 5': '45.7'}, '2016': {'total': '53.8', 'Grade 6': '57.7', 'Grade 7': '58.2', 'Grade 8': '54.7', 'Grade 5': '47.0'}, '2015': {'total': '52.1', 'Grade 6': '51.7', 'Grade 7': '43.0', 'Grade 8': '63.7', 'Grade 5': '49.5'}}, 'name': 'HEIM MIDDLE SCHOOL', 'district': 'WILLIAMSVILLE CENTRAL SCHOOL DISTRICT'}, '141701040002': {'math': {'2017': {'total': '27.5', 'Grade 3': '17.0', 'Grade 6': '13.8', 'Grade 4': '31.8', 'Grade 5': '44.4'}, '2016': {'total': '31.6', 'Grade 3': '36.2', 'Grade 6': '28.0', 'Grade 4': '22.2', 'Grade 5': '40.0'}, '2015': {'total': '35.1', 'Grade 3': '48.7', 'Grade 6': '30.4', 'Grade 4': '15.0', 'Grade 5': '46.9'}}, 'ela': {'2017': {'total': '17.5', 'Grade 3': '17.0', 'Grade 6': '19.4', 'Grade 4': '17.8', 'Grade 5': '16.7'}, '2016': {'total': '28.7', 'Grade 3': '34.8', 'Grade 6': '32.0', 'Grade 4': '23.3', 'Grade 5': '25.0'}, '2015': {'total': '34.0', 'Grade 3': '40.5', 'Grade 6': '22.2', 'Grade 4': '30.2', 'Grade 5': '39.5'}}, 'name': 'HAROLD O BRUMSTED ELEMENTARY SCHOOL', 'district': 'HOLLAND CENTRAL SCHOOL DISTRICT'}, '141901060004': {'math': {'2017': {'total': '56.4', 'Grade 3': '56.4'}, '2016': {'total': '46.9', 'Grade 3': '46.9'}, '2015': {'total': '50.8', 'Grade 3': '50.8'}}, 'ela': {'2017': {'total': '65.8', 'Grade 3': '65.8'}, '2016': {'total': '57.6', 'Grade 3': '57.6'}, '2015': {'total': '44.3', 'Grade 3': '44.3'}}, 'name': 'COMO PARK ELEMENTARY SCHOOL', 'district': 'LANCASTER CENTRAL SCHOOL DISTRICT'}, '140207060008': {'math': {'2017': {'total': '36.9', 'Grade 3': '37.7', 'Grade 4': '45.5', 'Grade 5': '30.2'}, '2016': {'total': '32.9', 'Grade 3': '25.7', 'Grade 4': '44.6', 'Grade 5': '25.0'}, '2015': {'total': '31.3', 'Grade 3': '35.0', 'Grade 4': '31.0', 'Grade 5': '27.9'}}, 'ela': {'2017': {'total': '24.7', 'Grade 3': '22.2', 'Grade 4': '30.8', 'Grade 5': '22.8'}, '2016': {'total': '30.1', 'Grade 3': '29.4', 'Grade 4': '38.2', 'Grade 5': '22.2'}, '2015': {'total': '25.9', 'Grade 3': '24.1', 'Grade 4': '28.1', 'Grade 5': '25.4'}}, 'name': 'HERITAGE HEIGHTS ELEMENTARY SCHOOL', 'district': 'SWEET HOME CENTRAL SCHOOL DISTRICT'}, '140203060007': {'math': {'2017': {'total': '64.9', 'Grade 3': '77.2', 'Grade 4': '46.3'}, '2016': {'total': '63.6', 'Grade 3': '74.6', 'Grade 4': '53.9'}, '2015': {'total': '63.4', 'Grade 3': '65.4', 'Grade 4': '61.4'}}, 'ela': {'2017': {'total': '57.3', 'Grade 3': '65.7', 'Grade 4': '44.9'}, '2016': {'total': '56.5', 'Grade 3': '58.6', 'Grade 4': '54.5'}, '2015': {'total': '46.6', 'Grade 3': '46.2', 'Grade 4': '46.8'}}, 'name': 'FOREST ELEMENTARY SCHOOL', 'district': 'WILLIAMSVILLE CENTRAL SCHOOL DISTRICT'}, '141701040000': {'math': {'2017': {'total': '26.8', 'Grade 3': '17.0', 'Grade 4': '31.8', 'Grade 6': '13.8', 'Grade 7': '32.0', 'Grade 8': '11.8', 'Grade 5': '44.4'}, '2016': {'total': '27.7', 'Grade 3': '36.2', 'Grade 4': '22.2', 'Grade 6': '25.9', 'Grade 7': '30.0', 'Grade 8': '0.0', 'Grade 5': '38.9'}, '2015': {'total': '36.4', 'Grade 3': '47.5', 'Grade 4': '14.6', 'Grade 6': '36.0', 'Grade 7': '37.8', 'Grade 8': '40.9', 'Grade 5': '45.5'}}, 'ela': {'2017': {'total': '21.5', 'Grade 3': '17.0', 'Grade 4': '17.8', 'Grade 6': '19.4', 'Grade 7': '41.9', 'Grade 8': '24.0', 'Grade 5': '16.7'}, '2016': {'total': '29.1', 'Grade 3': '34.8', 'Grade 4': '23.3', 'Grade 6': '29.6', 'Grade 7': '31.8', 'Grade 8': '31.0', 'Grade 5': '25.0'}, '2015': {'total': '31.1', 'Grade 3': '39.5', 'Grade 4': '29.5', 'Grade 6': '25.0', 'Grade 7': '23.5', 'Grade 8': '30.6', 'Grade 5': '38.5'}}, 'name': 'HOLLAND CENTRAL SCHOOL DISTRICT', 'district': 'HOLLAND CENTRAL SCHOOL DISTRICT'}, '140201060000': {'math': {'2017': {'total': '60.9', 'Grade 3': '65.1', 'Grade 4': '61.6', 'Grade 6': '64.9', 'Grade 7': '60.4', 'Grade 8': '31.6', 'Grade 5': '66.9'}, '2016': {'total': '53.3', 'Grade 3': '71.1', 'Grade 4': '60.9', 'Grade 6': '40.0', 'Grade 7': '53.8', 'Grade 8': '29.1', 'Grade 5': '50.7'}, '2015': {'total': '56.2', 'Grade 3': '60.9', 'Grade 4': '61.8', 'Grade 6': '53.3', 'Grade 7': '49.2', 'Grade 8': '38.0', 'Grade 5': '63.1'}}, 'ela': {'2017': {'total': '55.6', 'Grade 3': '57.1', 'Grade 4': '64.6', 'Grade 6': '30.5', 'Grade 7': '59.7', 'Grade 8': '59.8', 'Grade 5': '58.6'}, '2016': {'total': '51.5', 'Grade 3': '61.4', 'Grade 4': '58.8', 'Grade 6': '45.8', 'Grade 7': '49.3', 'Grade 8': '47.6', 'Grade 5': '43.9'}, '2015': {'total': '43.9', 'Grade 3': '40.5', 'Grade 4': '44.1', 'Grade 6': '47.8', 'Grade 7': '37.0', 'Grade 8': '51.7', 'Grade 5': '44.1'}}, 'name': 'AMHERST CENTRAL SCHOOL DISTRICT', 'district': 'AMHERST CENTRAL SCHOOL DISTRICT'}, '140801060002': {'math': {'2017': {'total': '67.4', 'Grade 3': '67.7', 'Grade 4': '69.1', 'Grade 5': '64.8'}, '2016': {'total': '65.5', 'Grade 3': '75.4', 'Grade 4': '67.8', 'Grade 5': '53.0'}, '2015': {'total': '62.6', 'Grade 3': '56.6', 'Grade 4': '66.1', 'Grade 5': '64.0'}}, 'ela': {'2017': {'total': '55.3', 'Grade 3': '64.5', 'Grade 4': '50.0', 'Grade 5': '51.8'}, '2016': {'total': '51.0', 'Grade 3': '56.3', 'Grade 4': '46.0', 'Grade 5': '50.0'}, '2015': {'total': '51.5', 'Grade 3': '42.4', 'Grade 4': '57.8', 'Grade 5': '53.0'}}, 'name': 'HARRIS HILL ELEMENTARY SCHOOL', 'district': 'CLARENCE CENTRAL SCHOOL DISTRICT'}, '141301060007': {'math': {'2017': {'total': '70.2', 'Grade 3': '64.4', 'Grade 4': '76.9'}, '2016': {'total': '68.4', 'Grade 3': '66.7', 'Grade 4': '70.0'}, '2015': {'total': '55.9', 'Grade 3': '55.3', 'Grade 4': '56.7'}}, 'ela': {'2017': {'total': '64.6', 'Grade 3': '57.4', 'Grade 4': '74.3'}, '2016': {'total': '57.5', 'Grade 3': '66.7', 'Grade 4': '48.8'}, '2015': {'total': '52.9', 'Grade 3': '62.2', 'Grade 4': '41.9'}}, 'name': 'ELMA PRIMARY SCHOOL', 'district': 'IROQUOIS CENTRAL SCHOOL DISTRICT'}, '140701060000': {'math': {'2017': {'total': '18.8', 'Grade 3': '26.0', 'Grade 4': '26.8', 'Grade 6': '22.6', 'Grade 7': '16.7', 'Grade 8': '6.0', 'Grade 5': '14.3'}, '2016': {'total': '21.1', 'Grade 3': '25.2', 'Grade 4': '38.7', 'Grade 6': '23.6', 'Grade 7': '10.2', 'Grade 8': '5.2', 'Grade 5': '22.7'}, '2015': {'total': '23.4', 'Grade 3': '30.2', 'Grade 4': '45.8', 'Grade 6': '18.4', 'Grade 7': '11.0', 'Grade 8': '11.1', 'Grade 5': '22.7'}}, 'ela': {'2017': {'total': '21.8', 'Grade 3': '17.2', 'Grade 4': '16.1', 'Grade 6': '22.7', 'Grade 7': '28.1', 'Grade 8': '33.8', 'Grade 5': '11.9'}, '2016': {'total': '21.7', 'Grade 3': '18.1', 'Grade 4': '18.3', 'Grade 6': '21.5', 'Grade 7': '22.9', 'Grade 8': '27.8', 'Grade 5': '21.5'}, '2015': {'total': '18.3', 'Grade 3': '20.9', 'Grade 4': '20.8', 'Grade 6': '18.2', 'Grade 7': '10.5', 'Grade 8': '30.4', 'Grade 5': '8.4'}}, 'name': 'CHEEKTOWAGA CENTRAL SCHOOL DISTRICT', 'district': 'CHEEKTOWAGA CENTRAL SCHOOL DISTRICT'}, '141800860044': {'math': {'2017': {'total': '37.9', 'Grade 3': '32.9', 'Grade 4': '50.0', 'Grade 6': '53.1', 'Grade 7': '26.7', 'Grade 8': '0.0', 'Grade 5': '50.0'}, '2016': {'total': '42.1', 'Grade 3': '23.9', 'Grade 4': '57.5', 'Grade 6': '59.4', 'Grade 7': '12.5', 'Grade 8': '45.5', 'Grade 5': '47.9'}, '2015': {'total': '42.5', 'Grade 3': '20.9', 'Grade 4': '60.9', 'Grade 6': '42.9', 'Grade 7': '45.6', 'Grade 8': '21.0', 'Grade 5': '63.5'}}, 'ela': {'2017': {'total': '30.8', 'Grade 3': '29.6', 'Grade 4': '47.9', 'Grade 6': '32.9', 'Grade 7': '18.0', 'Grade 8': '14.0', 'Grade 5': '36.6'}, '2016': {'total': '35.7', 'Grade 3': '45.1', 'Grade 4': '42.7', 'Grade 6': '32.8', 'Grade 7': '19.4', 'Grade 8': '32.2', 'Grade 5': '38.9'}, '2015': {'total': '26.3', 'Grade 3': '21.7', 'Grade 4': '50.7', 'Grade 6': '17.9', 'Grade 7': '21.1', 'Grade 8': '15.3', 'Grade 5': '28.4'}}, 'name': 'GLOBAL CONCEPTS CHARTER SCHOOL', 'district': 'LACKAWANNA CITY SCHOOL DISTRICT'}, '142301060003': {'math': {'2017': {'total': '63.7', 'Grade 3': '54.4', 'Grade 4': '77.6', 'Grade 5': '59.1'}, '2016': {'total': '60.7', 'Grade 3': '39.3', 'Grade 4': '81.5', 'Grade 5': '60.0'}, '2015': {'total': '69.3', 'Grade 3': '57.5', 'Grade 4': '70.0', 'Grade 5': '83.9'}}, 'ela': {'2017': {'total': '66.5', 'Grade 3': '74.6', 'Grade 4': '75.0', 'Grade 5': '50.7'}, '2016': {'total': '62.6', 'Grade 3': '67.2', 'Grade 4': '69.2', 'Grade 5': '51.6'}, '2015': {'total': '61.7', 'Grade 3': '64.4', 'Grade 4': '56.6', 'Grade 5': '64.9'}}, 'name': 'EGGERT ROAD ELEMENTARY SCHOOL', 'district': 'ORCHARD PARK CENTRAL SCHOOL DISTRICT'}, '140203060003': {'math': {'2017': {'total': '66.2', 'Grade 3': '67.3', 'Grade 4': '65.2'}, '2016': {'total': '75.8', 'Grade 3': '75.2', 'Grade 4': '76.4'}, '2015': {'total': '76.6', 'Grade 3': '72.7', 'Grade 4': '80.2'}}, 'ela': {'2017': {'total': '64.2', 'Grade 3': '64.4', 'Grade 4': '64.0'}, '2016': {'total': '67.1', 'Grade 3': '71.3', 'Grade 4': '63.2'}, '2015': {'total': '68.2', 'Grade 3': '69.9', 'Grade 4': '66.7'}}, 'name': 'MAPLE EAST ELEMENTARY SCHOOL', 'district': 'WILLIAMSVILLE CENTRAL SCHOOL DISTRICT'}, '140701060008': {'math': {'2017': {'total': '-', 'Grade 3': '-', 'Grade 6': '-', 'Grade 7': '-', 'Grade 5': '-'}, '2016': {'total': '-', 'Grade 8': '-', 'Grade 7': '-', 'Grade 4': '-', 'Grade 5': '-'}, '2015': {'total': '0.0', 'Grade 3': '-', 'Grade 4': '-', 'Grade 6': '-', 'Grade 7': '0.0', 'Grade 8': '0.0', 'Grade 5': '-'}}, 'ela': {'2017': {'total': '-', 'Grade 3': '-', 'Grade 6': '-', 'Grade 7': '-', 'Grade 8': '-', 'Grade 5': '-'}, '2016': {'total': '-', 'Grade 8': '-', 'Grade 4': '-', 'Grade 6': '-', 'Grade 7': '-', 'Grade 5': '-'}, '2015': {'total': '5.3', 'Grade 3': '-', 'Grade 4': '-', 'Grade 6': '-', 'Grade 7': '0.0', 'Grade 8': '8.3', 'Grade 5': '-'}}, 'name': 'PINE HILL EDUCATION CENTER', 'district': 'CHEEKTOWAGA CENTRAL SCHOOL DISTRICT'}, '141601060002': {'math': {'2017': {'total': '69.9', 'Grade 3': '46.2', 'Grade 4': '66.7', 'Grade 5': '96.3'}, '2016': {'total': '74.3', 'Grade 3': '59.3', 'Grade 4': '87.0', 'Grade 5': '79.2'}, '2015': {'total': '65.0', 'Grade 3': '50.0', 'Grade 4': '68.0', 'Grade 5': '77.8'}}, 'ela': {'2017': {'total': '42.4', 'Grade 3': '29.6', 'Grade 4': '46.7', 'Grade 5': '50.0'}, '2016': {'total': '48.7', 'Grade 3': '53.6', 'Grade 4': '56.0', 'Grade 5': '36.0'}, '2015': {'total': '43.5', 'Grade 3': '28.6', 'Grade 4': '51.7', 'Grade 5': '50.0'}}, 'name': 'BOSTON VALLEY ELEMENTARY SCHOOL', 'district': 'HAMBURG CENTRAL SCHOOL DISTRICT'}, '142601030000': {'math': {'2017': {'total': '34.5', 'Grade 3': '46.1', 'Grade 4': '28.3', 'Grade 6': '37.6', 'Grade 7': '36.3', 'Grade 8': '8.9', 'Grade 5': '34.4'}, '2016': {'total': '32.3', 'Grade 3': '37.8', 'Grade 4': '39.0', 'Grade 6': '30.7', 'Grade 7': '32.8', 'Grade 8': '12.2', 'Grade 5': '31.0'}, '2015': {'total': '36.2', 'Grade 3': '41.5', 'Grade 4': '41.8', 'Grade 6': '35.3', 'Grade 7': '30.5', 'Grade 8': '13.9', 'Grade 5': '42.3'}}, 'ela': {'2017': {'total': '32.5', 'Grade 3': '38.5', 'Grade 4': '26.9', 'Grade 6': '23.1', 'Grade 7': '42.2', 'Grade 8': '39.4', 'Grade 5': '26.5'}, '2016': {'total': '29.7', 'Grade 3': '34.9', 'Grade 4': '32.3', 'Grade 6': '28.5', 'Grade 7': '30.6', 'Grade 8': '32.0', 'Grade 5': '19.6'}, '2015': {'total': '28.3', 'Grade 3': '26.1', 'Grade 4': '30.6', 'Grade 6': '29.7', 'Grade 7': '22.2', 'Grade 8': '37.6', 'Grade 5': '25.4'}}, 'name': 'KENMORE-TONAWANDA UNION FREE SCHOOL DISTRICT', 'district': 'KENMORE-TONAWANDA UNION FREE SCHOOL DISTRICT'}, '140709030000': {'math': {'2017': {'total': '30.7', 'Grade 3': '57.9', 'Grade 4': '42.9', 'Grade 6': '13.7', 'Grade 7': '24.5', 'Grade 8': '11.9', 'Grade 5': '22.4'}, '2016': {'total': '23.6', 'Grade 3': '38.5', 'Grade 4': '30.8', 'Grade 6': '21.5', 'Grade 7': '7.3', 'Grade 8': '0.0', 'Grade 5': '24.2'}, '2015': {'total': '27.2', 'Grade 3': '45.3', 'Grade 4': '38.0', 'Grade 6': '21.4', 'Grade 7': '3.6', 'Grade 8': '2.7', 'Grade 5': '36.9'}}, 'ela': {'2017': {'total': '25.1', 'Grade 3': '28.6', 'Grade 4': '29.2', 'Grade 6': '16.7', 'Grade 7': '27.1', 'Grade 8': '32.0', 'Grade 5': '16.7'}, '2016': {'total': '27.0', 'Grade 3': '25.9', 'Grade 4': '38.3', 'Grade 6': '26.4', 'Grade 7': '28.6', 'Grade 8': '39.7', 'Grade 5': '7.4'}, '2015': {'total': '22.6', 'Grade 3': '22.9', 'Grade 4': '28.4', 'Grade 6': '20.5', 'Grade 7': '18.7', 'Grade 8': '32.8', 'Grade 5': '13.3'}}, 'name': 'CHEEKTOWAGA-SLOAN UNION FREE SCHOOL DISTRICT', 'district': 'CHEEKTOWAGA-SLOAN UNION FREE SCHOOL DISTRICT'}, '140207060007': {'math': {'2017': {'total': '48.5', 'Grade 3': '67.4', 'Grade 4': '41.9', 'Grade 5': '36.2'}, '2016': {'total': '53.3', 'Grade 3': '44.7', 'Grade 4': '51.2', 'Grade 5': '63.4'}, '2015': {'total': '58.3', 'Grade 3': '60.5', 'Grade 4': '64.3', 'Grade 5': '46.7'}}, 'ela': {'2017': {'total': '44.5', 'Grade 3': '60.9', 'Grade 4': '46.5', 'Grade 5': '27.1'}, '2016': {'total': '47.6', 'Grade 3': '51.3', 'Grade 4': '50.0', 'Grade 5': '41.9'}, '2015': {'total': '44.8', 'Grade 3': '40.4', 'Grade 4': '60.0', 'Grade 5': '30.3'}}, 'name': 'WILLOW RIDGE ELEMENTARY SCHOOL', 'district': 'SWEET HOME CENTRAL SCHOOL DISTRICT'}, '141501060005': {'math': {'2017': {'total': '51.6', 'Grade 6': '56.5', 'Grade 7': '60.2', 'Grade 8': '20.4'}, '2016': {'total': '54.3', 'Grade 6': '59.0', 'Grade 7': '61.9', 'Grade 8': '33.3'}, '2015': {'total': '52.1', 'Grade 6': '63.1', 'Grade 7': '63.6', 'Grade 8': '14.1'}}, 'ela': {'2017': {'total': '46.2', 'Grade 6': '36.0', 'Grade 7': '48.8', 'Grade 8': '54.6'}, '2016': {'total': '45.0', 'Grade 6': '42.3', 'Grade 7': '38.7', 'Grade 8': '55.9'}, '2015': {'total': '40.7', 'Grade 6': '33.1', 'Grade 7': '38.9', 'Grade 8': '49.1'}}, 'name': 'VERONICA E CONNOR MIDDLE SCHOOL', 'district': 'GRAND ISLAND CENTRAL SCHOOL DISTRICT'}, '140203060000': {'math': {'2017': {'total': '67.1', 'Grade 3': '73.0', 'Grade 4': '60.2', 'Grade 6': '68.2', 'Grade 7': '71.4', 'Grade 8': '33.8', 'Grade 5': '75.3'}, '2016': {'total': '64.9', 'Grade 3': '68.8', 'Grade 4': '67.4', 'Grade 6': '67.6', 'Grade 7': '69.2', 'Grade 8': '36.2', 'Grade 5': '64.2'}, '2015': {'total': '62.0', 'Grade 3': '68.0', 'Grade 4': '66.7', 'Grade 6': '59.3', 'Grade 7': '62.2', 'Grade 8': '38.2', 'Grade 5': '62.0'}}, 'ela': {'2017': {'total': '59.5', 'Grade 3': '65.9', 'Grade 4': '56.4', 'Grade 6': '52.1', 'Grade 7': '67.0', 'Grade 8': '68.1', 'Grade 5': '51.2'}, '2016': {'total': '59.6', 'Grade 3': '61.3', 'Grade 4': '57.6', 'Grade 6': '62.6', 'Grade 7': '62.8', 'Grade 8': '69.9', 'Grade 5': '48.1'}, '2015': {'total': '56.9', 'Grade 3': '55.0', 'Grade 4': '56.4', 'Grade 6': '56.0', 'Grade 7': '56.9', 'Grade 8': '65.0', 'Grade 5': '53.7'}}, 'name': 'WILLIAMSVILLE CENTRAL SCHOOL DISTRICT', 'district': 'WILLIAMSVILLE CENTRAL SCHOOL DISTRICT'}, '142101040003': {'math': {'2017': {'total': '51.3', 'Grade 6': '50.7', 'Grade 7': '54.4', 'Grade 8': '47.1'}, '2016': {'total': '43.2', 'Grade 6': '50.8', 'Grade 7': '44.7', 'Grade 8': '28.9'}, '2015': {'total': '47.0', 'Grade 6': '45.3', 'Grade 7': '55.7', 'Grade 8': '32.4'}}, 'ela': {'2017': {'total': '47.2', 'Grade 6': '39.1', 'Grade 7': '54.8', 'Grade 8': '49.0'}, '2016': {'total': '49.2', 'Grade 6': '48.6', 'Grade 7': '37.0', 'Grade 8': '60.7'}, '2015': {'total': '43.6', 'Grade 6': '41.8', 'Grade 7': '42.5', 'Grade 8': '47.5'}}, 'name': 'AKRON MIDDLE SCHOOL', 'district': 'AKRON CENTRAL SCHOOL DISTRICT'}, '140801060007': {'math': {'2017': {'total': '68.4', 'Grade 3': '84.9', 'Grade 4': '56.6', 'Grade 5': '63.5'}, '2016': {'total': '69.1', 'Grade 3': '71.1', 'Grade 4': '68.0', 'Grade 5': '68.2'}, '2015': {'total': '69.3', 'Grade 3': '73.2', 'Grade 4': '55.6', 'Grade 5': '75.4'}}, 'ela': {'2017': {'total': '58.7', 'Grade 3': '67.9', 'Grade 4': '58.3', 'Grade 5': '49.0'}, '2016': {'total': '67.8', 'Grade 3': '76.6', 'Grade 4': '68.6', 'Grade 5': '57.8'}, '2015': {'total': '52.0', 'Grade 3': '59.6', 'Grade 4': '36.7', 'Grade 5': '56.5'}}, 'name': 'CLARENCE CENTER ELEMENTARY SCHOOL', 'district': 'CLARENCE CENTRAL SCHOOL DISTRICT'}, '142801060018': {'math': {'2017': {'total': '50.5', 'Grade 3': '51.0', 'Grade 4': '46.4', 'Grade 5': '53.1'}, '2016': {'total': '55.4', 'Grade 3': '60.0', 'Grade 4': '56.8', 'Grade 5': '50.0'}, '2015': {'total': '63.4', 'Grade 3': '66.7', 'Grade 4': '47.5', 'Grade 5': '79.4'}}, 'ela': {'2017': {'total': '44.3', 'Grade 3': '42.9', 'Grade 4': '41.9', 'Grade 5': '48.6'}, '2016': {'total': '46.4', 'Grade 3': '57.7', 'Grade 4': '50.0', 'Grade 5': '32.3'}, '2015': {'total': '42.2', 'Grade 3': '56.7', 'Grade 4': '28.6', 'Grade 5': '45.9'}}, 'name': 'WEST ELEMENTARY SCHOOL', 'district': 'WEST SENECA CENTRAL SCHOOL DISTRICT'}, '141401060000': {'math': {'2017': {'total': '35.6', 'Grade 3': '49.6', 'Grade 4': '46.0', 'Grade 6': '22.0', 'Grade 7': '25.4', 'Grade 8': '4.1', 'Grade 5': '41.2'}, '2016': {'total': '30.6', 'Grade 3': '37.3', 'Grade 4': '37.3', 'Grade 6': '22.7', 'Grade 7': '19.0', 'Grade 8': '6.1', 'Grade 5': '35.6'}, '2015': {'total': '35.9', 'Grade 3': '39.1', 'Grade 4': '42.5', 'Grade 6': '34.0', 'Grade 7': '23.1', 'Grade 8': '5.3', 'Grade 5': '41.5'}}, 'ela': {'2017': {'total': '27.2', 'Grade 3': '42.1', 'Grade 4': '25.0', 'Grade 6': '17.9', 'Grade 7': '17.8', 'Grade 8': '30.9', 'Grade 5': '25.4'}, '2016': {'total': '27.5', 'Grade 3': '42.1', 'Grade 4': '27.5', 'Grade 6': '24.3', 'Grade 7': '19.4', 'Grade 8': '20.4', 'Grade 5': '19.8'}, '2015': {'total': '23.4', 'Grade 3': '26.5', 'Grade 4': '31.6', 'Grade 6': '18.8', 'Grade 7': '18.5', 'Grade 8': '30.6', 'Grade 5': '13.0'}}, 'name': 'EVANS-BRANT CENTRAL SCHOOL DISTRICT (LAKE SHORE)', 'district': 'EVANS-BRANT CENTRAL SCHOOL DISTRICT (LAKE SHORE)'}, '140101060000': {'math': {'2017': {'total': '49.4', 'Grade 3': '76.5', 'Grade 4': '54.8', 'Grade 6': '41.0', 'Grade 7': '49.1', 'Grade 8': '4.0', 'Grade 5': '38.4'}, '2016': {'total': '47.2', 'Grade 3': '61.4', 'Grade 4': '55.7', 'Grade 6': '38.7', 'Grade 7': '44.6', 'Grade 8': '16.7', 'Grade 5': '49.3'}, '2015': {'total': '51.9', 'Grade 3': '55.3', 'Grade 4': '65.6', 'Grade 6': '34.4', 'Grade 7': '50.8', 'Grade 8': '26.5', 'Grade 5': '65.6'}}, 'ela': {'2017': {'total': '46.9', 'Grade 3': '70.1', 'Grade 4': '59.4', 'Grade 6': '38.8', 'Grade 7': '41.5', 'Grade 8': '35.4', 'Grade 5': '30.0'}, '2016': {'total': '42.6', 'Grade 3': '63.9', 'Grade 4': '37.1', 'Grade 6': '37.3', 'Grade 7': '34.4', 'Grade 8': '44.6', 'Grade 5': '38.0'}, '2015': {'total': '36.9', 'Grade 3': '29.9', 'Grade 4': '46.1', 'Grade 6': '34.8', 'Grade 7': '43.8', 'Grade 8': '40.0', 'Grade 5': '27.1'}}, 'name': 'ALDEN CENTRAL SCHOOL DISTRICT', 'district': 'ALDEN CENTRAL SCHOOL DISTRICT'}, '141501060001': {'math': {'2017': {'total': '61.0', 'Grade 3': '56.2', 'Grade 4': '64.0', 'Grade 5': '62.2'}, '2016': {'total': '61.8', 'Grade 3': '59.7', 'Grade 4': '66.7', 'Grade 5': '58.8'}, '2015': {'total': '60.3', 'Grade 3': '60.3', 'Grade 4': '62.9', 'Grade 5': '57.9'}}, 'ela': {'2017': {'total': '55.3', 'Grade 3': '48.5', 'Grade 4': '58.3', 'Grade 5': '58.4'}, '2016': {'total': '58.3', 'Grade 3': '65.2', 'Grade 4': '58.3', 'Grade 5': '51.4'}, '2015': {'total': '43.5', 'Grade 3': '40.0', 'Grade 4': '45.3', 'Grade 5': '44.7'}}, 'name': 'HUTH ROAD SCHOOL', 'district': 'GRAND ISLAND CENTRAL SCHOOL DISTRICT'}, '142601860031': {'math': {'2017': {'total': '24.3', 'Grade 3': '48.9', 'Grade 4': '30.1', 'Grade 6': '14.6', 'Grade 7': '21.9', 'Grade 8': '8.5', 'Grade 5': '31.1'}, '2016': {'total': '19.4', 'Grade 3': '34.8', 'Grade 4': '27.8', 'Grade 6': '13.6', 'Grade 7': '4.9', 'Grade 8': '7.4', 'Grade 5': '38.6'}, '2015': {'total': '20.5', 'Grade 3': '28.4', 'Grade 4': '44.1', 'Grade 6': '9.6', 'Grade 7': '7.4', 'Grade 8': '4.0', 'Grade 5': '33.0'}}, 'ela': {'2017': {'total': '23.9', 'Grade 3': '28.9', 'Grade 4': '25.0', 'Grade 6': '22.2', 'Grade 7': '27.5', 'Grade 8': '23.5', 'Grade 5': '15.8'}, '2016': {'total': '18.0', 'Grade 3': '25.9', 'Grade 4': '15.7', 'Grade 6': '16.4', 'Grade 7': '16.4', 'Grade 8': '16.5', 'Grade 5': '18.8'}, '2015': {'total': '14.0', 'Grade 3': '17.9', 'Grade 4': '31.5', 'Grade 6': '10.1', 'Grade 7': '6.5', 'Grade 8': '6.8', 'Grade 5': '14.2'}}, 'name': 'CHARTER SCHOOL FOR APPLIED TECHNOLOGIES', 'district': 'KENMORE-TONAWANDA UNION FREE SCHOOL DISTRICT'}, '140101060007': {'math': {'2017': {'total': '57.3', 'Grade 3': '76.5', 'Grade 4': '54.8', 'Grade 5': '38.4'}}, 'ela': {'2017': {'total': '53.7', 'Grade 3': '70.1', 'Grade 4': '59.4', 'Grade 5': '30.0'}}, 'name': 'ALDEN INTERMEDIATE SCHOOL', 'district': 'ALDEN CENTRAL SCHOOL DISTRICT'}, '140707030005': {'math': {'2017': {'total': '47.0', 'Grade 3': '39.2', 'Grade 4': '49.4', 'Grade 5': '53.6'}, '2016': {'total': '46.8', 'Grade 3': '47.4', 'Grade 4': '46.2', 'Grade 5': '46.7'}, '2015': {'total': '53.4', 'Grade 3': '53.1', 'Grade 4': '62.5', 'Grade 5': '44.6'}}, 'ela': {'2017': {'total': '32.7', 'Grade 3': '26.9', 'Grade 4': '38.9', 'Grade 5': '31.0'}, '2016': {'total': '42.4', 'Grade 3': '48.0', 'Grade 4': '38.2', 'Grade 5': '38.5'}, '2015': {'total': '35.7', 'Grade 3': '36.5', 'Grade 4': '41.3', 'Grade 5': '29.6'}}, 'name': 'CAYUGA HEIGHTS ELEMENTARY SCHOOL', 'district': 'DEPEW UNION FREE SCHOOL DISTRICT'}, '142601030025': {'math': {'2017': {'total': '5.3', 'Grade 8': '5.3'}}, 'ela': {'2017': {'total': '36.9', 'Grade 8': '36.9'}}, 'name': 'KENMORE EAST SENIOR HIGH SCHOOL', 'district': 'KENMORE-TONAWANDA UNION FREE SCHOOL DISTRICT'}, '140201060005': {'math': {'2017': {'total': '69.4', 'Grade 3': '74.3', 'Grade 4': '65.6', 'Grade 5': '67.8'}, '2016': {'total': '66.8', 'Grade 3': '73.7', 'Grade 4': '65.5', 'Grade 5': '59.2'}, '2015': {'total': '66.9', 'Grade 3': '71.4', 'Grade 4': '62.3', 'Grade 5': '66.7'}}, 'ela': {'2017': {'total': '66.6', 'Grade 3': '65.4', 'Grade 4': '68.4', 'Grade 5': '66.0'}, '2016': {'total': '61.8', 'Grade 3': '64.9', 'Grade 4': '69.0', 'Grade 5': '50.0'}, '2015': {'total': '52.0', 'Grade 3': '49.4', 'Grade 4': '52.4', 'Grade 5': '54.2'}}, 'name': 'SMALLWOOD DRIVE SCHOOL', 'district': 'AMHERST CENTRAL SCHOOL DISTRICT'}, '140702030004': {'math': {'2017': {'total': '46.5', 'Grade 3': '51.3', 'Grade 4': '40.3', 'Grade 5': '50.0'}, '2016': {'total': '45.1', 'Grade 3': '44.5', 'Grade 4': '46.2', 'Grade 5': '45.1'}, '2015': {'total': '45.3', 'Grade 3': '44.5', 'Grade 4': '47.4', 'Grade 5': '43.6'}}, 'ela': {'2017': {'total': '42.0', 'Grade 3': '39.1', 'Grade 4': '42.6', 'Grade 5': '44.7'}, '2016': {'total': '42.7', 'Grade 3': '45.8', 'Grade 4': '50.5', 'Grade 5': '33.1'}, '2015': {'total': '36.5', 'Grade 3': '42.0', 'Grade 4': '35.1', 'Grade 5': '32.5'}}, 'name': 'MARYVALE INTERMEDIATE SCHOOL', 'district': 'CHEEKTOWAGA-MARYVALE UNION FREE SCHOOL DISTRICT'}, '141101060004': {'math': {'2017': {'total': '38.0', 'Grade 6': '35.8', 'Grade 7': '49.2', 'Grade 8': '25.0'}, '2016': {'total': '36.7', 'Grade 6': '44.6', 'Grade 7': '39.1', 'Grade 8': '19.4'}, '2015': {'total': '32.5', 'Grade 6': '38.3', 'Grade 7': '40.0', 'Grade 8': '8.3'}}, 'ela': {'2017': {'total': '35.4', 'Grade 6': '21.4', 'Grade 7': '51.5', 'Grade 8': '37.5'}, '2016': {'total': '36.5', 'Grade 6': '29.4', 'Grade 7': '35.2', 'Grade 8': '46.4'}, '2015': {'total': '24.5', 'Grade 6': '19.1', 'Grade 7': '27.1', 'Grade 8': '27.3'}}, 'name': 'GRIFFITH INSTITUTE MIDDLE SCHOOL', 'district': 'SPRINGVILLE-GRIFFITH INSTITUTE CENTRAL SCHOOL DISTRICT'}, '141301060002': {'math': {'2017': {'total': '64.4', 'Grade 5': '64.4'}, '2016': {'total': '58.1', 'Grade 5': '58.1'}, '2015': {'total': '56.3', 'Grade 5': '56.3'}}, 'ela': {'2017': {'total': '45.9', 'Grade 5': '45.9'}, '2016': {'total': '43.8', 'Grade 5': '43.8'}, '2015': {'total': '43.2', 'Grade 5': '43.2'}}, 'name': 'IROQUOIS INTERMEDIATE SCHOOL', 'district': 'IROQUOIS CENTRAL SCHOOL DISTRICT'}, '141301060003': {'math': {'2017': {'total': '58.3', 'Grade 3': '58.6', 'Grade 4': '57.9'}, '2016': {'total': '59.6', 'Grade 3': '38.1', 'Grade 4': '74.2'}, '2015': {'total': '64.0', 'Grade 3': '58.6', 'Grade 4': '71.4'}}, 'ela': {'2017': {'total': '50.0', 'Grade 3': '46.7', 'Grade 4': '56.2'}, '2016': {'total': '44.2', 'Grade 3': '38.1', 'Grade 4': '48.4'}, '2015': {'total': '50.9', 'Grade 3': '53.3', 'Grade 4': '47.8'}}, 'name': 'MARILLA PRIMARY SCHOOL', 'district': 'IROQUOIS CENTRAL SCHOOL DISTRICT'}, '140707030000': {'math': {'2017': {'total': '42.6', 'Grade 3': '38.2', 'Grade 4': '47.8', 'Grade 6': '46.8', 'Grade 7': '37.5', 'Grade 8': '0.0', 'Grade 5': '51.7'}, '2016': {'total': '41.8', 'Grade 3': '46.4', 'Grade 4': '44.1', 'Grade 6': '45.0', 'Grade 7': '38.8', 'Grade 8': '11.1', 'Grade 5': '45.9'}, '2015': {'total': '50.1', 'Grade 3': '50.7', 'Grade 4': '60.6', 'Grade 6': '52.3', 'Grade 7': '52.6', 'Grade 8': '27.3', 'Grade 5': '42.6'}}, 'ela': {'2017': {'total': '34.1', 'Grade 3': '26.2', 'Grade 4': '38.7', 'Grade 6': '32.7', 'Grade 7': '41.0', 'Grade 8': '40.0', 'Grade 5': '30.0'}, '2016': {'total': '41.6', 'Grade 3': '46.5', 'Grade 4': '36.6', 'Grade 6': '48.0', 'Grade 7': '35.9', 'Grade 8': '44.9', 'Grade 5': '37.9'}, '2015': {'total': '32.6', 'Grade 3': '35.1', 'Grade 4': '40.3', 'Grade 6': '31.8', 'Grade 7': '32.8', 'Grade 8': '23.1', 'Grade 5': '28.6'}}, 'name': 'DEPEW UNION FREE SCHOOL DISTRICT', 'district': 'DEPEW UNION FREE SCHOOL DISTRICT'}, '142601030020': {'math': {'2017': {'total': '48.1', 'Grade 3': '61.5', 'Grade 4': '35.2'}, '2016': {'total': '37.6', 'Grade 3': '57.7', 'Grade 4': '33.3', 'Grade 5': '24.0'}, '2015': {'total': '34.2', 'Grade 3': '37.0', 'Grade 4': '31.2', 'Grade 5': '33.3'}}, 'ela': {'2017': {'total': '32.4', 'Grade 3': '36.0', 'Grade 4': '29.3'}, '2016': {'total': '29.9', 'Grade 3': '53.8', 'Grade 4': '27.5', 'Grade 5': '12.9'}, '2015': {'total': '22.3', 'Grade 3': '20.4', 'Grade 4': '24.3', 'Grade 5': '22.7'}}, 'name': 'THOMAS A EDISON ELEMENTARY SCHOOL', 'district': 'KENMORE-TONAWANDA UNION FREE SCHOOL DISTRICT'}, '140207060000': {'math': {'2017': {'total': '40.8', 'Grade 3': '49.5', 'Grade 4': '45.8', 'Grade 6': '47.8', 'Grade 7': '41.1', 'Grade 8': '8.0', 'Grade 5': '35.0'}, '2016': {'total': '39.1', 'Grade 3': '45.3', 'Grade 4': '45.4', 'Grade 6': '47.2', 'Grade 7': '31.3', 'Grade 8': '10.8', 'Grade 5': '41.4'}, '2015': {'total': '38.0', 'Grade 3': '48.1', 'Grade 4': '44.2', 'Grade 6': '42.1', 'Grade 7': '31.2', 'Grade 8': '7.7', 'Grade 5': '39.7'}}, 'ela': {'2017': {'total': '37.5', 'Grade 3': '38.9', 'Grade 4': '45.9', 'Grade 6': '34.3', 'Grade 7': '37.7', 'Grade 8': '40.3', 'Grade 5': '30.2'}, '2016': {'total': '39.6', 'Grade 3': '45.1', 'Grade 4': '44.3', 'Grade 6': '37.4', 'Grade 7': '35.5', 'Grade 8': '42.9', 'Grade 5': '32.3'}, '2015': {'total': '31.1', 'Grade 3': '35.8', 'Grade 4': '38.3', 'Grade 6': '25.9', 'Grade 7': '23.5', 'Grade 8': '31.7', 'Grade 5': '29.8'}}, 'name': 'SWEET HOME CENTRAL SCHOOL DISTRICT', 'district': 'SWEET HOME CENTRAL SCHOOL DISTRICT'}, '141501060003': {'math': {'2017': {'total': '53.7', 'Grade 3': '40.8', 'Grade 4': '64.9', 'Grade 5': '55.0'}, '2016': {'total': '44.1', 'Grade 3': '34.1', 'Grade 4': '50.0', 'Grade 5': '51.7'}, '2015': {'total': '48.7', 'Grade 3': '32.7', 'Grade 4': '51.6', 'Grade 5': '57.3'}}, 'ela': {'2017': {'total': '40.5', 'Grade 3': '37.8', 'Grade 4': '53.2', 'Grade 5': '27.4'}, '2016': {'total': '37.7', 'Grade 3': '43.4', 'Grade 4': '39.1', 'Grade 5': '28.3'}, '2015': {'total': '31.6', 'Grade 3': '21.7', 'Grade 4': '38.6', 'Grade 5': '32.9'}}, 'name': 'KAEGEBEIN SCHOOL', 'district': 'GRAND ISLAND CENTRAL SCHOOL DISTRICT'}, '141401060009': {'math': {'2017': {'total': '19.5', 'Grade 6': '22.2', 'Grade 7': '25.8', 'Grade 8': '4.3'}, '2016': {'total': '18.3', 'Grade 6': '22.7', 'Grade 7': '19.3', 'Grade 8': '6.7'}, '2015': {'total': '26.4', 'Grade 6': '35.3', 'Grade 7': '25.0', 'Grade 8': '5.3'}}, 'ela': {'2017': {'total': '21.6', 'Grade 6': '17.9', 'Grade 7': '18.1', 'Grade 8': '31.8'}, '2016': {'total': '22.0', 'Grade 6': '24.3', 'Grade 7': '19.7', 'Grade 8': '21.7'}, '2015': {'total': '22.1', 'Grade 6': '19.4', 'Grade 7': '19.6', 'Grade 8': '30.6'}}, 'name': 'LAKE SHORE MIDDLE SCHOOL', 'district': 'EVANS-BRANT CENTRAL SCHOOL DISTRICT (LAKE SHORE)'}, '142201040001': {'math': {'2017': {'total': '30.0', 'Grade 8': '40.0', 'Grade 7': '26.7'}, '2016': {'total': '15.2', 'Grade 8': '4.8', 'Grade 7': '33.3'}, '2015': {'total': '38.6', 'Grade 8': '23.1', 'Grade 7': '45.2'}}, 'ela': {'2017': {'total': '20.8', 'Grade 8': '16.7', 'Grade 7': '22.2'}, '2016': {'total': '50.0', 'Grade 8': '53.8', 'Grade 7': '40.0'}, '2015': {'total': '40.7', 'Grade 8': '39.1', 'Grade 7': '41.7'}}, 'name': 'NORTH COLLINS JUNIOR-SENIOR HIGH SCHOOL', 'district': 'NORTH COLLINS CENTRAL SCHOOL DISTRICT'}, '142301060000': {'math': {'2017': {'total': '53.2', 'Grade 3': '56.4', 'Grade 4': '53.3', 'Grade 6': '60.6', 'Grade 7': '51.9', 'Grade 8': '19.1', 'Grade 5': '65.9'}, '2016': {'total': '54.4', 'Grade 3': '51.6', 'Grade 4': '68.8', 'Grade 6': '64.1', 'Grade 7': '45.3', 'Grade 8': '26.8', 'Grade 5': '60.9'}, '2015': {'total': '58.6', 'Grade 3': '63.3', 'Grade 4': '70.4', 'Grade 6': '55.7', 'Grade 7': '46.8', 'Grade 8': '34.9', 'Grade 5': '68.9'}}, 'ela': {'2017': {'total': '51.6', 'Grade 3': '62.7', 'Grade 4': '52.2', 'Grade 6': '45.6', 'Grade 7': '52.7', 'Grade 8': '46.2', 'Grade 5': '49.8'}, '2016': {'total': '50.4', 'Grade 3': '54.3', 'Grade 4': '61.8', 'Grade 6': '44.7', 'Grade 7': '42.6', 'Grade 8': '47.9', 'Grade 5': '50.5'}, '2015': {'total': '49.9', 'Grade 3': '55.1', 'Grade 4': '50.4', 'Grade 6': '44.3', 'Grade 7': '40.8', 'Grade 8': '58.9', 'Grade 5': '52.8'}}, 'name': 'ORCHARD PARK CENTRAL SCHOOL DISTRICT', 'district': 'ORCHARD PARK CENTRAL SCHOOL DISTRICT'}, '140301030001': {'math': {'2017': {'total': '75.3', 'Grade 3': '72.6', 'Grade 4': '78.0'}, '2016': {'total': '65.1', 'Grade 3': '67.9', 'Grade 4': '61.8'}, '2015': {'total': '69.2', 'Grade 3': '66.7', 'Grade 4': '70.7'}}, 'ela': {'2017': {'total': '60.6', 'Grade 3': '60.5', 'Grade 4': '60.7'}, '2016': {'total': '61.6', 'Grade 3': '63.0', 'Grade 4': '60.0'}, '2015': {'total': '51.1', 'Grade 3': '60.4', 'Grade 4': '44.9'}}, 'name': 'PARKDALE ELEMENTARY SCHOOL', 'district': 'EAST AURORA UNION FREE SCHOOL DISTRICT'}, '140702030000': {'math': {'2017': {'total': '39.1', 'Grade 3': '50.0', 'Grade 4': '40.0', 'Grade 6': '28.2', 'Grade 7': '47.7', 'Grade 8': '15.2', 'Grade 5': '48.9'}, '2016': {'total': '40.3', 'Grade 3': '44.2', 'Grade 4': '46.2', 'Grade 6': '52.1', 'Grade 7': '24.7', 'Grade 8': '17.1', 'Grade 5': '45.1'}, '2015': {'total': '34.9', 'Grade 3': '44.5', 'Grade 4': '47.4', 'Grade 6': '29.4', 'Grade 7': '32.5', 'Grade 8': '5.4', 'Grade 5': '43.1'}}, 'ela': {'2017': {'total': '40.0', 'Grade 3': '38.1', 'Grade 4': '42.3', 'Grade 6': '22.1', 'Grade 7': '54.4', 'Grade 8': '48.3', 'Grade 5': '43.8'}, '2016': {'total': '39.1', 'Grade 3': '46.2', 'Grade 4': '50.5', 'Grade 6': '43.4', 'Grade 7': '29.7', 'Grade 8': '31.2', 'Grade 5': '33.1'}, '2015': {'total': '31.3', 'Grade 3': '42.0', 'Grade 4': '35.1', 'Grade 6': '22.9', 'Grade 7': '23.1', 'Grade 8': '31.9', 'Grade 5': '32.2'}}, 'name': 'CHEEKTOWAGA-MARYVALE UNION FREE SCHOOL DISTRICT', 'district': 'CHEEKTOWAGA-MARYVALE UNION FREE SCHOOL DISTRICT'}, '141604060006': {'math': {'2017': {'total': '71.4', 'Grade 3': '80.6', 'Grade 4': '66.2', 'Grade 5': '68.3'}, '2016': {'total': '71.7', 'Grade 3': '77.3', 'Grade 4': '71.2', 'Grade 5': '66.7'}, '2015': {'total': '76.6', 'Grade 3': '77.4', 'Grade 4': '85.7', 'Grade 5': '61.9'}}, 'ela': {'2017': {'total': '64.1', 'Grade 3': '72.4', 'Grade 4': '62.5', 'Grade 5': '57.7'}, '2016': {'total': '61.7', 'Grade 3': '71.4', 'Grade 4': '60.0', 'Grade 5': '53.8'}, '2015': {'total': '57.1', 'Grade 3': '57.7', 'Grade 4': '63.8', 'Grade 5': '46.8'}}, 'name': 'PINEHURST ELEMENTARY SCHOOL', 'district': 'FRONTIER CENTRAL SCHOOL DISTRICT'}, '142500010005': {'math': {'2017': {'total': '62.3', 'Grade 3': '62.3'}, '2016': {'total': '47.9', 'Grade 3': '47.9'}, '2015': {'total': '46.9', 'Grade 3': '46.9'}}, 'ela': {'2017': {'total': '45.3', 'Grade 3': '45.3'}, '2016': {'total': '40.0', 'Grade 3': '40.0'}, '2015': {'total': '43.6', 'Grade 3': '43.6'}}, 'name': 'MULLEN ELEMENTARY SCHOOL', 'district': 'TONAWANDA CITY SCHOOL DISTRICT'}, '140207060005': {'math': {'2017': {'total': '37.5', 'Grade 6': '47.8', 'Grade 7': '42.0', 'Grade 8': '8.1'}, '2016': {'total': '32.8', 'Grade 6': '47.5', 'Grade 7': '31.3', 'Grade 8': '11.0'}, '2015': {'total': '29.8', 'Grade 6': '42.3', 'Grade 7': '31.4', 'Grade 8': '7.7'}}, 'ela': {'2017': {'total': '37.4', 'Grade 6': '34.3', 'Grade 7': '38.2', 'Grade 8': '40.6'}, '2016': {'total': '38.9', 'Grade 6': '37.6', 'Grade 7': '35.5', 'Grade 8': '43.2'}, '2015': {'total': '27.1', 'Grade 6': '26.1', 'Grade 7': '23.6', 'Grade 8': '31.7'}}, 'name': 'SWEET HOME MIDDLE SCHOOL', 'district': 'SWEET HOME CENTRAL SCHOOL DISTRICT'}, '140203060001': {'math': {'2017': {'total': '59.4', 'Grade 6': '57.8', 'Grade 7': '66.3', 'Grade 8': '38.9', 'Grade 5': '64.8'}, '2016': {'total': '51.6', 'Grade 6': '52.8', 'Grade 7': '64.5', 'Grade 8': '30.5', 'Grade 5': '49.6'}, '2015': {'total': '50.9', 'Grade 6': '56.6', 'Grade 7': '48.3', 'Grade 8': '44.9', 'Grade 5': '51.6'}}, 'ela': {'2017': {'total': '55.9', 'Grade 6': '44.3', 'Grade 7': '65.2', 'Grade 8': '64.4', 'Grade 5': '56.1'}, '2016': {'total': '51.9', 'Grade 6': '57.5', 'Grade 7': '52.5', 'Grade 8': '63.2', 'Grade 5': '39.4'}, '2015': {'total': '50.5', 'Grade 6': '49.2', 'Grade 7': '42.3', 'Grade 8': '54.5', 'Grade 5': '55.4'}}, 'name': 'MILL MIDDLE SCHOOL', 'district': 'WILLIAMSVILLE CENTRAL SCHOOL DISTRICT'}, '142301060005': {'math': {'2017': {'total': '62.1', 'Grade 3': '62.5', 'Grade 4': '38.9', 'Grade 5': '92.6'}, '2016': {'total': '53.1', 'Grade 3': '71.4', 'Grade 4': '30.3', 'Grade 5': '56.7'}, '2015': {'total': '80.9', 'Grade 3': '85.7', 'Grade 4': '73.8', 'Grade 5': '84.8'}}, 'ela': {'2017': {'total': '57.1', 'Grade 3': '71.4', 'Grade 4': '53.7', 'Grade 5': '44.8'}, '2016': {'total': '56.2', 'Grade 3': '71.1', 'Grade 4': '48.6', 'Grade 5': '46.9'}, '2015': {'total': '59.5', 'Grade 3': '62.9', 'Grade 4': '47.6', 'Grade 5': '70.6'}}, 'name': 'SOUTH DAVIS ELEMENTARY SCHOOL', 'district': 'ORCHARD PARK CENTRAL SCHOOL DISTRICT'}, '142101040001': {'math': {'2017': {'total': '60.5', 'Grade 3': '71.0', 'Grade 4': '52.5', 'Grade 5': '59.1'}, '2016': {'total': '52.9', 'Grade 3': '58.0', 'Grade 4': '49.3', 'Grade 5': '50.0'}, '2015': {'total': '48.8', 'Grade 3': '41.9', 'Grade 4': '47.9', 'Grade 5': '55.6'}}, 'ela': {'2017': {'total': '47.5', 'Grade 3': '59.2', 'Grade 4': '40.5', 'Grade 5': '43.3'}, '2016': {'total': '44.8', 'Grade 3': '44.2', 'Grade 4': '45.2', 'Grade 5': '45.3'}, '2015': {'total': '32.4', 'Grade 3': '29.0', 'Grade 4': '31.6', 'Grade 5': '36.5'}}, 'name': 'AKRON ELEMENTARY SCHOOL', 'district': 'AKRON CENTRAL SCHOOL DISTRICT'}, '141301060005': {'math': {'2017': {'total': '57.0', 'Grade 6': '59.4', 'Grade 7': '58.2', 'Grade 8': '45.5'}, '2016': {'total': '59.6', 'Grade 6': '63.3', 'Grade 7': '59.6', 'Grade 8': '50.0'}, '2015': {'total': '55.6', 'Grade 6': '55.9', 'Grade 7': '71.2', 'Grade 8': '35.8'}}, 'ela': {'2017': {'total': '54.0', 'Grade 6': '45.7', 'Grade 7': '57.0', 'Grade 8': '63.2'}, '2016': {'total': '51.2', 'Grade 6': '41.6', 'Grade 7': '55.7', 'Grade 8': '61.8'}, '2015': {'total': '57.1', 'Grade 6': '46.7', 'Grade 7': '57.8', 'Grade 8': '65.3'}}, 'name': 'IROQUOIS MIDDLE SCHOOL', 'district': 'IROQUOIS CENTRAL SCHOOL DISTRICT'}, '142301060007': {'math': {'2017': {'total': '64.7', 'Grade 3': '60.8', 'Grade 4': '58.3', 'Grade 5': '77.9'}, '2016': {'total': '69.5', 'Grade 3': '55.6', 'Grade 4': '89.7', 'Grade 5': '67.9'}, '2015': {'total': '76.1', 'Grade 3': '82.1', 'Grade 4': '85.0', 'Grade 5': '59.1'}}, 'ela': {'2017': {'total': '55.6', 'Grade 3': '62.7', 'Grade 4': '48.9', 'Grade 5': '56.9'}, '2016': {'total': '60.9', 'Grade 3': '50.5', 'Grade 4': '80.0', 'Grade 5': '56.2'}, '2015': {'total': '62.6', 'Grade 3': '67.1', 'Grade 4': '62.5', 'Grade 5': '58.0'}}, 'name': 'ELLICOTT ROAD ELEMENTARY SCHOOL', 'district': 'ORCHARD PARK CENTRAL SCHOOL DISTRICT'}, '141301060004': {'math': {'2017': {'total': '72.5', 'Grade 3': '61.1', 'Grade 4': '81.8'}, '2016': {'total': '74.2', 'Grade 3': '73.7', 'Grade 4': '75.0'}, '2015': {'total': '38.9', 'Grade 3': '42.9', 'Grade 4': '36.4'}}, 'ela': {'2017': {'total': '53.7', 'Grade 3': '45.0', 'Grade 4': '61.9'}, '2016': {'total': '56.2', 'Grade 3': '68.4', 'Grade 4': '38.5'}, '2015': {'total': '21.6', 'Grade 3': '21.4', 'Grade 4': '21.7'}}, 'name': 'WALES PRIMARY SCHOOL', 'district': 'IROQUOIS CENTRAL SCHOOL DISTRICT'}, '142601030006': {'math': {'2017': {'total': '57.2', 'Grade 3': '67.0', 'Grade 4': '43.1'}, '2016': {'total': '62.0', 'Grade 3': '65.1', 'Grade 4': '69.2', 'Grade 5': '51.1'}, '2015': {'total': '63.5', 'Grade 3': '52.5', 'Grade 4': '66.7', 'Grade 5': '71.9'}}, 'ela': {'2017': {'total': '48.8', 'Grade 3': '50.5', 'Grade 4': '46.0'}, '2016': {'total': '49.3', 'Grade 3': '52.3', 'Grade 4': '62.3', 'Grade 5': '31.9'}, '2015': {'total': '47.6', 'Grade 3': '37.7', 'Grade 4': '53.8', 'Grade 5': '52.6'}}, 'name': 'CHARLES A LINDBERGH ELEMENTARY SCHOOL', 'district': 'KENMORE-TONAWANDA UNION FREE SCHOOL DISTRICT'}, '141401060004': {'math': {'2017': {'total': '31.1', 'Grade 3': '31.8', 'Grade 4': '43.6', 'Grade 5': '17.9'}, '2016': {'total': '18.2', 'Grade 3': '17.5', 'Grade 4': '14.3', 'Grade 5': '25.0'}, '2015': {'total': '21.4', 'Grade 3': '6.2', 'Grade 4': '34.8', 'Grade 5': '33.3'}}, 'ela': {'2017': {'total': '27.3', 'Grade 3': '40.9', 'Grade 4': '22.2', 'Grade 5': '17.9'}, '2016': {'total': '27.5', 'Grade 3': '42.6', 'Grade 4': '18.8', 'Grade 5': '16.0'}, '2015': {'total': '18.2', 'Grade 3': '8.3', 'Grade 4': '38.5', 'Grade 5': '6.7'}}, 'name': 'JOHN T WAUGH ELEMENTARY SCHOOL', 'district': 'EVANS-BRANT CENTRAL SCHOOL DISTRICT (LAKE SHORE)'}, '141601060003': {'math': {'2017': {'total': '77.0', 'Grade 3': '66.7', 'Grade 4': '75.0', 'Grade 5': '88.0'}, '2016': {'total': '82.3', 'Grade 3': '80.0', 'Grade 4': '95.8', 'Grade 5': '66.7'}, '2015': {'total': '72.1', 'Grade 3': '70.8', 'Grade 4': '70.0', 'Grade 5': '75.0'}}, 'ela': {'2017': {'total': '64.2', 'Grade 3': '66.7', 'Grade 4': '59.4', 'Grade 5': '68.0'}, '2016': {'total': '61.9', 'Grade 3': '65.0', 'Grade 4': '72.0', 'Grade 5': '44.4'}, '2015': {'total': '63.0', 'Grade 3': '66.7', 'Grade 4': '52.4', 'Grade 5': '68.0'}}, 'name': 'CHARLOTTE AVENUE ELEMENTARY SCHOOL', 'district': 'HAMBURG CENTRAL SCHOOL DISTRICT'}, '142601030003': {'math': {'2017': {'total': '36.5', 'Grade 6': '36.0', 'Grade 7': '35.0', 'Grade 5': '38.2'}, '2016': {'total': '27.2', 'Grade 6': '34.6', 'Grade 7': '25.9', 'Grade 8': '11.4'}, '2015': {'total': '21.2', 'Grade 6': '25.9', 'Grade 7': '24.3', 'Grade 8': '7.9'}}, 'ela': {'2017': {'total': '27.4', 'Grade 6': '13.1', 'Grade 7': '49.1', 'Grade 5': '19.1'}, '2016': {'total': '27.9', 'Grade 6': '28.5', 'Grade 7': '23.5', 'Grade 8': '31.3'}, '2015': {'total': '24.4', 'Grade 6': '20.8', 'Grade 7': '22.0', 'Grade 8': '32.3'}}, 'name': 'BEN FRANKLIN MIDDLE SCHOOL', 'district': 'KENMORE-TONAWANDA UNION FREE SCHOOL DISTRICT'}, '140801060005': {'math': {'2017': {'total': '80.3', 'Grade 3': '75.0', 'Grade 4': '90.4', 'Grade 5': '71.8'}, '2016': {'total': '79.1', 'Grade 3': '81.2', 'Grade 4': '79.1', 'Grade 5': '76.3'}, '2015': {'total': '69.8', 'Grade 3': '72.0', 'Grade 4': '71.4', 'Grade 5': '66.3'}}, 'ela': {'2017': {'total': '64.4', 'Grade 3': '64.6', 'Grade 4': '69.1', 'Grade 5': '57.7'}, '2016': {'total': '63.2', 'Grade 3': '64.6', 'Grade 4': '62.9', 'Grade 5': '61.8'}, '2015': {'total': '55.4', 'Grade 3': '52.6', 'Grade 4': '66.2', 'Grade 5': '48.3'}}, 'name': 'SHERIDAN HILL ELEMENTARY SCHOOL', 'district': 'CLARENCE CENTRAL SCHOOL DISTRICT'}, '140201060001': {'math': {'2017': {'total': '56.6', 'Grade 6': '66.4', 'Grade 7': '60.8', 'Grade 8': '32.1'}, '2016': {'total': '42.5', 'Grade 6': '40.3', 'Grade 7': '54.3', 'Grade 8': '30.1'}, '2015': {'total': '48.7', 'Grade 6': '53.3', 'Grade 7': '50.4', 'Grade 8': '38.0'}}, 'ela': {'2017': {'total': '50.0', 'Grade 6': '31.2', 'Grade 7': '59.5', 'Grade 8': '59.8'}, '2016': {'total': '48.0', 'Grade 6': '46.1', 'Grade 7': '49.6', 'Grade 8': '48.8'}, '2015': {'total': '45.6', 'Grade 6': '47.8', 'Grade 7': '37.8', 'Grade 8': '52.1'}}, 'name': 'AMHERST MIDDLE SCHOOL', 'district': 'AMHERST CENTRAL SCHOOL DISTRICT'}, '142301060001': {'math': {'2017': {'total': '37.9', 'Grade 3': '49.1', 'Grade 4': '25.0', 'Grade 5': '40.9'}, '2016': {'total': '50.0', 'Grade 3': '46.8', 'Grade 4': '49.0', 'Grade 5': '56.4'}, '2015': {'total': '49.1', 'Grade 3': '38.3', 'Grade 4': '46.9', 'Grade 5': '60.9'}}, 'ela': {'2017': {'total': '38.7', 'Grade 3': '45.0', 'Grade 4': '30.4', 'Grade 5': '40.4'}, '2016': {'total': '38.7', 'Grade 3': '37.5', 'Grade 4': '36.0', 'Grade 5': '43.9'}, '2015': {'total': '29.6', 'Grade 3': '29.2', 'Grade 4': '26.9', 'Grade 5': '31.9'}}, 'name': 'WINDOM ELEMENTARY SCHOOL', 'district': 'ORCHARD PARK CENTRAL SCHOOL DISTRICT'}, '140702030005': {'math': {'2017': {'total': '31.2', 'Grade 6': '28.2', 'Grade 7': '47.7', 'Grade 8': '15.4'}, '2016': {'total': '33.8', 'Grade 6': '52.1', 'Grade 7': '25.4', 'Grade 8': '17.1'}, '2015': {'total': '23.5', 'Grade 6': '29.7', 'Grade 7': '32.5', 'Grade 8': '5.5'}}, 'ela': {'2017': {'total': '38.7', 'Grade 6': '22.1', 'Grade 7': '54.4', 'Grade 8': '48.9'}, '2016': {'total': '35.0', 'Grade 6': '43.4', 'Grade 7': '30.3', 'Grade 8': '31.2'}, '2015': {'total': '26.3', 'Grade 6': '23.1', 'Grade 7': '23.1', 'Grade 8': '32.1'}}, 'name': 'MARYVALE MIDDLE SCHOOL', 'district': 'CHEEKTOWAGA-MARYVALE UNION FREE SCHOOL DISTRICT'}, '141401060008': {'math': {'2017': {'total': '46.8', 'Grade 3': '69.4', 'Grade 4': '40.5', 'Grade 5': '31.6'}, '2016': {'total': '36.6', 'Grade 3': '56.8', 'Grade 4': '25.0', 'Grade 5': '28.6'}, '2015': {'total': '43.3', 'Grade 3': '48.8', 'Grade 4': '28.0', 'Grade 5': '50.0'}}, 'ela': {'2017': {'total': '30.8', 'Grade 3': '40.0', 'Grade 4': '27.0', 'Grade 5': '25.0'}, '2016': {'total': '31.5', 'Grade 3': '48.6', 'Grade 4': '32.4', 'Grade 5': '13.5'}, '2015': {'total': '22.6', 'Grade 3': '28.6', 'Grade 4': '19.2', 'Grade 5': '16.0'}}, 'name': 'A J SCHMIDT ELEMENTARY SCHOOL', 'district': 'EVANS-BRANT CENTRAL SCHOOL DISTRICT (LAKE SHORE)'}, '140701060007': {'math': {'2017': {'total': '15.0', 'Grade 6': '23.0', 'Grade 7': '16.9', 'Grade 8': '6.1', 'Grade 5': '14.6'}, '2016': {'total': '15.9', 'Grade 6': '23.6', 'Grade 7': '10.4', 'Grade 8': '5.4', 'Grade 5': '23.1'}, '2015': {'total': '16.6', 'Grade 6': '19.0', 'Grade 7': '11.7', 'Grade 8': '12.1', 'Grade 5': '23.2'}}, 'ela': {'2017': {'total': '24.9', 'Grade 6': '23.1', 'Grade 7': '28.5', 'Grade 8': '34.2', 'Grade 5': '12.2'}, '2016': {'total': '24.0', 'Grade 6': '21.9', 'Grade 7': '23.5', 'Grade 8': '28.6', 'Grade 5': '21.8'}, '2015': {'total': '17.7', 'Grade 6': '18.6', 'Grade 7': '11.1', 'Grade 8': '32.4', 'Grade 5': '8.6'}}, 'name': 'CHEEKTOWAGA MIDDLE SCHOOL', 'district': 'CHEEKTOWAGA CENTRAL SCHOOL DISTRICT'}, '141701040001': {'math': {'2017': {'total': '23.7', 'Grade 8': '6.7', 'Grade 7': '34.8'}, '2016': {'total': '13.2', 'Grade 8': '0.0', 'Grade 7': '27.8'}, '2015': {'total': '39.0', 'Grade 8': '40.9', 'Grade 7': '37.8'}}, 'ela': {'2017': {'total': '36.5', 'Grade 8': '26.1', 'Grade 7': '44.8'}, '2016': {'total': '32.7', 'Grade 8': '31.0', 'Grade 7': '35.0'}, '2015': {'total': '26.7', 'Grade 8': '30.6', 'Grade 7': '24.0'}}, 'name': 'HOLLAND JUNIOR/SENIOR HIGH SCHOOL', 'district': 'HOLLAND CENTRAL SCHOOL DISTRICT'}, '142101040000': {'math': {'2017': {'total': '56.1', 'Grade 3': '71.4', 'Grade 4': '51.9', 'Grade 6': '50.7', 'Grade 7': '52.5', 'Grade 8': '45.7', 'Grade 5': '59.1'}, '2016': {'total': '48.5', 'Grade 3': '56.7', 'Grade 4': '49.3', 'Grade 6': '49.2', 'Grade 7': '44.7', 'Grade 8': '28.9', 'Grade 5': '50.0'}, '2015': {'total': '47.6', 'Grade 3': '41.9', 'Grade 4': '47.9', 'Grade 6': '45.3', 'Grade 7': '54.9', 'Grade 8': '31.4', 'Grade 5': '54.8'}}, 'ela': {'2017': {'total': '46.9', 'Grade 3': '59.2', 'Grade 4': '40.0', 'Grade 6': '39.1', 'Grade 7': '53.1', 'Grade 8': '48.0', 'Grade 5': '43.3'}, '2016': {'total': '46.3', 'Grade 3': '43.3', 'Grade 4': '45.2', 'Grade 6': '47.2', 'Grade 7': '37.0', 'Grade 8': '60.7', 'Grade 5': '45.3'}, '2015': {'total': '37.8', 'Grade 3': '29.0', 'Grade 4': '31.6', 'Grade 6': '41.8', 'Grade 7': '42.0', 'Grade 8': '46.8', 'Grade 5': '36.0'}}, 'name': 'AKRON CENTRAL SCHOOL DISTRICT', 'district': 'AKRON CENTRAL SCHOOL DISTRICT'}, '142500010003': {'math': {'2017': {'total': '47.6', 'Grade 4': '54.5', 'Grade 5': '40.2'}, '2016': {'total': '51.5', 'Grade 4': '51.4', 'Grade 5': '51.7'}, '2015': {'total': '47.8', 'Grade 4': '53.6', 'Grade 5': '42.0'}}, 'ela': {'2017': {'total': '39.1', 'Grade 4': '40.7', 'Grade 5': '37.3'}, '2016': {'total': '49.6', 'Grade 4': '53.3', 'Grade 5': '45.0'}, '2015': {'total': '34.9', 'Grade 4': '42.7', 'Grade 5': '27.0'}}, 'name': 'FLETCHER ELEMENTARY SCHOOL', 'district': 'TONAWANDA CITY SCHOOL DISTRICT'}, '140203060015': {'math': {'2017': {'total': '72.9', 'Grade 6': '74.9', 'Grade 7': '79.9', 'Grade 8': '38.8', 'Grade 5': '77.3'}, '2016': {'total': '67.0', 'Grade 6': '73.3', 'Grade 7': '74.3', 'Grade 8': '46.6', 'Grade 5': '62.5'}, '2015': {'total': '63.5', 'Grade 6': '60.9', 'Grade 7': '77.8', 'Grade 8': '33.3', 'Grade 5': '61.0'}}, 'ela': {'2017': {'total': '66.9', 'Grade 6': '65.2', 'Grade 7': '77.9', 'Grade 8': '76.9', 'Grade 5': '53.0'}, '2016': {'total': '67.9', 'Grade 6': '70.8', 'Grade 7': '72.2', 'Grade 8': '82.1', 'Grade 5': '50.5'}, '2015': {'total': '67.1', 'Grade 6': '66.7', 'Grade 7': '72.7', 'Grade 8': '74.5', 'Grade 5': '55.4'}}, 'name': 'TRANSIT MIDDLE SCHOOL', 'district': 'WILLIAMSVILLE CENTRAL SCHOOL DISTRICT'}, '141901060001': {'math': {'2017': {'total': '62.5', 'Grade 3': '62.5'}, '2016': {'total': '47.5', 'Grade 3': '47.5'}, '2015': {'total': '50.0', 'Grade 3': '50.0'}}, 'ela': {'2017': {'total': '56.4', 'Grade 3': '56.4'}, '2016': {'total': '49.2', 'Grade 3': '49.2'}, '2015': {'total': '37.3', 'Grade 3': '37.3'}}, 'name': 'JOHN A SCIOLE ELEMENTARY SCHOOL', 'district': 'LANCASTER CENTRAL SCHOOL DISTRICT'}, '140709030002': {'math': {'2017': {'total': '44.7', 'Grade 3': '58.7', 'Grade 4': '43.5', 'Grade 5': '25.5'}, '2016': {'total': '32.8', 'Grade 3': '39.0', 'Grade 4': '31.7', 'Grade 5': '25.9'}, '2015': {'total': '41.2', 'Grade 3': '46.0', 'Grade 4': '38.0', 'Grade 5': '40.0'}}, 'ela': {'2017': {'total': '26.9', 'Grade 3': '28.9', 'Grade 4': '30.2', 'Grade 5': '19.1'}, '2016': {'total': '24.3', 'Grade 3': '26.2', 'Grade 4': '39.7', 'Grade 5': '7.8'}, '2015': {'total': '22.6', 'Grade 3': '23.2', 'Grade 4': '28.4', 'Grade 5': '14.5'}}, 'name': 'WOODROW WILSON ELEMENTARY SCHOOL', 'district': 'CHEEKTOWAGA-SLOAN UNION FREE SCHOOL DISTRICT'}, '140707030004': {'math': {'2017': {'total': '37.0', 'Grade 6': '46.8', 'Grade 7': '38.5', 'Grade 8': '0.0'}, '2016': {'total': '36.4', 'Grade 6': '46.2', 'Grade 7': '40.4', 'Grade 8': '12.5'}, '2015': {'total': '48.9', 'Grade 6': '52.4', 'Grade 7': '53.6', 'Grade 8': '27.3'}}, 'ela': {'2017': {'total': '37.8', 'Grade 6': '32.7', 'Grade 7': '43.2', 'Grade 8': '39.5'}, '2016': {'total': '44.2', 'Grade 6': '50.0', 'Grade 7': '37.1', 'Grade 8': '47.8'}, '2015': {'total': '31.2', 'Grade 6': '32.6', 'Grade 7': '34.4', 'Grade 8': '23.1'}}, 'name': 'DEPEW MIDDLE SCHOOL', 'district': 'DEPEW UNION FREE SCHOOL DISTRICT'}, '140203060005': {'math': {'2017': {'total': '59.7', 'Grade 3': '68.0', 'Grade 4': '51.5'}, '2016': {'total': '60.8', 'Grade 3': '57.5', 'Grade 4': '64.2'}, '2015': {'total': '66.1', 'Grade 3': '67.9', 'Grade 4': '64.5'}}, 'ela': {'2017': {'total': '52.5', 'Grade 3': '59.2', 'Grade 4': '45.5'}, '2016': {'total': '53.5', 'Grade 3': '58.5', 'Grade 4': '48.6'}, '2015': {'total': '54.3', 'Grade 3': '56.9', 'Grade 4': '52.1'}}, 'name': 'HEIM ELEMENTARY SCHOOL', 'district': 'WILLIAMSVILLE CENTRAL SCHOOL DISTRICT'}, '140703020002': {'math': {'2017': {'total': '53.7', 'Grade 3': '56.3', 'Grade 4': '60.5', 'Grade 5': '43.6'}, '2016': {'total': '53.1', 'Grade 3': '54.3', 'Grade 4': '55.0', 'Grade 5': '50.0'}, '2015': {'total': '54.0', 'Grade 3': '51.8', 'Grade 4': '54.5', 'Grade 5': '55.8'}}, 'ela': {'2017': {'total': '46.8', 'Grade 3': '54.7', 'Grade 4': '44.0', 'Grade 5': '41.2'}, '2016': {'total': '48.2', 'Grade 3': '59.8', 'Grade 4': '48.8', 'Grade 5': '34.2'}, '2015': {'total': '34.7', 'Grade 3': '30.1', 'Grade 4': '36.7', 'Grade 5': '37.5'}}, 'name': 'CLEVELAND HILL ELEMENTARY SCHOOL', 'district': 'CLEVELAND HILL UNION FREE SCHOOL DISTRICT'}, '140203060012': {'math': {'2017': {'total': '71.2', 'Grade 6': '72.4', 'Grade 7': '73.6', 'Grade 8': '40.5', 'Grade 5': '78.8'}, '2016': {'total': '70.0', 'Grade 6': '75.0', 'Grade 7': '65.0', 'Grade 8': '45.9', 'Grade 5': '76.1'}, '2015': {'total': '60.3', 'Grade 6': '46.8', 'Grade 7': '68.4', 'Grade 8': '25.0', 'Grade 5': '75.8'}}, 'ela': {'2017': {'total': '56.2', 'Grade 6': '49.0', 'Grade 7': '62.4', 'Grade 8': '66.7', 'Grade 5': '49.6'}, '2016': {'total': '61.2', 'Grade 6': '59.3', 'Grade 7': '64.3', 'Grade 8': '70.3', 'Grade 5': '55.4'}, '2015': {'total': '56.6', 'Grade 6': '52.6', 'Grade 7': '58.8', 'Grade 8': '65.1', 'Grade 5': '53.0'}}, 'name': 'CASEY MIDDLE SCHOOL', 'district': 'WILLIAMSVILLE CENTRAL SCHOOL DISTRICT'}, '141401060001': {'math': {'2017': {'total': '59.7', 'Grade 3': '53.3', 'Grade 4': '53.2', 'Grade 5': '75.7'}, '2016': {'total': '59.0', 'Grade 3': '40.0', 'Grade 4': '77.8', 'Grade 5': '62.5'}, '2015': {'total': '54.7', 'Grade 3': '56.8', 'Grade 4': '64.0', 'Grade 5': '41.7'}}, 'ela': {'2017': {'total': '36.2', 'Grade 3': '46.8', 'Grade 4': '26.8', 'Grade 5': '33.3'}, '2016': {'total': '35.3', 'Grade 3': '36.6', 'Grade 4': '34.3', 'Grade 5': '34.6'}, '2015': {'total': '32.3', 'Grade 3': '41.0', 'Grade 4': '37.0', 'Grade 5': '14.8'}}, 'name': 'HIGHLAND ELEMENTARY SCHOOL', 'district': 'EVANS-BRANT CENTRAL SCHOOL DISTRICT (LAKE SHORE)'}, '141604060004': {'math': {'2017': {'total': '42.7', 'Grade 3': '31.0', 'Grade 4': '56.2', 'Grade 5': '43.2'}, '2016': {'total': '35.2', 'Grade 3': '21.2', 'Grade 4': '56.1', 'Grade 5': '31.4'}, '2015': {'total': '42.5', 'Grade 3': '28.8', 'Grade 4': '71.1', 'Grade 5': '32.4'}}, 'ela': {'2017': {'total': '36.2', 'Grade 3': '30.0', 'Grade 4': '46.7', 'Grade 5': '34.1'}, '2016': {'total': '39.3', 'Grade 3': '37.5', 'Grade 4': '52.5', 'Grade 5': '24.1'}, '2015': {'total': '34.1', 'Grade 3': '35.4', 'Grade 4': '42.5', 'Grade 5': '25.0'}}, 'name': 'BLASDELL ELEMENTARY SCHOOL', 'district': 'FRONTIER CENTRAL SCHOOL DISTRICT'}, '140203060008': {'math': {'2017': {'total': '67.0', 'Grade 3': '73.5', 'Grade 4': '61.0'}, '2016': {'total': '62.3', 'Grade 3': '64.3', 'Grade 4': '60.2'}, '2015': {'total': '61.0', 'Grade 3': '70.2', 'Grade 4': '53.8'}}, 'ela': {'2017': {'total': '62.9', 'Grade 3': '64.6', 'Grade 4': '61.2'}, '2016': {'total': '59.1', 'Grade 3': '57.8', 'Grade 4': '60.4'}, '2015': {'total': '52.5', 'Grade 3': '50.0', 'Grade 4': '54.5'}}, 'name': 'MAPLE WEST ELEMENTARY SCHOOL', 'district': 'WILLIAMSVILLE CENTRAL SCHOOL DISTRICT'}, '141601060000': {'math': {'2017': {'total': '60.6', 'Grade 3': '59.2', 'Grade 4': '62.2', 'Grade 6': '51.3', 'Grade 7': '59.6', 'Grade 8': '15.4', 'Grade 5': '80.7'}, '2016': {'total': '60.0', 'Grade 3': '58.6', 'Grade 4': '75.5', 'Grade 6': '53.9', 'Grade 7': '49.4', 'Grade 8': '22.9', 'Grade 5': '67.8'}, '2015': {'total': '54.5', 'Grade 3': '50.0', 'Grade 4': '65.7', 'Grade 6': '41.9', 'Grade 7': '46.2', 'Grade 8': '31.4', 'Grade 5': '73.3'}}, 'ela': {'2017': {'total': '56.2', 'Grade 3': '53.0', 'Grade 4': '53.9', 'Grade 6': '43.6', 'Grade 7': '71.0', 'Grade 8': '61.3', 'Grade 5': '60.1'}, '2016': {'total': '56.6', 'Grade 3': '57.7', 'Grade 4': '61.4', 'Grade 6': '56.7', 'Grade 7': '51.1', 'Grade 8': '55.7', 'Grade 5': '53.8'}, '2015': {'total': '47.6', 'Grade 3': '41.3', 'Grade 4': '50.7', 'Grade 6': '40.0', 'Grade 7': '46.8', 'Grade 8': '48.4', 'Grade 5': '56.8'}}, 'name': 'HAMBURG CENTRAL SCHOOL DISTRICT', 'district': 'HAMBURG CENTRAL SCHOOL DISTRICT'}, '141800010011': {'math': {'2017': {'total': '14.1', 'Grade 3': '11.7', 'Grade 4': '14.8', 'Grade 5': '16.4'}, '2016': {'total': '8.4', 'Grade 3': '9.2', 'Grade 4': '9.9', 'Grade 5': '5.5'}, '2015': {'total': '16.7', 'Grade 3': '14.6', 'Grade 4': '12.7', 'Grade 5': '25.0'}}, 'ela': {'2017': {'total': '11.5', 'Grade 3': '11.1', 'Grade 4': '14.8', 'Grade 5': '8.4'}, '2016': {'total': '13.8', 'Grade 3': '18.4', 'Grade 4': '8.0', 'Grade 5': '13.7'}, '2015': {'total': '9.2', 'Grade 3': '11.8', 'Grade 4': '7.1', 'Grade 5': '7.9'}}, 'name': 'MARTIN ROAD ELEMENTARY SCHOOL', 'district': 'LACKAWANNA CITY SCHOOL DISTRICT'}, '141201060001': {'math': {'2017': {'total': '32.1', 'Grade 8': '25.0', 'Grade 7': '36.5'}, '2016': {'total': '43.3', 'Grade 8': '26.7', 'Grade 7': '60.0'}, '2015': {'total': '45.8', 'Grade 8': '35.7', 'Grade 7': '52.3'}}, 'ela': {'2017': {'total': '50.0', 'Grade 8': '68.2', 'Grade 7': '36.2'}, '2016': {'total': '45.1', 'Grade 8': '49.1', 'Grade 7': '40.4'}, '2015': {'total': '49.3', 'Grade 8': '52.2', 'Grade 7': '46.5'}}, 'name': 'EDEN JUNIOR-SENIOR HIGH SCHOOL', 'district': 'EDEN CENTRAL SCHOOL DISTRICT'}, '142801060008': {'math': {'2017': {'total': '23.7', 'Grade 3': '19.6', 'Grade 4': '33.3', 'Grade 5': '22.7'}, '2016': {'total': '36.9', 'Grade 3': '23.8', 'Grade 4': '43.5', 'Grade 5': '42.9'}, '2015': {'total': '50.8', 'Grade 3': '45.5', 'Grade 4': '56.5', 'Grade 5': '48.1'}}, 'ela': {'2017': {'total': '23.7', 'Grade 3': '26.9', 'Grade 4': '33.3', 'Grade 5': '8.3'}, '2016': {'total': '28.6', 'Grade 3': '30.4', 'Grade 4': '30.0', 'Grade 5': '25.0'}, '2015': {'total': '30.4', 'Grade 3': '36.4', 'Grade 4': '39.1', 'Grade 5': '18.2'}}, 'name': 'WINCHESTER ELEMENTARY SCHOOL', 'district': 'WEST SENECA CENTRAL SCHOOL DISTRICT'}, '140801060008': {'math': {'2017': {'total': '57.3', 'Grade 6': '72.0', 'Grade 7': '58.0', 'Grade 8': '26.0'}, '2016': {'total': '60.6', 'Grade 6': '71.4', 'Grade 7': '60.5', 'Grade 8': '37.8'}, '2015': {'total': '58.4', 'Grade 6': '72.8', 'Grade 7': '58.9', 'Grade 8': '36.1'}}, 'ela': {'2017': {'total': '59.6', 'Grade 6': '54.8', 'Grade 7': '62.6', 'Grade 8': '61.5'}, '2016': {'total': '60.5', 'Grade 6': '60.9', 'Grade 7': '60.2', 'Grade 8': '60.3'}, '2015': {'total': '55.8', 'Grade 6': '58.1', 'Grade 7': '50.7', 'Grade 8': '58.2'}}, 'name': 'CLARENCE MIDDLE SCHOOL', 'district': 'CLARENCE CENTRAL SCHOOL DISTRICT'}, '140703020000': {'math': {'2017': {'total': '44.8', 'Grade 3': '55.1', 'Grade 4': '60.5', 'Grade 6': '51.4', 'Grade 7': '41.4', 'Grade 8': '13.5', 'Grade 5': '43.0'}, '2016': {'total': '43.1', 'Grade 3': '54.3', 'Grade 4': '54.3', 'Grade 6': '50.8', 'Grade 7': '30.0', 'Grade 8': '19.5', 'Grade 5': '50.0'}, '2015': {'total': '34.3', 'Grade 3': '51.8', 'Grade 4': '53.8', 'Grade 6': '25.6', 'Grade 7': '17.9', 'Grade 8': '9.9', 'Grade 5': '54.4'}}, 'ela': {'2017': {'total': '44.6', 'Grade 3': '54.0', 'Grade 4': '44.0', 'Grade 6': '41.4', 'Grade 7': '50.8', 'Grade 8': '35.9', 'Grade 5': '41.2'}, '2016': {'total': '41.8', 'Grade 3': '59.8', 'Grade 4': '48.2', 'Grade 6': '47.9', 'Grade 7': '27.8', 'Grade 8': '32.6', 'Grade 5': '34.2'}, '2015': {'total': '27.9', 'Grade 3': '30.1', 'Grade 4': '36.2', 'Grade 6': '23.7', 'Grade 7': '19.4', 'Grade 8': '24.2', 'Grade 5': '36.6'}}, 'name': 'CLEVELAND HILL UNION FREE SCHOOL DISTRICT', 'district': 'CLEVELAND HILL UNION FREE SCHOOL DISTRICT'}, '142801060003': {'math': {'2017': {'total': '52.3', 'Grade 3': '68.2', 'Grade 4': '42.9', 'Grade 5': '25.0'}, '2016': {'total': '60.5', 'Grade 3': '100.0', 'Grade 4': '14.3', 'Grade 5': '43.8'}, '2015': {'total': '36.4', 'Grade 3': '33.3', 'Grade 4': '58.3', 'Grade 5': '16.7'}}, 'ela': {'2017': {'total': '53.5', 'Grade 3': '52.4', 'Grade 4': '66.7', 'Grade 5': '28.6'}, '2016': {'total': '61.1', 'Grade 3': '80.0', 'Grade 4': '42.9', 'Grade 5': '50.0'}, '2015': {'total': '24.2', 'Grade 3': '27.3', 'Grade 4': '44.4', 'Grade 5': '7.7'}}, 'name': 'ALLENDALE ELEMENTARY SCHOOL', 'district': 'WEST SENECA CENTRAL SCHOOL DISTRICT'}, '141901060010': {'math': {'2017': {'total': '57.9', 'Grade 6': '62.2', 'Grade 4': '53.3', 'Grade 5': '59.2'}, '2016': {'total': '61.5', 'Grade 6': '56.0', 'Grade 4': '63.8', 'Grade 5': '64.8'}, '2015': {'total': '65.8', 'Grade 6': '63.6', 'Grade 4': '68.1', 'Grade 5': '65.9'}}, 'ela': {'2017': {'total': '38.5', 'Grade 6': '43.7', 'Grade 4': '33.3', 'Grade 5': '39.5'}, '2016': {'total': '44.5', 'Grade 6': '45.2', 'Grade 4': '49.7', 'Grade 5': '38.8'}, '2015': {'total': '43.2', 'Grade 6': '49.0', 'Grade 4': '42.5', 'Grade 5': '38.4'}}, 'name': 'WILLIAM STREET SCHOOL', 'district': 'LANCASTER CENTRAL SCHOOL DISTRICT'}, '141800010000': {'math': {'2017': {'total': '10.9', 'Grade 3': '11.6', 'Grade 4': '14.8', 'Grade 6': '3.9', 'Grade 7': '7.8', 'Grade 8': '2.5', 'Grade 5': '15.9'}, '2016': {'total': '9.4', 'Grade 3': '9.2', 'Grade 4': '9.5', 'Grade 6': '17.5', 'Grade 7': '14.6', 'Grade 8': '2.7', 'Grade 5': '5.5'}, '2015': {'total': '18.5', 'Grade 3': '14.6', 'Grade 4': '12.7', 'Grade 6': '28.6', 'Grade 7': '33.3', 'Grade 8': '0.0', 'Grade 5': '24.6'}}, 'ela': {'2017': {'total': '9.8', 'Grade 3': '11.0', 'Grade 4': '14.8', 'Grade 6': '3.3', 'Grade 7': '9.6', 'Grade 8': '9.3', 'Grade 5': '9.0'}, '2016': {'total': '14.9', 'Grade 3': '18.4', 'Grade 4': '7.9', 'Grade 6': '13.0', 'Grade 7': '9.1', 'Grade 8': '28.6', 'Grade 5': '13.7'}, '2015': {'total': '8.7', 'Grade 3': '11.8', 'Grade 4': '7.1', 'Grade 6': '6.5', 'Grade 7': '11.1', 'Grade 8': '6.5', 'Grade 5': '7.8'}}, 'name': 'LACKAWANNA CITY SCHOOL DISTRICT', 'district': 'LACKAWANNA CITY SCHOOL DISTRICT'}, '141501060000': {'math': {'2017': {'total': '55.0', 'Grade 3': '47.8', 'Grade 4': '64.4', 'Grade 6': '56.5', 'Grade 7': '60.2', 'Grade 8': '20.0', 'Grade 5': '59.0'}, '2016': {'total': '53.5', 'Grade 3': '45.6', 'Grade 4': '59.0', 'Grade 6': '58.6', 'Grade 7': '61.3', 'Grade 8': '33.3', 'Grade 5': '55.6'}, '2015': {'total': '53.5', 'Grade 3': '48.3', 'Grade 4': '57.6', 'Grade 6': '62.6', 'Grade 7': '63.6', 'Grade 8': '13.9', 'Grade 5': '57.6'}}, 'ela': {'2017': {'total': '46.9', 'Grade 3': '42.6', 'Grade 4': '55.6', 'Grade 6': '36.0', 'Grade 7': '48.4', 'Grade 8': '54.1', 'Grade 5': '44.3'}, '2016': {'total': '46.5', 'Grade 3': '53.3', 'Grade 4': '49.3', 'Grade 6': '42.0', 'Grade 7': '38.4', 'Grade 8': '55.9', 'Grade 5': '40.8'}, '2015': {'total': '39.1', 'Grade 3': '31.5', 'Grade 4': '42.1', 'Grade 6': '32.9', 'Grade 7': '38.9', 'Grade 8': '48.5', 'Grade 5': '38.9'}}, 'name': 'GRAND ISLAND CENTRAL SCHOOL DISTRICT', 'district': 'GRAND ISLAND CENTRAL SCHOOL DISTRICT'}, '141101060003': {'math': {'2017': {'total': '47.9', 'Grade 3': '53.8', 'Grade 4': '32.9', 'Grade 5': '60.0'}, '2016': {'total': '39.8', 'Grade 3': '37.0', 'Grade 4': '50.0', 'Grade 5': '34.9'}, '2015': {'total': '50.6', 'Grade 3': '51.0', 'Grade 4': '46.2', 'Grade 5': '55.0'}}, 'ela': {'2017': {'total': '35.9', 'Grade 3': '43.0', 'Grade 4': '35.1', 'Grade 5': '27.9'}, '2016': {'total': '28.5', 'Grade 3': '32.4', 'Grade 4': '38.2', 'Grade 5': '15.6'}, '2015': {'total': '25.3', 'Grade 3': '27.8', 'Grade 4': '22.7', 'Grade 5': '25.9'}}, 'name': 'SPRINGVILLE ELEMENTARY SCHOOL', 'district': 'SPRINGVILLE-GRIFFITH INSTITUTE CENTRAL SCHOOL DISTRICT'}, '142801060005': {'math': {'2017': {'total': '38.0', 'Grade 6': '46.0', 'Grade 7': '32.6', 'Grade 8': '3.3', 'Grade 5': '52.5'}, '2016': {'total': '37.8', 'Grade 6': '48.1', 'Grade 7': '34.0', 'Grade 8': '13.3', 'Grade 5': '44.4'}, '2015': {'total': '42.3', 'Grade 6': '46.2', 'Grade 7': '36.0', 'Grade 8': '3.6', 'Grade 5': '62.7'}}, 'ela': {'2017': {'total': '35.8', 'Grade 6': '33.3', 'Grade 7': '41.2', 'Grade 8': '39.5', 'Grade 5': '31.1'}, '2016': {'total': '35.6', 'Grade 6': '32.8', 'Grade 7': '35.7', 'Grade 8': '51.1', 'Grade 5': '26.3'}, '2015': {'total': '36.6', 'Grade 6': '32.8', 'Grade 7': '43.6', 'Grade 8': '34.8', 'Grade 5': '35.4'}}, 'name': 'EAST MIDDLE SCHOOL', 'district': 'WEST SENECA CENTRAL SCHOOL DISTRICT'}, '142601030024': {'math': {'2017': {'total': '38.7', 'Grade 3': '50.6', 'Grade 4': '24.3'}, '2016': {'total': '32.9', 'Grade 3': '37.1', 'Grade 4': '22.6', 'Grade 5': '41.3'}, '2015': {'total': '47.9', 'Grade 3': '47.7', 'Grade 4': '46.0', 'Grade 5': '50.0'}}, 'ela': {'2017': {'total': '37.4', 'Grade 3': '43.8', 'Grade 4': '29.7'}, '2016': {'total': '33.1', 'Grade 3': '42.2', 'Grade 4': '23.9', 'Grade 5': '34.0'}, '2015': {'total': '33.1', 'Grade 3': '31.9', 'Grade 4': '37.0', 'Grade 5': '30.8'}}, 'name': 'HERBERT HOOVER ELEMENTARY SCHOOL', 'district': 'KENMORE-TONAWANDA UNION FREE SCHOOL DISTRICT'}, '141604060007': {'math': {'2017': {'total': '50.4', 'Grade 6': '58.4', 'Grade 7': '56.3', 'Grade 8': '15.2'}, '2016': {'total': '47.3', 'Grade 6': '50.0', 'Grade 7': '61.0', 'Grade 8': '14.3'}, '2015': {'total': '52.2', 'Grade 6': '60.9', 'Grade 7': '56.0', 'Grade 8': '28.1'}}, 'ela': {'2017': {'total': '55.2', 'Grade 6': '51.3', 'Grade 7': '54.7', 'Grade 8': '62.4'}, '2016': {'total': '55.9', 'Grade 6': '51.2', 'Grade 7': '62.1', 'Grade 8': '56.7'}, '2015': {'total': '47.4', 'Grade 6': '51.9', 'Grade 7': '51.8', 'Grade 8': '38.7'}}, 'name': 'FRONTIER MIDDLE SCHOOL', 'district': 'FRONTIER CENTRAL SCHOOL DISTRICT'}, '141901060005': {'math': {'2017': {'total': '42.0', 'Grade 3': '42.0'}, '2016': {'total': '50.0', 'Grade 3': '50.0'}, '2015': {'total': '66.0', 'Grade 3': '66.0'}}, 'ela': {'2017': {'total': '58.0', 'Grade 3': '58.0'}, '2016': {'total': '44.9', 'Grade 3': '44.9'}, '2015': {'total': '46.2', 'Grade 3': '46.2'}}, 'name': 'COURT STREET ELEMENTARY SCHOOL', 'district': 'LANCASTER CENTRAL SCHOOL DISTRICT'}, '142801060017': {'math': {'2017': {'total': '25.8', 'Grade 3': '15.0', 'Grade 4': '42.3'}, '2016': {'total': '48.8', 'Grade 3': '44.0', 'Grade 4': '55.6'}, '2015': {'total': '35.9', 'Grade 3': '37.1', 'Grade 4': '34.5'}}, 'ela': {'2017': {'total': '37.3', 'Grade 3': '31.8', 'Grade 4': '47.8'}, '2016': {'total': '44.2', 'Grade 3': '45.8', 'Grade 4': '42.1'}, '2015': {'total': '16.4', 'Grade 3': '23.1', 'Grade 4': '7.1'}}, 'name': 'NORTHWOOD ELEMENTARY SCHOOL', 'district': 'WEST SENECA CENTRAL SCHOOL DISTRICT'}, '142201040002': {'math': {'2017': {'total': '20.0', 'Grade 3': '10.0', 'Grade 6': '21.4', 'Grade 4': '27.3', 'Grade 5': '26.7'}, '2016': {'total': '41.5', 'Grade 3': '52.6', 'Grade 6': '38.9', 'Grade 4': '29.4', 'Grade 5': '45.5'}, '2015': {'total': '38.5', 'Grade 3': '41.2', 'Grade 6': '55.6', 'Grade 4': '35.7', 'Grade 5': '32.0'}}, 'ela': {'2017': {'total': '19.7', 'Grade 3': '13.6', 'Grade 6': '14.3', 'Grade 4': '23.1', 'Grade 5': '29.4'}, '2016': {'total': '49.3', 'Grade 3': '72.2', 'Grade 6': '36.8', 'Grade 4': '55.6', 'Grade 5': '25.0'}, '2015': {'total': '29.7', 'Grade 3': '45.0', 'Grade 6': '18.2', 'Grade 4': '31.2', 'Grade 5': '22.2'}}, 'name': 'NORTH COLLINS ELEMENTARY SCHOOL', 'district': 'NORTH COLLINS CENTRAL SCHOOL DISTRICT'}, '140301030004': {'math': {'2017': {'total': '47.2', 'Grade 6': '51.2', 'Grade 7': '40.2', 'Grade 8': '48.2', 'Grade 5': '49.3'}, '2016': {'total': '47.8', 'Grade 6': '38.1', 'Grade 7': '54.4', 'Grade 8': '52.1', 'Grade 5': '46.9'}, '2015': {'total': '47.2', 'Grade 6': '44.4', 'Grade 7': '46.3', 'Grade 8': '50.6', 'Grade 5': '46.7'}}, 'ela': {'2017': {'total': '52.4', 'Grade 6': '47.7', 'Grade 7': '57.3', 'Grade 8': '55.4', 'Grade 5': '49.4'}, '2016': {'total': '49.4', 'Grade 6': '45.8', 'Grade 7': '52.7', 'Grade 8': '60.3', 'Grade 5': '41.2'}, '2015': {'total': '47.3', 'Grade 6': '41.5', 'Grade 7': '46.4', 'Grade 8': '62.5', 'Grade 5': '37.2'}}, 'name': 'EAST AURORA MIDDLE SCHOOL', 'district': 'EAST AURORA UNION FREE SCHOOL DISTRICT'}, '140801060000': {'math': {'2017': {'total': '68.0', 'Grade 3': '77.9', 'Grade 4': '79.6', 'Grade 6': '72.0', 'Grade 7': '58.0', 'Grade 8': '25.8', 'Grade 5': '72.1'}, '2016': {'total': '69.3', 'Grade 3': '81.9', 'Grade 4': '76.0', 'Grade 6': '71.4', 'Grade 7': '60.5', 'Grade 8': '37.5', 'Grade 5': '70.9'}, '2015': {'total': '65.6', 'Grade 3': '69.8', 'Grade 4': '71.8', 'Grade 6': '72.8', 'Grade 7': '58.6', 'Grade 8': '35.6', 'Grade 5': '72.7'}}, 'ela': {'2017': {'total': '60.6', 'Grade 3': '67.5', 'Grade 4': '62.9', 'Grade 6': '54.8', 'Grade 7': '62.6', 'Grade 8': '61.2', 'Grade 5': '54.7'}, '2016': {'total': '61.5', 'Grade 3': '68.1', 'Grade 4': '59.0', 'Grade 6': '60.9', 'Grade 7': '60.2', 'Grade 8': '60.5', 'Grade 5': '59.6'}, '2015': {'total': '55.7', 'Grade 3': '53.0', 'Grade 4': '59.0', 'Grade 6': '58.1', 'Grade 7': '50.5', 'Grade 8': '57.8', 'Grade 5': '55.6'}}, 'name': 'CLARENCE CENTRAL SCHOOL DISTRICT', 'district': 'CLARENCE CENTRAL SCHOOL DISTRICT'}, '140207060003': {'math': {'2017': {'total': '47.7', 'Grade 3': '44.8', 'Grade 4': '57.4', 'Grade 5': '41.7'}, '2016': {'total': '52.5', 'Grade 3': '51.2', 'Grade 4': '54.9', 'Grade 5': '51.0'}, '2015': {'total': '50.0', 'Grade 3': '62.2', 'Grade 4': '47.3', 'Grade 5': '43.3'}}, 'ela': {'2017': {'total': '41.0', 'Grade 3': '32.2', 'Grade 4': '53.3', 'Grade 5': '40.4'}, '2016': {'total': '47.6', 'Grade 3': '47.6', 'Grade 4': '56.9', 'Grade 5': '38.0'}, '2015': {'total': '43.6', 'Grade 3': '56.5', 'Grade 4': '39.7', 'Grade 5': '37.7'}}, 'name': 'MAPLEMERE ELEMENTARY SCHOOL', 'district': 'SWEET HOME CENTRAL SCHOOL DISTRICT'}, '141901060007': {'math': {'2017': {'total': '38.2', 'Grade 8': '23.0', 'Grade 7': '44.8'}, '2016': {'total': '40.2', 'Grade 8': '23.7', 'Grade 7': '49.7'}, '2015': {'total': '37.1', 'Grade 8': '11.4', 'Grade 7': '44.8'}}, 'ela': {'2017': {'total': '56.0', 'Grade 8': '57.7', 'Grade 7': '54.5'}, '2016': {'total': '47.4', 'Grade 8': '46.2', 'Grade 7': '48.6'}, '2015': {'total': '42.9', 'Grade 8': '41.9', 'Grade 7': '43.6'}}, 'name': 'LANCASTER MIDDLE SCHOOL', 'district': 'LANCASTER CENTRAL SCHOOL DISTRICT'}, '142601030023': {'math': {'2017': {'total': '19.8', 'Grade 3': '20.9', 'Grade 4': '18.6'}, '2016': {'total': '26.1', 'Grade 3': '16.9', 'Grade 4': '37.3', 'Grade 5': '25.9'}, '2015': {'total': '39.0', 'Grade 3': '37.0', 'Grade 4': '40.0', 'Grade 5': '39.7'}}, 'ela': {'2017': {'total': '18.8', 'Grade 3': '24.2', 'Grade 4': '12.6'}, '2016': {'total': '16.5', 'Grade 3': '16.9', 'Grade 4': '23.3', 'Grade 5': '8.8'}, '2015': {'total': '17.2', 'Grade 3': '23.7', 'Grade 4': '17.2', 'Grade 5': '11.1'}}, 'name': 'BEN FRANKLIN ELEMENTARY SCHOOL', 'district': 'KENMORE-TONAWANDA UNION FREE SCHOOL DISTRICT'}, '141101060000': {'math': {'2017': {'total': '43.9', 'Grade 3': '58.4', 'Grade 4': '34.8', 'Grade 6': '34.9', 'Grade 7': '47.7', 'Grade 8': '25.0', 'Grade 5': '53.5'}, '2016': {'total': '39.2', 'Grade 3': '42.6', 'Grade 4': '47.9', 'Grade 6': '44.6', 'Grade 7': '39.1', 'Grade 8': '18.9', 'Grade 5': '32.1'}, '2015': {'total': '40.2', 'Grade 3': '50.7', 'Grade 4': '42.0', 'Grade 6': '38.3', 'Grade 7': '40.0', 'Grade 8': '8.1', 'Grade 5': '46.2'}}, 'ela': {'2017': {'total': '35.4', 'Grade 3': '41.7', 'Grade 4': '34.2', 'Grade 6': '20.9', 'Grade 7': '50.0', 'Grade 8': '36.7', 'Grade 5': '31.5'}, '2016': {'total': '34.0', 'Grade 3': '39.0', 'Grade 4': '39.0', 'Grade 6': '29.4', 'Grade 7': '34.5', 'Grade 8': '46.4', 'Grade 5': '18.1'}, '2015': {'total': '24.5', 'Grade 3': '28.9', 'Grade 4': '20.7', 'Grade 6': '19.1', 'Grade 7': '27.1', 'Grade 8': '26.8', 'Grade 5': '24.7'}}, 'name': 'SPRINGVILLE-GRIFFITH INSTITUTE CENTRAL SCHOOL DISTRICT', 'district': 'SPRINGVILLE-GRIFFITH INSTITUTE CENTRAL SCHOOL DISTRICT'}, '141601060001': {'math': {'2017': {'total': '67.0', 'Grade 3': '68.6', 'Grade 4': '67.7', 'Grade 5': '64.3'}, '2016': {'total': '65.5', 'Grade 3': '62.5', 'Grade 4': '63.3', 'Grade 5': '72.0'}, '2015': {'total': '68.6', 'Grade 3': '44.4', 'Grade 4': '71.9', 'Grade 5': '84.0'}}, 'ela': {'2017': {'total': '66.7', 'Grade 3': '64.1', 'Grade 4': '69.7', 'Grade 5': '66.7'}, '2016': {'total': '67.4', 'Grade 3': '73.5', 'Grade 4': '54.5', 'Grade 5': '77.3'}, '2015': {'total': '59.0', 'Grade 3': '41.7', 'Grade 4': '53.1', 'Grade 5': '74.1'}}, 'name': 'ARMOR ELEMENTARY SCHOOL', 'district': 'HAMBURG CENTRAL SCHOOL DISTRICT'}, '142301060002': {'math': {'2017': {'total': '47.5', 'Grade 6': '61.7', 'Grade 7': '52.2', 'Grade 8': '19.1'}, '2016': {'total': '47.7', 'Grade 6': '64.4', 'Grade 7': '45.3', 'Grade 8': '26.8'}, '2015': {'total': '48.1', 'Grade 6': '55.7', 'Grade 7': '47.1', 'Grade 8': '35.2'}}, 'ela': {'2017': {'total': '48.4', 'Grade 6': '46.6', 'Grade 7': '53.0', 'Grade 8': '46.2'}, '2016': {'total': '45.2', 'Grade 6': '45.2', 'Grade 7': '42.7', 'Grade 8': '48.2'}, '2015': {'total': '47.0', 'Grade 6': '44.3', 'Grade 7': '40.7', 'Grade 8': '59.6'}}, 'name': 'ORCHARD PARK MIDDLE SCHOOL', 'district': 'ORCHARD PARK CENTRAL SCHOOL DISTRICT'}, '142500010007': {'math': {'2017': {'total': '67.3', 'Grade 3': '67.3'}, '2016': {'total': '72.1', 'Grade 3': '72.1'}, '2015': {'total': '62.5', 'Grade 3': '62.5'}}, 'ela': {'2017': {'total': '29.8', 'Grade 3': '29.8'}, '2016': {'total': '45.2', 'Grade 3': '45.2'}, '2015': {'total': '38.7', 'Grade 3': '38.7'}}, 'name': 'RIVERVIEW ELEMENTARY SCHOOL', 'district': 'TONAWANDA CITY SCHOOL DISTRICT'}, '141601060006': {'math': {'2017': {'total': '49.0', 'Grade 6': '51.8', 'Grade 7': '59.6', 'Grade 8': '15.4'}, '2016': {'total': '48.0', 'Grade 6': '53.9', 'Grade 7': '50.0', 'Grade 8': '23.5'}, '2015': {'total': '41.3', 'Grade 6': '42.2', 'Grade 7': '46.7', 'Grade 8': '32.4'}}, 'ela': {'2017': {'total': '57.6', 'Grade 6': '44.7', 'Grade 7': '71.0', 'Grade 8': '61.3'}, '2016': {'total': '55.6', 'Grade 6': '56.7', 'Grade 7': '51.7', 'Grade 8': '58.2'}, '2015': {'total': '45.2', 'Grade 6': '40.3', 'Grade 7': '47.2', 'Grade 8': '48.8'}}, 'name': 'HAMBURG MIDDLE SCHOOL', 'district': 'HAMBURG CENTRAL SCHOOL DISTRICT'}, '141901060000': {'math': {'2017': {'total': '53.5', 'Grade 3': '60.1', 'Grade 4': '52.8', 'Grade 6': '61.9', 'Grade 7': '44.8', 'Grade 8': '22.5', 'Grade 5': '59.2'}, '2016': {'total': '53.2', 'Grade 3': '51.1', 'Grade 4': '63.4', 'Grade 6': '56.0', 'Grade 7': '49.2', 'Grade 8': '23.5', 'Grade 5': '64.5'}, '2015': {'total': '56.4', 'Grade 3': '57.7', 'Grade 4': '68.1', 'Grade 6': '63.4', 'Grade 7': '44.7', 'Grade 8': '11.4', 'Grade 5': '65.9'}}, 'ela': {'2017': {'total': '48.4', 'Grade 3': '62.2', 'Grade 4': '33.1', 'Grade 6': '43.7', 'Grade 7': '53.9', 'Grade 8': '57.1', 'Grade 5': '39.3'}, '2016': {'total': '46.8', 'Grade 3': '52.5', 'Grade 4': '49.5', 'Grade 6': '45.2', 'Grade 7': '48.1', 'Grade 8': '45.9', 'Grade 5': '38.6'}, '2015': {'total': '43.1', 'Grade 3': '43.4', 'Grade 4': '42.3', 'Grade 6': '48.8', 'Grade 7': '43.4', 'Grade 8': '41.9', 'Grade 5': '38.4'}}, 'name': 'LANCASTER CENTRAL SCHOOL DISTRICT', 'district': 'LANCASTER CENTRAL SCHOOL DISTRICT'}, '140701060004': {'math': {'2017': {'total': '26.7', 'Grade 3': '26.4', 'Grade 4': '27.0'}, '2016': {'total': '32.0', 'Grade 3': '25.3', 'Grade 4': '40.0'}, '2015': {'total': '39.6', 'Grade 3': '31.1', 'Grade 4': '47.1'}}, 'ela': {'2017': {'total': '16.8', 'Grade 3': '17.5', 'Grade 4': '16.2'}, '2016': {'total': '18.5', 'Grade 3': '18.2', 'Grade 4': '18.9'}, '2015': {'total': '21.4', 'Grade 3': '21.6', 'Grade 4': '21.3'}}, 'name': 'UNION EAST ELEMENTARY SCHOOL', 'district': 'CHEEKTOWAGA CENTRAL SCHOOL DISTRICT'}, '140101060005': {'math': {'2017': {'total': '38.0', 'Grade 6': '41.0', 'Grade 7': '49.1', 'Grade 8': '4.0'}, '2016': {'total': '44.1', 'Grade 8': '17.6', 'Grade 4': '55.7', 'Grade 6': '38.7', 'Grade 7': '44.6', 'Grade 5': '49.3'}, '2015': {'total': '51.2', 'Grade 8': '26.5', 'Grade 4': '65.6', 'Grade 6': '34.4', 'Grade 7': '51.7', 'Grade 5': '65.6'}}, 'ela': {'2017': {'total': '38.9', 'Grade 6': '38.8', 'Grade 7': '41.5', 'Grade 8': '36.2'}, '2016': {'total': '38.3', 'Grade 8': '46.3', 'Grade 4': '37.1', 'Grade 6': '37.3', 'Grade 7': '34.4', 'Grade 5': '38.0'}, '2015': {'total': '38.6', 'Grade 8': '40.0', 'Grade 4': '46.1', 'Grade 6': '34.8', 'Grade 7': '44.4', 'Grade 5': '27.1'}}, 'name': 'ALDEN MIDDLE SCHOOL', 'district': 'ALDEN CENTRAL SCHOOL DISTRICT'}, '142601030013': {'math': {'2017': {'total': '28.9', 'Grade 3': '33.3', 'Grade 4': '23.9'}, '2016': {'total': '25.5', 'Grade 3': '30.6', 'Grade 4': '25.5', 'Grade 5': '19.5'}, '2015': {'total': '24.8', 'Grade 3': '30.2', 'Grade 4': '19.0', 'Grade 5': '23.7'}}, 'ela': {'2017': {'total': '30.9', 'Grade 3': '40.0', 'Grade 4': '21.3'}, '2016': {'total': '16.0', 'Grade 3': '20.4', 'Grade 4': '18.0', 'Grade 5': '8.9'}, '2015': {'total': '12.4', 'Grade 3': '11.3', 'Grade 4': '15.6', 'Grade 5': '10.3'}}, 'name': 'HOLMES ELEMENTARY SCHOOL', 'district': 'KENMORE-TONAWANDA UNION FREE SCHOOL DISTRICT'}, '141901060006': {'math': {'2017': {'total': '75.0', 'Grade 3': '75.0'}, '2016': {'total': '62.7', 'Grade 3': '62.7'}, '2015': {'total': '63.8', 'Grade 3': '63.8'}}, 'ela': {'2017': {'total': '67.6', 'Grade 3': '67.6'}, '2016': {'total': '59.3', 'Grade 3': '59.3'}, '2015': {'total': '45.7', 'Grade 3': '45.7'}}, 'name': 'HILLVIEW ELEMENTARY SCHOOL', 'district': 'LANCASTER CENTRAL SCHOOL DISTRICT'}, '140201060006': {'math': {'2017': {'total': '58.3', 'Grade 3': '54.0', 'Grade 4': '57.1', 'Grade 5': '65.6'}, '2016': {'total': '56.3', 'Grade 3': '68.2', 'Grade 4': '55.4', 'Grade 5': '43.1'}, '2015': {'total': '56.7', 'Grade 3': '50.6', 'Grade 4': '61.3', 'Grade 5': '59.0'}}, 'ela': {'2017': {'total': '52.1', 'Grade 3': '47.3', 'Grade 4': '60.5', 'Grade 5': '47.6'}, '2016': {'total': '47.6', 'Grade 3': '57.0', 'Grade 4': '47.4', 'Grade 5': '38.2'}, '2015': {'total': '33.3', 'Grade 3': '31.0', 'Grade 4': '35.4', 'Grade 5': '33.8'}}, 'name': 'WINDERMERE BLVD SCHOOL', 'district': 'AMHERST CENTRAL SCHOOL DISTRICT'}, '142601030011': {'math': {'2017': {'total': '37.2', 'Grade 6': '40.0', 'Grade 7': '39.3', 'Grade 5': '33.7'}, '2016': {'total': '26.1', 'Grade 6': '29.6', 'Grade 7': '29.7', 'Grade 8': '6.8'}, '2015': {'total': '31.8', 'Grade 6': '34.7', 'Grade 7': '37.0', 'Grade 8': '18.3'}}, 'ela': {'2017': {'total': '33.8', 'Grade 6': '30.6', 'Grade 7': '38.5', 'Grade 5': '33.0'}, '2016': {'total': '30.8', 'Grade 6': '29.8', 'Grade 7': '31.6', 'Grade 8': '32.1'}, '2015': {'total': '29.3', 'Grade 6': '27.0', 'Grade 7': '24.4', 'Grade 8': '38.0'}}, 'name': 'HERBERT HOOVER MIDDLE SCHOOL', 'district': 'KENMORE-TONAWANDA UNION FREE SCHOOL DISTRICT'}}, 'ordered_schools': [['142101040000', 'AKRON CENTRAL SCHOOL DISTRICT'], ['142101040001', 'AKRON ELEMENTARY SCHOOL'], ['142101040003', 'AKRON MIDDLE SCHOOL'], ['140101060000', 'ALDEN CENTRAL SCHOOL DISTRICT'], ['140101060007', 'ALDEN INTERMEDIATE SCHOOL'], ['140101060005', 'ALDEN MIDDLE SCHOOL'], ['140201060000', 'AMHERST CENTRAL SCHOOL DISTRICT'], ['140201060001', 'AMHERST MIDDLE SCHOOL'], ['140201060005', 'SMALLWOOD DRIVE SCHOOL'], ['140201060006', 'WINDERMERE BLVD SCHOOL'], ['140701060000', 'CHEEKTOWAGA CENTRAL SCHOOL DISTRICT'], ['140701060007', 'CHEEKTOWAGA MIDDLE SCHOOL'], ['140701060008', 'PINE HILL EDUCATION CENTER'], ['140701060004', 'UNION EAST ELEMENTARY SCHOOL'], ['140702030000', 'CHEEKTOWAGA-MARYVALE UNION FREE SCHOOL DISTRICT'], ['140702030004', 'MARYVALE INTERMEDIATE SCHOOL'], ['140702030005', 'MARYVALE MIDDLE SCHOOL'], ['140709030000', 'CHEEKTOWAGA-SLOAN UNION FREE SCHOOL DISTRICT'], ['140709030003', 'JOHN F KENNEDY MIDDLE SCHOOL'], ['140709030002', 'WOODROW WILSON ELEMENTARY SCHOOL'], ['140801060000', 'CLARENCE CENTRAL SCHOOL DISTRICT'], ['140801060007', 'CLARENCE CENTER ELEMENTARY SCHOOL'], ['140801060008', 'CLARENCE MIDDLE SCHOOL'], ['140801060002', 'HARRIS HILL ELEMENTARY SCHOOL'], ['140801060003', 'LEDGEVIEW ELEMENTARY SCHOOL'], ['140801060005', 'SHERIDAN HILL ELEMENTARY SCHOOL'], ['140703020000', 'CLEVELAND HILL UNION FREE SCHOOL DISTRICT'], ['140703020002', 'CLEVELAND HILL ELEMENTARY SCHOOL'], ['140703020004', 'CLEVELAND HILL MIDDLE SCHOOL'], ['140707030000', 'DEPEW UNION FREE SCHOOL DISTRICT'], ['140707030005', 'CAYUGA HEIGHTS ELEMENTARY SCHOOL'], ['140707030004', 'DEPEW MIDDLE SCHOOL'], ['140301030000', 'EAST AURORA UNION FREE SCHOOL DISTRICT'], ['140301030004', 'EAST AURORA MIDDLE SCHOOL'], ['140301030001', 'PARKDALE ELEMENTARY SCHOOL'], ['141201060000', 'EDEN CENTRAL SCHOOL DISTRICT'], ['141201060005', 'EDEN ELEMENTARY SCHOOL'], ['141201060001', 'EDEN JUNIOR-SENIOR HIGH SCHOOL'], ['141401060000', 'EVANS-BRANT CENTRAL SCHOOL DISTRICT (LAKE SHORE)'], ['141401060008', 'A J SCHMIDT ELEMENTARY SCHOOL'], ['141401060001', 'HIGHLAND ELEMENTARY SCHOOL'], ['141401060004', 'JOHN T WAUGH ELEMENTARY SCHOOL'], ['141401060009', 'LAKE SHORE MIDDLE SCHOOL'], ['141604060000', 'FRONTIER CENTRAL SCHOOL DISTRICT'], ['141604060003', 'BIG TREE ELEMENTARY SCHOOL'], ['141604060004', 'BLASDELL ELEMENTARY SCHOOL'], ['141604060005', 'CLOVERBANK ELEMENTARY SCHOOL'], ['141604060007', 'FRONTIER MIDDLE SCHOOL'], ['141604060006', 'PINEHURST ELEMENTARY SCHOOL'], ['141501060000', 'GRAND ISLAND CENTRAL SCHOOL DISTRICT'], ['141501060001', 'HUTH ROAD SCHOOL'], ['141501060003', 'KAEGEBEIN SCHOOL'], ['141501060005', 'VERONICA E CONNOR MIDDLE SCHOOL'], ['141601060000', 'HAMBURG CENTRAL SCHOOL DISTRICT'], ['141601060001', 'ARMOR ELEMENTARY SCHOOL'], ['141601060002', 'BOSTON VALLEY ELEMENTARY SCHOOL'], ['141601060003', 'CHARLOTTE AVENUE ELEMENTARY SCHOOL'], ['141601060006', 'HAMBURG MIDDLE SCHOOL'], ['141601060004', 'UNION PLEASANT AVENUE ELEMENTARY SCHOOL'], ['141701040000', 'HOLLAND CENTRAL SCHOOL DISTRICT'], ['141701040002', 'HAROLD O BRUMSTED ELEMENTARY SCHOOL'], ['141701040001', 'HOLLAND JUNIOR/SENIOR HIGH SCHOOL'], ['141301060000', 'IROQUOIS CENTRAL SCHOOL DISTRICT'], ['141301060007', 'ELMA PRIMARY SCHOOL'], ['141301060002', 'IROQUOIS INTERMEDIATE SCHOOL'], ['141301060005', 'IROQUOIS MIDDLE SCHOOL'], ['141301060003', 'MARILLA PRIMARY SCHOOL'], ['141301060004', 'WALES PRIMARY SCHOOL'], ['142601030000', 'KENMORE-TONAWANDA UNION FREE SCHOOL DISTRICT'], ['142601030023', 'BEN FRANKLIN ELEMENTARY SCHOOL'], ['142601030003', 'BEN FRANKLIN MIDDLE SCHOOL'], ['142601030006', 'CHARLES A LINDBERGH ELEMENTARY SCHOOL'], ['142601860031', 'CHARTER SCHOOL FOR APPLIED TECHNOLOGIES'], ['142601030024', 'HERBERT HOOVER ELEMENTARY SCHOOL'], ['142601030011', 'HERBERT HOOVER MIDDLE SCHOOL'], ['142601030013', 'HOLMES ELEMENTARY SCHOOL'], ['142601030025', 'KENMORE EAST SENIOR HIGH SCHOOL'], ['142601030026', 'KENMORE WEST SENIOR HIGH SCHOOL'], ['142601030020', 'THOMAS A EDISON ELEMENTARY SCHOOL'], ['141800010000', 'LACKAWANNA CITY SCHOOL DISTRICT'], ['141800860044', 'GLOBAL CONCEPTS CHARTER SCHOOL'], ['141800010005', 'LACKAWANNA MIDDLE SCHOOL'], ['141800010011', 'MARTIN ROAD ELEMENTARY SCHOOL'], ['141901060000', 'LANCASTER CENTRAL SCHOOL DISTRICT'], ['141901060004', 'COMO PARK ELEMENTARY SCHOOL'], ['141901060005', 'COURT STREET ELEMENTARY SCHOOL'], ['141901060006', 'HILLVIEW ELEMENTARY SCHOOL'], ['141901060001', 'JOHN A SCIOLE ELEMENTARY SCHOOL'], ['141901060007', 'LANCASTER MIDDLE SCHOOL'], ['141901060010', 'WILLIAM STREET SCHOOL'], ['142201040000', 'NORTH COLLINS CENTRAL SCHOOL DISTRICT'], ['142201040002', 'NORTH COLLINS ELEMENTARY SCHOOL'], ['142201040001', 'NORTH COLLINS JUNIOR-SENIOR HIGH SCHOOL'], ['142301060000', 'ORCHARD PARK CENTRAL SCHOOL DISTRICT'], ['142301060003', 'EGGERT ROAD ELEMENTARY SCHOOL'], ['142301060007', 'ELLICOTT ROAD ELEMENTARY SCHOOL'], ['142301060002', 'ORCHARD PARK MIDDLE SCHOOL'], ['142301060005', 'SOUTH DAVIS ELEMENTARY SCHOOL'], ['142301060001', 'WINDOM ELEMENTARY SCHOOL'], ['141101060000', 'SPRINGVILLE-GRIFFITH INSTITUTE CENTRAL SCHOOL DISTRICT'], ['141101060002', 'COLDEN ELEMENTARY SCHOOL'], ['141101060004', 'GRIFFITH INSTITUTE MIDDLE SCHOOL'], ['141101060003', 'SPRINGVILLE ELEMENTARY SCHOOL'], ['140207060000', 'SWEET HOME CENTRAL SCHOOL DISTRICT'], ['140207060002', 'GLENDALE ELEMENTARY SCHOOL'], ['140207060008', 'HERITAGE HEIGHTS ELEMENTARY SCHOOL'], ['140207060003', 'MAPLEMERE ELEMENTARY SCHOOL'], ['140207060005', 'SWEET HOME MIDDLE SCHOOL'], ['140207060007', 'WILLOW RIDGE ELEMENTARY SCHOOL'], ['142500010000', 'TONAWANDA CITY SCHOOL DISTRICT'], ['142500010003', 'FLETCHER ELEMENTARY SCHOOL'], ['142500010005', 'MULLEN ELEMENTARY SCHOOL'], ['142500010007', 'RIVERVIEW ELEMENTARY SCHOOL'], ['142500010009', 'TONAWANDA MIDDLE/HIGH SCHOOL'], ['142801060000', 'WEST SENECA CENTRAL SCHOOL DISTRICT'], ['142801060003', 'ALLENDALE ELEMENTARY SCHOOL'], ['142801060015', 'CLINTON ELEMENTARY SCHOOL'], ['142801060005', 'EAST MIDDLE SCHOOL'], ['142801060017', 'NORTHWOOD ELEMENTARY SCHOOL'], ['142801060018', 'WEST ELEMENTARY SCHOOL'], ['142801060011', 'WEST MIDDLE SCHOOL'], ['142801060008', 'WINCHESTER ELEMENTARY SCHOOL'], ['140203060000', 'WILLIAMSVILLE CENTRAL SCHOOL DISTRICT'], ['140203060012', 'CASEY MIDDLE SCHOOL'], ['140203060011', 'COUNTRY PARKWAY ELEMENTARY SCHOOL'], ['140203060002', 'DODGE ELEMENTARY SCHOOL'], ['140203060007', 'FOREST ELEMENTARY SCHOOL'], ['140203060005', 'HEIM ELEMENTARY SCHOOL'], ['140203060009', 'HEIM MIDDLE SCHOOL'], ['140203060003', 'MAPLE EAST ELEMENTARY SCHOOL'], ['140203060008', 'MAPLE WEST ELEMENTARY SCHOOL'], ['140203060001', 'MILL MIDDLE SCHOOL'], ['140203060015', 'TRANSIT MIDDLE SCHOOL']]}\n"
     ]
    }
   ],
   "source": [
    "for group, value in clean_json.items():\n",
    "    print ('**Starting {0}'.format(group))\n",
    "    #print('values {0}'.format(value))\n",
    "    schools = {}\n",
    "    for school in value['ordered_schools']:\n",
    "        school_info = {}\n",
    "        school_info['math'] = {}\n",
    "        school_info['ela'] = {}\n",
    "        year_build(school_info,year_17, '2017')\n",
    "        year_build(school_info,year_16, '2016')\n",
    "        year_build(school_info,year_15, '2015')\n",
    "        schools[school[0]] = school_info\n",
    "    clean_json[group]['schools'] = schools\n",
    "            \n",
    "print(clean_json['Erie'])\n",
    "import json\n",
    "with open('data.json', 'w') as output:\n",
    "    json.dump(clean_json, output)"
   ]
  },
  {
   "cell_type": "markdown",
   "metadata": {},
   "source": [
    "ALDEN PRIMARY AT TOWNLINE 140101060003 -> shifted to Alden Immediate\n",
    "\n",
    "DR MARTIN LUTHER KING, JR MULTICULTURAL INSTITUTE 140600010039 -> closed\n",
    "\n",
    "LAFAYETTE HIGH SCHOOL 140600010107 -> renamed to NEWCOMER ACADEMY AT LAFAYETTE \n",
    "\n",
    "KENMORE MIDDLE SCHOOL 142601030022 -> closed\n",
    "\n",
    "THEODORE ROOSEVELT ELEMENTARY SCHOOL 142601030019 -> closed\n",
    "\n",
    "ALEXANDER HAMILTON ELEMENTARY SCHOOL 142601030002 -> closed"
   ]
  }
 ],
 "metadata": {
  "kernelspec": {
   "display_name": "Python 3",
   "language": "python",
   "name": "python3"
  },
  "language_info": {
   "codemirror_mode": {
    "name": "ipython",
    "version": 3
   },
   "file_extension": ".py",
   "mimetype": "text/x-python",
   "name": "python",
   "nbconvert_exporter": "python",
   "pygments_lexer": "ipython3",
   "version": "3.5.2"
  }
 },
 "nbformat": 4,
 "nbformat_minor": 2
}
