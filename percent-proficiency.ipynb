{
 "cells": [
  {
   "cell_type": "markdown",
   "metadata": {},
   "source": [
    "# Calculating percent proficiency and its percent change in New York State education assessment data\n",
    "\n",
    "After downloading the [2015, 2016 and 2017 data from the New York State Education Department](https://data.nysed.gov/downloads.php) and renaming the files to 3-8\\_ELA\\_MATH\\_{{ year }}.csv, this program calculates the percent proficient, scoring at Level 3 or 4, of each school. The percent proficient is calculated by adding each raw proficient count together for available grades and then dividing the total test takers. "
   ]
  },
  {
   "cell_type": "code",
   "execution_count": 87,
   "metadata": {
    "collapsed": false
   },
   "outputs": [],
   "source": [
    "import agate\n",
    "import csv"
   ]
  },
  {
   "cell_type": "markdown",
   "metadata": {},
   "source": [
    "Due to missing school values and changes in data columns, I needed two different typetesters to force the columns into their correct formatting."
   ]
  },
  {
   "cell_type": "code",
   "execution_count": 88,
   "metadata": {
    "collapsed": false
   },
   "outputs": [],
   "source": [
    "tester_15 = agate.TypeTester(limit=100,force={\n",
    "    'NRC_DESC': agate.Text(),\n",
    "    'NRC_CODE': agate.Number(),\n",
    "        'BEDSCODE': agate.Text(),\n",
    "        'L1_COUNT': agate.Text(),\n",
    "        'L1_PCT': agate.Text(),\n",
    "        'L2_COUNT': agate.Text(),\n",
    "        'L2_PCT': agate.Text(),\n",
    "        'L3_COUNT': agate.Text(),\n",
    "        'L3_PCT': agate.Text(),\n",
    "        'L4_COUNT': agate.Text(),\n",
    "        'L4_PCT': agate.Text(),\n",
    "        'L2-L4_PCT': agate.Text(),\n",
    "        'L3-L4_PCT': agate.Text(),\n",
    "        'MEAN_SCALE_SCORE': agate.Text(),\n",
    "        'COUNTY_DESC': agate.Text(),\n",
    "        'TOTAL_TESTED': agate.Text(),\n",
    "        'COUNTY_CODE': agate.Text(),\n",
    "        'Sum_Of_SCALE_SCORE': agate.Text()\n",
    "})\n",
    "tester_16 = agate.TypeTester(limit=100,force={\n",
    "    'NRC_DESC': agate.Text(),\n",
    "    'NRC_CODE': agate.Number(),\n",
    "        'BEDSCODE': agate.Text(),\n",
    "        'L1_COUNT': agate.Text(),\n",
    "        'L1_PCT': agate.Text(),\n",
    "        'L2_COUNT': agate.Text(),\n",
    "        'L2_PCT': agate.Text(),\n",
    "        'L3_COUNT': agate.Text(),\n",
    "        'L3_PCT': agate.Text(),\n",
    "        'L4_COUNT': agate.Text(),\n",
    "        'L4_PCT': agate.Text(),\n",
    "        'L2-L4_PCT': agate.Text(),\n",
    "        'L3-L4_PCT': agate.Text(),\n",
    "        'MEAN_SCALE_SCORE': agate.Text(),\n",
    "        'COUNTY_DESC': agate.Text(),\n",
    "        'TOTAL_TESTED': agate.Text(),\n",
    "        'COUNTY_CODE': agate.Text()\n",
    "})"
   ]
  },
  {
   "cell_type": "markdown",
   "metadata": {},
   "source": [
    "This program takes in the csv of a specific year's assesment data and its tester and returns a dictionary of BEDS (state id codes) and test data."
   ]
  },
  {
   "cell_type": "code",
   "execution_count": 89,
   "metadata": {
    "collapsed": true
   },
   "outputs": [],
   "source": [
    "def get_percent_dictionary(file_name, tester):\n",
    "    schools = agate.Table.from_csv(file_name, column_types=tester)\n",
    "    #Grab just Erie and Niagara schools, filtering out available subgroups and total county stats\n",
    "    erie_niagara = schools.where(lambda row: row['COUNTY_DESC'] in ['ERIE', 'NIAGARA']).where(lambda row: row['SUBGROUP_NAME'] in ['All Students']).where(lambda row: row['NAME'] not in ['ERIE COUNTY', 'NIAGARA COUNTY'])\n",
    "    print(len(erie_niagara.rows))\n",
    "    #Data doesn't include district information, but the first six digits of a school's BEDS codes includes that info.\n",
    "    beds_code = {}\n",
    "    for row in erie_niagara.rows:\n",
    "        if 'SCHOOL DISTRICT' in row['NAME']:\n",
    "            beds_district = row['BEDSCODE'][:6]\n",
    "            #Creates a lookup table of ids for the district name\n",
    "            beds_code[str(beds_district)] = row['NAME']\n",
    "    def calculate_prof_counts(row):\n",
    "        #Some schools don't have test takers for certain tests, so fill in with zeros.\n",
    "        try:\n",
    "            l3_counts = int(row['L3_COUNT'])\n",
    "        except ValueError:\n",
    "            l3_counts = 0\n",
    "        try:\n",
    "            l4_counts = int(row['L4_COUNT'])\n",
    "        except ValueError:\n",
    "            l4_counts = 0\n",
    "        proficient = l3_counts + l4_counts\n",
    "        return proficient\n",
    "    erie_calcs = erie_niagara.compute([\n",
    "        ('proficient_count', agate.Formula(agate.Number(), lambda row: calculate_prof_counts(row)))\n",
    "    ])\n",
    "    # Form the data structure for each school with beds code as a key\n",
    "    schools_info = {}\n",
    "    for row in erie_calcs.rows:\n",
    "        if row['NAME'] == 'NIAGARA CHARTER SCHOOL':\n",
    "            district = 'NIAGARA-WHEATFIELD CENTRAL SCHOOL DISTRICT'\n",
    "        else:\n",
    "            beds_district = row['BEDSCODE'][:6]\n",
    "            district = beds_code[beds_district]\n",
    "        \"\"\"name = School name\n",
    "        math/ela dictionary has totals = total test takers one per applicable class; proficient = proficient_count values; classes = grades taking the test\n",
    "        district = district name (looked up using the beds_code dict)\n",
    "        county = county\"\"\"\n",
    "        schools_info[row['BEDSCODE']] = {'name': row['NAME'], 'math': {'totals': [], 'proficient': [], 'classes': []}, 'ela': {'totals': [], 'proficient': [], 'classes': []}, 'district': district, 'county': row['COUNTY_DESC'] }\n",
    "    # After creating the correct dict format, now I run through the schools again to fill the score values.\n",
    "    for row in erie_calcs.rows:\n",
    "        if row['ITEM_SUBJECT_AREA'] == 'ELA':\n",
    "            data_dict = schools_info[row['BEDSCODE']]['ela']\n",
    "        else:\n",
    "            data_dict = schools_info[row['BEDSCODE']]['math']\n",
    "        try:\n",
    "            data_dict['totals'].append(int(row['TOTAL_TESTED']))\n",
    "        except ValueError:\n",
    "            data_dict['totals'].append(0)\n",
    "        try:\n",
    "            data_dict['classes'].append(row['ITEM_DESC'])\n",
    "        except ValueError:\n",
    "            data_dict['classes'].append(0)\n",
    "        try:\n",
    "            data_dict['proficient'].append(int(row['proficient_count']))\n",
    "        except ValueError:\n",
    "            data_dict['proficient'].append(0)\n",
    "    def calculate_prof_percent(test_area):\n",
    "        total_sum = sum(values[test_area]['totals'])\n",
    "        proficient_sum = sum(values[test_area]['proficient'])\n",
    "        try:\n",
    "            correct_value = ((proficient_sum / total_sum) * 100)\n",
    "            schools_info[school][test_area]['total_percent'] = float(\"{0:.1f}\".format(correct_value))\n",
    "        except ZeroDivisionError:\n",
    "            schools_info[school][test_area]['total_percent'] = '-'\n",
    "    for school, values in schools_info.items():\n",
    "        calculate_prof_percent('ela')\n",
    "        calculate_prof_percent('math')\n",
    "    return schools_info"
   ]
  },
  {
   "cell_type": "code",
   "execution_count": 90,
   "metadata": {
    "collapsed": false
   },
   "outputs": [
    {
     "name": "stdout",
     "output_type": "stream",
     "text": [
      "1837\n"
     ]
    }
   ],
   "source": [
    "year_16 = get_percent_dictionary('3-8_ELA_AND_MATH_2016.csv', tester_16)\n"
   ]
  },
  {
   "cell_type": "code",
   "execution_count": 91,
   "metadata": {
    "collapsed": false
   },
   "outputs": [
    {
     "name": "stdout",
     "output_type": "stream",
     "text": [
      "1815\n"
     ]
    }
   ],
   "source": [
    "year_17 = get_percent_dictionary('3-8_ELA_AND_MATH_2017.csv', tester_16)"
   ]
  },
  {
   "cell_type": "code",
   "execution_count": 92,
   "metadata": {
    "collapsed": false
   },
   "outputs": [
    {
     "name": "stdout",
     "output_type": "stream",
     "text": [
      "1852\n"
     ]
    }
   ],
   "source": [
    "year_15 = get_percent_dictionary('3-8_ELA_AND_MATH_2015.csv',tester_15)"
   ]
  },
  {
   "cell_type": "code",
   "execution_count": 93,
   "metadata": {
    "collapsed": false
   },
   "outputs": [
    {
     "name": "stdout",
     "output_type": "stream",
     "text": [
      "1859\n"
     ]
    }
   ],
   "source": [
    "year_14 = get_percent_dictionary('3-8_ELA_AND_MATH_2014.csv',tester_15)"
   ]
  },
  {
   "cell_type": "code",
   "execution_count": 94,
   "metadata": {
    "collapsed": false
   },
   "outputs": [
    {
     "name": "stdout",
     "output_type": "stream",
     "text": [
      "1888\n"
     ]
    }
   ],
   "source": [
    "year_13 = get_percent_dictionary('3-8_ELA_AND_MATH_2013.csv',tester_15)"
   ]
  },
  {
   "cell_type": "markdown",
   "metadata": {},
   "source": [
    "Example of each year returning data for a specific school"
   ]
  },
  {
   "cell_type": "code",
   "execution_count": 95,
   "metadata": {
    "collapsed": false
   },
   "outputs": [
    {
     "name": "stdout",
     "output_type": "stream",
     "text": [
      "{'name': 'ANNA MERRITT ELEMENTARY SCHOOL', 'district': 'LOCKPORT CITY SCHOOL DISTRICT', 'math': {'totals': [67, 54], 'classes': ['Grade 3 Math', 'Grade 4 Math'], 'proficient': [29, 21], 'total_percent': 41.3}, 'ela': {'totals': [69, 62], 'classes': ['Grade 3 ELA', 'Grade 4 ELA'], 'proficient': [22, 11], 'total_percent': 25.2}, 'county': 'NIAGARA'}\n",
      "{'name': 'ANNA MERRITT ELEMENTARY SCHOOL', 'district': 'LOCKPORT CITY SCHOOL DISTRICT', 'math': {'totals': [57, 62], 'classes': ['Grade 3 Math', 'Grade 4 Math'], 'proficient': [15, 29], 'total_percent': 37.0}, 'ela': {'totals': [60, 69], 'classes': ['Grade 3 ELA', 'Grade 4 ELA'], 'proficient': [11, 12], 'total_percent': 17.8}, 'county': 'NIAGARA'}\n",
      "{'name': 'ANNA MERRITT ELEMENTARY SCHOOL', 'district': 'LOCKPORT CITY SCHOOL DISTRICT', 'math': {'totals': [52, 62], 'classes': ['Grade 3 Math', 'Grade 4 Math'], 'proficient': [23, 19], 'total_percent': 36.8}, 'ela': {'totals': [53, 65], 'classes': ['Grade 3 ELA', 'Grade 4 ELA'], 'proficient': [11, 16], 'total_percent': 22.9}, 'county': 'NIAGARA'}\n",
      "****\n",
      "{'name': 'ALDEN INTERMEDIATE SCHOOL', 'district': 'ALDEN CENTRAL SCHOOL DISTRICT', 'math': {'totals': [81, 73, 73], 'classes': ['Grade 3 Math', 'Grade 4 Math', 'Grade 5 Math'], 'proficient': [62, 40, 28], 'total_percent': 57.3}, 'ela': {'totals': [77, 69, 70], 'classes': ['Grade 3 ELA', 'Grade 4 ELA', 'Grade 5 ELA'], 'proficient': [54, 41, 21], 'total_percent': 53.7}, 'county': 'ERIE'}\n"
     ]
    }
   ],
   "source": [
    "print(year_16['400400010001'])\n",
    "print(year_15['400400010001'])\n",
    "print(year_17['400400010001'])\n",
    "print('****')\n",
    "print(year_17['140101060007'])"
   ]
  },
  {
   "cell_type": "markdown",
   "metadata": {},
   "source": [
    "Separate each school into its county and district for print order"
   ]
  },
  {
   "cell_type": "code",
   "execution_count": 96,
   "metadata": {
    "collapsed": false
   },
   "outputs": [
    {
     "name": "stdout",
     "output_type": "stream",
     "text": [
      "checking 2017 239 2016\n",
      "not in 2016\n",
      "not in 2015\n",
      "not in 2014\n",
      "not in 2013\n",
      "not in 2013\n",
      "not in 2016\n",
      "not in 2015\n",
      "not in 2014\n",
      "not in 2013\n",
      "not in 2016\n",
      "not in 2015\n",
      "not in 2014\n",
      "not in 2013\n",
      "not in 2016\n",
      "not in 2015\n",
      "not in 2014\n",
      "not in 2013\n",
      "not in 2016\n",
      "not in 2015\n",
      "not in 2014\n",
      "not in 2013\n",
      "not in 2016\n",
      "not in 2015\n",
      "not in 2014\n",
      "not in 2013\n",
      "checking 2016 245\n",
      "Not in 2017 142601030002 ALEXANDER HAMILTON ELEMENTARY SCHOOL\n",
      "Not in 2017 140600010107 LAFAYETTE HIGH SCHOOL\n",
      "Not in 2017 142601030019 THEODORE ROOSEVELT ELEMENTARY SCHOOL\n",
      "Not in 2017 142601030022 KENMORE MIDDLE SCHOOL\n",
      "Not in 2017 140600010039 DR MARTIN LUTHER KING, JR MULTICULTURAL INSTITUTE\n",
      "Not in 2017 140101060003 ALDEN PRIMARY AT TOWNLINE\n",
      "checking 2015\n",
      "Not in 2017 400301060006 LEWISTON PORTER SENIOR HIGH SCHOOL\n",
      "Not in 2016 400301060006 LEWISTON PORTER SENIOR HIGH SCHOOL\n",
      "Not in 2017 142601030002 ALEXANDER HAMILTON ELEMENTARY SCHOOL\n",
      "Not in 2017 140600010107 LAFAYETTE HIGH SCHOOL\n",
      "Not in 2017 142601030019 THEODORE ROOSEVELT ELEMENTARY SCHOOL\n",
      "Not in 2017 142801060001 POTTERS ROAD SCHOOL\n",
      "Not in 2016 142801060001 POTTERS ROAD SCHOOL\n",
      "Not in 2017 142601030022 KENMORE MIDDLE SCHOOL\n",
      "Not in 2017 140600010039 DR MARTIN LUTHER KING, JR MULTICULTURAL INSTITUTE\n",
      "Not in 2017 140101060003 ALDEN PRIMARY AT TOWNLINE\n"
     ]
    }
   ],
   "source": [
    "print('checking 2017 {0} 2016'.format(len(year_16)))\n",
    "for school in year_17:\n",
    "    if school not in year_16:\n",
    "        print('not in 2016')\n",
    "        year_16[school] = {'name': year_17[school]['name'], 'county': year_17[school]['county'], 'district': year_17[school]['district'], 'math': {'totals': [], 'proficient': [], 'classes': [], 'total_percent': '-'}, 'ela': {'totals': [], 'proficient': [], 'classes': [], 'total_percent': '-'}}\n",
    "    if school not in year_15:\n",
    "        print('not in 2015')\n",
    "        year_15[school] = {'name': year_17[school]['name'], 'county': year_17[school]['county'], 'district': year_17[school]['district'], 'math': {'totals': [], 'proficient': [], 'classes': [], 'total_percent': '-'}, 'ela': {'totals': [], 'proficient': [], 'classes': [], 'total_percent': '-'}}\n",
    "    if school not in year_14:\n",
    "        print('not in 2014')\n",
    "        year_14[school] = {'name': year_17[school]['name'], 'county': year_17[school]['county'], 'district': year_17[school]['district'], 'math': {'totals': [], 'proficient': [], 'classes': [], 'total_percent': '-'}, 'ela': {'totals': [], 'proficient': [], 'classes': [], 'total_percent': '-'}}\n",
    "    if school not in year_13:\n",
    "        print('not in 2013')\n",
    "        year_13[school] = {'name': year_17[school]['name'], 'county': year_17[school]['county'], 'district': year_17[school]['district'], 'math': {'totals': [], 'proficient': [], 'classes': [], 'total_percent': '-'}, 'ela': {'totals': [], 'proficient': [], 'classes': [], 'total_percent': '-'}}\n",
    "print('checking 2016 {0}'.format(len(year_16)))\n",
    "for school in year_16:\n",
    "    if school not in year_17:\n",
    "        print ('Not in 2017 {0} {1}'.format(school, year_16[school]['name']))\n",
    "    if school not in year_15:\n",
    "        print ('Not in 2015 {0} {1}'.format(school, year_16[school]['name']))\n",
    "print('checking 2015')\n",
    "for school in year_15:\n",
    "    if school not in year_17:\n",
    "        print ('Not in 2017 {0} {1}'.format(school, year_15[school]['name']))\n",
    "    if school not in year_16:\n",
    "        print ('Not in 2016 {0} {1}'.format(school, year_15[school]['name']))"
   ]
  },
  {
   "cell_type": "code",
   "execution_count": 98,
   "metadata": {
    "collapsed": false
   },
   "outputs": [
    {
     "data": {
      "text/plain": [
       "'Alden Intermediate'"
      ]
     },
     "execution_count": 98,
     "metadata": {},
     "output_type": "execute_result"
    }
   ],
   "source": [
    "clean_names = {}\n",
    "charters = []\n",
    "with open('school_name_dictionary.csv') as csvfile:\n",
    "    reader = csv.DictReader(csvfile)\n",
    "    for row in reader:\n",
    "        clean_names[row['BEDS']] = row['clean_school']\n",
    "        if len(row['charter']) == 1:\n",
    "            charters.append(row['BEDS'])\n",
    "clean_names['140101060007']"
   ]
  },
  {
   "cell_type": "code",
   "execution_count": 99,
   "metadata": {
    "collapsed": false
   },
   "outputs": [
    {
     "name": "stdout",
     "output_type": "stream",
     "text": [
      "{'name': 'CHEEKTOWAGA CENTRAL SCHOOL DISTRICT', 'schools': {'140701060007': 'Cheektowaga Middle', '140701060004': 'Union East', '140701060008': 'Pine Hill'}}\n"
     ]
    }
   ],
   "source": [
    "erie_list = {}\n",
    "niagara_list = {}\n",
    "charter_list = {}\n",
    "for key, value in year_17.items():\n",
    "    if key not in charters:\n",
    "        if 'SCHOOL DISTRICT' in value['name']:\n",
    "            if value['county'] == 'ERIE':\n",
    "                erie_list[key] = {'name': value['name'], 'schools': {}}\n",
    "            else:\n",
    "                niagara_list[key] = {'name': value['name'], 'schools': {}}\n",
    "    else:\n",
    "        charter_list[key] = clean_names[key]\n",
    "for distict, value in erie_list.items():\n",
    "    for school, info in year_17.items():\n",
    "        if school not in charters:\n",
    "            if value['name'] == info['district'] and 'SCHOOL DISTRICT' not in info['name']:\n",
    "                erie_list[distict]['schools'][school] = clean_names[school]\n",
    "for distict, value in niagara_list.items():\n",
    "    for school, info in year_17.items():\n",
    "        if school not in charters:\n",
    "            if value['name'] == info['district'] and 'SCHOOL DISTRICT' not in info['name']:\n",
    "                niagara_list[distict]['schools'][school] = clean_names[school]\n",
    "print(erie_list['140701060000'])"
   ]
  },
  {
   "cell_type": "code",
   "execution_count": 100,
   "metadata": {
    "collapsed": false
   },
   "outputs": [],
   "source": [
    "def percent_change(new,old):\n",
    "    try:\n",
    "        calculate = (new-old)/old\n",
    "        percent = calculate * 100\n",
    "        one_decimal = float(\"{0:.1f}\".format(percent))\n",
    "        return one_decimal\n",
    "    except (ZeroDivisionError,TypeError):\n",
    "        return '-'"
   ]
  },
  {
   "cell_type": "markdown",
   "metadata": {},
   "source": [
    "Exporting for print"
   ]
  },
  {
   "cell_type": "code",
   "execution_count": 101,
   "metadata": {
    "collapsed": false
   },
   "outputs": [
    {
     "name": "stdout",
     "output_type": "stream",
     "text": [
      "Begging erie\n",
      "Begging niagara\n",
      "Begging charter\n",
      "28 erie districts and 10 niagara districts 15 charters\n"
     ]
    }
   ],
   "source": [
    "erie_districts = 0\n",
    "niagara_districts = 0\n",
    "charter_districts = 0\n",
    "def export_county_schools(county_list, county):\n",
    "    print('Begging {0}'.format(county))\n",
    "    county_count = 0\n",
    "    if county != 'charter':\n",
    "        #Sort the county of district id's by its name value.\n",
    "        sorted_county = sorted(county_list, key= lambda district: county_list[district]['name'])\n",
    "        for district in sorted_county:\n",
    "            county_count += 1\n",
    "            #print('*** starting district {0}'.format(county_list[district]['name']))\n",
    "            pc_ela_15_17 = percent_change(year_17[district]['ela']['total_percent'],year_15[district]['ela']['total_percent'])\n",
    "            pc_ela_16_17 = percent_change(year_17[district]['ela']['total_percent'],year_16[district]['ela']['total_percent'])\n",
    "            pc_math_15_17 = percent_change(year_17[district]['math']['total_percent'],year_15[district]['math']['total_percent'])\n",
    "            pc_math_16_17 = percent_change(year_17[district]['math']['total_percent'],year_16[district]['math']['total_percent'])\n",
    "            district_info = [county_list[district]['name'], clean_names[district], year_15[district]['ela']['total_percent'],year_16[district]['ela']['total_percent'],year_17[district]['ela']['total_percent'],year_15[district]['math']['total_percent'],year_16[district]['math']['total_percent'],year_17[district]['math']['total_percent'], pc_ela_15_17, pc_ela_16_17, pc_math_15_17, pc_math_16_17]\n",
    "            writer.writerow(district_info)\n",
    "            schools_info = county_list[district]['schools']\n",
    "            sorted_schools = sorted(schools_info, key = lambda school: schools_info[school])\n",
    "            #Now go through each school in the district and calculate its percent change.\n",
    "            for school in sorted_schools:\n",
    "                    pc_school_ela_15_17 = percent_change(year_17[school]['ela']['total_percent'],year_15[school]['ela']['total_percent'])\n",
    "                    pc_school_ela_16_17 = percent_change(year_17[school]['ela']['total_percent'],year_16[school]['ela']['total_percent'])\n",
    "                    pc_school_math_15_17 = percent_change(year_17[school]['math']['total_percent'],year_15[school]['math']['total_percent'])\n",
    "                    pc_school_math_16_17 = percent_change(year_17[school]['math']['total_percent'],year_16[school]['math']['total_percent'])\n",
    "                    school_info = [county_list[district]['name'], clean_names[school], year_15[school]['ela']['total_percent'],year_16[school]['ela']['total_percent'],year_17[school]['ela']['total_percent'],year_15[school]['math']['total_percent'],year_16[school]['math']['total_percent'],year_17[school]['math']['total_percent'], pc_school_ela_15_17, pc_school_ela_16_17, pc_school_math_15_17, pc_school_math_16_17]\n",
    "                    writer.writerow(school_info)\n",
    "    else:\n",
    "        sorted_county = sorted(county_list, key= lambda district: county_list[district])\n",
    "        for district in sorted_county:\n",
    "            county_count += 1\n",
    "            #print('*** starting district {0}'.format(county_list[district]))\n",
    "            pc_ela_15_17 = percent_change(year_17[district]['ela']['total_percent'],year_15[district]['ela']['total_percent'])\n",
    "            pc_ela_16_17 = percent_change(year_17[district]['ela']['total_percent'],year_16[district]['ela']['total_percent'])\n",
    "            pc_math_15_17 = percent_change(year_17[district]['math']['total_percent'],year_15[district]['math']['total_percent'])\n",
    "            pc_math_16_17 = percent_change(year_17[district]['math']['total_percent'],year_16[district]['math']['total_percent'])\n",
    "            district_info = [year_17[district]['district'], clean_names[district], year_15[district]['ela']['total_percent'],year_16[district]['ela']['total_percent'],year_17[district]['ela']['total_percent'],year_15[district]['math']['total_percent'],year_16[district]['math']['total_percent'],year_17[district]['math']['total_percent'], pc_ela_15_17, pc_ela_16_17, pc_math_15_17, pc_math_16_17]\n",
    "            writer.writerow(district_info)\n",
    "    return county_count\n",
    "\n",
    "with open('print_out.tsv', 'w') as out_put:\n",
    "    writer = csv.writer(out_put, delimiter='\\t')\n",
    "    writer.writerow(['district','school','ELA 2015', 'ELA 2016', 'ELA 2017', 'Math 2015', 'Math 2016', 'Math 2017', 'pc_ela_15_17', 'pc_ela_16_17', 'pc_math_15_17', 'pc_math_16_17'])\n",
    "    erie_districts = export_county_schools(erie_list, 'erie')\n",
    "    niagara_districts = export_county_schools(niagara_list, 'niagara')\n",
    "    charter_districts = export_county_schools(charter_list, 'charter')\n",
    "    print('{0} erie districts and {1} niagara districts {2} charters'.format(erie_districts,niagara_districts,charter_districts))"
   ]
  },
  {
   "cell_type": "code",
   "execution_count": 102,
   "metadata": {
    "collapsed": false
   },
   "outputs": [
    {
     "name": "stdout",
     "output_type": "stream",
     "text": [
      "*** starting district Bflo. Academy of Science\n",
      "*** starting district Buffalo United\n",
      "*** starting district Charter Sch. for App. Tech.\n",
      "*** starting district Charter School of Inquiry\n",
      "*** starting district Elmwood Village\n",
      "*** starting district Enterprise\n",
      "*** starting district Global Concepts\n",
      "*** starting district Johnson\n",
      "*** starting district King Center\n",
      "*** starting district Niagara Charter\n",
      "*** starting district South Buffalo\n",
      "*** starting district Tapestry\n",
      "*** starting district WNY Maritime Charter\n",
      "*** starting district West Buffalo\n",
      "*** starting district Westminster\n"
     ]
    }
   ],
   "source": [
    "erie_districts = 0\n",
    "niagara_districts = 0\n",
    "clean_json = {'Erie': {}, 'Niagara': {}, 'Buffalo': {}, 'Charters': {}}\n",
    "def export_county_schools(county_list, county):\n",
    "    ordered = []\n",
    "    county_count = 0\n",
    "    #Sort the county of district id's by its name value.\n",
    "    if county != 'Charters':\n",
    "        sorted_county = sorted(county_list, key= lambda district: county_list[district]['name'])\n",
    "        for district in sorted_county:\n",
    "            #Buffalo gets thrown in its own group\n",
    "            if district != '140600010000':\n",
    "                county_count += 1\n",
    "                #print('*** starting district {0}'.format(county_list[district]['name']))\n",
    "                schools_info = county_list[district]['schools']\n",
    "                ordered.append([district,clean_names[district]])\n",
    "                sorted_schools = sorted(schools_info, key = lambda school: schools_info[school])\n",
    "                #Now go through each school in the district and calculate its percent change.\n",
    "                for school in sorted_schools:\n",
    "                    #TODO ADD CONDITION FOR CHARTERS\n",
    "                    try:\n",
    "                        #print('writing the following {0}'.format(schools_info[school]))\n",
    "                        ordered.append([school,clean_names[school]])\n",
    "                    except KeyError:\n",
    "                        #Beds code isn't found in one of the years for this school\n",
    "                        print('Missing school in 2015, 2016 and/or 2017')\n",
    "                        print(schools_info[school])\n",
    "                        print(school)\n",
    "            else:\n",
    "                buffalo_list = []\n",
    "                buffalo_list.append([district,clean_names[district]])\n",
    "                schools_info = county_list[district]['schools']\n",
    "                sorted_schools = sorted(schools_info, key = lambda school: schools_info[school])\n",
    "                #Now go through each school in the district and calculate its percent change.\n",
    "                for school in sorted_schools:\n",
    "                    try:\n",
    "                        #print('writing the following {0}'.format(schools_info[school]))\n",
    "                        buffalo_list.append([school,clean_names[school]])\n",
    "                    except KeyError:\n",
    "                        #Beds code isn't found in one of the years for this school\n",
    "                        print('Missing school in 2015, 2016 and/or 2017')\n",
    "                        print(schools_info[school])\n",
    "                        print(school)\n",
    "                clean_json['Buffalo']['ordered_schools'] = buffalo_list\n",
    "    else:\n",
    "        sorted_county = sorted(county_list, key= lambda district: county_list[district])\n",
    "        for district in sorted_county:\n",
    "            county_count += 1\n",
    "            print('*** starting district {0}'.format(county_list[district]))\n",
    "            ordered.append([district,county_list[district]])\n",
    "    clean_json[county]['ordered_schools'] = ordered\n",
    "eried_list = export_county_schools(erie_list, 'Erie')\n",
    "niagarad_list = export_county_schools(niagara_list, 'Niagara')\n",
    "chartered_list = export_county_schools(charter_list, 'Charters')"
   ]
  },
  {
   "cell_type": "code",
   "execution_count": 103,
   "metadata": {
    "collapsed": true
   },
   "outputs": [],
   "source": [
    "def year_build(school_dict, year_dict, year):\n",
    "    if school[0] in year_dict:\n",
    "        if len(year_dict[school[0]]['math']['classes']) != 0 or len(year_dict[school[0]]['ela']['classes']) != 0:\n",
    "            year_info = year_dict[school[0]]\n",
    "            school_info['district'] = year_info['district']\n",
    "            school_info['name'] = clean_names[school[0]]\n",
    "            math_year = {}\n",
    "            math_year['total'] = str(year_info['math']['total_percent'])\n",
    "            for i, item in enumerate(year_info['math']['classes']):\n",
    "                clean_class = year_info['math']['classes'][i][0:7]\n",
    "                try:\n",
    "                    percent_profficient = (year_info['math']['proficient'][i] / year_info['math']['totals'][i]) * 100\n",
    "                    math_year[clean_class] = str(float(\"{0:.1f}\".format(percent_profficient)))\n",
    "                except ZeroDivisionError:\n",
    "                    math_year[clean_class] = '-'\n",
    "            school_dict['math'][year] = math_year\n",
    "            ela_year = {}\n",
    "            ela_year['total'] = str(year_info['ela']['total_percent'])\n",
    "            for i, item in enumerate(year_info['ela']['classes']):\n",
    "                clean_class = year_info['ela']['classes'][i][0:7]\n",
    "                try:\n",
    "                    percent_profficient = (year_info['ela']['proficient'][i] / year_info['ela']['totals'][i]) * 100\n",
    "                    ela_year[clean_class] = str(float(\"{0:.1f}\".format(percent_profficient)))\n",
    "                except ZeroDivisionError:\n",
    "                    ela_year[clean_class] = '-'\n",
    "            school_dict['ela'][year] = ela_year\n",
    "    else:\n",
    "        print('Missing {0} - {2} in {1}'.format(school[0], year, year_17[school[0]]['name']))"
   ]
  },
  {
   "cell_type": "code",
   "execution_count": 104,
   "metadata": {
    "collapsed": false
   },
   "outputs": [
    {
     "name": "stdout",
     "output_type": "stream",
     "text": [
      "**Starting Erie\n",
      "**Starting Niagara\n",
      "**Starting Buffalo\n",
      "**Starting Charters\n",
      "{'name': 'Alden Intermediate', 'district': 'ALDEN CENTRAL SCHOOL DISTRICT', 'math': {'2017': {'Grade 4': '54.8', 'Grade 3': '76.5', 'Grade 5': '38.4', 'total': '57.3'}}, 'ela': {'2017': {'Grade 4': '59.4', 'Grade 3': '70.1', 'Grade 5': '30.0', 'total': '53.7'}}}\n"
     ]
    }
   ],
   "source": [
    "for group, value in clean_json.items():\n",
    "    print ('**Starting {0}'.format(group))\n",
    "    #print('values {0}'.format(value))\n",
    "    schools = {}\n",
    "    for school in value['ordered_schools']:\n",
    "        school_info = {}\n",
    "        school_info['math'] = {}\n",
    "        school_info['ela'] = {}\n",
    "        year_build(school_info,year_17, '2017')\n",
    "        year_build(school_info,year_16, '2016')\n",
    "        year_build(school_info,year_15, '2015')\n",
    "        year_build(school_info,year_14, '2014')\n",
    "        year_build(school_info,year_13, '2013')\n",
    "        schools[school[0]] = school_info\n",
    "    clean_json[group]['schools'] = schools\n",
    "            \n",
    "print(clean_json['Erie']['schools']['140101060007'])\n",
    "import json\n",
    "with open('data.json', 'w') as output:\n",
    "    json.dump(clean_json, output)"
   ]
  },
  {
   "cell_type": "code",
   "execution_count": null,
   "metadata": {
    "collapsed": true
   },
   "outputs": [],
   "source": []
  }
 ],
 "metadata": {
  "kernelspec": {
   "display_name": "Python 3",
   "language": "python",
   "name": "python3"
  },
  "language_info": {
   "codemirror_mode": {
    "name": "ipython",
    "version": 3
   },
   "file_extension": ".py",
   "mimetype": "text/x-python",
   "name": "python",
   "nbconvert_exporter": "python",
   "pygments_lexer": "ipython3",
   "version": "3.5.2"
  }
 },
 "nbformat": 4,
 "nbformat_minor": 2
}
