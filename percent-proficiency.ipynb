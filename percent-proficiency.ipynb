{
 "cells": [
  {
   "cell_type": "markdown",
   "metadata": {},
   "source": [
    "# Calculating percent proficiency and its percent change in New York State education assessment data\n",
    "\n",
    "After downloading the [2015, 2016 and 2017 data from the New York State Education Department](https://data.nysed.gov/downloads.php) and renaming the files to 3-8\\_ELA\\_MATH\\_{{ year }}.csv, this program calculates the percent proficient, scoring at Level 3 or 4, of each school. The percent proficient is calculated by adding each raw proficient count together for available grades and then dividing the total test takers. "
   ]
  },
  {
   "cell_type": "code",
   "execution_count": 11,
   "metadata": {
    "collapsed": false
   },
   "outputs": [],
   "source": [
    "import agate\n",
    "import csv"
   ]
  },
  {
   "cell_type": "markdown",
   "metadata": {},
   "source": [
    "Due to missing school values and changes in data columns, I needed two different typetesters to force the columns into their correct formatting."
   ]
  },
  {
   "cell_type": "code",
   "execution_count": 12,
   "metadata": {
    "collapsed": false
   },
   "outputs": [],
   "source": [
    "tester_15 = agate.TypeTester(limit=100,force={\n",
    "    'NRC_DESC': agate.Text(),\n",
    "    'NRC_CODE': agate.Number(),\n",
    "        'BEDSCODE': agate.Text(),\n",
    "        'L1_COUNT': agate.Text(),\n",
    "        'L1_PCT': agate.Text(),\n",
    "        'L2_COUNT': agate.Text(),\n",
    "        'L2_PCT': agate.Text(),\n",
    "        'L3_COUNT': agate.Text(),\n",
    "        'L3_PCT': agate.Text(),\n",
    "        'L4_COUNT': agate.Text(),\n",
    "        'L4_PCT': agate.Text(),\n",
    "        'L2-L4_PCT': agate.Text(),\n",
    "        'L3-L4_PCT': agate.Text(),\n",
    "        'MEAN_SCALE_SCORE': agate.Text(),\n",
    "        'COUNTY_DESC': agate.Text(),\n",
    "        'TOTAL_TESTED': agate.Text(),\n",
    "        'COUNTY_CODE': agate.Text(),\n",
    "        'Sum_Of_SCALE_SCORE': agate.Text()\n",
    "})\n",
    "tester_16 = agate.TypeTester(limit=100,force={\n",
    "    'NRC_DESC': agate.Text(),\n",
    "    'NRC_CODE': agate.Number(),\n",
    "        'BEDSCODE': agate.Text(),\n",
    "        'L1_COUNT': agate.Text(),\n",
    "        'L1_PCT': agate.Text(),\n",
    "        'L2_COUNT': agate.Text(),\n",
    "        'L2_PCT': agate.Text(),\n",
    "        'L3_COUNT': agate.Text(),\n",
    "        'L3_PCT': agate.Text(),\n",
    "        'L4_COUNT': agate.Text(),\n",
    "        'L4_PCT': agate.Text(),\n",
    "        'L2-L4_PCT': agate.Text(),\n",
    "        'L3-L4_PCT': agate.Text(),\n",
    "        'MEAN_SCALE_SCORE': agate.Text(),\n",
    "        'COUNTY_DESC': agate.Text(),\n",
    "        'TOTAL_TESTED': agate.Text(),\n",
    "        'COUNTY_CODE': agate.Text()\n",
    "})"
   ]
  },
  {
   "cell_type": "markdown",
   "metadata": {},
   "source": [
    "This program takes in the csv of a specific year's assesment data and its tester and returns a dictionary of BEDS (state id codes) and test data."
   ]
  },
  {
   "cell_type": "code",
   "execution_count": 27,
   "metadata": {
    "collapsed": true
   },
   "outputs": [],
   "source": [
    "def get_percent_dictionary(file_name, tester):\n",
    "    schools = agate.Table.from_csv(file_name, column_types=tester)\n",
    "    #Grab just Erie and Niagara schools, filtering out available subgroups and total county stats\n",
    "    erie_niagara = schools.where(lambda row: row['COUNTY_DESC'] in ['ERIE', 'NIAGARA']).where(lambda row: row['SUBGROUP_NAME'] in ['All Students']).where(lambda row: row['NAME'] not in ['ERIE COUNTY', 'NIAGARA COUNTY'])\n",
    "    print(len(erie_niagara.rows))\n",
    "    #Data doesn't include district information, but the first six digits of a school's BEDS codes includes that info.\n",
    "    beds_code = {}\n",
    "    for row in erie_niagara.rows:\n",
    "        if 'SCHOOL DISTRICT' in row['NAME']:\n",
    "            beds_district = row['BEDSCODE'][:6]\n",
    "            #Creates a lookup table of ids for the district name\n",
    "            beds_code[str(beds_district)] = row['NAME']\n",
    "    def calculate_prof_counts(row):\n",
    "        #Some schools don't have test takers for certain tests, so fill in with zeros.\n",
    "        try:\n",
    "            l3_counts = int(row['L3_COUNT'])\n",
    "        except ValueError:\n",
    "            l3_counts = 0\n",
    "        try:\n",
    "            l4_counts = int(row['L4_COUNT'])\n",
    "        except ValueError:\n",
    "            l4_counts = 0\n",
    "        proficient = l3_counts + l4_counts\n",
    "        return proficient\n",
    "    erie_calcs = erie_niagara.compute([\n",
    "        ('proficient_count', agate.Formula(agate.Number(), lambda row: calculate_prof_counts(row)))\n",
    "    ])\n",
    "    # Form the data structure for each school with beds code as a key\n",
    "    schools_info = {}\n",
    "    for row in erie_calcs.rows:\n",
    "        if row['NAME'] == 'NIAGARA CHARTER SCHOOL':\n",
    "            district = 'NIAGARA-WHEATFIELD CENTRAL SCHOOL DISTRICT'\n",
    "        else:\n",
    "            beds_district = row['BEDSCODE'][:6]\n",
    "            district = beds_code[beds_district]\n",
    "        \"\"\"name = School name\n",
    "        math/ela dictionary has totals = total test takers one per applicable class; proficient = proficient_count values; classes = grades taking the test\n",
    "        district = district name (looked up using the beds_code dict)\n",
    "        county = county\"\"\"\n",
    "        schools_info[row['BEDSCODE']] = {'name': row['NAME'], 'math': {'totals': [], 'proficient': [], 'classes': []}, 'ela': {'totals': [], 'proficient': [], 'classes': []}, 'district': district, 'county': row['COUNTY_DESC'] }\n",
    "    # After creating the correct dict format, now I run through the schools again to fill the score values.\n",
    "    for row in erie_calcs.rows:\n",
    "        if row['ITEM_SUBJECT_AREA'] == 'ELA':\n",
    "            data_dict = schools_info[row['BEDSCODE']]['ela']\n",
    "        else:\n",
    "            data_dict = schools_info[row['BEDSCODE']]['math']\n",
    "        try:\n",
    "            data_dict['totals'].append(int(row['TOTAL_TESTED']))\n",
    "        except ValueError:\n",
    "            data_dict['totals'].append(0)\n",
    "        try:\n",
    "            data_dict['classes'].append(row['ITEM_DESC'])\n",
    "        except ValueError:\n",
    "            data_dict['classes'].append(0)\n",
    "        try:\n",
    "            data_dict['proficient'].append(int(row['proficient_count']))\n",
    "        except ValueError:\n",
    "            data_dict['proficient'].append(0)\n",
    "    def calculate_prof_percent(test_area):\n",
    "        total_sum = sum(values[test_area]['totals'])\n",
    "        proficient_sum = sum(values[test_area]['proficient'])\n",
    "        try:\n",
    "            correct_value = ((proficient_sum / total_sum) * 100)\n",
    "            schools_info[school][test_area]['total_percent'] = float(\"{0:.1f}\".format(correct_value))\n",
    "        except ZeroDivisionError:\n",
    "            schools_info[school][test_area]['total_percent'] = '-'\n",
    "    for school, values in schools_info.items():\n",
    "        calculate_prof_percent('ela')\n",
    "        calculate_prof_percent('math')\n",
    "    return schools_info"
   ]
  },
  {
   "cell_type": "code",
   "execution_count": 28,
   "metadata": {
    "collapsed": true
   },
   "outputs": [
    {
     "name": "stdout",
     "output_type": "stream",
     "text": [
      "1837\n"
     ]
    }
   ],
   "source": [
    "year_16 = get_percent_dictionary('3-8_ELA_AND_MATH_2016.csv', tester_16)\n"
   ]
  },
  {
   "cell_type": "code",
   "execution_count": 15,
   "metadata": {
    "collapsed": true
   },
   "outputs": [
    {
     "name": "stdout",
     "output_type": "stream",
     "text": [
      "1815\n"
     ]
    }
   ],
   "source": [
    "year_17 = get_percent_dictionary('3-8_ELA_AND_MATH_2017.csv', tester_16)"
   ]
  },
  {
   "cell_type": "code",
   "execution_count": 16,
   "metadata": {
    "collapsed": true
   },
   "outputs": [
    {
     "name": "stdout",
     "output_type": "stream",
     "text": [
      "1852\n"
     ]
    }
   ],
   "source": [
    "year_15 = get_percent_dictionary('3-8_ELA_AND_MATH_2015.csv',tester_15)"
   ]
  },
  {
   "cell_type": "markdown",
   "metadata": {},
   "source": [
    "Example of each year returning data for a specific school"
   ]
  },
  {
   "cell_type": "code",
   "execution_count": 25,
   "metadata": {
    "collapsed": true
   },
   "outputs": [
    {
     "name": "stdout",
     "output_type": "stream",
     "text": [
      "{'math': {'proficient': [29, 21], 'total_percent': 41.3, 'classes': ['Grade 3 Math', 'Grade 4 Math'], 'totals': [67, 54]}, 'ela': {'proficient': [22, 11], 'total_percent': 25.2, 'classes': ['Grade 3 ELA', 'Grade 4 ELA'], 'totals': [69, 62]}, 'district': 'LOCKPORT CITY SCHOOL DISTRICT', 'county': 'NIAGARA', 'name': 'ANNA MERRITT ELEMENTARY SCHOOL'}\n",
      "{'math': {'proficient': [15, 29], 'total_percent': 37.0, 'classes': ['Grade 3 Math', 'Grade 4 Math'], 'totals': [57, 62]}, 'ela': {'proficient': [11, 12], 'total_percent': 17.8, 'classes': ['Grade 3 ELA', 'Grade 4 ELA'], 'totals': [60, 69]}, 'district': 'LOCKPORT CITY SCHOOL DISTRICT', 'county': 'NIAGARA', 'name': 'ANNA MERRITT ELEMENTARY SCHOOL'}\n",
      "{'math': {'proficient': [23, 19], 'total_percent': 36.8, 'classes': ['Grade 3 Math', 'Grade 4 Math'], 'totals': [52, 62]}, 'ela': {'proficient': [11, 16], 'total_percent': 22.9, 'classes': ['Grade 3 ELA', 'Grade 4 ELA'], 'totals': [53, 65]}, 'district': 'LOCKPORT CITY SCHOOL DISTRICT', 'county': 'NIAGARA', 'name': 'ANNA MERRITT ELEMENTARY SCHOOL'}\n",
      "****\n",
      "{'math': {'proficient': [37, 48, 30, 30, 14, 6], 'total_percent': 21.1, 'classes': ['Grade 3 Math', 'Grade 4 Math', 'Grade 5 Math', 'Grade 6 Math', 'Grade 7 Math', 'Grade 8 Math'], 'totals': [147, 124, 132, 127, 137, 115]}, 'ela': {'proficient': [28, 24, 29, 28, 32, 40], 'total_percent': 21.7, 'classes': ['Grade 3 ELA', 'Grade 4 ELA', 'Grade 5 ELA', 'Grade 6 ELA', 'Grade 7 ELA', 'Grade 8 ELA'], 'totals': [155, 131, 135, 130, 140, 144]}, 'district': 'CHEEKTOWAGA CENTRAL SCHOOL DISTRICT', 'county': 'ERIE', 'name': 'CHEEKTOWAGA CENTRAL SCHOOL DISTRICT'}\n"
     ]
    }
   ],
   "source": [
    "print(year_16['400400010001'])\n",
    "print(year_15['400400010001'])\n",
    "print(year_17['400400010001'])\n",
    "print('****')\n",
    "print(year_16['140701060000'])"
   ]
  },
  {
   "cell_type": "markdown",
   "metadata": {},
   "source": [
    "Separate each school into its county and district for print order"
   ]
  },
  {
   "cell_type": "code",
   "execution_count": 45,
   "metadata": {
    "collapsed": true
   },
   "outputs": [
    {
     "name": "stdout",
     "output_type": "stream",
     "text": [
      "checking 2017 245 2016\n",
      "checking 2016 245\n",
      "Not in 2017 140600010107 LAFAYETTE HIGH SCHOOL\n",
      "Not in 2017 142601030022 KENMORE MIDDLE SCHOOL\n",
      "Not in 2017 140101060003 ALDEN PRIMARY AT TOWNLINE\n",
      "Not in 2017 142601030019 THEODORE ROOSEVELT ELEMENTARY SCHOOL\n",
      "Not in 2017 140600010039 DR MARTIN LUTHER KING, JR MULTICULTURAL INSTITUTE\n",
      "Not in 2017 142601030002 ALEXANDER HAMILTON ELEMENTARY SCHOOL\n",
      "checking 2015\n",
      "Not in 2017 140600010107 LAFAYETTE HIGH SCHOOL\n",
      "Not in 2017 142601030022 KENMORE MIDDLE SCHOOL\n",
      "Not in 2017 140101060003 ALDEN PRIMARY AT TOWNLINE\n",
      "Not in 2017 142601030019 THEODORE ROOSEVELT ELEMENTARY SCHOOL\n",
      "Not in 2017 140600010039 DR MARTIN LUTHER KING, JR MULTICULTURAL INSTITUTE\n",
      "Not in 2017 400301060006 LEWISTON PORTER SENIOR HIGH SCHOOL\n",
      "Not in 2016 400301060006 LEWISTON PORTER SENIOR HIGH SCHOOL\n",
      "Not in 2017 142601030002 ALEXANDER HAMILTON ELEMENTARY SCHOOL\n",
      "Not in 2017 142801060001 POTTERS ROAD SCHOOL\n",
      "Not in 2016 142801060001 POTTERS ROAD SCHOOL\n"
     ]
    }
   ],
   "source": [
    "print('checking 2017 {0} 2016'.format(len(year_16)))\n",
    "for school in year_17:\n",
    "    if school not in year_16:\n",
    "        print('not in 2016')\n",
    "        year_16[school] = {'name': year_17[school]['name'], 'county': year_17[school]['county'], 'district': year_17[school]['district'], 'math': {'totals': [], 'proficient': [], 'classes': [], 'total_percent': '-'}, 'ela': {'totals': [], 'proficient': [], 'classes': [], 'total_percent': '-'}}\n",
    "    if school not in year_15:\n",
    "        print('not in 2015')\n",
    "        year_15[school] = {'name': year_17[school]['name'], 'county': year_17[school]['county'], 'district': year_17[school]['district'], 'math': {'totals': [], 'proficient': [], 'classes': [], 'total_percent': '-'}, 'ela': {'totals': [], 'proficient': [], 'classes': [], 'total_percent': '-'}}\n",
    "print('checking 2016 {0}'.format(len(year_16)))\n",
    "for school in year_16:\n",
    "    if school not in year_17:\n",
    "        print ('Not in 2017 {0} {1}'.format(school, year_16[school]['name']))\n",
    "    if school not in year_15:\n",
    "        print ('Not in 2015 {0} {1}'.format(school, year_16[school]['name']))\n",
    "print('checking 2015')\n",
    "for school in year_15:\n",
    "    if school not in year_17:\n",
    "        print ('Not in 2017 {0} {1}'.format(school, year_15[school]['name']))\n",
    "    if school not in year_16:\n",
    "        print ('Not in 2016 {0} {1}'.format(school, year_15[school]['name']))"
   ]
  },
  {
   "cell_type": "code",
   "execution_count": 21,
   "metadata": {
    "collapsed": true
   },
   "outputs": [
    {
     "name": "stdout",
     "output_type": "stream",
     "text": [
      "{'name': 'CHEEKTOWAGA CENTRAL SCHOOL DISTRICT', 'schools': {'140701060004': 'UNION EAST ELEMENTARY SCHOOL', '140701060007': 'CHEEKTOWAGA MIDDLE SCHOOL', '140701060008': 'PINE HILL EDUCATION CENTER'}}\n"
     ]
    }
   ],
   "source": [
    "erie_list = {}\n",
    "niagara_list = {}\n",
    "for key, value in year_17.items():\n",
    "    if 'SCHOOL DISTRICT' in value['name']:\n",
    "        if value['county'] == 'ERIE':\n",
    "            erie_list[key] = {'name': value['name'], 'schools': {}}\n",
    "        else:\n",
    "            niagara_list[key] = {'name': value['name'], 'schools': {}}\n",
    "for distict, value in erie_list.items():\n",
    "    for school, info in year_17.items():\n",
    "        if value['name'] == info['district'] and 'SCHOOL DISTRICT' not in info['name']:\n",
    "            erie_list[distict]['schools'][school] = info['name']\n",
    "for distict, value in niagara_list.items():\n",
    "    for school, info in year_17.items():\n",
    "        if value['name'] == info['district'] and 'SCHOOL DISTRICT' not in info['name']:\n",
    "            niagara_list[distict]['schools'][school] = info['name']\n",
    "print(erie_list['140701060000'])"
   ]
  },
  {
   "cell_type": "code",
   "execution_count": 22,
   "metadata": {
    "collapsed": false
   },
   "outputs": [],
   "source": [
    "def percent_change(new,old):\n",
    "    try:\n",
    "        calculate = (new-old)/old\n",
    "        percent = calculate * 100\n",
    "        one_decimal = float(\"{0:.1f}\".format(percent))\n",
    "        return one_decimal\n",
    "    except (ZeroDivisionError,TypeError):\n",
    "        return '-'"
   ]
  },
  {
   "cell_type": "markdown",
   "metadata": {},
   "source": [
    "Exporting for print"
   ]
  },
  {
   "cell_type": "code",
   "execution_count": 24,
   "metadata": {
    "collapsed": true
   },
   "outputs": [
    {
     "name": "stdout",
     "output_type": "stream",
     "text": [
      "28 erie districts and 10 niagara districts\n"
     ]
    }
   ],
   "source": [
    "erie_districts = 0\n",
    "niagara_districts = 0\n",
    "def export_county_schools(county_list):\n",
    "    county_count = 0\n",
    "    #Sort the county of district id's by its name value.\n",
    "    sorted_county = sorted(county_list, key= lambda district: county_list[district]['name'])\n",
    "    for district in sorted_county:\n",
    "        county_count += 1\n",
    "        #print('*** starting district {0}'.format(county_list[district]['name']))\n",
    "        pc_ela_15_17 = percent_change(year_17[district]['ela']['total_percent'],year_15[district]['ela']['total_percent'])\n",
    "        pc_ela_16_17 = percent_change(year_17[district]['ela']['total_percent'],year_16[district]['ela']['total_percent'])\n",
    "        pc_math_15_17 = percent_change(year_17[district]['math']['total_percent'],year_15[district]['math']['total_percent'])\n",
    "        pc_math_16_17 = percent_change(year_17[district]['math']['total_percent'],year_16[district]['math']['total_percent'])\n",
    "        district_info = [county_list[district]['name'], county_list[district]['name'], year_15[district]['ela']['total_percent'],year_16[district]['ela']['total_percent'],year_17[district]['ela']['total_percent'],year_15[district]['math']['total_percent'],year_16[district]['math']['total_percent'],year_17[district]['math']['total_percent'], pc_ela_15_17, pc_ela_16_17, pc_math_15_17, pc_math_16_17]\n",
    "        writer.writerow(district_info)\n",
    "        schools_info = county_list[district]['schools']\n",
    "        sorted_schools = sorted(schools_info, key = lambda school: schools_info[school])\n",
    "        #Now go through each school in the district and calculate its percent change.\n",
    "        for school in sorted_schools:\n",
    "                pc_school_ela_15_17 = percent_change(year_17[school]['ela']['total_percent'],year_15[school]['ela']['total_percent'])\n",
    "                pc_school_ela_16_17 = percent_change(year_17[school]['ela']['total_percent'],year_16[school]['ela']['total_percent'])\n",
    "                pc_school_math_15_17 = percent_change(year_17[school]['math']['total_percent'],year_15[school]['math']['total_percent'])\n",
    "                pc_school_math_16_17 = percent_change(year_17[school]['math']['total_percent'],year_16[school]['math']['total_percent'])\n",
    "                school_info = [county_list[district]['name'], schools_info[school], year_15[school]['ela']['total_percent'],year_16[school]['ela']['total_percent'],year_17[school]['ela']['total_percent'],year_15[school]['math']['total_percent'],year_16[school]['math']['total_percent'],year_17[school]['math']['total_percent'], pc_school_ela_15_17, pc_school_ela_16_17, pc_school_math_15_17, pc_school_math_16_17]\n",
    "                writer.writerow(school_info)\n",
    "    return county_count\n",
    "\n",
    "with open('print_out.tsv', 'w') as out_put:\n",
    "    writer = csv.writer(out_put, delimiter='\\t')\n",
    "    writer.writerow(['district','school','ELA 2015', 'ELA 2016', 'ELA 2017', 'Math 2015', 'Math 2016', 'Math 2017', 'pc_ela_15_17', 'pc_ela_16_17', 'pc_math_15_17', 'pc_math_16_17'])\n",
    "    erie_districts = export_county_schools(erie_list)\n",
    "    niagara_districts = export_county_schools(niagara_list)\n",
    "    print('{0} erie districts and {1} niagara districts'.format(erie_districts,niagara_districts))"
   ]
  },
  {
   "cell_type": "code",
   "execution_count": 31,
   "metadata": {
    "collapsed": true
   },
   "outputs": [
    {
     "name": "stdout",
     "output_type": "stream",
     "text": [
      "*** starting district AKRON CENTRAL SCHOOL DISTRICT\n",
      "writing the following AKRON ELEMENTARY SCHOOL\n",
      "writing the following AKRON MIDDLE SCHOOL\n",
      "*** starting district ALDEN CENTRAL SCHOOL DISTRICT\n",
      "writing the following ALDEN INTERMEDIATE SCHOOL\n",
      "writing the following ALDEN MIDDLE SCHOOL\n",
      "*** starting district AMHERST CENTRAL SCHOOL DISTRICT\n",
      "writing the following AMHERST MIDDLE SCHOOL\n",
      "writing the following SMALLWOOD DRIVE SCHOOL\n",
      "writing the following WINDERMERE BLVD SCHOOL\n",
      "writing the following ALOMA D JOHNSON CHARTER SCHOOL\n",
      "writing the following ALTERNATIVE HIGH SCHOOL AT 4\n",
      "writing the following BENNETT PARK MONTESSORI SCHOOL\n",
      "writing the following BILINGUAL CENTER\n",
      "writing the following BUFFALO ACADEMY FOR THE VISUAL & PERFORMING ARTS\n",
      "writing the following BUFFALO ACADEMY OF SCIENCE CHARTER SCHOOL\n",
      "writing the following BUFFALO ELEMENTARY SCHOOL OF TECHNOLOGY\n",
      "writing the following BUFFALO UNITED CHARTER SCHOOL\n",
      "writing the following BUILD ACADEMY\n",
      "writing the following CHARTER SCHOOL OF INQUIRY\n",
      "writing the following CITY HONORS SCHOOL\n",
      "writing the following COMMUNITY SCHOOL #53\n",
      "writing the following D'YOUVILLE-PORTER CAMPUS\n",
      "writing the following DISCOVERY SCHOOL\n",
      "writing the following DR ANTONIA PANTOJA COMMUNITY SCHOOL OF ACADEMIC EXCELLENCE AT #18\n",
      "writing the following DR GEORGE BLACKMAN ECC\n",
      "writing the following DR LYDIA T WRIGHT SCH OF EXCELLENCE\n",
      "writing the following ELMWOOD VILLAGE CHARTER SCHOOL\n",
      "writing the following ENTERPRISE CHARTER SCHOOL\n",
      "writing the following FRANK A SEDITA SCHOOL #30\n",
      "writing the following FREDERICK OLMSTED #156\n",
      "writing the following HARRIET ROSS TUBMAN ACADEMY\n",
      "writing the following HARVEY AUSTIN SCHOOL #97\n",
      "writing the following HERMAN BADILLO BILINGUAL ACADEMY\n",
      "writing the following HIGHGATE HEIGHTS\n",
      "writing the following INTERNATIONAL PREPARATORY SCHOOL (THE)\n",
      "writing the following INTERNATIONAL SCHOOL\n",
      "writing the following KING CENTER CHARTER SCHOOL\n",
      "writing the following LORRAINE ELEMENTARY SCHOOL\n",
      "writing the following LOVEJOY DISCOVERY SCHOOL #43\n",
      "writing the following MARVA J DANIEL FUTURES PREPARATORY SCHOOL\n",
      "writing the following MATH SCIENCE TECHNOLOGY PREPARATORY SCHOOL AT SENECA (THE)\n",
      "writing the following NATIVE AMERICAN MAGNET\n",
      "writing the following NEWCOMER ACADEMY AT LAFAYETTE\n",
      "writing the following PFC WILLIAM J GRABIARZ #79\n",
      "writing the following PS 17\n",
      "writing the following PS 27 HILLERY PARK ACADEMY\n",
      "writing the following PS 59 DR CHARLES DREW SCIENCE MAGNET\n",
      "writing the following PS 61 ARTHUR O EVE SCHOOL OF DISTINCTION\n",
      "writing the following PS 64 FREDERICK LAW OLMSTED\n",
      "writing the following PS 65 ROOSEVELT ECC\n",
      "writing the following PS 66 NORTH PARK MIDDLE ACADEMY\n",
      "writing the following PS 69 HOUGHTON ACADEMY\n",
      "writing the following PS 74 HAMLIN PARK - CLAUDE AND OUIDA CLAPP ACADEMY\n",
      "writing the following PS 81\n",
      "writing the following PS 82\n",
      "writing the following SOUTH BUFFALO CHARTER SCHOOL\n",
      "writing the following SOUTHSIDE ELEMENTARY SCHOOL\n",
      "writing the following STANLEY MAKOWSKI EARLY CHILDHOOD CENTER\n",
      "writing the following TAPESTRY CHARTER SCHOOL\n",
      "writing the following WATERFRONT ELEMENTARY SCHOOL\n",
      "writing the following WEST BUFFALO CHARTER SCHOOL\n",
      "writing the following WEST HERTEL ELEMENTARY SCHOOL\n",
      "writing the following WESTERN NEW YORK MARITIME CHARTER SCHOOL\n",
      "writing the following WESTMINSTER COMMUNITY CHARTER SCHOOL\n",
      "*** starting district CHEEKTOWAGA CENTRAL SCHOOL DISTRICT\n",
      "writing the following CHEEKTOWAGA MIDDLE SCHOOL\n",
      "writing the following PINE HILL EDUCATION CENTER\n",
      "writing the following UNION EAST ELEMENTARY SCHOOL\n",
      "*** starting district CHEEKTOWAGA-MARYVALE UNION FREE SCHOOL DISTRICT\n",
      "writing the following MARYVALE INTERMEDIATE SCHOOL\n",
      "writing the following MARYVALE MIDDLE SCHOOL\n",
      "*** starting district CHEEKTOWAGA-SLOAN UNION FREE SCHOOL DISTRICT\n",
      "writing the following JOHN F KENNEDY MIDDLE SCHOOL\n",
      "writing the following WOODROW WILSON ELEMENTARY SCHOOL\n",
      "*** starting district CLARENCE CENTRAL SCHOOL DISTRICT\n",
      "writing the following CLARENCE CENTER ELEMENTARY SCHOOL\n",
      "writing the following CLARENCE MIDDLE SCHOOL\n",
      "writing the following HARRIS HILL ELEMENTARY SCHOOL\n",
      "writing the following LEDGEVIEW ELEMENTARY SCHOOL\n",
      "writing the following SHERIDAN HILL ELEMENTARY SCHOOL\n",
      "*** starting district CLEVELAND HILL UNION FREE SCHOOL DISTRICT\n",
      "writing the following CLEVELAND HILL ELEMENTARY SCHOOL\n",
      "writing the following CLEVELAND HILL MIDDLE SCHOOL\n",
      "*** starting district DEPEW UNION FREE SCHOOL DISTRICT\n",
      "writing the following CAYUGA HEIGHTS ELEMENTARY SCHOOL\n",
      "writing the following DEPEW MIDDLE SCHOOL\n",
      "*** starting district EAST AURORA UNION FREE SCHOOL DISTRICT\n",
      "writing the following EAST AURORA MIDDLE SCHOOL\n",
      "writing the following PARKDALE ELEMENTARY SCHOOL\n",
      "*** starting district EDEN CENTRAL SCHOOL DISTRICT\n",
      "writing the following EDEN ELEMENTARY SCHOOL\n",
      "writing the following EDEN JUNIOR-SENIOR HIGH SCHOOL\n",
      "*** starting district EVANS-BRANT CENTRAL SCHOOL DISTRICT (LAKE SHORE)\n",
      "writing the following A J SCHMIDT ELEMENTARY SCHOOL\n",
      "writing the following HIGHLAND ELEMENTARY SCHOOL\n",
      "writing the following JOHN T WAUGH ELEMENTARY SCHOOL\n",
      "writing the following LAKE SHORE MIDDLE SCHOOL\n",
      "*** starting district FRONTIER CENTRAL SCHOOL DISTRICT\n",
      "writing the following BIG TREE ELEMENTARY SCHOOL\n",
      "writing the following BLASDELL ELEMENTARY SCHOOL\n",
      "writing the following CLOVERBANK ELEMENTARY SCHOOL\n",
      "writing the following FRONTIER MIDDLE SCHOOL\n",
      "writing the following PINEHURST ELEMENTARY SCHOOL\n",
      "*** starting district GRAND ISLAND CENTRAL SCHOOL DISTRICT\n",
      "writing the following HUTH ROAD SCHOOL\n",
      "writing the following KAEGEBEIN SCHOOL\n",
      "writing the following VERONICA E CONNOR MIDDLE SCHOOL\n",
      "*** starting district HAMBURG CENTRAL SCHOOL DISTRICT\n",
      "writing the following ARMOR ELEMENTARY SCHOOL\n",
      "writing the following BOSTON VALLEY ELEMENTARY SCHOOL\n",
      "writing the following CHARLOTTE AVENUE ELEMENTARY SCHOOL\n",
      "writing the following HAMBURG MIDDLE SCHOOL\n",
      "writing the following UNION PLEASANT AVENUE ELEMENTARY SCHOOL\n",
      "*** starting district HOLLAND CENTRAL SCHOOL DISTRICT\n",
      "writing the following HAROLD O BRUMSTED ELEMENTARY SCHOOL\n",
      "writing the following HOLLAND JUNIOR/SENIOR HIGH SCHOOL\n",
      "*** starting district IROQUOIS CENTRAL SCHOOL DISTRICT\n",
      "writing the following ELMA PRIMARY SCHOOL\n",
      "writing the following IROQUOIS INTERMEDIATE SCHOOL\n",
      "writing the following IROQUOIS MIDDLE SCHOOL\n",
      "writing the following MARILLA PRIMARY SCHOOL\n",
      "writing the following WALES PRIMARY SCHOOL\n",
      "*** starting district KENMORE-TONAWANDA UNION FREE SCHOOL DISTRICT\n",
      "writing the following BEN FRANKLIN ELEMENTARY SCHOOL\n",
      "writing the following BEN FRANKLIN MIDDLE SCHOOL\n",
      "writing the following CHARLES A LINDBERGH ELEMENTARY SCHOOL\n",
      "writing the following CHARTER SCHOOL FOR APPLIED TECHNOLOGIES\n",
      "writing the following HERBERT HOOVER ELEMENTARY SCHOOL\n",
      "writing the following HERBERT HOOVER MIDDLE SCHOOL\n",
      "writing the following HOLMES ELEMENTARY SCHOOL\n",
      "writing the following KENMORE EAST SENIOR HIGH SCHOOL\n",
      "writing the following KENMORE WEST SENIOR HIGH SCHOOL\n",
      "writing the following THOMAS A EDISON ELEMENTARY SCHOOL\n",
      "*** starting district LACKAWANNA CITY SCHOOL DISTRICT\n",
      "writing the following GLOBAL CONCEPTS CHARTER SCHOOL\n",
      "writing the following LACKAWANNA MIDDLE SCHOOL\n",
      "writing the following MARTIN ROAD ELEMENTARY SCHOOL\n",
      "*** starting district LANCASTER CENTRAL SCHOOL DISTRICT\n",
      "writing the following COMO PARK ELEMENTARY SCHOOL\n",
      "writing the following COURT STREET ELEMENTARY SCHOOL\n",
      "writing the following HILLVIEW ELEMENTARY SCHOOL\n",
      "writing the following JOHN A SCIOLE ELEMENTARY SCHOOL\n",
      "writing the following LANCASTER MIDDLE SCHOOL\n",
      "writing the following WILLIAM STREET SCHOOL\n",
      "*** starting district NORTH COLLINS CENTRAL SCHOOL DISTRICT\n",
      "writing the following NORTH COLLINS ELEMENTARY SCHOOL\n",
      "writing the following NORTH COLLINS JUNIOR-SENIOR HIGH SCHOOL\n",
      "*** starting district ORCHARD PARK CENTRAL SCHOOL DISTRICT\n",
      "writing the following EGGERT ROAD ELEMENTARY SCHOOL\n",
      "writing the following ELLICOTT ROAD ELEMENTARY SCHOOL\n",
      "writing the following ORCHARD PARK MIDDLE SCHOOL\n",
      "writing the following SOUTH DAVIS ELEMENTARY SCHOOL\n",
      "writing the following WINDOM ELEMENTARY SCHOOL\n",
      "*** starting district SPRINGVILLE-GRIFFITH INSTITUTE CENTRAL SCHOOL DISTRICT\n",
      "writing the following COLDEN ELEMENTARY SCHOOL\n",
      "writing the following GRIFFITH INSTITUTE MIDDLE SCHOOL\n",
      "writing the following SPRINGVILLE ELEMENTARY SCHOOL\n",
      "*** starting district SWEET HOME CENTRAL SCHOOL DISTRICT\n",
      "writing the following GLENDALE ELEMENTARY SCHOOL\n",
      "writing the following HERITAGE HEIGHTS ELEMENTARY SCHOOL\n",
      "writing the following MAPLEMERE ELEMENTARY SCHOOL\n",
      "writing the following SWEET HOME MIDDLE SCHOOL\n",
      "writing the following WILLOW RIDGE ELEMENTARY SCHOOL\n",
      "*** starting district TONAWANDA CITY SCHOOL DISTRICT\n",
      "writing the following FLETCHER ELEMENTARY SCHOOL\n",
      "writing the following MULLEN ELEMENTARY SCHOOL\n",
      "writing the following RIVERVIEW ELEMENTARY SCHOOL\n",
      "writing the following TONAWANDA MIDDLE/HIGH SCHOOL\n",
      "*** starting district WEST SENECA CENTRAL SCHOOL DISTRICT\n",
      "writing the following ALLENDALE ELEMENTARY SCHOOL\n",
      "writing the following CLINTON ELEMENTARY SCHOOL\n",
      "writing the following EAST MIDDLE SCHOOL\n",
      "writing the following NORTHWOOD ELEMENTARY SCHOOL\n",
      "writing the following WEST ELEMENTARY SCHOOL\n",
      "writing the following WEST MIDDLE SCHOOL\n",
      "writing the following WINCHESTER ELEMENTARY SCHOOL\n",
      "*** starting district WILLIAMSVILLE CENTRAL SCHOOL DISTRICT\n",
      "writing the following CASEY MIDDLE SCHOOL\n",
      "writing the following COUNTRY PARKWAY ELEMENTARY SCHOOL\n",
      "writing the following DODGE ELEMENTARY SCHOOL\n",
      "writing the following FOREST ELEMENTARY SCHOOL\n",
      "writing the following HEIM ELEMENTARY SCHOOL\n",
      "writing the following HEIM MIDDLE SCHOOL\n",
      "writing the following MAPLE EAST ELEMENTARY SCHOOL\n",
      "writing the following MAPLE WEST ELEMENTARY SCHOOL\n",
      "writing the following MILL MIDDLE SCHOOL\n",
      "writing the following TRANSIT MIDDLE SCHOOL\n",
      "*** starting district BARKER CENTRAL SCHOOL DISTRICT\n",
      "writing the following BARKER JUNIOR/SENIOR HIGH SCHOOL\n",
      "writing the following PRATT ELEMENTARY SCHOOL\n",
      "*** starting district LEWISTON-PORTER CENTRAL SCHOOL DISTRICT\n",
      "writing the following INTERMEDIATE EDUCATION CENTER\n",
      "writing the following LEWISTON PORTER MIDDLE SCHOOL\n",
      "writing the following PRIMARY EDUCATION CENTER\n",
      "*** starting district LOCKPORT CITY SCHOOL DISTRICT\n",
      "writing the following ANNA MERRITT ELEMENTARY SCHOOL\n",
      "writing the following CHARLES A UPSON ELEMENTARY SCHOOL\n",
      "writing the following EMMET BELKNAP INTERMEDIATE SCHOOL\n",
      "writing the following GEORGE SOUTHARD ELEMENTARY SCHOOL\n",
      "writing the following NORTH PARK JUNIOR HIGH SCHOOL\n",
      "writing the following ROY KELLEY ELEMENTARY SCHOOL\n",
      "*** starting district NEWFANE CENTRAL SCHOOL DISTRICT\n",
      "writing the following NEWFANE ELEMENTARY SCHOOL\n",
      "writing the following NEWFANE MIDDLE SCHOOL\n",
      "*** starting district NIAGARA FALLS CITY SCHOOL DISTRICT\n",
      "writing the following CATARACT ELEMENTARY SCHOOL\n",
      "writing the following GASKILL PREPARATORY SCHOOL\n",
      "writing the following GERALDINE J MANN SCHOOL\n",
      "writing the following HARRY F ABATE ELEMENTARY SCHOOL\n",
      "writing the following HENRY J KALFAS MAGNET SCHOOL\n",
      "writing the following HYDE PARK SCHOOL\n",
      "writing the following LASALLE PREPARATORY SCHOOL\n",
      "writing the following MAPLE AVENUE SCHOOL\n",
      "writing the following NIAGARA STREET SCHOOL\n",
      "writing the following SEVENTY NINTH STREET SCHOOL\n",
      "*** starting district NIAGARA-WHEATFIELD CENTRAL SCHOOL DISTRICT\n",
      "writing the following COLONIAL VILLAGE ELEMENTARY SCHOOL\n",
      "writing the following EDWARD TOWN MIDDLE SCHOOL\n",
      "writing the following ERRICK ROAD ELEMENTARY SCHOOL\n",
      "writing the following NIAGARA CHARTER SCHOOL\n",
      "writing the following TUSCARORA ELEMENTARY SCHOOL\n",
      "writing the following WEST STREET ELEMENTARY SCHOOL\n",
      "*** starting district NORTH TONAWANDA CITY SCHOOL DISTRICT\n",
      "writing the following DRAKE SCHOOL\n",
      "writing the following MEADOW SCHOOL\n",
      "writing the following NORTH TONAWANDA MIDDLE SCHOOL\n",
      "writing the following OHIO ELEMENTARY SCHOOL\n",
      "writing the following SPRUCE SCHOOL\n",
      "*** starting district ROYALTON-HARTLAND CENTRAL SCHOOL DISTRICT\n",
      "writing the following ROYALTON-HARTLAND ELEMENTARY SCHOOL\n",
      "writing the following ROYALTON-HARTLAND MIDDLE SCHOOL\n",
      "*** starting district STARPOINT CENTRAL SCHOOL DISTRICT\n",
      "writing the following REGAN INTERMEDIATE SCHOOL\n",
      "writing the following STARPOINT MIDDLE SCHOOL\n",
      "*** starting district WILSON CENTRAL SCHOOL DISTRICT\n",
      "writing the following WILSON ELEMENTARY SCHOOL\n",
      "writing the following WILSON HIGH SCHOOL\n"
     ]
    }
   ],
   "source": [
    "erie_districts = 0\n",
    "niagara_districts = 0\n",
    "clean_json = {'Erie': {}, 'Niagara': {}, 'Buffalo': {}}\n",
    "def export_county_schools(county_list, county):\n",
    "    ordered = []\n",
    "    county_count = 0\n",
    "    #Sort the county of district id's by its name value.\n",
    "    sorted_county = sorted(county_list, key= lambda district: county_list[district]['name'])\n",
    "    for district in sorted_county:\n",
    "        #Buffalo gets thrown in its own group\n",
    "        if district != '140600010000':\n",
    "            county_count += 1\n",
    "            print('*** starting district {0}'.format(county_list[district]['name']))\n",
    "            schools_info = county_list[district]['schools']\n",
    "            ordered.append([district,county_list[district]['name']])\n",
    "            sorted_schools = sorted(schools_info, key = lambda school: schools_info[school])\n",
    "            #Now go through each school in the district and calculate its percent change.\n",
    "            for school in sorted_schools:\n",
    "                #TODO ADD CONDITION FOR CHARTERS\n",
    "                try:\n",
    "                    print('writing the following {0}'.format(schools_info[school]))\n",
    "                    ordered.append([school,schools_info[school]])\n",
    "                except KeyError:\n",
    "                    #Beds code isn't found in one of the years for this school\n",
    "                    print('Missing school in 2015, 2016 and/or 2017')\n",
    "                    print(schools_info[school])\n",
    "                    print(school)\n",
    "        else:\n",
    "            buffalo_list = []\n",
    "            buffalo_list.append([district,county_list[district]['name']])\n",
    "            schools_info = county_list[district]['schools']\n",
    "            sorted_schools = sorted(schools_info, key = lambda school: schools_info[school])\n",
    "            #Now go through each school in the district and calculate its percent change.\n",
    "            for school in sorted_schools:\n",
    "                try:\n",
    "                    print('writing the following {0}'.format(schools_info[school]))\n",
    "                    buffalo_list.append([school,schools_info[school]])\n",
    "                except KeyError:\n",
    "                    #Beds code isn't found in one of the years for this school\n",
    "                    print('Missing school in 2015, 2016 and/or 2017')\n",
    "                    print(schools_info[school])\n",
    "                    print(school)\n",
    "            clean_json['Buffalo']['ordered_schools'] = buffalo_list\n",
    "    clean_json[county]['ordered_schools'] = ordered\n",
    "erie_list = export_county_schools(erie_list, 'Erie')\n",
    "niagara_list = export_county_schools(niagara_list, 'Niagara')"
   ]
  },
  {
   "cell_type": "code",
   "execution_count": 46,
   "metadata": {
    "collapsed": true
   },
   "outputs": [],
   "source": [
    "def year_build(school_dict, year_dict, year):\n",
    "    if school[0] in year_dict:\n",
    "        if len(year_dict[school[0]]['math']['classes']) != 0 or len(year_dict[school[0]]['ela']['classes']) != 0:\n",
    "            year_info = year_dict[school[0]]\n",
    "            school_info['district'] = year_info['district']\n",
    "            school_info['name'] = year_info['name']\n",
    "            math_year = {}\n",
    "            math_year['total'] = str(year_info['math']['total_percent'])\n",
    "            for i, item in enumerate(year_info['math']['classes']):\n",
    "                clean_class = year_info['math']['classes'][i][0:7]\n",
    "                try:\n",
    "                    percent_profficient = (year_info['math']['proficient'][i] / year_info['math']['totals'][i]) * 100\n",
    "                    math_year[clean_class] = str(float(\"{0:.1f}\".format(percent_profficient)))\n",
    "                except ZeroDivisionError:\n",
    "                    math_year[clean_class] = '-'\n",
    "            school_dict['math'][year] = math_year\n",
    "            ela_year = {}\n",
    "            ela_year['total'] = str(year_info['ela']['total_percent'])\n",
    "            for i, item in enumerate(year_info['ela']['classes']):\n",
    "                clean_class = year_info['ela']['classes'][i][0:7]\n",
    "                try:\n",
    "                    percent_profficient = (year_info['ela']['proficient'][i] / year_info['ela']['totals'][i]) * 100\n",
    "                    ela_year[clean_class] = str(float(\"{0:.1f}\".format(percent_profficient)))\n",
    "                except ZeroDivisionError:\n",
    "                    ela_year[clean_class] = '-'\n",
    "            school_dict['ela'][year] = ela_year\n",
    "    else:\n",
    "        print('Missing {0} - {2} in {1}'.format(school[0], year, year_17[school[0]]['name']))"
   ]
  },
  {
   "cell_type": "code",
   "execution_count": 48,
   "metadata": {
    "collapsed": true
   },
   "outputs": [
    {
     "name": "stdout",
     "output_type": "stream",
     "text": [
      "**Starting Niagara\n",
      "**Starting Erie\n",
      "Missing 140101060007 - ALDEN INTERMEDIATE SCHOOL in 2016 so not included in the year\n",
      "Missing 140101060007 - ALDEN INTERMEDIATE SCHOOL in 2015 so not included in the year\n",
      "Missing 142601030025 - KENMORE EAST SENIOR HIGH SCHOOL in 2016 so not included in the year\n",
      "Missing 142601030025 - KENMORE EAST SENIOR HIGH SCHOOL in 2015 so not included in the year\n",
      "Missing 142601030026 - KENMORE WEST SENIOR HIGH SCHOOL in 2016 so not included in the year\n",
      "Missing 142601030026 - KENMORE WEST SENIOR HIGH SCHOOL in 2015 so not included in the year\n",
      "**Starting Buffalo\n",
      "Missing 140600861072 - CHARTER SCHOOL OF INQUIRY in 2016 so not included in the year\n",
      "Missing 140600861072 - CHARTER SCHOOL OF INQUIRY in 2015 so not included in the year\n",
      "Missing 140600010309 - NEWCOMER ACADEMY AT LAFAYETTE in 2016 so not included in the year\n",
      "Missing 140600010309 - NEWCOMER ACADEMY AT LAFAYETTE in 2015 so not included in the year\n",
      "Missing 140600860863 - WESTERN NEW YORK MARITIME CHARTER SCHOOL in 2016 so not included in the year\n",
      "Missing 140600860863 - WESTERN NEW YORK MARITIME CHARTER SCHOOL in 2015 so not included in the year\n",
      "{'math': {'2017': {'Grade 5': '38.4', 'Grade 3': '76.5', 'total': '57.3', 'Grade 4': '54.8'}}, 'ela': {'2017': {'Grade 5': '30.0', 'Grade 3': '70.1', 'total': '53.7', 'Grade 4': '59.4'}}, 'name': 'ALDEN INTERMEDIATE SCHOOL', 'district': 'ALDEN CENTRAL SCHOOL DISTRICT'}\n"
     ]
    }
   ],
   "source": [
    "for group, value in clean_json.items():\n",
    "    print ('**Starting {0}'.format(group))\n",
    "    #print('values {0}'.format(value))\n",
    "    schools = {}\n",
    "    for school in value['ordered_schools']:\n",
    "        school_info = {}\n",
    "        school_info['math'] = {}\n",
    "        school_info['ela'] = {}\n",
    "        year_build(school_info,year_17, '2017')\n",
    "        year_build(school_info,year_16, '2016')\n",
    "        year_build(school_info,year_15, '2015')\n",
    "        schools[school[0]] = school_info\n",
    "    clean_json[group]['schools'] = schools\n",
    "            \n",
    "print(clean_json['Erie']['schools']['140101060007'])\n",
    "import json\n",
    "with open('data.json', 'w') as output:\n",
    "    json.dump(clean_json, output)"
   ]
  }
 ],
 "metadata": {
  "kernelspec": {
   "display_name": "Python 3",
   "language": "python",
   "name": "python3"
  },
  "language_info": {
   "codemirror_mode": {
    "name": "ipython",
    "version": 3
   },
   "file_extension": ".py",
   "mimetype": "text/x-python",
   "name": "python",
   "nbconvert_exporter": "python",
   "pygments_lexer": "ipython3",
   "version": "3.5.2"
  }
 },
 "nbformat": 4,
 "nbformat_minor": 2
}
